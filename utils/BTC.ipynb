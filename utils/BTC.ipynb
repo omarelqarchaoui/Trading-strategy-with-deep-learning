{
 "cells": [
  {
   "cell_type": "markdown",
   "metadata": {
    "id": "EWfrWoFH6Fm-"
   },
   "source": [
    "1. Prerequirements"
   ]
  },
  {
   "cell_type": "code",
   "execution_count": 14,
   "metadata": {
    "colab": {
     "base_uri": "https://localhost:8080/"
    },
    "id": "1b9OeTLXXF7K",
    "outputId": "9f43e509-3682-4bfb-a63b-79c7bdaa2364",
    "scrolled": true
   },
   "outputs": [
    {
     "name": "stdout",
     "output_type": "stream",
     "text": [
      "Requirement already satisfied: TA-Lib in c:\\users\\omare\\.conda\\envs\\myenv\\lib\\site-packages (0.4.19)\n",
      "Requirement already satisfied: numpy in c:\\users\\omare\\.conda\\envs\\myenv\\lib\\site-packages (from TA-Lib) (1.23.1)\n",
      "Collecting arch\n",
      "  Downloading arch-5.3.1-cp310-cp310-win_amd64.whl (843 kB)\n",
      "     -------------------------------------- 843.6/843.6 kB 5.9 MB/s eta 0:00:00\n",
      "Collecting pandas>=1.0\n",
      "  Downloading pandas-1.5.0-cp310-cp310-win_amd64.whl (10.4 MB)\n",
      "     --------------------------------------- 10.4/10.4 MB 11.5 MB/s eta 0:00:00\n",
      "Collecting statsmodels>=0.11\n",
      "  Downloading statsmodels-0.13.2-cp310-cp310-win_amd64.whl (9.1 MB)\n",
      "     ---------------------------------------- 9.1/9.1 MB 11.5 MB/s eta 0:00:00\n",
      "Collecting property-cached>=1.6.4\n",
      "  Downloading property_cached-1.6.4-py2.py3-none-any.whl (7.8 kB)\n",
      "Collecting scipy>=1.3\n",
      "  Downloading scipy-1.9.1-cp310-cp310-win_amd64.whl (38.6 MB)\n",
      "     --------------------------------------- 38.6/38.6 MB 10.9 MB/s eta 0:00:00\n",
      "Requirement already satisfied: numpy>=1.17 in c:\\users\\omare\\.conda\\envs\\myenv\\lib\\site-packages (from arch) (1.23.1)\n",
      "Collecting pytz>=2020.1\n",
      "  Downloading pytz-2022.2.1-py2.py3-none-any.whl (500 kB)\n",
      "     ------------------------------------- 500.6/500.6 kB 10.4 MB/s eta 0:00:00\n",
      "Requirement already satisfied: python-dateutil>=2.8.1 in c:\\users\\omare\\.conda\\envs\\myenv\\lib\\site-packages (from pandas>=1.0->arch) (2.8.2)\n",
      "Collecting patsy>=0.5.2\n",
      "  Downloading patsy-0.5.2-py2.py3-none-any.whl (233 kB)\n",
      "     -------------------------------------- 233.7/233.7 kB 7.0 MB/s eta 0:00:00\n",
      "Requirement already satisfied: packaging>=21.3 in c:\\users\\omare\\.conda\\envs\\myenv\\lib\\site-packages (from statsmodels>=0.11->arch) (21.3)\n",
      "Requirement already satisfied: pyparsing!=3.0.5,>=2.0.2 in c:\\users\\omare\\.conda\\envs\\myenv\\lib\\site-packages (from packaging>=21.3->statsmodels>=0.11->arch) (3.0.9)\n",
      "Requirement already satisfied: six in c:\\users\\omare\\.conda\\envs\\myenv\\lib\\site-packages (from patsy>=0.5.2->statsmodels>=0.11->arch) (1.16.0)\n",
      "Installing collected packages: pytz, scipy, property-cached, patsy, pandas, statsmodels, arch\n",
      "Successfully installed arch-5.3.1 pandas-1.5.0 patsy-0.5.2 property-cached-1.6.4 pytz-2022.2.1 scipy-1.9.1 statsmodels-0.13.2\n",
      "Collecting pmdarima\n",
      "  Downloading pmdarima-2.0.1-cp310-cp310-win_amd64.whl (568 kB)\n",
      "     -------------------------------------- 568.9/568.9 kB 7.1 MB/s eta 0:00:00\n",
      "Requirement already satisfied: numpy>=1.21 in c:\\users\\omare\\.conda\\envs\\myenv\\lib\\site-packages (from pmdarima) (1.23.1)\n",
      "Collecting Cython!=0.29.18,!=0.29.31,>=0.29\n",
      "  Using cached Cython-0.29.32-py2.py3-none-any.whl (986 kB)\n",
      "Collecting urllib3\n",
      "  Using cached urllib3-1.26.12-py2.py3-none-any.whl (140 kB)\n",
      "Collecting scikit-learn>=0.22\n",
      "  Downloading scikit_learn-1.1.2-cp310-cp310-win_amd64.whl (7.4 MB)\n",
      "     ---------------------------------------- 7.4/7.4 MB 11.5 MB/s eta 0:00:00\n",
      "Collecting joblib>=0.11\n",
      "  Downloading joblib-1.2.0-py3-none-any.whl (297 kB)\n",
      "     -------------------------------------- 298.0/298.0 kB 9.0 MB/s eta 0:00:00\n",
      "Requirement already satisfied: setuptools!=50.0.0,>=38.6.0 in c:\\users\\omare\\.conda\\envs\\myenv\\lib\\site-packages (from pmdarima) (61.2.0)\n",
      "Requirement already satisfied: statsmodels>=0.13.2 in c:\\users\\omare\\.conda\\envs\\myenv\\lib\\site-packages (from pmdarima) (0.13.2)\n",
      "Requirement already satisfied: scipy>=1.3.2 in c:\\users\\omare\\.conda\\envs\\myenv\\lib\\site-packages (from pmdarima) (1.9.1)\n",
      "Requirement already satisfied: pandas>=0.19 in c:\\users\\omare\\.conda\\envs\\myenv\\lib\\site-packages (from pmdarima) (1.5.0)\n",
      "Requirement already satisfied: python-dateutil>=2.8.1 in c:\\users\\omare\\.conda\\envs\\myenv\\lib\\site-packages (from pandas>=0.19->pmdarima) (2.8.2)\n",
      "Requirement already satisfied: pytz>=2020.1 in c:\\users\\omare\\.conda\\envs\\myenv\\lib\\site-packages (from pandas>=0.19->pmdarima) (2022.2.1)\n",
      "Collecting threadpoolctl>=2.0.0\n",
      "  Using cached threadpoolctl-3.1.0-py3-none-any.whl (14 kB)\n",
      "Requirement already satisfied: patsy>=0.5.2 in c:\\users\\omare\\.conda\\envs\\myenv\\lib\\site-packages (from statsmodels>=0.13.2->pmdarima) (0.5.2)\n",
      "Requirement already satisfied: packaging>=21.3 in c:\\users\\omare\\.conda\\envs\\myenv\\lib\\site-packages (from statsmodels>=0.13.2->pmdarima) (21.3)\n",
      "Requirement already satisfied: pyparsing!=3.0.5,>=2.0.2 in c:\\users\\omare\\.conda\\envs\\myenv\\lib\\site-packages (from packaging>=21.3->statsmodels>=0.13.2->pmdarima) (3.0.9)\n",
      "Requirement already satisfied: six in c:\\users\\omare\\.conda\\envs\\myenv\\lib\\site-packages (from patsy>=0.5.2->statsmodels>=0.13.2->pmdarima) (1.16.0)\n",
      "Installing collected packages: urllib3, threadpoolctl, joblib, Cython, scikit-learn, pmdarima\n",
      "Successfully installed Cython-0.29.32 joblib-1.2.0 pmdarima-2.0.1 scikit-learn-1.1.2 threadpoolctl-3.1.0 urllib3-1.26.12\n"
     ]
    }
   ],
   "source": [
    "!pip install TA-Lib\n",
    "!pip install arch\n",
    "!pip install pmdarima"
   ]
  },
  {
   "cell_type": "markdown",
   "metadata": {
    "id": "FfrmBlLe0tu3"
   },
   "source": [
    "2. Imports"
   ]
  },
  {
   "cell_type": "code",
   "execution_count": 1,
   "metadata": {
    "id": "sR0XtjpX0v27"
   },
   "outputs": [],
   "source": [
    "import warnings\n",
    "warnings.filterwarnings('ignore')\n",
    "import numpy as np\n",
    "import pandas as pd\n",
    "import matplotlib.pyplot as plt\n",
    "import torch\n",
    "import torch.nn as nn\n",
    "from torch.utils.data import Dataset, DataLoader\n",
    "from tqdm.auto import tqdm\n",
    "from sklearn.preprocessing import MinMaxScaler\n",
    "from sklearn.metrics import roc_auc_score, confusion_matrix, plot_confusion_matrix\n",
    "\n",
    "############### Wavelet ###############\n",
    "\n",
    "from Wavelet import wavelet as wl\n",
    "\n",
    "############### Feature Gen ###############\n",
    "\n",
    "from Feature_Generation import feature_engineering as fe\n",
    "\n",
    "############### XGBoost F_Eng ###############\n",
    "\n",
    "import XGBoostFeatureEngineer as XFE\n",
    "\n",
    "############### AE Dataset ###############\n",
    "\n",
    "from AEDataset import Time_series_Dataset, create_dataset_for_autoencoder\n",
    "\n",
    "############### Using AE ###############\n",
    "\n",
    "from AE import AE_INDICATORS_OSCILLATORS\n",
    "\n",
    "############### OHLCV Dataset ###############\n",
    "\n",
    "from OHLCVDataset import create_dataset_for_ohlcv\n",
    "\n",
    "############## Confusion Matrix #############\n",
    "\n",
    "from Confusion_Matrix import make_confusion_matrix"
   ]
  },
  {
   "cell_type": "markdown",
   "metadata": {
    "id": "XHoAupsH00FV"
   },
   "source": [
    "3. Loading the raw dataset"
   ]
  },
  {
   "cell_type": "code",
   "execution_count": 2,
   "metadata": {
    "colab": {
     "base_uri": "https://localhost:8080/"
    },
    "id": "hVgyoaQj0v6b",
    "outputId": "ccf62d9f-1aae-4dc9-fd4a-102acb9a3d99"
   },
   "outputs": [
    {
     "data": {
      "text/html": [
       "<div>\n",
       "<style scoped>\n",
       "    .dataframe tbody tr th:only-of-type {\n",
       "        vertical-align: middle;\n",
       "    }\n",
       "\n",
       "    .dataframe tbody tr th {\n",
       "        vertical-align: top;\n",
       "    }\n",
       "\n",
       "    .dataframe thead th {\n",
       "        text-align: right;\n",
       "    }\n",
       "</style>\n",
       "<table border=\"1\" class=\"dataframe\">\n",
       "  <thead>\n",
       "    <tr style=\"text-align: right;\">\n",
       "      <th></th>\n",
       "      <th>open</th>\n",
       "      <th>high</th>\n",
       "      <th>low</th>\n",
       "      <th>close</th>\n",
       "      <th>volume</th>\n",
       "    </tr>\n",
       "    <tr>\n",
       "      <th>time</th>\n",
       "      <th></th>\n",
       "      <th></th>\n",
       "      <th></th>\n",
       "      <th></th>\n",
       "      <th></th>\n",
       "    </tr>\n",
       "  </thead>\n",
       "  <tbody>\n",
       "    <tr>\n",
       "      <th>2017-08-17 04:00:00</th>\n",
       "      <td>4261.48</td>\n",
       "      <td>4349.99</td>\n",
       "      <td>4261.32</td>\n",
       "      <td>4349.99</td>\n",
       "      <td>82.088865</td>\n",
       "    </tr>\n",
       "    <tr>\n",
       "      <th>2017-08-17 08:00:00</th>\n",
       "      <td>4333.32</td>\n",
       "      <td>4485.39</td>\n",
       "      <td>4333.32</td>\n",
       "      <td>4427.30</td>\n",
       "      <td>63.619882</td>\n",
       "    </tr>\n",
       "    <tr>\n",
       "      <th>2017-08-17 12:00:00</th>\n",
       "      <td>4436.06</td>\n",
       "      <td>4485.39</td>\n",
       "      <td>4333.42</td>\n",
       "      <td>4352.34</td>\n",
       "      <td>174.562001</td>\n",
       "    </tr>\n",
       "    <tr>\n",
       "      <th>2017-08-17 16:00:00</th>\n",
       "      <td>4352.33</td>\n",
       "      <td>4354.84</td>\n",
       "      <td>4200.74</td>\n",
       "      <td>4325.23</td>\n",
       "      <td>225.109716</td>\n",
       "    </tr>\n",
       "    <tr>\n",
       "      <th>2017-08-17 20:00:00</th>\n",
       "      <td>4307.56</td>\n",
       "      <td>4369.69</td>\n",
       "      <td>4258.56</td>\n",
       "      <td>4285.08</td>\n",
       "      <td>249.769913</td>\n",
       "    </tr>\n",
       "    <tr>\n",
       "      <th>...</th>\n",
       "      <td>...</td>\n",
       "      <td>...</td>\n",
       "      <td>...</td>\n",
       "      <td>...</td>\n",
       "      <td>...</td>\n",
       "    </tr>\n",
       "    <tr>\n",
       "      <th>2021-02-13 16:00:00</th>\n",
       "      <td>47076.02</td>\n",
       "      <td>47400.14</td>\n",
       "      <td>46708.94</td>\n",
       "      <td>46870.15</td>\n",
       "      <td>8667.447457</td>\n",
       "    </tr>\n",
       "    <tr>\n",
       "      <th>2021-02-13 20:00:00</th>\n",
       "      <td>46871.95</td>\n",
       "      <td>47397.36</td>\n",
       "      <td>46653.58</td>\n",
       "      <td>47153.69</td>\n",
       "      <td>6836.242572</td>\n",
       "    </tr>\n",
       "    <tr>\n",
       "      <th>2021-02-14 00:00:00</th>\n",
       "      <td>47156.78</td>\n",
       "      <td>47730.00</td>\n",
       "      <td>47014.17</td>\n",
       "      <td>47267.21</td>\n",
       "      <td>10236.610927</td>\n",
       "    </tr>\n",
       "    <tr>\n",
       "      <th>2021-02-14 04:00:00</th>\n",
       "      <td>47267.20</td>\n",
       "      <td>49404.94</td>\n",
       "      <td>47220.42</td>\n",
       "      <td>48725.18</td>\n",
       "      <td>18793.643854</td>\n",
       "    </tr>\n",
       "    <tr>\n",
       "      <th>2021-02-14 08:00:00</th>\n",
       "      <td>48725.18</td>\n",
       "      <td>49349.76</td>\n",
       "      <td>48389.55</td>\n",
       "      <td>49055.16</td>\n",
       "      <td>11298.429907</td>\n",
       "    </tr>\n",
       "  </tbody>\n",
       "</table>\n",
       "<p>7647 rows × 5 columns</p>\n",
       "</div>"
      ],
      "text/plain": [
       "                         open      high       low     close        volume\n",
       "time                                                                     \n",
       "2017-08-17 04:00:00   4261.48   4349.99   4261.32   4349.99     82.088865\n",
       "2017-08-17 08:00:00   4333.32   4485.39   4333.32   4427.30     63.619882\n",
       "2017-08-17 12:00:00   4436.06   4485.39   4333.42   4352.34    174.562001\n",
       "2017-08-17 16:00:00   4352.33   4354.84   4200.74   4325.23    225.109716\n",
       "2017-08-17 20:00:00   4307.56   4369.69   4258.56   4285.08    249.769913\n",
       "...                       ...       ...       ...       ...           ...\n",
       "2021-02-13 16:00:00  47076.02  47400.14  46708.94  46870.15   8667.447457\n",
       "2021-02-13 20:00:00  46871.95  47397.36  46653.58  47153.69   6836.242572\n",
       "2021-02-14 00:00:00  47156.78  47730.00  47014.17  47267.21  10236.610927\n",
       "2021-02-14 04:00:00  47267.20  49404.94  47220.42  48725.18  18793.643854\n",
       "2021-02-14 08:00:00  48725.18  49349.76  48389.55  49055.16  11298.429907\n",
       "\n",
       "[7647 rows x 5 columns]"
      ]
     },
     "execution_count": 2,
     "metadata": {},
     "output_type": "execute_result"
    }
   ],
   "source": [
    "df = pd.read_csv(\"C:/Users/omare/Desktop/tr/data/BTC_USDT-4h.csv\")\n",
    "df.drop([df.columns[0]], axis = 1, inplace = True)\n",
    "df.columns = [\"time\", \"open\",\"high\",\"low\",\"close\",\"volume\"]\n",
    "df.index = pd.to_datetime(df[\"time\"], unit='ms')\n",
    "df.drop([\"time\"],axis = 1, inplace= True)\n",
    "df"
   ]
  },
  {
   "cell_type": "markdown",
   "metadata": {
    "id": "hahQVnTS4Xf4"
   },
   "source": [
    "4. Feature Generation"
   ]
  },
  {
   "cell_type": "code",
   "execution_count": 3,
   "metadata": {
    "id": "2yVrlpl_2l3f"
   },
   "outputs": [],
   "source": [
    "# Adding Features\n",
    "\n",
    "add_features = fe(df)\n",
    "\n",
    "add_features.ADX(14)  #Osc \n",
    "add_features.ATR(14)  #Osc\n",
    "add_features.ATR_ratio() #Osc\n",
    "add_features.BOLL() #Ind + Ind\n",
    "add_features.CCI(14) #Osc\n",
    "add_features.ChaikinAD() #OHLCV\n",
    "add_features.EMA(14) #Ind\n",
    "add_features.EMA(21) #Ind\n",
    "add_features.EMA(28) #Ind\n",
    "add_features.EMA(50) #Ind\n",
    "add_features.GARCH() #Osc\n",
    "add_features.MA(14)  #Ind\n",
    "add_features.MA(21)  #Ind\n",
    "add_features.MA(28)  #Ind\n",
    "add_features.MA(50)  #Ind\n",
    "add_features.MA_on_RSI() #Osc\n",
    "add_features.MACD() #Osc + Osc + Osc\n",
    "add_features.MFI(14) #Osc\n",
    "add_features.MOM(14) #Osc\n",
    "add_features.Parabolic_SAR() #Ind\n",
    "add_features.relative() #osc\n",
    "add_features.ROC(14) #osc\n",
    "add_features.RSI(14) #osc\n",
    "add_features.RSI_ratio() #osc\n",
    "add_features.SMA(14) #Ind\n",
    "add_features.SMA(21) #Ind\n",
    "add_features.SMA(28) #Ind\n",
    "add_features.SMA(50) #Ind\n",
    "add_features.SMA_ratio() #osc\n",
    "add_features.STOCHASTIC() #osc\n",
    "add_features.VWMA(14) #Ind\n",
    "add_features.VWMA(21) #Ind\n",
    "add_features.VWMA(28) #Ind\n",
    "add_features.VWMA(50) #Ind\n",
    "add_features.Wilder(14) #Ind\n",
    "add_features.Wilder(21) #Ind\n",
    "add_features.Wilder(28) #Ind\n",
    "add_features.Wilder(50) #Ind\n",
    "add_features.WILLR(14) #osc\n",
    "add_features.WILLR(21) #osc\n",
    "add_features.WILLR(28) #osc\n",
    "add_features.WILLR(50) #osc\n",
    "add_features.WVAD(14) #osc\n",
    "add_features.WVAD(21) #osc\n",
    "add_features.WVAD(28) #osc\n",
    "add_features.WVAD(50) #osc\n",
    "add_features.must_be_used()\n",
    "#Ind 24\n",
    "#Osc 28\n",
    "#OHLCV 7"
   ]
  },
  {
   "cell_type": "markdown",
   "metadata": {
    "id": "a-XtJT6luUAB"
   },
   "source": [
    "5.Adding target column"
   ]
  },
  {
   "cell_type": "code",
   "execution_count": 4,
   "metadata": {
    "id": "M-Wi6_nrq9hh",
    "scrolled": false
   },
   "outputs": [],
   "source": [
    "up_down = []\n",
    "values = df[\"close\"].values\n",
    "\n",
    "\n",
    "for i in range(len(df)-1):\n",
    "    if(values[i] < values[i+1]):\n",
    "        up_down.append(1)\n",
    "    else:\n",
    "        up_down.append(0)\n",
    "\n",
    "df.drop(df.index[-1], axis = 0, inplace = True)\n",
    "df[\"target\"] = up_down\n",
    "#up_down"
   ]
  },
  {
   "cell_type": "markdown",
   "metadata": {
    "id": "7vunFxeAumES"
   },
   "source": [
    "5.Train and Test split"
   ]
  },
  {
   "cell_type": "code",
   "execution_count": 5,
   "metadata": {
    "id": "wq7Q1daCurWO",
    "scrolled": true
   },
   "outputs": [],
   "source": [
    "split_ratio = 0.8\n",
    "split_point = int(split_ratio * len(df)) if int(split_ratio * len(df))%2==0 else int(split_ratio * len(df))+1\n",
    "#train_df,test_df=[],[]\n",
    "train_df = df.iloc[:split_point,:]\n",
    "test_df = df.iloc[split_point:,:]\n",
    "#print(train_df)"
   ]
  },
  {
   "cell_type": "markdown",
   "metadata": {
    "id": "iRHHzyUA4R2T"
   },
   "source": [
    "6.Applying Wavelet"
   ]
  },
  {
   "cell_type": "code",
   "execution_count": 6,
   "metadata": {
    "id": "aTtKfFbgLh52"
   },
   "outputs": [],
   "source": [
    "train_df_wl, test_df_wl = wl(train_df.iloc[:,:-1], test_df.iloc[:,:-1])"
   ]
  },
  {
   "cell_type": "code",
   "execution_count": 7,
   "metadata": {
    "id": "CdGNNfMrvQdA"
   },
   "outputs": [],
   "source": [
    "train_df_wl['target'] = train_df['target']\n",
    "test_df_wl['target'] = test_df['target']"
   ]
  },
  {
   "cell_type": "markdown",
   "metadata": {
    "id": "k2lCX-hjvyiq"
   },
   "source": [
    "7.Normalizing"
   ]
  },
  {
   "cell_type": "code",
   "execution_count": 8,
   "metadata": {
    "id": "btb_3AItv02z"
   },
   "outputs": [],
   "source": [
    "scaler = MinMaxScaler()\n",
    "train_df_wl_nrm = scaler.fit_transform(train_df_wl)\n",
    "test_df_wl_nrm = scaler.transform(test_df_wl)"
   ]
  },
  {
   "cell_type": "code",
   "execution_count": 9,
   "metadata": {
    "id": "eTwfPSnuxMAx"
   },
   "outputs": [],
   "source": [
    "train_df_wl_nrm = pd.DataFrame(train_df_wl_nrm, index=train_df_wl.index, columns=train_df_wl.columns)\n",
    "test_df_wl_nrm = pd.DataFrame(test_df_wl_nrm, index=test_df_wl.index, columns=test_df_wl.columns)"
   ]
  },
  {
   "cell_type": "markdown",
   "metadata": {
    "id": "EHK36hZMCVB3"
   },
   "source": [
    "8.Feature Engineering by XGBoost"
   ]
  },
  {
   "cell_type": "code",
   "execution_count": 10,
   "metadata": {
    "colab": {
     "base_uri": "https://localhost:8080/"
    },
    "id": "YpdTn5zOCrVj",
    "outputId": "dff0c87f-25c5-4ae1-ebc4-31972d9f44b2"
   },
   "outputs": [
    {
     "data": {
      "image/png": "[encoded data removed]",
      "text/plain": [
       "<Figure size 2000x1000 with 1 Axes>"
      ]
     },
     "metadata": {},
     "output_type": "display_data"
    }
   ],
   "source": [
    "df_aux = train_df_wl_nrm.drop(['open', 'high', 'low', 'close', 'volume'], axis = 1)\n",
    "extracted_features = XFE.feature_importance(df_aux, top = 25)"
   ]
  },
  {
   "cell_type": "markdown",
   "metadata": {
    "id": "zFa_iF5HKvKG"
   },
   "source": [
    "8.OHLCV, price-like indicators and none-price-like indicators\n",
    "\n"
   ]
  },
  {
   "cell_type": "code",
   "execution_count": 11,
   "metadata": {
    "colab": {
     "base_uri": "https://localhost:8080/"
    },
    "id": "wKdM6dT-K_gV",
    "outputId": "dbec605a-4c28-4cba-cb40-1a11f6cd1440"
   },
   "outputs": [
    {
     "name": "stdout",
     "output_type": "stream",
     "text": [
      "['Wilder_close_28' 'FASTK' 'VWMA_close_21' 'SLOWD' 'VWMA_close_14' 'FASTD'\n",
      " 'EMA_close_28' 'Wilder_close_21' 'WILLR_close_14' 'MA_close_14'\n",
      " 'ROC_close_14' 'MACD_SIG' 'CCI_close_14' 'Wilder_close_14' 'WVAD_14'\n",
      " 'MTM_close_14' 'WILLR_close_28' 'MA_close_21' 'RSI_close_14' 'ChaikinAD'\n",
      " 'RSI_ratio_close_5_15' 'MACD_HIST' 'WVAD_21' 'WVAD_28' 'Wilder_close_50']\n"
     ]
    }
   ],
   "source": [
    "print(extracted_features)\n"
   ]
  },
  {
   "cell_type": "code",
   "execution_count": 12,
   "metadata": {
    "id": "BxqF-7e6LDSg"
   },
   "outputs": [],
   "source": [
    "ohlcv = ['open', 'high', 'low', 'close', 'volume','ChaikinAD']\n",
    "\n",
    "price_like_features = ['EMA_close_14','EMA_close_21','MA_close_28','MA_close_21','VWMA_close_21','Wilder_close_21','BOLL_LOWER_20','CCI_close_14']\n",
    "\n",
    "none_price_like_features = ['WILLR_close_14','MACD_SIG','Wilder_close_28','WILLR_close_28','FASTK','MACD_HIST','MTM_close_14','MACD','FASTD','SMA_ratio_close_5_15',\n",
    "                            'RSI_ratio_close_5_15','WVAD_50','SLOWD','RSI_close_14','Parabolic_SAR','ROC_close_14','MFI_close_14','GARCH_close','WVAD_14','WVAD_28']"
   ]
  },
  {
   "cell_type": "code",
   "execution_count": 13,
   "metadata": {
    "colab": {
     "base_uri": "https://localhost:8080/"
    },
    "id": "DHFcVUTTyMM8",
    "outputId": "ac958eba-aea2-4bb8-b812-cd4a2ebd9441"
   },
   "outputs": [
    {
     "data": {
      "text/plain": [
       "(6, 8, 20)"
      ]
     },
     "execution_count": 13,
     "metadata": {},
     "output_type": "execute_result"
    }
   ],
   "source": [
    "len(ohlcv),len(price_like_features),len(none_price_like_features)"
   ]
  },
  {
   "cell_type": "markdown",
   "metadata": {
    "id": "BnMq2oxf6752"
   },
   "source": [
    "9.Split dataframe to 3 separate datasets"
   ]
  },
  {
   "cell_type": "code",
   "execution_count": 14,
   "metadata": {
    "id": "MpeuKpSVLqR0"
   },
   "outputs": [],
   "source": [
    "train_df_ohlcv = train_df_wl_nrm[ohlcv]\n",
    "train_df_pl = train_df_wl_nrm[price_like_features]\n",
    "train_df_npl = train_df_wl_nrm[none_price_like_features]"
   ]
  },
  {
   "cell_type": "code",
   "execution_count": 15,
   "metadata": {
    "id": "9yOJlsrE7f4B"
   },
   "outputs": [],
   "source": [
    "test_df_ohlcv = test_df_wl_nrm[ohlcv]\n",
    "test_df_pl = test_df_wl_nrm[price_like_features]\n",
    "test_df_npl = test_df_wl_nrm[none_price_like_features]"
   ]
  },
  {
   "cell_type": "markdown",
   "metadata": {
    "id": "XBSuKoM1ZG2c"
   },
   "source": [
    "10.Train AE on price-like indicators\n"
   ]
  },
  {
   "cell_type": "code",
   "execution_count": 16,
   "metadata": {
    "id": "QoKQ3xQ3MDA1"
   },
   "outputs": [],
   "source": [
    "window_size = 24\n",
    "train_size = 0.9\n",
    "batch_size = 32\n",
    "epochs = 200\n",
    "lr = 0.0001"
   ]
  },
  {
   "cell_type": "code",
   "execution_count": 17,
   "metadata": {
    "colab": {
     "base_uri": "https://localhost:8080/"
    },
    "id": "1ESSzs1Kbos0",
    "outputId": "7223c3a3-a9e9-4d87-d839-e3a365524dc3",
    "scrolled": true
   },
   "outputs": [
    {
     "name": "stdout",
     "output_type": "stream",
     "text": [
      "Training Process...\n",
      "Epoch 0 Loss: 1.1370813846588135\n",
      "Epoch 1 Loss: 1.088202953338623\n",
      "Epoch 2 Loss: 1.0440022945404053\n",
      "Epoch 3 Loss: 1.0018140077590942\n",
      "Epoch 4 Loss: 0.9614976644515991\n",
      "Epoch 5 Loss: 0.9228346347808838\n",
      "Epoch 6 Loss: 0.8857052326202393\n",
      "Epoch 7 Loss: 0.8499128818511963\n",
      "Epoch 8 Loss: 0.8153377771377563\n",
      "Epoch 9 Loss: 0.7818223237991333\n",
      "Epoch 10 Loss: 0.7494059801101685\n",
      "Epoch 11 Loss: 0.7179982662200928\n",
      "Epoch 12 Loss: 0.6876012682914734\n",
      "Epoch 13 Loss: 0.6582645773887634\n",
      "Epoch 14 Loss: 0.6299143433570862\n",
      "Epoch 15 Loss: 0.6024985313415527\n",
      "Epoch 16 Loss: 0.5760054588317871\n",
      "Epoch 17 Loss: 0.5503877997398376\n",
      "Epoch 18 Loss: 0.5256470441818237\n",
      "Epoch 19 Loss: 0.501737117767334\n",
      "Epoch 20 Loss: 0.4786321520805359\n",
      "Epoch 21 Loss: 0.45633062720298767\n",
      "Epoch 22 Loss: 0.43481189012527466\n",
      "Epoch 23 Loss: 0.4140259623527527\n",
      "Epoch 24 Loss: 0.3939696252346039\n",
      "Epoch 25 Loss: 0.3746260106563568\n",
      "Epoch 26 Loss: 0.3559742867946625\n",
      "Epoch 27 Loss: 0.3380074203014374\n",
      "Epoch 28 Loss: 0.3206889033317566\n",
      "Epoch 29 Loss: 0.3040124773979187\n",
      "Epoch 30 Loss: 0.2879500091075897\n",
      "Epoch 31 Loss: 0.27249589562416077\n",
      "Epoch 32 Loss: 0.25763261318206787\n",
      "Epoch 33 Loss: 0.2433447539806366\n",
      "Epoch 34 Loss: 0.2296208143234253\n",
      "Epoch 35 Loss: 0.21644344925880432\n",
      "Epoch 36 Loss: 0.20379960536956787\n",
      "Epoch 37 Loss: 0.1916864812374115\n",
      "Epoch 38 Loss: 0.18008731305599213\n",
      "Epoch 39 Loss: 0.1689901351928711\n",
      "Epoch 40 Loss: 0.1583840548992157\n",
      "Epoch 41 Loss: 0.14826488494873047\n",
      "Epoch 42 Loss: 0.13861745595932007\n",
      "Epoch 43 Loss: 0.12943953275680542\n",
      "Epoch 44 Loss: 0.12072720378637314\n",
      "Epoch 45 Loss: 0.1124613806605339\n",
      "Epoch 46 Loss: 0.10463552176952362\n",
      "Epoch 47 Loss: 0.09724120795726776\n",
      "Epoch 48 Loss: 0.09027104824781418\n",
      "Epoch 49 Loss: 0.08371549099683762\n",
      "Epoch 50 Loss: 0.07756192237138748\n",
      "Epoch 51 Loss: 0.071805939078331\n",
      "Epoch 52 Loss: 0.06643453985452652\n",
      "Epoch 53 Loss: 0.061438869684934616\n",
      "Epoch 54 Loss: 0.056810375303030014\n",
      "Epoch 55 Loss: 0.05253664404153824\n",
      "Epoch 56 Loss: 0.04860851168632507\n",
      "Epoch 57 Loss: 0.04501328989863396\n",
      "Epoch 58 Loss: 0.04173896834254265\n",
      "Epoch 59 Loss: 0.03877250850200653\n",
      "Epoch 60 Loss: 0.03610023483633995\n",
      "Epoch 61 Loss: 0.03370840474963188\n",
      "Epoch 62 Loss: 0.03158238157629967\n",
      "Epoch 63 Loss: 0.02970590814948082\n",
      "Epoch 64 Loss: 0.02806416153907776\n",
      "Epoch 65 Loss: 0.026639249175786972\n",
      "Epoch 66 Loss: 0.02541491761803627\n",
      "Epoch 67 Loss: 0.02437429502606392\n",
      "Epoch 68 Loss: 0.023499056696891785\n",
      "Epoch 69 Loss: 0.022771937772631645\n",
      "Epoch 70 Loss: 0.022175302729010582\n",
      "Epoch 71 Loss: 0.021692980080842972\n",
      "Epoch 72 Loss: 0.021308358758687973\n",
      "Epoch 73 Loss: 0.021005457267165184\n",
      "Epoch 74 Loss: 0.02076982706785202\n",
      "Epoch 75 Loss: 0.020588940009474754\n",
      "Epoch 76 Loss: 0.02045147493481636\n",
      "Epoch 77 Loss: 0.020347662270069122\n",
      "Epoch 78 Loss: 0.020269205793738365\n",
      "Epoch 79 Loss: 0.020210035145282745\n",
      "Epoch 80 Loss: 0.020164985209703445\n",
      "Epoch 81 Loss: 0.020130587741732597\n",
      "Epoch 82 Loss: 0.02010352723300457\n",
      "Epoch 83 Loss: 0.020082376897335052\n",
      "Epoch 84 Loss: 0.020065322518348694\n",
      "Epoch 85 Loss: 0.02005079947412014\n",
      "Epoch 86 Loss: 0.020037829875946045\n",
      "Epoch 87 Loss: 0.02002680115401745\n",
      "Epoch 88 Loss: 0.020017098635435104\n",
      "Epoch 89 Loss: 0.020008493214845657\n",
      "Epoch 90 Loss: 0.02000020630657673\n",
      "Epoch 91 Loss: 0.019993165507912636\n",
      "Epoch 92 Loss: 0.019987039268016815\n",
      "Epoch 93 Loss: 0.019981034100055695\n",
      "Epoch 94 Loss: 0.019975043833255768\n",
      "Epoch 95 Loss: 0.019969120621681213\n",
      "Epoch 96 Loss: 0.01996327005326748\n",
      "Epoch 97 Loss: 0.019958360120654106\n",
      "Epoch 98 Loss: 0.01995338499546051\n",
      "Epoch 99 Loss: 0.019949212670326233\n",
      "Epoch 100 Loss: 0.01994520053267479\n",
      "Epoch 101 Loss: 0.019941404461860657\n",
      "Epoch 102 Loss: 0.019937600940465927\n",
      "Epoch 103 Loss: 0.019934264943003654\n",
      "Epoch 104 Loss: 0.01993117295205593\n",
      "Epoch 105 Loss: 0.01992872729897499\n",
      "Epoch 106 Loss: 0.019926030188798904\n",
      "Epoch 107 Loss: 0.019923832267522812\n",
      "Epoch 108 Loss: 0.019921626895666122\n",
      "Epoch 109 Loss: 0.01991957053542137\n",
      "Epoch 110 Loss: 0.019917532801628113\n",
      "Epoch 111 Loss: 0.01991572603583336\n",
      "Epoch 112 Loss: 0.0199140477925539\n",
      "Epoch 113 Loss: 0.01991247944533825\n",
      "Epoch 114 Loss: 0.019910981878638268\n",
      "Epoch 115 Loss: 0.01990949548780918\n",
      "Epoch 116 Loss: 0.01990809105336666\n",
      "Epoch 117 Loss: 0.019906913861632347\n",
      "Epoch 118 Loss: 0.019905870780348778\n",
      "Epoch 119 Loss: 0.019905082881450653\n",
      "Epoch 120 Loss: 0.019904205575585365\n",
      "Epoch 121 Loss: 0.01990329846739769\n",
      "Epoch 122 Loss: 0.019902929663658142\n",
      "Epoch 123 Loss: 0.019902190193533897\n",
      "Epoch 124 Loss: 0.01990153267979622\n",
      "Epoch 125 Loss: 0.019900668412446976\n",
      "Epoch 126 Loss: 0.019899412989616394\n",
      "Epoch 127 Loss: 0.01989860087633133\n",
      "Epoch 128 Loss: 0.01989798992872238\n",
      "Epoch 129 Loss: 0.019897188991308212\n",
      "Epoch 130 Loss: 0.01989634893834591\n",
      "Epoch 131 Loss: 0.019895583391189575\n",
      "Epoch 132 Loss: 0.01989479921758175\n",
      "Epoch 133 Loss: 0.01989397592842579\n",
      "Epoch 134 Loss: 0.019893553107976913\n",
      "Epoch 135 Loss: 0.019892927259206772\n",
      "Epoch 136 Loss: 0.019892245531082153\n",
      "Epoch 137 Loss: 0.019891856238245964\n",
      "Epoch 138 Loss: 0.019891314208507538\n",
      "Epoch 139 Loss: 0.019890762865543365\n",
      "Epoch 140 Loss: 0.01989014446735382\n",
      "Epoch 141 Loss: 0.019889667630195618\n",
      "Epoch 142 Loss: 0.01988925412297249\n",
      "Epoch 143 Loss: 0.019888581708073616\n",
      "Epoch 144 Loss: 0.019888009876012802\n",
      "Epoch 145 Loss: 0.019887134432792664\n",
      "Epoch 146 Loss: 0.019886529073119164\n",
      "Epoch 147 Loss: 0.0198858380317688\n",
      "Epoch 148 Loss: 0.01988513022661209\n",
      "Epoch 149 Loss: 0.01988379843533039\n",
      "Epoch 150 Loss: 0.019882654771208763\n",
      "Epoch 151 Loss: 0.01988079957664013\n",
      "Epoch 152 Loss: 0.019879315048456192\n",
      "Epoch 153 Loss: 0.019877640530467033\n",
      "Epoch 154 Loss: 0.019876383244991302\n",
      "Epoch 155 Loss: 0.01987455040216446\n",
      "Epoch 156 Loss: 0.01987297460436821\n",
      "Epoch 157 Loss: 0.019871633499860764\n",
      "Epoch 158 Loss: 0.01987057738006115\n",
      "Epoch 159 Loss: 0.019869310781359673\n",
      "Epoch 160 Loss: 0.01986829936504364\n",
      "Epoch 161 Loss: 0.019867178052663803\n",
      "Epoch 162 Loss: 0.019866185262799263\n",
      "Epoch 163 Loss: 0.019865402951836586\n",
      "Epoch 164 Loss: 0.01986445114016533\n",
      "Epoch 165 Loss: 0.01986335963010788\n",
      "Epoch 166 Loss: 0.01986273191869259\n",
      "Epoch 167 Loss: 0.019861645996570587\n",
      "Epoch 168 Loss: 0.019860830157995224\n",
      "Epoch 169 Loss: 0.01985993981361389\n",
      "Epoch 170 Loss: 0.019859107211232185\n",
      "Epoch 171 Loss: 0.019858507439494133\n",
      "Epoch 172 Loss: 0.01985759474337101\n",
      "Epoch 173 Loss: 0.019856968894600868\n",
      "Epoch 174 Loss: 0.019856199622154236\n",
      "Epoch 175 Loss: 0.019855787977576256\n",
      "Epoch 176 Loss: 0.019855134189128876\n",
      "Epoch 177 Loss: 0.019854726269841194\n",
      "Epoch 178 Loss: 0.01985420100390911\n",
      "Epoch 179 Loss: 0.019853584468364716\n",
      "Epoch 180 Loss: 0.01985323801636696\n",
      "Epoch 181 Loss: 0.01985299587249756\n",
      "Epoch 182 Loss: 0.019852451980113983\n",
      "Epoch 183 Loss: 0.01985194906592369\n",
      "Epoch 184 Loss: 0.0198513250797987\n",
      "Epoch 185 Loss: 0.0198507122695446\n",
      "Epoch 186 Loss: 0.019850358366966248\n",
      "Epoch 187 Loss: 0.01984954997897148\n",
      "Epoch 188 Loss: 0.019848711788654327\n",
      "Epoch 189 Loss: 0.019848104566335678\n",
      "Epoch 190 Loss: 0.019847389310598373\n",
      "Epoch 191 Loss: 0.019846303388476372\n",
      "Epoch 192 Loss: 0.019845489412546158\n",
      "Epoch 193 Loss: 0.019844649359583855\n",
      "Epoch 194 Loss: 0.019843999296426773\n",
      "Epoch 195 Loss: 0.01984332874417305\n",
      "Epoch 196 Loss: 0.019842712208628654\n",
      "Epoch 197 Loss: 0.01984201930463314\n",
      "Epoch 198 Loss: 0.01984143629670143\n",
      "Epoch 199 Loss: 0.019840886816382408\n"
     ]
    },
    {
     "data": {
      "image/png": "[encoded data removed]",
      "text/plain": [
       "<Figure size 640x480 with 1 Axes>"
      ]
     },
     "metadata": {},
     "output_type": "display_data"
    },
    {
     "name": "stdout",
     "output_type": "stream",
     "text": [
      "\n",
      "Training Process has finished\n",
      "#############################\n",
      "Evaluate the model...\n",
      "Loss: 0.07636857312011278\n",
      "Loss: 0.07762419101716628\n",
      "Loss: 0.07727525042643243\n",
      "Loss: 0.057483003640154545\n",
      "Loss: 0.05222049424661529\n",
      "Loss: 0.03782079483017011\n",
      "Loss: 0.03384064880568494\n",
      "Loss: 0.03710694524690917\n",
      "Loss: 0.04235079996736332\n",
      "Loss: 0.04113959695739155\n",
      "Loss: 0.04477355146218851\n",
      "Loss: 0.05275787165601892\n",
      "Loss: 0.06694859387545568\n",
      "Loss: 0.07465852147315782\n",
      "Loss: 0.07596592080871041\n",
      "Loss: 0.0727956095483364\n",
      "Loss: 0.07368738292364473\n",
      "Loss: 0.0743572862050793\n",
      "\n",
      "Evaluation has finished\n",
      "#############################\n",
      "Visualization...\n"
     ]
    },
    {
     "data": {
      "image/png": "[encoded data removed]",
      "text/plain": [
       "<Figure size 800x400 with 3 Axes>"
      ]
     },
     "metadata": {},
     "output_type": "display_data"
    }
   ],
   "source": [
    "model, dataset = AE_INDICATORS_OSCILLATORS(train_df_pl, train_df_pl.columns, window_size, train_size, batch_size, epochs, lr,\n",
    "                                           conv1_kernel_num = 9, conv1_kernel_size = 7, conv2_kernel_num = 6, conv2_kernel_size = 7,\n",
    "                                           conv3_kernel_num =3, conv3_kernel_size = 7,maxpool_kernel_size = 2, max_pool_stride = 2,\n",
    "                                           sanity= False)"
   ]
  },
  {
   "cell_type": "code",
   "execution_count": 18,
   "metadata": {
    "colab": {
     "base_uri": "https://localhost:8080/"
    },
    "id": "6b5nDJoobztY",
    "outputId": "833bb692-b9d2-48a9-eefc-07e257d5c9f2"
   },
   "outputs": [
    {
     "name": "stdout",
     "output_type": "stream",
     "text": [
      "Training Process...\n",
      "Epoch 0 Loss: 1.1251544952392578\n",
      "Epoch 1 Loss: 1.074320912361145\n",
      "Epoch 2 Loss: 1.0257413387298584\n",
      "Epoch 3 Loss: 0.979345977306366\n",
      "Epoch 4 Loss: 0.9338421821594238\n",
      "Epoch 5 Loss: 0.8896812200546265\n",
      "Epoch 6 Loss: 0.8479042053222656\n",
      "Epoch 7 Loss: 0.8082097768783569\n",
      "Epoch 8 Loss: 0.770037055015564\n",
      "Epoch 9 Loss: 0.7331361174583435\n",
      "Epoch 10 Loss: 0.6975356340408325\n",
      "Epoch 11 Loss: 0.6635262370109558\n",
      "Epoch 12 Loss: 0.6311591863632202\n",
      "Epoch 13 Loss: 0.6002249717712402\n",
      "Epoch 14 Loss: 0.5705734491348267\n",
      "Epoch 15 Loss: 0.5420951843261719\n",
      "Epoch 16 Loss: 0.5146887302398682\n",
      "Epoch 17 Loss: 0.48831862211227417\n",
      "Epoch 18 Loss: 0.4629463851451874\n",
      "Epoch 19 Loss: 0.43852323293685913\n",
      "Epoch 20 Loss: 0.4150320887565613\n",
      "Epoch 21 Loss: 0.39244264364242554\n",
      "Epoch 22 Loss: 0.3707219064235687\n",
      "Epoch 23 Loss: 0.34985947608947754\n",
      "Epoch 24 Loss: 0.3298380970954895\n",
      "Epoch 25 Loss: 0.3106277883052826\n",
      "Epoch 26 Loss: 0.29220861196517944\n",
      "Epoch 27 Loss: 0.2745437026023865\n",
      "Epoch 28 Loss: 0.25762462615966797\n",
      "Epoch 29 Loss: 0.24143092334270477\n",
      "Epoch 30 Loss: 0.22595033049583435\n",
      "Epoch 31 Loss: 0.21116015315055847\n",
      "Epoch 32 Loss: 0.19705277681350708\n",
      "Epoch 33 Loss: 0.18359999358654022\n",
      "Epoch 34 Loss: 0.17078781127929688\n",
      "Epoch 35 Loss: 0.15859386324882507\n",
      "Epoch 36 Loss: 0.14701709151268005\n",
      "Epoch 37 Loss: 0.13604223728179932\n",
      "Epoch 38 Loss: 0.12565815448760986\n",
      "Epoch 39 Loss: 0.11584702134132385\n",
      "Epoch 40 Loss: 0.10659490525722504\n",
      "Epoch 41 Loss: 0.0978972539305687\n",
      "Epoch 42 Loss: 0.08972907066345215\n",
      "Epoch 43 Loss: 0.08208778500556946\n",
      "Epoch 44 Loss: 0.0749596580862999\n",
      "Epoch 45 Loss: 0.06833068281412125\n",
      "Epoch 46 Loss: 0.06219020485877991\n",
      "Epoch 47 Loss: 0.05652213096618652\n",
      "Epoch 48 Loss: 0.05131062865257263\n",
      "Epoch 49 Loss: 0.04654417559504509\n",
      "Epoch 50 Loss: 0.042204536497592926\n",
      "Epoch 51 Loss: 0.03828059136867523\n",
      "Epoch 52 Loss: 0.03475296497344971\n",
      "Epoch 53 Loss: 0.031602807343006134\n",
      "Epoch 54 Loss: 0.028811996802687645\n",
      "Epoch 55 Loss: 0.0263594388961792\n",
      "Epoch 56 Loss: 0.024226371198892593\n",
      "Epoch 57 Loss: 0.0223892442882061\n",
      "Epoch 58 Loss: 0.020825739949941635\n",
      "Epoch 59 Loss: 0.019513290375471115\n",
      "Epoch 60 Loss: 0.01842579059302807\n",
      "Epoch 61 Loss: 0.017539523541927338\n",
      "Epoch 62 Loss: 0.01683070883154869\n",
      "Epoch 63 Loss: 0.01627456769347191\n",
      "Epoch 64 Loss: 0.015847375616431236\n",
      "Epoch 65 Loss: 0.015527024865150452\n",
      "Epoch 66 Loss: 0.015292130410671234\n",
      "Epoch 67 Loss: 0.015125168487429619\n",
      "Epoch 68 Loss: 0.015008690766990185\n",
      "Epoch 69 Loss: 0.01492924802005291\n",
      "Epoch 70 Loss: 0.014875538647174835\n",
      "Epoch 71 Loss: 0.014839465729892254\n",
      "Epoch 72 Loss: 0.014814773574471474\n",
      "Epoch 73 Loss: 0.014798013493418694\n",
      "Epoch 74 Loss: 0.014786171726882458\n",
      "Epoch 75 Loss: 0.0147774126380682\n",
      "Epoch 76 Loss: 0.014769474044442177\n",
      "Epoch 77 Loss: 0.014762702398002148\n",
      "Epoch 78 Loss: 0.014756984077394009\n",
      "Epoch 79 Loss: 0.014751920476555824\n",
      "Epoch 80 Loss: 0.014747047796845436\n",
      "Epoch 81 Loss: 0.01474255882203579\n",
      "Epoch 82 Loss: 0.014738602563738823\n",
      "Epoch 83 Loss: 0.014734744094312191\n",
      "Epoch 84 Loss: 0.014731120318174362\n",
      "Epoch 85 Loss: 0.0147275160998106\n",
      "Epoch 86 Loss: 0.014724310487508774\n",
      "Epoch 87 Loss: 0.014721294865012169\n",
      "Epoch 88 Loss: 0.014718655496835709\n",
      "Epoch 89 Loss: 0.01471622847020626\n",
      "Epoch 90 Loss: 0.014714037999510765\n",
      "Epoch 91 Loss: 0.014711692929267883\n",
      "Epoch 92 Loss: 0.014709587208926678\n",
      "Epoch 93 Loss: 0.014707593247294426\n",
      "Epoch 94 Loss: 0.014705874025821686\n",
      "Epoch 95 Loss: 0.014704237692058086\n",
      "Epoch 96 Loss: 0.014702444896101952\n",
      "Epoch 97 Loss: 0.01470069121569395\n",
      "Epoch 98 Loss: 0.014699198305606842\n",
      "Epoch 99 Loss: 0.014697596430778503\n",
      "Epoch 100 Loss: 0.014695705845952034\n",
      "Epoch 101 Loss: 0.01469380222260952\n",
      "Epoch 102 Loss: 0.014691963791847229\n",
      "Epoch 103 Loss: 0.01469031535089016\n",
      "Epoch 104 Loss: 0.014688300900161266\n",
      "Epoch 105 Loss: 0.014685804955661297\n",
      "Epoch 106 Loss: 0.014682955108582973\n",
      "Epoch 107 Loss: 0.0146808922290802\n",
      "Epoch 108 Loss: 0.01467941515147686\n",
      "Epoch 109 Loss: 0.014678111299872398\n",
      "Epoch 110 Loss: 0.014676864258944988\n",
      "Epoch 111 Loss: 0.014675440266728401\n",
      "Epoch 112 Loss: 0.014674286358058453\n",
      "Epoch 113 Loss: 0.014672473073005676\n",
      "Epoch 114 Loss: 0.014670833945274353\n",
      "Epoch 115 Loss: 0.014669458381831646\n",
      "Epoch 116 Loss: 0.01466815359890461\n",
      "Epoch 117 Loss: 0.01466697733849287\n",
      "Epoch 118 Loss: 0.014665829949080944\n",
      "Epoch 119 Loss: 0.014664702117443085\n",
      "Epoch 120 Loss: 0.014663360081613064\n",
      "Epoch 121 Loss: 0.014662308618426323\n",
      "Epoch 122 Loss: 0.014660924673080444\n",
      "Epoch 123 Loss: 0.014659717679023743\n",
      "Epoch 124 Loss: 0.014658539555966854\n",
      "Epoch 125 Loss: 0.014657532796263695\n",
      "Epoch 126 Loss: 0.01465640589594841\n",
      "Epoch 127 Loss: 0.014655468985438347\n",
      "Epoch 128 Loss: 0.01465468481183052\n",
      "Epoch 129 Loss: 0.014653879217803478\n",
      "Epoch 130 Loss: 0.014652915298938751\n",
      "Epoch 131 Loss: 0.014652026817202568\n",
      "Epoch 132 Loss: 0.01465113740414381\n",
      "Epoch 133 Loss: 0.014650415629148483\n",
      "Epoch 134 Loss: 0.014649560675024986\n",
      "Epoch 135 Loss: 0.014648954384028912\n",
      "Epoch 136 Loss: 0.014648298732936382\n",
      "Epoch 137 Loss: 0.014647774398326874\n",
      "Epoch 138 Loss: 0.014647122472524643\n",
      "Epoch 139 Loss: 0.014646410942077637\n",
      "Epoch 140 Loss: 0.014645889401435852\n",
      "Epoch 141 Loss: 0.014645311050117016\n",
      "Epoch 142 Loss: 0.014644800685346127\n",
      "Epoch 143 Loss: 0.014644253067672253\n",
      "Epoch 144 Loss: 0.014643698930740356\n",
      "Epoch 145 Loss: 0.014643197879195213\n",
      "Epoch 146 Loss: 0.014642594382166862\n",
      "Epoch 147 Loss: 0.014641921035945415\n",
      "Epoch 148 Loss: 0.014641466550529003\n",
      "Epoch 149 Loss: 0.014641000889241695\n",
      "Epoch 150 Loss: 0.01464046910405159\n",
      "Epoch 151 Loss: 0.014640053734183311\n",
      "Epoch 152 Loss: 0.014639670960605145\n",
      "Epoch 153 Loss: 0.014639350585639477\n",
      "Epoch 154 Loss: 0.01463885884732008\n",
      "Epoch 155 Loss: 0.01463848352432251\n",
      "Epoch 156 Loss: 0.014638068154454231\n",
      "Epoch 157 Loss: 0.014637663960456848\n",
      "Epoch 158 Loss: 0.014637078158557415\n",
      "Epoch 159 Loss: 0.014636626467108727\n",
      "Epoch 160 Loss: 0.014636045321822166\n",
      "Epoch 161 Loss: 0.014635518193244934\n",
      "Epoch 162 Loss: 0.014634962193667889\n",
      "Epoch 163 Loss: 0.014634489081799984\n",
      "Epoch 164 Loss: 0.01463403832167387\n",
      "Epoch 165 Loss: 0.01463363878428936\n",
      "Epoch 166 Loss: 0.01463321503251791\n",
      "Epoch 167 Loss: 0.014632858335971832\n",
      "Epoch 168 Loss: 0.014632578007876873\n",
      "Epoch 169 Loss: 0.01463222038000822\n",
      "Epoch 170 Loss: 0.014631885103881359\n",
      "Epoch 171 Loss: 0.01463156845420599\n",
      "Epoch 172 Loss: 0.014631249010562897\n",
      "Epoch 173 Loss: 0.014631005935370922\n",
      "Epoch 174 Loss: 0.014630715362727642\n",
      "Epoch 175 Loss: 0.014630373567342758\n",
      "Epoch 176 Loss: 0.014630000106990337\n",
      "Epoch 177 Loss: 0.014629772864282131\n",
      "Epoch 178 Loss: 0.014629555866122246\n",
      "Epoch 179 Loss: 0.014629288576543331\n",
      "Epoch 180 Loss: 0.014629006385803223\n",
      "Epoch 181 Loss: 0.014628693461418152\n",
      "Epoch 182 Loss: 0.014628462493419647\n",
      "Epoch 183 Loss: 0.014628100208938122\n",
      "Epoch 184 Loss: 0.01462783943861723\n",
      "Epoch 185 Loss: 0.014627642929553986\n",
      "Epoch 186 Loss: 0.014627589844167233\n",
      "Epoch 187 Loss: 0.014627493917942047\n",
      "Epoch 188 Loss: 0.014627300202846527\n",
      "Epoch 189 Loss: 0.01462705060839653\n",
      "Epoch 190 Loss: 0.01462680846452713\n",
      "Epoch 191 Loss: 0.01462644338607788\n",
      "Epoch 192 Loss: 0.01462610810995102\n",
      "Epoch 193 Loss: 0.014625723473727703\n",
      "Epoch 194 Loss: 0.014625363051891327\n",
      "Epoch 195 Loss: 0.014625008217990398\n",
      "Epoch 196 Loss: 0.014624662697315216\n",
      "Epoch 197 Loss: 0.01462431252002716\n",
      "Epoch 198 Loss: 0.014623939990997314\n",
      "Epoch 199 Loss: 0.014623592607676983\n"
     ]
    },
    {
     "data": {
      "image/png": "[encoded data removed]",
      "text/plain": [
       "<Figure size 640x480 with 1 Axes>"
      ]
     },
     "metadata": {},
     "output_type": "display_data"
    },
    {
     "name": "stdout",
     "output_type": "stream",
     "text": [
      "\n",
      "Training Process has finished\n",
      "#############################\n"
     ]
    }
   ],
   "source": [
    "model, whole_dataset_train = AE_INDICATORS_OSCILLATORS(train_df_pl, train_df_pl.columns, window_size, 1.0, batch_size, epochs, lr,sanity= False)"
   ]
  },
  {
   "cell_type": "markdown",
   "metadata": {
    "id": "tuh1flY-FjTR"
   },
   "source": [
    "##"
   ]
  },
  {
   "cell_type": "code",
   "execution_count": 19,
   "metadata": {
    "id": "AHLuheFYibJ9"
   },
   "outputs": [],
   "source": [
    "whole_dataset_train = Time_series_Dataset(whole_dataset_train)\n",
    "whole_dataloader_train_pl_AE = DataLoader(whole_dataset_train, batch_size = len(whole_dataset_train))"
   ]
  },
  {
   "cell_type": "code",
   "execution_count": 20,
   "metadata": {
    "id": "wHuTw_v1Dt93"
   },
   "outputs": [],
   "source": [
    "whole_dataset_test = create_dataset_for_autoencoder(test_df_pl, test_df_pl.columns, window_size)\n",
    "whole_dataset_test = Time_series_Dataset(whole_dataset_test)\n",
    "whole_dataloader_test_pl_AE = DataLoader(whole_dataset_test, batch_size = len(whole_dataset_test))"
   ]
  },
  {
   "cell_type": "code",
   "execution_count": 21,
   "metadata": {
    "id": "2Nitn99ZjjLc"
   },
   "outputs": [],
   "source": [
    "for whole_data, _ in whole_dataloader_train_pl_AE:\n",
    "\n",
    "    whole_data = whole_data.cuda()\n",
    "\n",
    "    whole_data = whole_data.permute(0,2,1)\n",
    "\n",
    "    pred = model(whole_data)\n",
    "\n",
    "    train_df_pl_AE = model.output\n",
    "    train_df_pl_AE = train_df_pl_AE.permute(0,2,1)"
   ]
  },
  {
   "cell_type": "code",
   "execution_count": 22,
   "metadata": {
    "id": "7WKM894cHQfM"
   },
   "outputs": [],
   "source": [
    "for whole_data, _ in whole_dataloader_test_pl_AE:\n",
    "\n",
    "    whole_data = whole_data.cuda()\n",
    "\n",
    "    whole_data = whole_data.permute(0,2,1)\n",
    "\n",
    "    pred = model(whole_data)\n",
    "\n",
    "    test_df_pl_AE = model.output\n",
    "    test_df_pl_AE = test_df_pl_AE.permute(0,2,1)"
   ]
  },
  {
   "cell_type": "code",
   "execution_count": 24,
   "metadata": {
    "colab": {
     "base_uri": "https://localhost:8080/"
    },
    "id": "p9Dbg4QFjndX",
    "outputId": "4b9a8c4b-1b13-420d-cfdb-d72e51886ce1"
   },
   "outputs": [
    {
     "data": {
      "text/plain": [
       "(torch.Size([6054, 24, 3]), torch.Size([1495, 24, 3]))"
      ]
     },
     "execution_count": 24,
     "metadata": {},
     "output_type": "execute_result"
    }
   ],
   "source": [
    "train_df_pl_AE.shape,test_df_pl_AE.shape"
   ]
  },
  {
   "cell_type": "markdown",
   "metadata": {
    "id": "qdFLVqnskRPF"
   },
   "source": [
    "Train none price-like indicators\n"
   ]
  },
  {
   "cell_type": "code",
   "execution_count": 25,
   "metadata": {
    "colab": {
     "base_uri": "https://localhost:8080/"
    },
    "id": "ccyqSP4OkRPI",
    "outputId": "fd651d79-e152-4c39-d4c6-d3824d5d1d32",
    "scrolled": true
   },
   "outputs": [
    {
     "name": "stdout",
     "output_type": "stream",
     "text": [
      "Training Process...\n",
      "Epoch 0 Loss: 1.1486008167266846\n",
      "Epoch 1 Loss: 1.0867913961410522\n",
      "Epoch 2 Loss: 1.0391358137130737\n",
      "Epoch 3 Loss: 0.9938610792160034\n",
      "Epoch 4 Loss: 0.9509565234184265\n",
      "Epoch 5 Loss: 0.9099475145339966\n",
      "Epoch 6 Loss: 0.8705334067344666\n",
      "Epoch 7 Loss: 0.8325475454330444\n",
      "Epoch 8 Loss: 0.7958366274833679\n",
      "Epoch 9 Loss: 0.7603757381439209\n",
      "Epoch 10 Loss: 0.7261000871658325\n",
      "Epoch 11 Loss: 0.6929289698600769\n",
      "Epoch 12 Loss: 0.6609315872192383\n",
      "Epoch 13 Loss: 0.6300684809684753\n",
      "Epoch 14 Loss: 0.6002873182296753\n",
      "Epoch 15 Loss: 0.5714935660362244\n",
      "Epoch 16 Loss: 0.543751060962677\n",
      "Epoch 17 Loss: 0.5170031189918518\n",
      "Epoch 18 Loss: 0.49122655391693115\n",
      "Epoch 19 Loss: 0.466405987739563\n",
      "Epoch 20 Loss: 0.442538321018219\n",
      "Epoch 21 Loss: 0.41958487033843994\n",
      "Epoch 22 Loss: 0.3975051939487457\n",
      "Epoch 23 Loss: 0.37629473209381104\n",
      "Epoch 24 Loss: 0.3559052348136902\n",
      "Epoch 25 Loss: 0.3363535702228546\n",
      "Epoch 26 Loss: 0.3175974190235138\n",
      "Epoch 27 Loss: 0.2996184825897217\n",
      "Epoch 28 Loss: 0.28238800168037415\n",
      "Epoch 29 Loss: 0.26589009165763855\n",
      "Epoch 30 Loss: 0.2500869929790497\n",
      "Epoch 31 Loss: 0.2349705845117569\n",
      "Epoch 32 Loss: 0.22051109373569489\n",
      "Epoch 33 Loss: 0.20672766864299774\n",
      "Epoch 34 Loss: 0.193581223487854\n",
      "Epoch 35 Loss: 0.1810610294342041\n",
      "Epoch 36 Loss: 0.1691429764032364\n",
      "Epoch 37 Loss: 0.15779581665992737\n",
      "Epoch 38 Loss: 0.14701396226882935\n",
      "Epoch 39 Loss: 0.13676917552947998\n",
      "Epoch 40 Loss: 0.1270400583744049\n",
      "Epoch 41 Loss: 0.11781135201454163\n",
      "Epoch 42 Loss: 0.10908903181552887\n",
      "Epoch 43 Loss: 0.10084021836519241\n",
      "Epoch 44 Loss: 0.0930563434958458\n",
      "Epoch 45 Loss: 0.08571746200323105\n",
      "Epoch 46 Loss: 0.07881132513284683\n",
      "Epoch 47 Loss: 0.07232106477022171\n",
      "Epoch 48 Loss: 0.06623634696006775\n",
      "Epoch 49 Loss: 0.06054805591702461\n",
      "Epoch 50 Loss: 0.05524551495909691\n",
      "Epoch 51 Loss: 0.0503188893198967\n",
      "Epoch 52 Loss: 0.045751918107271194\n",
      "Epoch 53 Loss: 0.041529957205057144\n",
      "Epoch 54 Loss: 0.03764506056904793\n",
      "Epoch 55 Loss: 0.03408636152744293\n",
      "Epoch 56 Loss: 0.03084183670580387\n",
      "Epoch 57 Loss: 0.027897443622350693\n",
      "Epoch 58 Loss: 0.025240199640393257\n",
      "Epoch 59 Loss: 0.022853313013911247\n",
      "Epoch 60 Loss: 0.02072271890938282\n",
      "Epoch 61 Loss: 0.018832731992006302\n",
      "Epoch 62 Loss: 0.017165815457701683\n",
      "Epoch 63 Loss: 0.015707893297076225\n",
      "Epoch 64 Loss: 0.01444493792951107\n",
      "Epoch 65 Loss: 0.01335684210062027\n",
      "Epoch 66 Loss: 0.01242742221802473\n",
      "Epoch 67 Loss: 0.01164011750370264\n",
      "Epoch 68 Loss: 0.010979646816849709\n",
      "Epoch 69 Loss: 0.010430354624986649\n",
      "Epoch 70 Loss: 0.009977414272725582\n",
      "Epoch 71 Loss: 0.009605958126485348\n",
      "Epoch 72 Loss: 0.009304708801209927\n",
      "Epoch 73 Loss: 0.009062405675649643\n",
      "Epoch 74 Loss: 0.008868735283613205\n",
      "Epoch 75 Loss: 0.008714179508388042\n",
      "Epoch 76 Loss: 0.00859147310256958\n",
      "Epoch 77 Loss: 0.008494321256875992\n",
      "Epoch 78 Loss: 0.008419292978942394\n",
      "Epoch 79 Loss: 0.008358513005077839\n",
      "Epoch 80 Loss: 0.00830911286175251\n",
      "Epoch 81 Loss: 0.008271368220448494\n",
      "Epoch 82 Loss: 0.008238553069531918\n",
      "Epoch 83 Loss: 0.008212234824895859\n",
      "Epoch 84 Loss: 0.008188647218048573\n",
      "Epoch 85 Loss: 0.008168952539563179\n",
      "Epoch 86 Loss: 0.008150508627295494\n",
      "Epoch 87 Loss: 0.00813222210854292\n",
      "Epoch 88 Loss: 0.008117576129734516\n",
      "Epoch 89 Loss: 0.00810192245990038\n",
      "Epoch 90 Loss: 0.008087558671832085\n",
      "Epoch 91 Loss: 0.00807507149875164\n",
      "Epoch 92 Loss: 0.008063042536377907\n",
      "Epoch 93 Loss: 0.008049850352108479\n",
      "Epoch 94 Loss: 0.008038979955017567\n",
      "Epoch 95 Loss: 0.008027956821024418\n",
      "Epoch 96 Loss: 0.008015635423362255\n",
      "Epoch 97 Loss: 0.00800349097698927\n",
      "Epoch 98 Loss: 0.00799220148473978\n",
      "Epoch 99 Loss: 0.007980501279234886\n",
      "Epoch 100 Loss: 0.007971986196935177\n",
      "Epoch 101 Loss: 0.007961921393871307\n",
      "Epoch 102 Loss: 0.007952572777867317\n",
      "Epoch 103 Loss: 0.007944046519696712\n",
      "Epoch 104 Loss: 0.007935433648526669\n",
      "Epoch 105 Loss: 0.007926120422780514\n",
      "Epoch 106 Loss: 0.00791704561561346\n",
      "Epoch 107 Loss: 0.007908313535153866\n",
      "Epoch 108 Loss: 0.007898913696408272\n",
      "Epoch 109 Loss: 0.007891288958489895\n",
      "Epoch 110 Loss: 0.00788424164056778\n",
      "Epoch 111 Loss: 0.007877282798290253\n",
      "Epoch 112 Loss: 0.007869924418628216\n",
      "Epoch 113 Loss: 0.007863348349928856\n",
      "Epoch 114 Loss: 0.007855664007365704\n",
      "Epoch 115 Loss: 0.007848000153899193\n",
      "Epoch 116 Loss: 0.007840166799724102\n",
      "Epoch 117 Loss: 0.007832108065485954\n",
      "Epoch 118 Loss: 0.007823915220797062\n",
      "Epoch 119 Loss: 0.007815364748239517\n",
      "Epoch 120 Loss: 0.007807701360434294\n",
      "Epoch 121 Loss: 0.00779971107840538\n",
      "Epoch 122 Loss: 0.007792668417096138\n",
      "Epoch 123 Loss: 0.007784713990986347\n",
      "Epoch 124 Loss: 0.007776761427521706\n",
      "Epoch 125 Loss: 0.007769759278744459\n",
      "Epoch 126 Loss: 0.00776170426979661\n",
      "Epoch 127 Loss: 0.007755115162581205\n",
      "Epoch 128 Loss: 0.0077478052116930485\n",
      "Epoch 129 Loss: 0.007739540189504623\n",
      "Epoch 130 Loss: 0.00773170031607151\n",
      "Epoch 131 Loss: 0.007724334020167589\n",
      "Epoch 132 Loss: 0.0077186101116240025\n",
      "Epoch 133 Loss: 0.007711886893957853\n",
      "Epoch 134 Loss: 0.007705210242420435\n",
      "Epoch 135 Loss: 0.007697874680161476\n",
      "Epoch 136 Loss: 0.007691268343478441\n",
      "Epoch 137 Loss: 0.007685939781367779\n",
      "Epoch 138 Loss: 0.007679531816393137\n",
      "Epoch 139 Loss: 0.007671688683331013\n",
      "Epoch 140 Loss: 0.007665290962904692\n",
      "Epoch 141 Loss: 0.007658237125724554\n",
      "Epoch 142 Loss: 0.00765110831707716\n",
      "Epoch 143 Loss: 0.0076437341049313545\n",
      "Epoch 144 Loss: 0.007637782022356987\n",
      "Epoch 145 Loss: 0.0076324064284563065\n",
      "Epoch 146 Loss: 0.007625051308423281\n",
      "Epoch 147 Loss: 0.0076193856075406075\n",
      "Epoch 148 Loss: 0.007613081950694323\n",
      "Epoch 149 Loss: 0.0076056839898228645\n",
      "Epoch 150 Loss: 0.0075998250395059586\n",
      "Epoch 151 Loss: 0.0075941430404782295\n",
      "Epoch 152 Loss: 0.007589781656861305\n",
      "Epoch 153 Loss: 0.007585620973259211\n",
      "Epoch 154 Loss: 0.007580827921628952\n",
      "Epoch 155 Loss: 0.00757576385512948\n",
      "Epoch 156 Loss: 0.007570863235741854\n",
      "Epoch 157 Loss: 0.007567108608782291\n",
      "Epoch 158 Loss: 0.007562948856502771\n",
      "Epoch 159 Loss: 0.007558933459222317\n",
      "Epoch 160 Loss: 0.007555818185210228\n",
      "Epoch 161 Loss: 0.00755138648673892\n",
      "Epoch 162 Loss: 0.007546850014477968\n",
      "Epoch 163 Loss: 0.007542358711361885\n",
      "Epoch 164 Loss: 0.007538038771599531\n",
      "Epoch 165 Loss: 0.007534458767622709\n",
      "Epoch 166 Loss: 0.007529983762651682\n",
      "Epoch 167 Loss: 0.007525797002017498\n",
      "Epoch 168 Loss: 0.007520756684243679\n",
      "Epoch 169 Loss: 0.007515734061598778\n",
      "Epoch 170 Loss: 0.00751158082857728\n",
      "Epoch 171 Loss: 0.007507227826863527\n",
      "Epoch 172 Loss: 0.007503108121454716\n",
      "Epoch 173 Loss: 0.007498878054320812\n",
      "Epoch 174 Loss: 0.007494187913835049\n",
      "Epoch 175 Loss: 0.007489005569368601\n",
      "Epoch 176 Loss: 0.007484839763492346\n",
      "Epoch 177 Loss: 0.007480291649699211\n",
      "Epoch 178 Loss: 0.007475301157683134\n",
      "Epoch 179 Loss: 0.007471039891242981\n",
      "Epoch 180 Loss: 0.007467419374734163\n",
      "Epoch 181 Loss: 0.007463672198355198\n",
      "Epoch 182 Loss: 0.007460090797394514\n",
      "Epoch 183 Loss: 0.007456572260707617\n",
      "Epoch 184 Loss: 0.007453340571373701\n",
      "Epoch 185 Loss: 0.00744980201125145\n",
      "Epoch 186 Loss: 0.007446851581335068\n",
      "Epoch 187 Loss: 0.007443413604050875\n",
      "Epoch 188 Loss: 0.0074405362829566\n",
      "Epoch 189 Loss: 0.007437625899910927\n",
      "Epoch 190 Loss: 0.007434716913849115\n",
      "Epoch 191 Loss: 0.007432666607201099\n",
      "Epoch 192 Loss: 0.007430367171764374\n",
      "Epoch 193 Loss: 0.007427875883877277\n",
      "Epoch 194 Loss: 0.007425451651215553\n",
      "Epoch 195 Loss: 0.007423465605825186\n",
      "Epoch 196 Loss: 0.007421014364808798\n",
      "Epoch 197 Loss: 0.007418751250952482\n",
      "Epoch 198 Loss: 0.007415458094328642\n",
      "Epoch 199 Loss: 0.007412897422909737\n"
     ]
    },
    {
     "data": {
      "image/png": "[encoded data removed]",
      "text/plain": [
       "<Figure size 640x480 with 1 Axes>"
      ]
     },
     "metadata": {},
     "output_type": "display_data"
    },
    {
     "name": "stdout",
     "output_type": "stream",
     "text": [
      "\n",
      "Training Process has finished\n",
      "#############################\n",
      "Evaluate the model...\n",
      "Loss: 0.0697316376257593\n",
      "Loss: 0.07159376347507132\n",
      "Loss: 0.0692320636599345\n",
      "Loss: 0.1483037998992992\n",
      "Loss: 0.09795009274154604\n",
      "Loss: 0.07535915669210484\n",
      "Loss: 0.06364077089163253\n",
      "Loss: 0.06024425968808303\n",
      "Loss: 0.06127759277588364\n",
      "Loss: 0.056171811916862366\n",
      "Loss: 0.06112003908986312\n",
      "Loss: 0.05598231779500809\n",
      "Loss: 0.07784905277442644\n",
      "Loss: 0.0669982447263063\n",
      "Loss: 0.0698417661532335\n",
      "Loss: 0.06339933025156962\n",
      "Loss: 0.06330508030667509\n",
      "Loss: 0.06845903284844362\n",
      "\n",
      "Evaluation has finished\n",
      "#############################\n",
      "Visualization...\n"
     ]
    },
    {
     "data": {
      "image/png": "[encoded data removed]",
      "text/plain": [
       "<Figure size 800x400 with 3 Axes>"
      ]
     },
     "metadata": {},
     "output_type": "display_data"
    }
   ],
   "source": [
    "model, dataset = AE_INDICATORS_OSCILLATORS(train_df_npl, train_df_npl.columns, window_size, train_size, batch_size, epochs, lr,\n",
    "                                           conv1_kernel_num = 9, conv1_kernel_size = 7, conv2_kernel_num = 6, conv2_kernel_size = 7,\n",
    "                                           conv3_kernel_num =3, conv3_kernel_size = 7,maxpool_kernel_size = 2, max_pool_stride = 2,\n",
    "                                           sanity= False)"
   ]
  },
  {
   "cell_type": "code",
   "execution_count": 26,
   "metadata": {
    "colab": {
     "base_uri": "https://localhost:8080/"
    },
    "id": "jNQeThHAkRPM",
    "outputId": "258630cb-96fc-4973-f900-ea1debcabcfd"
   },
   "outputs": [
    {
     "name": "stdout",
     "output_type": "stream",
     "text": [
      "Training Process...\n",
      "Epoch 0 Loss: 1.1543970108032227\n",
      "Epoch 1 Loss: 1.0918419361114502\n",
      "Epoch 2 Loss: 1.0360016822814941\n",
      "Epoch 3 Loss: 0.9833751916885376\n",
      "Epoch 4 Loss: 0.9341109395027161\n",
      "Epoch 5 Loss: 0.8878197073936462\n",
      "Epoch 6 Loss: 0.8435140252113342\n",
      "Epoch 7 Loss: 0.801330029964447\n",
      "Epoch 8 Loss: 0.7609766125679016\n",
      "Epoch 9 Loss: 0.7223142981529236\n",
      "Epoch 10 Loss: 0.68517005443573\n",
      "Epoch 11 Loss: 0.6494656801223755\n",
      "Epoch 12 Loss: 0.6151593923568726\n",
      "Epoch 13 Loss: 0.5822081565856934\n",
      "Epoch 14 Loss: 0.5505256056785583\n",
      "Epoch 15 Loss: 0.5201257467269897\n",
      "Epoch 16 Loss: 0.49097153544425964\n",
      "Epoch 17 Loss: 0.4630182385444641\n",
      "Epoch 18 Loss: 0.4362720847129822\n",
      "Epoch 19 Loss: 0.41067934036254883\n",
      "Epoch 20 Loss: 0.38618022203445435\n",
      "Epoch 21 Loss: 0.36276277899742126\n",
      "Epoch 22 Loss: 0.34041598439216614\n",
      "Epoch 23 Loss: 0.3190929591655731\n",
      "Epoch 24 Loss: 0.29876917600631714\n",
      "Epoch 25 Loss: 0.27942097187042236\n",
      "Epoch 26 Loss: 0.2609984278678894\n",
      "Epoch 27 Loss: 0.24348710477352142\n",
      "Epoch 28 Loss: 0.2268361896276474\n",
      "Epoch 29 Loss: 0.21102911233901978\n",
      "Epoch 30 Loss: 0.1960468739271164\n",
      "Epoch 31 Loss: 0.18185271322727203\n",
      "Epoch 32 Loss: 0.16842399537563324\n",
      "Epoch 33 Loss: 0.1557379513978958\n",
      "Epoch 34 Loss: 0.1437598019838333\n",
      "Epoch 35 Loss: 0.13247163593769073\n",
      "Epoch 36 Loss: 0.12182749807834625\n",
      "Epoch 37 Loss: 0.11182050406932831\n",
      "Epoch 38 Loss: 0.10241580009460449\n",
      "Epoch 39 Loss: 0.0936080664396286\n",
      "Epoch 40 Loss: 0.08535954356193542\n",
      "Epoch 41 Loss: 0.07765772193670273\n",
      "Epoch 42 Loss: 0.07048813998699188\n",
      "Epoch 43 Loss: 0.06383390724658966\n",
      "Epoch 44 Loss: 0.057670362293720245\n",
      "Epoch 45 Loss: 0.051985058933496475\n",
      "Epoch 46 Loss: 0.046753812581300735\n",
      "Epoch 47 Loss: 0.04196572303771973\n",
      "Epoch 48 Loss: 0.03760229051113129\n",
      "Epoch 49 Loss: 0.033646609634160995\n",
      "Epoch 50 Loss: 0.03007865883409977\n",
      "Epoch 51 Loss: 0.02687999978661537\n",
      "Epoch 52 Loss: 0.02403777837753296\n",
      "Epoch 53 Loss: 0.0215260349214077\n",
      "Epoch 54 Loss: 0.019322562962770462\n",
      "Epoch 55 Loss: 0.01740412414073944\n",
      "Epoch 56 Loss: 0.015751250088214874\n",
      "Epoch 57 Loss: 0.014340405352413654\n",
      "Epoch 58 Loss: 0.013149834237992764\n",
      "Epoch 59 Loss: 0.01215532049536705\n",
      "Epoch 60 Loss: 0.011331938207149506\n",
      "Epoch 61 Loss: 0.010660843923687935\n",
      "Epoch 62 Loss: 0.010118949227035046\n",
      "Epoch 63 Loss: 0.009688610211014748\n",
      "Epoch 64 Loss: 0.009349380619823933\n",
      "Epoch 65 Loss: 0.009085392579436302\n",
      "Epoch 66 Loss: 0.008882858790457249\n",
      "Epoch 67 Loss: 0.00872818659991026\n",
      "Epoch 68 Loss: 0.008609894663095474\n",
      "Epoch 69 Loss: 0.008520450443029404\n",
      "Epoch 70 Loss: 0.008452958427369595\n",
      "Epoch 71 Loss: 0.008400918915867805\n",
      "Epoch 72 Loss: 0.008361568674445152\n",
      "Epoch 73 Loss: 0.008329987525939941\n",
      "Epoch 74 Loss: 0.008304320275783539\n",
      "Epoch 75 Loss: 0.008285454474389553\n",
      "Epoch 76 Loss: 0.008268407545983791\n",
      "Epoch 77 Loss: 0.008253832347691059\n",
      "Epoch 78 Loss: 0.008238461799919605\n",
      "Epoch 79 Loss: 0.008225638419389725\n",
      "Epoch 80 Loss: 0.008213487453758717\n",
      "Epoch 81 Loss: 0.008202075958251953\n",
      "Epoch 82 Loss: 0.008191229775547981\n",
      "Epoch 83 Loss: 0.008181865327060223\n",
      "Epoch 84 Loss: 0.00817311741411686\n",
      "Epoch 85 Loss: 0.008164925500750542\n",
      "Epoch 86 Loss: 0.00815677735954523\n",
      "Epoch 87 Loss: 0.008148407563567162\n",
      "Epoch 88 Loss: 0.008140495978295803\n",
      "Epoch 89 Loss: 0.008133645169436932\n",
      "Epoch 90 Loss: 0.008125713095068932\n",
      "Epoch 91 Loss: 0.00811710674315691\n",
      "Epoch 92 Loss: 0.008109154179692268\n",
      "Epoch 93 Loss: 0.00810262467712164\n",
      "Epoch 94 Loss: 0.00809511262923479\n",
      "Epoch 95 Loss: 0.008088208734989166\n",
      "Epoch 96 Loss: 0.008081013336777687\n",
      "Epoch 97 Loss: 0.008073827251791954\n",
      "Epoch 98 Loss: 0.008068012073636055\n",
      "Epoch 99 Loss: 0.008061040192842484\n",
      "Epoch 100 Loss: 0.00805424340069294\n",
      "Epoch 101 Loss: 0.008047779090702534\n",
      "Epoch 102 Loss: 0.00804234016686678\n",
      "Epoch 103 Loss: 0.00803616177290678\n",
      "Epoch 104 Loss: 0.008030714467167854\n",
      "Epoch 105 Loss: 0.008024901151657104\n",
      "Epoch 106 Loss: 0.00801938772201538\n",
      "Epoch 107 Loss: 0.008013268932700157\n",
      "Epoch 108 Loss: 0.008007493801414967\n",
      "Epoch 109 Loss: 0.008001977577805519\n",
      "Epoch 110 Loss: 0.007995760068297386\n",
      "Epoch 111 Loss: 0.00799121055752039\n",
      "Epoch 112 Loss: 0.007986537180840969\n",
      "Epoch 113 Loss: 0.007983718067407608\n",
      "Epoch 114 Loss: 0.007980107329785824\n",
      "Epoch 115 Loss: 0.007976308465003967\n",
      "Epoch 116 Loss: 0.007972505874931812\n",
      "Epoch 117 Loss: 0.007967892102897167\n",
      "Epoch 118 Loss: 0.007962682284414768\n",
      "Epoch 119 Loss: 0.007957719266414642\n",
      "Epoch 120 Loss: 0.007953045889735222\n",
      "Epoch 121 Loss: 0.007948361337184906\n",
      "Epoch 122 Loss: 0.007942942902445793\n",
      "Epoch 123 Loss: 0.007938284426927567\n",
      "Epoch 124 Loss: 0.007933449931442738\n",
      "Epoch 125 Loss: 0.007928797975182533\n",
      "Epoch 126 Loss: 0.007923501543700695\n",
      "Epoch 127 Loss: 0.007918579503893852\n",
      "Epoch 128 Loss: 0.007914207875728607\n",
      "Epoch 129 Loss: 0.007908723317086697\n",
      "Epoch 130 Loss: 0.007904178462922573\n",
      "Epoch 131 Loss: 0.00789899192750454\n",
      "Epoch 132 Loss: 0.007893508300185204\n",
      "Epoch 133 Loss: 0.007886935025453568\n",
      "Epoch 134 Loss: 0.007881049066781998\n",
      "Epoch 135 Loss: 0.00787558313459158\n",
      "Epoch 136 Loss: 0.007869883440434933\n",
      "Epoch 137 Loss: 0.007865134626626968\n",
      "Epoch 138 Loss: 0.007861104793846607\n",
      "Epoch 139 Loss: 0.007856210693717003\n",
      "Epoch 140 Loss: 0.00785035640001297\n",
      "Epoch 141 Loss: 0.007845296524465084\n",
      "Epoch 142 Loss: 0.007840504869818687\n",
      "Epoch 143 Loss: 0.007836212404072285\n",
      "Epoch 144 Loss: 0.007831566035747528\n",
      "Epoch 145 Loss: 0.00782553106546402\n",
      "Epoch 146 Loss: 0.007819853723049164\n",
      "Epoch 147 Loss: 0.007814301177859306\n",
      "Epoch 148 Loss: 0.007809351198375225\n",
      "Epoch 149 Loss: 0.0078035276383161545\n",
      "Epoch 150 Loss: 0.007799424696713686\n",
      "Epoch 151 Loss: 0.007794048637151718\n",
      "Epoch 152 Loss: 0.007789627183228731\n",
      "Epoch 153 Loss: 0.007784320507198572\n",
      "Epoch 154 Loss: 0.007779840845614672\n",
      "Epoch 155 Loss: 0.007774843368679285\n",
      "Epoch 156 Loss: 0.007769015617668629\n",
      "Epoch 157 Loss: 0.007764084730297327\n",
      "Epoch 158 Loss: 0.007760017178952694\n",
      "Epoch 159 Loss: 0.007756071165204048\n",
      "Epoch 160 Loss: 0.007751940283924341\n",
      "Epoch 161 Loss: 0.007748092524707317\n",
      "Epoch 162 Loss: 0.007743663154542446\n",
      "Epoch 163 Loss: 0.00773999746888876\n",
      "Epoch 164 Loss: 0.007735805120319128\n",
      "Epoch 165 Loss: 0.007732369005680084\n",
      "Epoch 166 Loss: 0.007727455347776413\n",
      "Epoch 167 Loss: 0.007722589652985334\n",
      "Epoch 168 Loss: 0.007717515341937542\n",
      "Epoch 169 Loss: 0.007712986785918474\n",
      "Epoch 170 Loss: 0.007708448451012373\n",
      "Epoch 171 Loss: 0.007702976930886507\n",
      "Epoch 172 Loss: 0.007697926368564367\n",
      "Epoch 173 Loss: 0.007693704683333635\n",
      "Epoch 174 Loss: 0.00768963061273098\n",
      "Epoch 175 Loss: 0.0076861088164150715\n",
      "Epoch 176 Loss: 0.007682052440941334\n",
      "Epoch 177 Loss: 0.007677901536226273\n",
      "Epoch 178 Loss: 0.0076733967289328575\n",
      "Epoch 179 Loss: 0.007669948041439056\n",
      "Epoch 180 Loss: 0.007665910292416811\n",
      "Epoch 181 Loss: 0.007662140764296055\n",
      "Epoch 182 Loss: 0.007659461814910173\n",
      "Epoch 183 Loss: 0.007655942812561989\n",
      "Epoch 184 Loss: 0.007653426844626665\n",
      "Epoch 185 Loss: 0.007650265470147133\n",
      "Epoch 186 Loss: 0.007647103630006313\n",
      "Epoch 187 Loss: 0.007644109893590212\n",
      "Epoch 188 Loss: 0.007641030941158533\n",
      "Epoch 189 Loss: 0.007637697737663984\n",
      "Epoch 190 Loss: 0.007634271401911974\n",
      "Epoch 191 Loss: 0.007631921675056219\n",
      "Epoch 192 Loss: 0.0076288445852696896\n",
      "Epoch 193 Loss: 0.007625511381775141\n",
      "Epoch 194 Loss: 0.007621625438332558\n",
      "Epoch 195 Loss: 0.007618651259690523\n",
      "Epoch 196 Loss: 0.007615995593369007\n",
      "Epoch 197 Loss: 0.007613639812916517\n",
      "Epoch 198 Loss: 0.007611036766320467\n",
      "Epoch 199 Loss: 0.007608055602759123\n"
     ]
    },
    {
     "data": {
      "image/png": "[encoded data removed]",
      "text/plain": [
       "<Figure size 640x480 with 1 Axes>"
      ]
     },
     "metadata": {},
     "output_type": "display_data"
    },
    {
     "name": "stdout",
     "output_type": "stream",
     "text": [
      "\n",
      "Training Process has finished\n",
      "#############################\n"
     ]
    }
   ],
   "source": [
    "model, whole_dataset_train = AE_INDICATORS_OSCILLATORS(train_df_npl, train_df_npl.columns, window_size, 1.0, batch_size, epochs, lr,sanity= False)"
   ]
  },
  {
   "cell_type": "markdown",
   "metadata": {
    "id": "lrYG2Z9VJKwO"
   },
   "source": [
    "train and test data(None price like)"
   ]
  },
  {
   "cell_type": "code",
   "execution_count": 27,
   "metadata": {
    "id": "9MSBiCbSkRPN"
   },
   "outputs": [],
   "source": [
    "whole_dataset_train = Time_series_Dataset(whole_dataset_train)\n",
    "whole_dataloader_train_npl_AE = DataLoader(whole_dataset_train, batch_size = len(whole_dataset_train))"
   ]
  },
  {
   "cell_type": "code",
   "execution_count": 28,
   "metadata": {
    "id": "3R9PbUyUIdoa"
   },
   "outputs": [],
   "source": [
    "whole_dataset_test = create_dataset_for_autoencoder(test_df_npl, test_df_npl.columns, window_size)\n",
    "whole_dataset_test = Time_series_Dataset(whole_dataset_test)\n",
    "whole_dataloader_test_npl_AE = DataLoader(whole_dataset_test, batch_size = len(whole_dataset_test))"
   ]
  },
  {
   "cell_type": "code",
   "execution_count": 29,
   "metadata": {
    "id": "dJMqtao7kRPO"
   },
   "outputs": [],
   "source": [
    "for whole_data, _ in whole_dataloader_train_npl_AE:\n",
    "\n",
    "    whole_data = whole_data.cuda()\n",
    "\n",
    "    whole_data = whole_data.permute(0,2,1)\n",
    "\n",
    "    pred = model(whole_data)\n",
    "\n",
    "    train_df_npl_AE = model.output\n",
    "    train_df_npl_AE = train_df_npl_AE.permute(0,2,1)"
   ]
  },
  {
   "cell_type": "code",
   "execution_count": 30,
   "metadata": {
    "id": "nLTQYxhBkRPP"
   },
   "outputs": [],
   "source": [
    "for whole_data, _ in whole_dataloader_test_npl_AE:\n",
    "\n",
    "    whole_data = whole_data.cuda()\n",
    "\n",
    "    whole_data = whole_data.permute(0,2,1)\n",
    "\n",
    "    pred = model(whole_data)\n",
    "\n",
    "    test_df_npl_AE = model.output\n",
    "    test_df_npl_AE = test_df_npl_AE.permute(0,2,1)"
   ]
  },
  {
   "cell_type": "code",
   "execution_count": 31,
   "metadata": {
    "colab": {
     "base_uri": "https://localhost:8080/"
    },
    "id": "016XKfCHkRPQ",
    "outputId": "062c9a06-6fdf-4a24-dd8a-4023bb218004"
   },
   "outputs": [
    {
     "data": {
      "text/plain": [
       "(torch.Size([6054, 24, 3]), torch.Size([1495, 24, 3]))"
      ]
     },
     "execution_count": 31,
     "metadata": {},
     "output_type": "execute_result"
    }
   ],
   "source": [
    "train_df_npl_AE.shape,test_df_npl_AE.shape"
   ]
  },
  {
   "cell_type": "markdown",
   "metadata": {
    "id": "5hNWjRJjlsEk"
   },
   "source": [
    "Create dataset for OHLCVs and define its dataloader\n"
   ]
  },
  {
   "cell_type": "code",
   "execution_count": 32,
   "metadata": {
    "id": "AxlgLrHSl4Pu"
   },
   "outputs": [],
   "source": [
    "ohlcvdata = create_dataset_for_ohlcv(train_df_ohlcv, train_df_ohlcv.columns, ws = window_size)\n",
    "ohlcvdataset = Time_series_Dataset(ohlcvdata)\n",
    "train_df_ohlcv_dataloader_final = DataLoader(ohlcvdataset, batch_size = batch_size)"
   ]
  },
  {
   "cell_type": "code",
   "execution_count": 33,
   "metadata": {
    "id": "znwxETotLDbN"
   },
   "outputs": [],
   "source": [
    "ohlcvdata = create_dataset_for_ohlcv(test_df_ohlcv, test_df_ohlcv.columns, ws = window_size)\n",
    "ohlcvdataset = Time_series_Dataset(ohlcvdata)\n",
    "test_df_ohlcv_dataloader_final = DataLoader(ohlcvdataset, batch_size = len(ohlcvdataset))"
   ]
  },
  {
   "cell_type": "markdown",
   "metadata": {
    "id": "afxoFzbTmwZ3"
   },
   "source": [
    "Create dataloader for Price like and None price like datasets\n"
   ]
  },
  {
   "cell_type": "code",
   "execution_count": 34,
   "metadata": {
    "id": "RJ52Nv2Fvx7D"
   },
   "outputs": [],
   "source": [
    "train_df_pl_AE_dataloader_final = DataLoader(train_df_pl_AE,batch_size)\n",
    "train_df_npl_AE_dataloader_final = DataLoader(train_df_npl_AE,batch_size)\n",
    "\n",
    "test_df_pl_AE_dataloader_final = DataLoader(test_df_pl_AE,len(test_df_pl_AE))\n",
    "test_df_npl_AE_dataloader_final = DataLoader(test_df_npl_AE,len(test_df_npl_AE))"
   ]
  },
  {
   "cell_type": "markdown",
   "metadata": {
    "id": "pVmMP4G18Uwq"
   },
   "source": [
    "Checking dimensions"
   ]
  },
  {
   "cell_type": "code",
   "execution_count": 35,
   "metadata": {
    "colab": {
     "base_uri": "https://localhost:8080/"
    },
    "id": "5B4bLcly8ZsJ",
    "outputId": "f1cded8d-253c-4903-e0a8-3c4c41c19c0b"
   },
   "outputs": [
    {
     "data": {
      "text/plain": [
       "(torch.Size([32, 24, 6]),\n",
       " torch.Size([32, 24, 3]),\n",
       " torch.Size([32, 24, 3]),\n",
       " torch.Size([32, 1]))"
      ]
     },
     "execution_count": 35,
     "metadata": {},
     "output_type": "execute_result"
    }
   ],
   "source": [
    "for sample1, label_sample in train_df_ohlcv_dataloader_final:\n",
    "    break\n",
    "\n",
    "for sample2 in train_df_pl_AE_dataloader_final:\n",
    "    break\n",
    "\n",
    "for sample3 in train_df_npl_AE_dataloader_final:\n",
    "    break\n",
    "\n",
    "sample1.shape, sample2.shape, sample3.shape, label_sample.shape"
   ]
  },
  {
   "cell_type": "code",
   "execution_count": 36,
   "metadata": {
    "colab": {
     "base_uri": "https://localhost:8080/"
    },
    "id": "Lh57ic8qwAB7",
    "outputId": "d6eabd8a-0079-4905-f667-9f5ee1c2795a"
   },
   "outputs": [
    {
     "data": {
      "text/plain": [
       "(torch.Size([1495, 24, 6]),\n",
       " torch.Size([1495, 24, 3]),\n",
       " torch.Size([1495, 24, 3]),\n",
       " torch.Size([1495, 1]))"
      ]
     },
     "execution_count": 36,
     "metadata": {},
     "output_type": "execute_result"
    }
   ],
   "source": [
    "for sample4, label_sample_ in test_df_ohlcv_dataloader_final:\n",
    "    break\n",
    "\n",
    "for sample5 in test_df_pl_AE_dataloader_final:\n",
    "    break\n",
    "\n",
    "for sample6 in test_df_npl_AE_dataloader_final:\n",
    "    break\n",
    "\n",
    "sample4.shape, sample5.shape, sample6.shape, label_sample_.shape"
   ]
  },
  {
   "cell_type": "markdown",
   "metadata": {
    "id": "8dfcQetr9ZYI"
   },
   "source": [
    "Main Model Architecture"
   ]
  },
  {
   "cell_type": "code",
   "execution_count": 37,
   "metadata": {
    "id": "L7cy3J729b6o"
   },
   "outputs": [],
   "source": [
    "import torch.nn as nn\n",
    "import torch.nn.functional as F\n",
    "class three_line_network(nn.Module):\n",
    "\n",
    "  def __init__(self, channel_dim_OHLCV , channel_dim_INDICATORS, channel_dim_OSCILLATORS,\n",
    "               conv1_kernel_num_OHLCV , conv1_kernel_size_OHLCV, conv2_kernel_num_OHLCV, conv2_kernel_size_OHLCV,\n",
    "               conv1_kernel_num_IND , conv1_kernel_size_IND, conv2_kernel_num_IND, conv2_kernel_size_IND,\n",
    "               conv1_kernel_num_OSC , conv1_kernel_size_OSC, conv2_kernel_num_OSC, conv2_kernel_size_OSC,\n",
    "               maxpool_kernel_size, max_pool_stride, input_size, lstm_hidden_size, lstm_num_layers, batch_size, output_size):\n",
    "    \n",
    "\n",
    "    super().__init__()\n",
    "\n",
    "    ###OHLCV\n",
    "\n",
    "    self.channel_dim_OHLCV = channel_dim_OHLCV\n",
    "    self.conv1_kernel_num_OHLCV = conv1_kernel_num_OHLCV\n",
    "    self.conv1_kernel_size_OHLCV = conv1_kernel_size_OHLCV\n",
    "    self.conv2_kernel_num_OHLCV = conv2_kernel_num_OHLCV\n",
    "    self.conv2_kernel_size_OHLCV = conv2_kernel_size_OHLCV\n",
    "\n",
    "    ###INDICATORS\n",
    "\n",
    "    self.channel_dim_INDICATORS = channel_dim_INDICATORS\n",
    "    self.conv1_kernel_num_INDICATORS = conv1_kernel_num_IND\n",
    "    self.conv1_kernel_size_INDICATORS = conv1_kernel_size_IND\n",
    "    self.conv2_kernel_num_INDICATORS = conv2_kernel_num_IND\n",
    "    self.conv2_kernel_size_INDICATORS = conv2_kernel_size_IND\n",
    "\n",
    "    ###OSCILLATORS\n",
    "\n",
    "    self.channel_dim_OSCILLATORS = channel_dim_OSCILLATORS\n",
    "    self.conv1_kernel_num_OSCILLATORS = conv1_kernel_num_OSC\n",
    "    self.conv1_kernel_size_OSCILLATORS = conv1_kernel_size_OSC\n",
    "    self.conv2_kernel_num_OSCILLATORS = conv2_kernel_num_OSC\n",
    "    self.conv2_kernel_size_OSCILLATORS = conv2_kernel_size_OSC\n",
    "\n",
    "    ###LSTM\n",
    "\n",
    "    self.input_size = input_size\n",
    "    self.lstm_hidden_size = lstm_hidden_size\n",
    "    self.lstm_num_layers = lstm_num_layers\n",
    "\n",
    "    ###OTHERS\n",
    "\n",
    "    self.maxpool_kernel_size = maxpool_kernel_size\n",
    "    self.max_pool_stride = max_pool_stride\n",
    "    self.batch_size = batch_size\n",
    "    self.output_size = output_size\n",
    "\n",
    "\n",
    "\n",
    "    ##################################################### CONV_OHLCV Path ####################################################\n",
    "\n",
    "    self.conv1_OHLCV = nn.Conv1d(self.channel_dim_OHLCV, self.conv1_kernel_num_OHLCV, self.conv1_kernel_size_OHLCV, stride=1)\n",
    "    self.bn1_OHLCV = nn.BatchNorm1d(self.conv1_kernel_num_OHLCV)\n",
    "\n",
    "    self.conv2_OHLCV = nn.Conv1d(self.conv1_kernel_num_OHLCV, self.conv2_kernel_num_OHLCV, self.conv2_kernel_size_OHLCV, stride=1)\n",
    "    self.bn2_OHLCV = nn.BatchNorm1d(self.conv2_kernel_num_OHLCV)\n",
    "\n",
    "    ##################################################### CONV_INDICATORS Path #################################################\n",
    "\n",
    "    self.conv1_IND = nn.Conv1d(self.channel_dim_INDICATORS, self.conv1_kernel_num_INDICATORS, self.conv1_kernel_size_INDICATORS, stride=1)\n",
    "    self.bn1_IND = nn.BatchNorm1d(self.conv1_kernel_num_INDICATORS)\n",
    "\n",
    "    self.conv2_IND = nn.Conv1d(self.conv1_kernel_num_INDICATORS, self.conv2_kernel_num_INDICATORS, self.conv2_kernel_size_INDICATORS, stride=1)\n",
    "    self.bn2_IND = nn.BatchNorm1d(self.conv2_kernel_num_INDICATORS)   \n",
    "    \n",
    "    ##################################################### CONV_OSCILLATOR Path ##################################################\n",
    "\n",
    "    self.conv1_OSC = nn.Conv1d(self.channel_dim_OSCILLATORS, self.conv1_kernel_num_OSCILLATORS, self.conv1_kernel_size_OSCILLATORS, stride=1)\n",
    "    self.bn1_OSC = nn.BatchNorm1d(self.conv1_kernel_num_OSCILLATORS)\n",
    "\n",
    "    self.conv2_OSC = nn.Conv1d(self.conv1_kernel_num_OSCILLATORS, self.conv2_kernel_num_OSCILLATORS, self.conv2_kernel_size_OSCILLATORS, stride=1)\n",
    "    self.bn2_OSC = nn.BatchNorm1d(self.conv2_kernel_num_OSCILLATORS)\n",
    "\n",
    "\n",
    "    self.pool = nn.MaxPool1d(kernel_size = self.maxpool_kernel_size, stride = self.max_pool_stride)\n",
    "\n",
    "    ##################################################### LSTM ###################################################################\n",
    "\n",
    "    self.lstm = nn.LSTM(input_size=self.input_size, hidden_size=self.lstm_hidden_size, num_layers=self.lstm_num_layers, dropout=0.5)\n",
    "\n",
    "\n",
    "    self.hidden = (torch.zeros(self.lstm_num_layers, self.batch_size,self.lstm_hidden_size).cuda(),\n",
    "                   torch.zeros(self.lstm_num_layers, self.batch_size, self.lstm_hidden_size).cuda())\n",
    "    \n",
    "    \n",
    "    ##################################################### FC layers ###############################################################\n",
    "\n",
    "    self.fc1 = nn.Linear(self.lstm_hidden_size,10)\n",
    "    self.fc2 = nn.Linear(10,self.output_size)\n",
    "    \n",
    "    \n",
    "\n",
    "\n",
    "  def forward(self, OHLCV, INDS, OSCS):\n",
    "\n",
    "    #### OHLCV\n",
    "\n",
    "    #print(OHLCV.shape)\n",
    "\n",
    "    X = self.bn1_OHLCV(self.conv1_OHLCV(OHLCV))\n",
    "    X = F.relu(X)\n",
    "    X = self.pool(X)\n",
    "\n",
    "    #print(X.shape)\n",
    "\n",
    "    X = self.bn2_OHLCV(self.conv2_OHLCV(X))\n",
    "    X = F.relu(X)\n",
    "\n",
    "    #print(X.shape)\n",
    "\n",
    "\n",
    "\n",
    "    #### INDS\n",
    "\n",
    "    #print(INDS.shape)\n",
    "\n",
    "    Y = self.bn1_IND(self.conv1_IND(INDS))\n",
    "    Y = F.relu(Y)\n",
    "    Y = self.pool(Y)\n",
    "\n",
    "    #print(Y.shape)\n",
    "\n",
    "    Y = self.bn2_IND(self.conv2_IND(Y))\n",
    "    Y = F.relu(Y)\n",
    "\n",
    "    #print(Y.shape)\n",
    "\n",
    "\n",
    "\n",
    "    #### OSCS\n",
    "\n",
    "    #print(OSCS.shape)\n",
    "\n",
    "    Z = self.bn1_OSC(self.conv1_OSC(OSCS))\n",
    "    Z = F.relu(Z)\n",
    "    Z = self.pool(Z)\n",
    "\n",
    "    #print(Z.shape)\n",
    "\n",
    "    Z = self.bn2_OSC(self.conv2_OSC(Z))\n",
    "    Z = F.relu(Z)\n",
    "\n",
    "    #print(Z.shape)  \n",
    "\n",
    "    convs_output = torch.cat((X,Y,Z), dim=1) \n",
    "    \n",
    "\n",
    "    #print(convs_output.shape)\n",
    "\n",
    "    '''\n",
    "\n",
    "    input_size = The number of features of input sequence\n",
    "\n",
    "\n",
    "\n",
    "    input & (h_0,c_0) -> lstm unit\n",
    "\n",
    "    input   :  (seq_len, batch, input_size)\n",
    "    h_0,c_0 :  (num_layers * num_directions, batch, hidden_size)\n",
    "\n",
    "\n",
    "\n",
    "    lstm unit -> output & (h_n, c_n)\n",
    "\n",
    "    output  :  (seq_len, batch, num_directions * hidden_size)\n",
    "    h_n,c_n :  (num_layers * num_directions, batch, hidden_size)\n",
    "\n",
    "    '''\n",
    "\n",
    "    lstm_out, self.hidden = self.lstm(convs_output.permute(2,0,1), self.hidden)\n",
    "\n",
    "\n",
    "\n",
    "    fc = F.relu(self.fc1(lstm_out[-1,:,:]))\n",
    "    #print(fc.shape)\n",
    "    fc = self.fc2(fc)\n",
    "    #print(fc.shape)\n",
    "\n",
    "    return F.sigmoid(fc)\n",
    "    "
   ]
  },
  {
   "cell_type": "markdown",
   "metadata": {
    "id": "FqwdC8qtFrfy"
   },
   "source": [
    "Sanity Check"
   ]
  },
  {
   "cell_type": "code",
   "execution_count": 38,
   "metadata": {
    "id": "17BY5EO4gp5Q"
   },
   "outputs": [],
   "source": [
    "batch_size = 32\n",
    "epochs = 450\n",
    "lr = 0.0001"
   ]
  },
  {
   "cell_type": "code",
   "execution_count": 39,
   "metadata": {
    "colab": {
     "base_uri": "https://localhost:8080/"
    },
    "id": "aG_-6raXw-4m",
    "outputId": "cdbac1b0-d12d-46da-a123-20fcf3999d09"
   },
   "outputs": [
    {
     "data": {
      "text/plain": [
       "True"
      ]
     },
     "execution_count": 39,
     "metadata": {},
     "output_type": "execute_result"
    }
   ],
   "source": [
    "torch.cuda.is_available()"
   ]
  },
  {
   "cell_type": "code",
   "execution_count": 40,
   "metadata": {
    "id": "yCC6OOU8Frf5"
   },
   "outputs": [],
   "source": [
    "model = three_line_network(channel_dim_OHLCV=sample1.shape[-1],channel_dim_INDICATORS=sample2.shape[-1],channel_dim_OSCILLATORS=sample3.shape[-1],\n",
    "                           conv1_kernel_num_OHLCV=sample1.shape[-1],conv1_kernel_size_OHLCV=5,conv2_kernel_num_OHLCV=sample1.shape[-1],conv2_kernel_size_OHLCV=3,\n",
    "                           conv1_kernel_num_IND=sample2.shape[-1],conv1_kernel_size_IND=5,conv2_kernel_num_IND=sample2.shape[-1],conv2_kernel_size_IND=3,\n",
    "                           conv1_kernel_num_OSC=sample3.shape[-1],conv1_kernel_size_OSC=5,conv2_kernel_num_OSC=sample3.shape[-1],conv2_kernel_size_OSC=3,\n",
    "                           maxpool_kernel_size=2, max_pool_stride=2, input_size=12, lstm_hidden_size=20, lstm_num_layers=1, batch_size=batch_size, output_size=1)\n"
   ]
  },
  {
   "cell_type": "code",
   "execution_count": 41,
   "metadata": {
    "id": "Mgv8vAHeNgN4"
   },
   "outputs": [],
   "source": [
    "model.cuda()\n",
    "criterion = nn.BCELoss()\n",
    "optimizer = torch.optim.Adam(model.parameters(), lr = lr)"
   ]
  },
  {
   "cell_type": "code",
   "execution_count": 42,
   "metadata": {
    "id": "cUq7-F6wl-PO"
   },
   "outputs": [],
   "source": [
    "sample1_=sample1.permute(0,2,1)\n",
    "sample2_=sample2.permute(0,2,1)\n",
    "sample3_=sample3.permute(0,2,1)"
   ]
  },
  {
   "cell_type": "code",
   "execution_count": 43,
   "metadata": {
    "colab": {
     "base_uri": "https://localhost:8080/"
    },
    "id": "md7JK-vLFrf8",
    "outputId": "b1341128-d550-440c-9caa-353b3abe806a"
   },
   "outputs": [
    {
     "name": "stdout",
     "output_type": "stream",
     "text": [
      "Loss: 0.6936428546905518\n",
      "Loss: 0.6935762166976929\n",
      "Loss: 0.6935096979141235\n",
      "Loss: 0.6934434175491333\n",
      "Loss: 0.6933784484863281\n",
      "Loss: 0.6933144330978394\n",
      "Loss: 0.6932505369186401\n",
      "Loss: 0.6931882500648499\n",
      "Loss: 0.6931279897689819\n",
      "Loss: 0.6930674314498901\n",
      "Loss: 0.6930068731307983\n",
      "Loss: 0.6929458379745483\n",
      "Loss: 0.6928836107254028\n",
      "Loss: 0.6928215026855469\n",
      "Loss: 0.6927593946456909\n",
      "Loss: 0.6926978826522827\n",
      "Loss: 0.6926373839378357\n",
      "Loss: 0.6925770044326782\n",
      "Loss: 0.692517101764679\n",
      "Loss: 0.692457914352417\n",
      "Loss: 0.6924002170562744\n",
      "Loss: 0.6923429369926453\n",
      "Loss: 0.6922858953475952\n",
      "Loss: 0.6922308206558228\n",
      "Loss: 0.6921783685684204\n",
      "Loss: 0.6921259164810181\n",
      "Loss: 0.6920731067657471\n",
      "Loss: 0.6920205354690552\n",
      "Loss: 0.6919687986373901\n",
      "Loss: 0.6919171214103699\n",
      "Loss: 0.6918654441833496\n",
      "Loss: 0.6918144226074219\n",
      "Loss: 0.6917646527290344\n",
      "Loss: 0.6917145848274231\n",
      "Loss: 0.6916643381118774\n",
      "Loss: 0.6916136741638184\n",
      "Loss: 0.6915620565414429\n",
      "Loss: 0.6915099620819092\n",
      "Loss: 0.6914569139480591\n",
      "Loss: 0.691402792930603\n",
      "Loss: 0.6913483142852783\n",
      "Loss: 0.691293478012085\n",
      "Loss: 0.6912389993667603\n",
      "Loss: 0.691184401512146\n",
      "Loss: 0.6911298036575317\n",
      "Loss: 0.6910766363143921\n",
      "Loss: 0.6910245418548584\n",
      "Loss: 0.6909739375114441\n",
      "Loss: 0.6909239292144775\n",
      "Loss: 0.6908743381500244\n",
      "Loss: 0.6908249258995056\n",
      "Loss: 0.6907752752304077\n",
      "Loss: 0.6907253265380859\n",
      "Loss: 0.6906749606132507\n",
      "Loss: 0.6906244158744812\n",
      "Loss: 0.6905734539031982\n",
      "Loss: 0.690522313117981\n",
      "Loss: 0.6904712915420532\n",
      "Loss: 0.6904207468032837\n",
      "Loss: 0.6903698444366455\n",
      "Loss: 0.6903185844421387\n",
      "Loss: 0.6902669668197632\n",
      "Loss: 0.6902150511741638\n",
      "Loss: 0.6901630163192749\n",
      "Loss: 0.6901113390922546\n",
      "Loss: 0.6900591850280762\n",
      "Loss: 0.6900066137313843\n",
      "Loss: 0.6899536848068237\n",
      "Loss: 0.6899003386497498\n",
      "Loss: 0.6898469924926758\n",
      "Loss: 0.6897933483123779\n",
      "Loss: 0.6897401809692383\n",
      "Loss: 0.6896876096725464\n",
      "Loss: 0.6896347403526306\n",
      "Loss: 0.6895814538002014\n",
      "Loss: 0.6895281076431274\n",
      "Loss: 0.6894742250442505\n",
      "Loss: 0.6894199252128601\n",
      "Loss: 0.6893652677536011\n",
      "Loss: 0.6893100142478943\n",
      "Loss: 0.6892544031143188\n",
      "Loss: 0.6891965270042419\n",
      "Loss: 0.6891378164291382\n",
      "Loss: 0.6890780925750732\n",
      "Loss: 0.6890193819999695\n",
      "Loss: 0.6889594197273254\n",
      "Loss: 0.6888982057571411\n",
      "Loss: 0.6888357400894165\n",
      "Loss: 0.6887720823287964\n",
      "Loss: 0.6887044906616211\n",
      "Loss: 0.6886354684829712\n",
      "Loss: 0.6885651350021362\n",
      "Loss: 0.6884949207305908\n",
      "Loss: 0.6884258389472961\n",
      "Loss: 0.6883558630943298\n",
      "Loss: 0.6882849931716919\n",
      "Loss: 0.6882135272026062\n",
      "Loss: 0.6881407499313354\n",
      "Loss: 0.6880662441253662\n",
      "Loss: 0.6879909634590149\n",
      "Loss: 0.6879174113273621\n",
      "Loss: 0.6878446340560913\n",
      "Loss: 0.6877726912498474\n",
      "Loss: 0.6877015829086304\n",
      "Loss: 0.6876299977302551\n",
      "Loss: 0.6875573396682739\n",
      "Loss: 0.6874825358390808\n",
      "Loss: 0.6874110698699951\n",
      "Loss: 0.687338650226593\n",
      "Loss: 0.6872668862342834\n",
      "Loss: 0.6871919631958008\n",
      "Loss: 0.6871159076690674\n",
      "Loss: 0.687037467956543\n",
      "Loss: 0.6869568824768066\n",
      "Loss: 0.6868754625320435\n",
      "Loss: 0.686792254447937\n",
      "Loss: 0.6867074370384216\n",
      "Loss: 0.6866218447685242\n",
      "Loss: 0.6865339875221252\n",
      "Loss: 0.6864433288574219\n",
      "Loss: 0.6863492727279663\n",
      "Loss: 0.6862518787384033\n",
      "Loss: 0.6861506700515747\n",
      "Loss: 0.6860477328300476\n",
      "Loss: 0.685943067073822\n",
      "Loss: 0.6858379244804382\n",
      "Loss: 0.6857312321662903\n",
      "Loss: 0.6856247186660767\n",
      "Loss: 0.6855186223983765\n",
      "Loss: 0.6854081153869629\n",
      "Loss: 0.6852940320968628\n",
      "Loss: 0.6851745843887329\n",
      "Loss: 0.6850533485412598\n",
      "Loss: 0.6849302053451538\n",
      "Loss: 0.6848050355911255\n",
      "Loss: 0.6846803426742554\n",
      "Loss: 0.6845574975013733\n",
      "Loss: 0.6844414472579956\n",
      "Loss: 0.684321939945221\n",
      "Loss: 0.6842021942138672\n",
      "Loss: 0.6840802431106567\n",
      "Loss: 0.6839562058448792\n",
      "Loss: 0.6838333606719971\n",
      "Loss: 0.683712363243103\n",
      "Loss: 0.6835896968841553\n",
      "Loss: 0.6834631562232971\n",
      "Loss: 0.6833374500274658\n",
      "Loss: 0.6832101345062256\n",
      "Loss: 0.6830795407295227\n",
      "Loss: 0.6829458475112915\n",
      "Loss: 0.6828130483627319\n",
      "Loss: 0.6826828122138977\n",
      "Loss: 0.682557225227356\n",
      "Loss: 0.6824307441711426\n",
      "Loss: 0.6822946071624756\n",
      "Loss: 0.682157576084137\n",
      "Loss: 0.6820180416107178\n",
      "Loss: 0.6818757057189941\n",
      "Loss: 0.6817317008972168\n",
      "Loss: 0.6815855503082275\n",
      "Loss: 0.6814481019973755\n",
      "Loss: 0.6813095808029175\n",
      "Loss: 0.6811726689338684\n",
      "Loss: 0.6810393333435059\n",
      "Loss: 0.6809071898460388\n",
      "Loss: 0.6807719469070435\n",
      "Loss: 0.6806330680847168\n",
      "Loss: 0.6804928779602051\n",
      "Loss: 0.6803507208824158\n",
      "Loss: 0.6802105903625488\n",
      "Loss: 0.6800682544708252\n",
      "Loss: 0.6799273490905762\n",
      "Loss: 0.6797870397567749\n",
      "Loss: 0.6796483993530273\n",
      "Loss: 0.6795061826705933\n",
      "Loss: 0.6793621778488159\n",
      "Loss: 0.6792169809341431\n",
      "Loss: 0.6790693998336792\n",
      "Loss: 0.6789196729660034\n",
      "Loss: 0.6787685751914978\n",
      "Loss: 0.6786189675331116\n",
      "Loss: 0.6784669160842896\n",
      "Loss: 0.6783133149147034\n",
      "Loss: 0.6781599521636963\n",
      "Loss: 0.6780052185058594\n",
      "Loss: 0.6778438091278076\n",
      "Loss: 0.6776813268661499\n",
      "Loss: 0.6775187253952026\n",
      "Loss: 0.6773536205291748\n",
      "Loss: 0.6771878004074097\n",
      "Loss: 0.6770177483558655\n",
      "Loss: 0.6768469214439392\n",
      "Loss: 0.6766724586486816\n",
      "Loss: 0.6764946579933167\n",
      "Loss: 0.6763145923614502\n",
      "Loss: 0.6761346459388733\n",
      "Loss: 0.6759532690048218\n",
      "Loss: 0.6757693290710449\n",
      "Loss: 0.6755836606025696\n",
      "Loss: 0.6753960847854614\n",
      "Loss: 0.6752079725265503\n",
      "Loss: 0.6750184297561646\n",
      "Loss: 0.6748298406600952\n",
      "Loss: 0.6746374368667603\n",
      "Loss: 0.6744439601898193\n",
      "Loss: 0.6742578744888306\n",
      "Loss: 0.6740689277648926\n",
      "Loss: 0.6738755702972412\n",
      "Loss: 0.6736794114112854\n",
      "Loss: 0.6734817028045654\n",
      "Loss: 0.6732821464538574\n",
      "Loss: 0.6730924248695374\n",
      "Loss: 0.6728968620300293\n",
      "Loss: 0.6726980209350586\n",
      "Loss: 0.6724971532821655\n",
      "Loss: 0.6722944378852844\n",
      "Loss: 0.672091007232666\n",
      "Loss: 0.6718851923942566\n",
      "Loss: 0.6716822981834412\n",
      "Loss: 0.6714816689491272\n",
      "Loss: 0.6712778210639954\n",
      "Loss: 0.6710703372955322\n",
      "Loss: 0.6708597540855408\n",
      "Loss: 0.6706591844558716\n",
      "Loss: 0.6704506874084473\n",
      "Loss: 0.6702415347099304\n",
      "Loss: 0.6700296998023987\n",
      "Loss: 0.6698144674301147\n",
      "Loss: 0.6696006655693054\n",
      "Loss: 0.66938316822052\n",
      "Loss: 0.6691614389419556\n",
      "Loss: 0.6689397096633911\n",
      "Loss: 0.6687139272689819\n",
      "Loss: 0.6684838533401489\n",
      "Loss: 0.6682511568069458\n",
      "Loss: 0.6680170297622681\n",
      "Loss: 0.6677769422531128\n",
      "Loss: 0.6675316691398621\n",
      "Loss: 0.6672848463058472\n",
      "Loss: 0.6670376062393188\n",
      "Loss: 0.6667866110801697\n",
      "Loss: 0.6665276885032654\n",
      "Loss: 0.6662702560424805\n",
      "Loss: 0.666010320186615\n",
      "Loss: 0.6657265424728394\n",
      "Loss: 0.6654523611068726\n",
      "Loss: 0.6651622653007507\n",
      "Loss: 0.6648706793785095\n",
      "Loss: 0.664584219455719\n",
      "Loss: 0.6643023490905762\n",
      "Loss: 0.6640303134918213\n",
      "Loss: 0.6637457609176636\n",
      "Loss: 0.663449764251709\n",
      "Loss: 0.6631616353988647\n",
      "Loss: 0.662861168384552\n",
      "Loss: 0.6625492572784424\n",
      "Loss: 0.6622141599655151\n",
      "Loss: 0.6618821620941162\n",
      "Loss: 0.6615509986877441\n",
      "Loss: 0.6612014770507812\n",
      "Loss: 0.6608406901359558\n",
      "Loss: 0.660483717918396\n",
      "Loss: 0.6601162552833557\n",
      "Loss: 0.6597387194633484\n",
      "Loss: 0.6593613624572754\n",
      "Loss: 0.6590069532394409\n",
      "Loss: 0.658656120300293\n",
      "Loss: 0.6583094000816345\n",
      "Loss: 0.6579609513282776\n",
      "Loss: 0.6576123237609863\n",
      "Loss: 0.657260537147522\n",
      "Loss: 0.6569123268127441\n",
      "Loss: 0.656560480594635\n",
      "Loss: 0.65619957447052\n",
      "Loss: 0.6558191180229187\n",
      "Loss: 0.6554309129714966\n",
      "Loss: 0.655037522315979\n",
      "Loss: 0.6546383500099182\n",
      "Loss: 0.6542443037033081\n",
      "Loss: 0.6538429856300354\n",
      "Loss: 0.6534345746040344\n",
      "Loss: 0.6530160307884216\n",
      "Loss: 0.6525877118110657\n",
      "Loss: 0.6521492004394531\n",
      "Loss: 0.6517176628112793\n",
      "Loss: 0.6512575149536133\n",
      "Loss: 0.6508086323738098\n",
      "Loss: 0.650347888469696\n",
      "Loss: 0.6498576402664185\n",
      "Loss: 0.6493657827377319\n",
      "Loss: 0.6488897800445557\n",
      "Loss: 0.648399829864502\n",
      "Loss: 0.6479208469390869\n",
      "Loss: 0.6474324464797974\n",
      "Loss: 0.6469349265098572\n",
      "Loss: 0.6464593410491943\n",
      "Loss: 0.6459624171257019\n",
      "Loss: 0.645453155040741\n",
      "Loss: 0.6449620723724365\n",
      "Loss: 0.6444523930549622\n",
      "Loss: 0.6439790725708008\n",
      "Loss: 0.6434763669967651\n",
      "Loss: 0.6429408192634583\n",
      "Loss: 0.642448365688324\n",
      "Loss: 0.6419358849525452\n",
      "Loss: 0.6413965225219727\n",
      "Loss: 0.6408636569976807\n",
      "Loss: 0.6403272151947021\n",
      "Loss: 0.6397902369499207\n",
      "Loss: 0.639227569103241\n",
      "Loss: 0.6386386156082153\n",
      "Loss: 0.6380511522293091\n",
      "Loss: 0.6374814510345459\n",
      "Loss: 0.6368827223777771\n",
      "Loss: 0.6362689733505249\n",
      "Loss: 0.6356655359268188\n",
      "Loss: 0.6350447535514832\n",
      "Loss: 0.6344219446182251\n",
      "Loss: 0.6337807774543762\n",
      "Loss: 0.6331273317337036\n",
      "Loss: 0.6324814558029175\n",
      "Loss: 0.6318385004997253\n",
      "Loss: 0.6311659216880798\n",
      "Loss: 0.6304993033409119\n",
      "Loss: 0.6298240423202515\n",
      "Loss: 0.6291308999061584\n",
      "Loss: 0.6284372806549072\n",
      "Loss: 0.6277397871017456\n",
      "Loss: 0.6270239353179932\n",
      "Loss: 0.626304566860199\n",
      "Loss: 0.6256242990493774\n",
      "Loss: 0.6249449253082275\n",
      "Loss: 0.624256432056427\n"
     ]
    },
    {
     "name": "stdout",
     "output_type": "stream",
     "text": [
      "Loss: 0.6235615015029907\n",
      "Loss: 0.6228649616241455\n",
      "Loss: 0.6221493482589722\n",
      "Loss: 0.6214518547058105\n",
      "Loss: 0.6207466125488281\n",
      "Loss: 0.6200243234634399\n",
      "Loss: 0.6192995309829712\n",
      "Loss: 0.6185678243637085\n",
      "Loss: 0.6178258657455444\n",
      "Loss: 0.617095947265625\n",
      "Loss: 0.6163558959960938\n",
      "Loss: 0.6156295537948608\n",
      "Loss: 0.6148847937583923\n",
      "Loss: 0.6141220331192017\n",
      "Loss: 0.6133800745010376\n",
      "Loss: 0.6126104593276978\n",
      "Loss: 0.6118453741073608\n",
      "Loss: 0.6110714077949524\n",
      "Loss: 0.6102926135063171\n",
      "Loss: 0.609525203704834\n",
      "Loss: 0.6087486743927002\n",
      "Loss: 0.6079599261283875\n",
      "Loss: 0.6071648597717285\n",
      "Loss: 0.6063903570175171\n",
      "Loss: 0.6056089401245117\n",
      "Loss: 0.6048276424407959\n",
      "Loss: 0.6040393114089966\n",
      "Loss: 0.6032484769821167\n",
      "Loss: 0.6024596095085144\n",
      "Loss: 0.6016569137573242\n",
      "Loss: 0.6008673906326294\n",
      "Loss: 0.6000546813011169\n",
      "Loss: 0.5992565751075745\n",
      "Loss: 0.5984528064727783\n",
      "Loss: 0.5976336598396301\n",
      "Loss: 0.5968136787414551\n",
      "Loss: 0.5959886312484741\n",
      "Loss: 0.5951611995697021\n",
      "Loss: 0.5943307876586914\n",
      "Loss: 0.5934924483299255\n",
      "Loss: 0.5926612615585327\n",
      "Loss: 0.5918285846710205\n",
      "Loss: 0.5909785032272339\n",
      "Loss: 0.5901293754577637\n",
      "Loss: 0.5892770886421204\n",
      "Loss: 0.5884065628051758\n",
      "Loss: 0.5875686407089233\n",
      "Loss: 0.5867202281951904\n",
      "Loss: 0.5858497023582458\n",
      "Loss: 0.58497154712677\n",
      "Loss: 0.5841062664985657\n",
      "Loss: 0.5832312703132629\n",
      "Loss: 0.5823627710342407\n",
      "Loss: 0.5814809799194336\n",
      "Loss: 0.5806117057800293\n",
      "Loss: 0.5797139406204224\n",
      "Loss: 0.578833818435669\n",
      "Loss: 0.5779417753219604\n",
      "Loss: 0.577032744884491\n",
      "Loss: 0.576124906539917\n",
      "Loss: 0.5752153396606445\n",
      "Loss: 0.5742893815040588\n",
      "Loss: 0.5733662843704224\n",
      "Loss: 0.5724278688430786\n",
      "Loss: 0.5714860558509827\n",
      "Loss: 0.5705374479293823\n",
      "Loss: 0.5695705413818359\n",
      "Loss: 0.5687181949615479\n",
      "Loss: 0.567703127861023\n",
      "Loss: 0.5667407512664795\n",
      "Loss: 0.5658080577850342\n",
      "Loss: 0.564848780632019\n",
      "Loss: 0.563884973526001\n",
      "Loss: 0.5629146695137024\n",
      "Loss: 0.5619218349456787\n",
      "Loss: 0.5609341263771057\n",
      "Loss: 0.5599328875541687\n",
      "Loss: 0.5589244961738586\n",
      "Loss: 0.5579666495323181\n",
      "Loss: 0.5569232702255249\n",
      "Loss: 0.5559384822845459\n",
      "Loss: 0.5549359321594238\n",
      "Loss: 0.5539048910140991\n",
      "Loss: 0.5528662204742432\n",
      "Loss: 0.551828145980835\n",
      "Loss: 0.5507872700691223\n",
      "Loss: 0.5497443675994873\n",
      "Loss: 0.5487004518508911\n",
      "Loss: 0.5477014780044556\n",
      "Loss: 0.5466253757476807\n",
      "Loss: 0.5455698370933533\n",
      "Loss: 0.5445128679275513\n",
      "Loss: 0.5434511303901672\n",
      "Loss: 0.5423626899719238\n",
      "Loss: 0.5412801504135132\n",
      "Loss: 0.5401906967163086\n",
      "Loss: 0.5390894412994385\n",
      "Loss: 0.5380056500434875\n",
      "Loss: 0.5369062423706055\n",
      "Loss: 0.5358037948608398\n",
      "Loss: 0.5346799492835999\n",
      "Loss: 0.5335654020309448\n",
      "Loss: 0.5324687957763672\n",
      "Loss: 0.5313563346862793\n",
      "Loss: 0.5302395224571228\n",
      "Loss: 0.5291165113449097\n",
      "Loss: 0.5280144810676575\n",
      "Loss: 0.5268945097923279\n",
      "Loss: 0.5257610082626343\n",
      "Loss: 0.5246301889419556\n",
      "Loss: 0.5235016345977783\n",
      "Loss: 0.522370457649231\n",
      "Loss: 0.5212391018867493\n",
      "Loss: 0.5201115608215332\n",
      "Loss: 0.5189831256866455\n",
      "Loss: 0.5178204774856567\n",
      "Loss: 0.516684889793396\n",
      "Loss: 0.5155354738235474\n",
      "Loss: 0.5144165754318237\n",
      "Loss: 0.5132545232772827\n",
      "Loss: 0.5121151208877563\n",
      "Loss: 0.5109500885009766\n",
      "Loss: 0.5098305344581604\n",
      "Loss: 0.5086417198181152\n",
      "Loss: 0.5074867606163025\n",
      "Loss: 0.5063270330429077\n",
      "Loss: 0.5051558017730713\n",
      "Loss: 0.5040024518966675\n",
      "Loss: 0.5028458833694458\n",
      "Loss: 0.5016852617263794\n",
      "Loss: 0.5005398988723755\n",
      "Loss: 0.49939805269241333\n",
      "Loss: 0.4982600808143616\n",
      "Loss: 0.49705588817596436\n",
      "Loss: 0.4959459900856018\n",
      "Loss: 0.4947744607925415\n",
      "Loss: 0.493608295917511\n",
      "Loss: 0.49243760108947754\n",
      "Loss: 0.4913497269153595\n",
      "Loss: 0.4901360273361206\n",
      "Loss: 0.4890122711658478\n",
      "Loss: 0.48784130811691284\n",
      "Loss: 0.48664623498916626\n",
      "Loss: 0.48549574613571167\n",
      "Loss: 0.48435068130493164\n",
      "Loss: 0.4832024872303009\n",
      "Loss: 0.482022762298584\n",
      "Loss: 0.48085179924964905\n",
      "Loss: 0.4796765446662903\n",
      "Loss: 0.4784868359565735\n",
      "Loss: 0.47741544246673584\n",
      "Loss: 0.4761923551559448\n",
      "Loss: 0.4750858247280121\n",
      "Loss: 0.47398310899734497\n",
      "Loss: 0.4728115200996399\n",
      "Loss: 0.4715837240219116\n",
      "Loss: 0.4703252911567688\n",
      "Loss: 0.46920573711395264\n",
      "Loss: 0.467914879322052\n",
      "Loss: 0.46670377254486084\n",
      "Loss: 0.4655267596244812\n",
      "Loss: 0.4642907977104187\n",
      "Loss: 0.46303102374076843\n",
      "Loss: 0.46176475286483765\n",
      "Loss: 0.4606091380119324\n",
      "Loss: 0.4593336284160614\n",
      "Loss: 0.4581162631511688\n",
      "Loss: 0.4568983018398285\n",
      "Loss: 0.4556955099105835\n",
      "Loss: 0.45446422696113586\n",
      "Loss: 0.4532086253166199\n",
      "Loss: 0.4519796669483185\n",
      "Loss: 0.450783371925354\n",
      "Loss: 0.4495696723461151\n",
      "Loss: 0.4483857750892639\n",
      "Loss: 0.4471917450428009\n",
      "Loss: 0.4459722638130188\n",
      "Loss: 0.44480767846107483\n",
      "Loss: 0.443600058555603\n",
      "Loss: 0.4424406588077545\n",
      "Loss: 0.4412335157394409\n",
      "Loss: 0.44005608558654785\n",
      "Loss: 0.43883293867111206\n",
      "Loss: 0.437652051448822\n",
      "Loss: 0.4364970326423645\n",
      "Loss: 0.43529796600341797\n",
      "Loss: 0.43411785364151\n",
      "Loss: 0.4329862892627716\n",
      "Loss: 0.43178170919418335\n",
      "Loss: 0.4305872917175293\n",
      "Loss: 0.4294987916946411\n",
      "Loss: 0.4283400774002075\n",
      "Loss: 0.4272308647632599\n",
      "Loss: 0.4261068105697632\n",
      "Loss: 0.4249708354473114\n",
      "Loss: 0.42381829023361206\n",
      "Loss: 0.4226968586444855\n",
      "Loss: 0.4215696454048157\n",
      "Loss: 0.4204002618789673\n",
      "Loss: 0.41924577951431274\n",
      "Loss: 0.4181569218635559\n",
      "Loss: 0.41702157258987427\n",
      "Loss: 0.4159040153026581\n",
      "Loss: 0.41485536098480225\n",
      "Loss: 0.41372227668762207\n",
      "Loss: 0.4125661253929138\n",
      "Loss: 0.4114803075790405\n",
      "Loss: 0.41041386127471924\n",
      "Loss: 0.4092924892902374\n",
      "Loss: 0.4081805348396301\n",
      "Loss: 0.4071233868598938\n",
      "Loss: 0.4059632420539856\n",
      "Loss: 0.4049302637577057\n",
      "Loss: 0.40384095907211304\n",
      "Loss: 0.4027314782142639\n",
      "Loss: 0.40165576338768005\n",
      "Loss: 0.4005803167819977\n",
      "Loss: 0.39948156476020813\n",
      "Loss: 0.3984258770942688\n",
      "Loss: 0.39740264415740967\n",
      "Loss: 0.396287202835083\n",
      "Loss: 0.39523211121559143\n",
      "Loss: 0.3942086100578308\n",
      "Loss: 0.39310866594314575\n",
      "Loss: 0.39203116297721863\n",
      "Loss: 0.39092880487442017\n",
      "Loss: 0.38983219861984253\n",
      "Loss: 0.38873976469039917\n",
      "Loss: 0.3877095878124237\n",
      "Loss: 0.3865734040737152\n",
      "Loss: 0.3854808211326599\n",
      "Loss: 0.38442713022232056\n",
      "Loss: 0.3833668828010559\n",
      "Loss: 0.38223201036453247\n",
      "Loss: 0.38118427991867065\n",
      "Loss: 0.38016581535339355\n",
      "Loss: 0.3790278434753418\n",
      "Loss: 0.3780093789100647\n",
      "Loss: 0.3769448697566986\n",
      "Loss: 0.3757827877998352\n",
      "Loss: 0.3747453987598419\n",
      "Loss: 0.37369340658187866\n",
      "Loss: 0.3726094961166382\n",
      "Loss: 0.37153589725494385\n",
      "Loss: 0.3704602122306824\n",
      "Loss: 0.36947745084762573\n",
      "Loss: 0.3684599697589874\n",
      "Loss: 0.36742109060287476\n",
      "Loss: 0.3663448989391327\n",
      "Loss: 0.3652908205986023\n",
      "Loss: 0.36425215005874634\n",
      "Loss: 0.3632361888885498\n",
      "Loss: 0.3621930480003357\n",
      "Loss: 0.3611636161804199\n",
      "Loss: 0.3601268529891968\n",
      "Loss: 0.3591153025627136\n",
      "Loss: 0.35809165239334106\n",
      "Loss: 0.35714077949523926\n",
      "Loss: 0.3560076653957367\n",
      "Loss: 0.35500606894493103\n",
      "Loss: 0.3539882004261017\n",
      "Loss: 0.3529771864414215\n",
      "Loss: 0.35202300548553467\n",
      "Loss: 0.35101157426834106\n",
      "Loss: 0.349994957447052\n",
      "Loss: 0.34901806712150574\n",
      "Loss: 0.3480372428894043\n",
      "Loss: 0.34702032804489136\n",
      "Loss: 0.3459593653678894\n",
      "Loss: 0.3449709415435791\n",
      "Loss: 0.3439948558807373\n",
      "Loss: 0.3429926931858063\n",
      "Loss: 0.3419352173805237\n",
      "Loss: 0.34104135632514954\n",
      "Loss: 0.33999940752983093\n",
      "Loss: 0.3389701247215271\n",
      "Loss: 0.33795613050460815\n",
      "Loss: 0.337025910615921\n",
      "Loss: 0.3359774351119995\n",
      "Loss: 0.33500513434410095\n",
      "Loss: 0.3339717388153076\n",
      "Loss: 0.3329690098762512\n",
      "Loss: 0.3320143520832062\n",
      "Loss: 0.3310105502605438\n",
      "Loss: 0.33002763986587524\n",
      "Loss: 0.3289942741394043\n",
      "Loss: 0.32801181077957153\n",
      "Loss: 0.327009916305542\n",
      "Loss: 0.3260052800178528\n",
      "Loss: 0.3250672221183777\n",
      "Loss: 0.3240146338939667\n",
      "Loss: 0.3230351209640503\n",
      "Loss: 0.32207995653152466\n",
      "Loss: 0.3210805058479309\n",
      "Loss: 0.3201971650123596\n",
      "Loss: 0.31916773319244385\n",
      "Loss: 0.3183034360408783\n",
      "Loss: 0.3172089159488678\n",
      "Loss: 0.3163321018218994\n",
      "Loss: 0.31528744101524353\n",
      "Loss: 0.3143572211265564\n",
      "Loss: 0.31347355246543884\n",
      "Loss: 0.31249111890792847\n",
      "Loss: 0.31152546405792236\n",
      "Loss: 0.31048768758773804\n",
      "Loss: 0.30961084365844727\n",
      "Loss: 0.3086884021759033\n",
      "Loss: 0.3077676296234131\n",
      "Loss: 0.3068351149559021\n",
      "Loss: 0.3057366609573364\n",
      "Loss: 0.3049485683441162\n",
      "Loss: 0.30394595861434937\n",
      "Loss: 0.30291813611984253\n",
      "Loss: 0.3020325303077698\n",
      "Loss: 0.3010265827178955\n",
      "Loss: 0.3001483082771301\n",
      "Loss: 0.29916656017303467\n",
      "Loss: 0.29822567105293274\n",
      "Loss: 0.29726481437683105\n",
      "Loss: 0.2963823676109314\n",
      "Loss: 0.29539191722869873\n",
      "Loss: 0.294527143239975\n",
      "Loss: 0.29356104135513306\n",
      "Loss: 0.29261571168899536\n",
      "Loss: 0.2916751205921173\n",
      "Loss: 0.29079145193099976\n",
      "Loss: 0.2898402810096741\n",
      "Loss: 0.2888704240322113\n",
      "Loss: 0.2879917025566101\n",
      "Loss: 0.28706783056259155\n",
      "Loss: 0.2861461341381073\n",
      "Loss: 0.2852475047111511\n",
      "Loss: 0.2843114137649536\n"
     ]
    },
    {
     "name": "stdout",
     "output_type": "stream",
     "text": [
      "Loss: 0.28337356448173523\n",
      "Loss: 0.28245091438293457\n",
      "Loss: 0.2815753221511841\n",
      "Loss: 0.28061938285827637\n",
      "Loss: 0.27970388531684875\n",
      "Loss: 0.27877864241600037\n",
      "Loss: 0.2778910994529724\n",
      "Loss: 0.2769813537597656\n",
      "Loss: 0.27604377269744873\n",
      "Loss: 0.2752002477645874\n",
      "Loss: 0.2742158770561218\n",
      "Loss: 0.2733515799045563\n",
      "Loss: 0.27239713072776794\n",
      "Loss: 0.27150434255599976\n",
      "Loss: 0.2705843150615692\n",
      "Loss: 0.2697174847126007\n",
      "Loss: 0.2687038779258728\n",
      "Loss: 0.2677907943725586\n",
      "Loss: 0.26692697405815125\n",
      "Loss: 0.26597917079925537\n",
      "Loss: 0.2650492191314697\n",
      "Loss: 0.26415592432022095\n",
      "Loss: 0.263211727142334\n",
      "Loss: 0.2622913122177124\n",
      "Loss: 0.26144763827323914\n",
      "Loss: 0.26052039861679077\n",
      "Loss: 0.2596254050731659\n",
      "Loss: 0.25869637727737427\n",
      "Loss: 0.25786828994750977\n",
      "Loss: 0.25686395168304443\n",
      "Loss: 0.2560296654701233\n",
      "Loss: 0.255117803812027\n",
      "Loss: 0.2541258633136749\n",
      "Loss: 0.2531983554363251\n",
      "Loss: 0.2523733377456665\n",
      "Loss: 0.2515028715133667\n",
      "Loss: 0.2505517899990082\n",
      "Loss: 0.24961809813976288\n",
      "Loss: 0.24869468808174133\n",
      "Loss: 0.24769940972328186\n",
      "Loss: 0.2468995898962021\n",
      "Loss: 0.24599549174308777\n",
      "Loss: 0.24511928856372833\n",
      "Loss: 0.24412979185581207\n",
      "Loss: 0.24318480491638184\n",
      "Loss: 0.24226060509681702\n",
      "Loss: 0.2413426637649536\n",
      "Loss: 0.24040654301643372\n",
      "Loss: 0.23950447142124176\n",
      "Loss: 0.23858144879341125\n",
      "Loss: 0.23759418725967407\n",
      "Loss: 0.23672008514404297\n",
      "Loss: 0.23573037981987\n",
      "Loss: 0.2347734570503235\n",
      "Loss: 0.23387567698955536\n",
      "Loss: 0.23293879628181458\n",
      "Loss: 0.23194360733032227\n",
      "Loss: 0.23104703426361084\n",
      "Loss: 0.23010602593421936\n",
      "Loss: 0.22920863330364227\n",
      "Loss: 0.22822044789791107\n",
      "Loss: 0.22731029987335205\n",
      "Loss: 0.226362407207489\n",
      "Loss: 0.22540730237960815\n",
      "Loss: 0.22444844245910645\n",
      "Loss: 0.22355660796165466\n",
      "Loss: 0.22264572978019714\n",
      "Loss: 0.22163060307502747\n",
      "Loss: 0.22067943215370178\n",
      "Loss: 0.21972611546516418\n",
      "Loss: 0.21877562999725342\n",
      "Loss: 0.21779495477676392\n",
      "Loss: 0.21685591340065002\n",
      "Loss: 0.2159443199634552\n",
      "Loss: 0.21497979760169983\n",
      "Loss: 0.21405352652072906\n",
      "Loss: 0.21307845413684845\n",
      "Loss: 0.21219003200531006\n",
      "Loss: 0.21122318506240845\n",
      "Loss: 0.21019935607910156\n",
      "Loss: 0.20929889380931854\n",
      "Loss: 0.20837625861167908\n",
      "Loss: 0.207437202334404\n",
      "Loss: 0.2064935564994812\n",
      "Loss: 0.20551568269729614\n",
      "Loss: 0.2045561820268631\n",
      "Loss: 0.2036421000957489\n",
      "Loss: 0.20266589522361755\n",
      "Loss: 0.2017335444688797\n",
      "Loss: 0.20079673826694489\n",
      "Loss: 0.19989576935768127\n",
      "Loss: 0.19892574846744537\n",
      "Loss: 0.19795125722885132\n",
      "Loss: 0.19701559841632843\n",
      "Loss: 0.19605278968811035\n",
      "Loss: 0.1950874775648117\n",
      "Loss: 0.19417321681976318\n",
      "Loss: 0.19322483241558075\n",
      "Loss: 0.1922808736562729\n",
      "Loss: 0.1914009302854538\n",
      "Loss: 0.19040879607200623\n",
      "Loss: 0.18952661752700806\n",
      "Loss: 0.18863797187805176\n",
      "Loss: 0.18768568336963654\n",
      "Loss: 0.18677255511283875\n",
      "Loss: 0.18585187196731567\n",
      "Loss: 0.18495744466781616\n",
      "Loss: 0.18404406309127808\n",
      "Loss: 0.18318535387516022\n",
      "Loss: 0.1822715401649475\n",
      "Loss: 0.1813850998878479\n",
      "Loss: 0.1805080622434616\n",
      "Loss: 0.17960447072982788\n",
      "Loss: 0.17875516414642334\n",
      "Loss: 0.17788377404212952\n",
      "Loss: 0.1769663244485855\n",
      "Loss: 0.17611700296401978\n",
      "Loss: 0.17522577941417694\n",
      "Loss: 0.1743551343679428\n",
      "Loss: 0.17348048090934753\n",
      "Loss: 0.17262089252471924\n",
      "Loss: 0.17177075147628784\n",
      "Loss: 0.1709297001361847\n",
      "Loss: 0.1700628399848938\n",
      "Loss: 0.16921061277389526\n",
      "Loss: 0.1683989316225052\n",
      "Loss: 0.16757698357105255\n",
      "Loss: 0.16671940684318542\n",
      "Loss: 0.1659005582332611\n",
      "Loss: 0.1650473177433014\n",
      "Loss: 0.1642378568649292\n",
      "Loss: 0.1634196937084198\n",
      "Loss: 0.16260430216789246\n",
      "Loss: 0.1618202179670334\n",
      "Loss: 0.16096553206443787\n",
      "Loss: 0.160175621509552\n",
      "Loss: 0.15936771035194397\n",
      "Loss: 0.1585998684167862\n",
      "Loss: 0.15777301788330078\n",
      "Loss: 0.15702497959136963\n",
      "Loss: 0.156254380941391\n",
      "Loss: 0.15546350181102753\n",
      "Loss: 0.1547124683856964\n",
      "Loss: 0.15392839908599854\n",
      "Loss: 0.1531630903482437\n",
      "Loss: 0.1523895263671875\n",
      "Loss: 0.15164341032505035\n",
      "Loss: 0.15086062252521515\n",
      "Loss: 0.15016253292560577\n",
      "Loss: 0.14943718910217285\n",
      "Loss: 0.1486794799566269\n",
      "Loss: 0.14790822565555573\n",
      "Loss: 0.14721308648586273\n",
      "Loss: 0.14648067951202393\n",
      "Loss: 0.14572279155254364\n",
      "Loss: 0.14503368735313416\n",
      "Loss: 0.14431938529014587\n",
      "Loss: 0.14358538389205933\n",
      "Loss: 0.14288747310638428\n",
      "Loss: 0.14218100905418396\n",
      "Loss: 0.14147010445594788\n",
      "Loss: 0.14077335596084595\n",
      "Loss: 0.1400742381811142\n",
      "Loss: 0.1393856704235077\n",
      "Loss: 0.1387021839618683\n",
      "Loss: 0.1380133330821991\n",
      "Loss: 0.13734425604343414\n",
      "Loss: 0.13667312264442444\n",
      "Loss: 0.13600750267505646\n",
      "Loss: 0.13535279035568237\n",
      "Loss: 0.13469603657722473\n",
      "Loss: 0.1340600997209549\n",
      "Loss: 0.1334092915058136\n",
      "Loss: 0.13275659084320068\n",
      "Loss: 0.13214325904846191\n",
      "Loss: 0.13150951266288757\n",
      "Loss: 0.13086523115634918\n",
      "Loss: 0.13026273250579834\n",
      "Loss: 0.12963609397411346\n",
      "Loss: 0.12900039553642273\n",
      "Loss: 0.12839818000793457\n",
      "Loss: 0.12778103351593018\n",
      "Loss: 0.1271636188030243\n",
      "Loss: 0.12657472491264343\n",
      "Loss: 0.12598732113838196\n",
      "Loss: 0.1253737360239029\n",
      "Loss: 0.12477530539035797\n",
      "Loss: 0.12420216202735901\n",
      "Loss: 0.12362293154001236\n",
      "Loss: 0.12303303927183151\n",
      "Loss: 0.12244474142789841\n",
      "Loss: 0.12187433987855911\n",
      "Loss: 0.12130460143089294\n",
      "Loss: 0.12073282897472382\n",
      "Loss: 0.120175302028656\n",
      "Loss: 0.11961628496646881\n",
      "Loss: 0.11906631290912628\n",
      "Loss: 0.11850768327713013\n",
      "Loss: 0.11796625703573227\n",
      "Loss: 0.11742451786994934\n",
      "Loss: 0.11687793582677841\n",
      "Loss: 0.11634595692157745\n",
      "Loss: 0.11581660807132721\n",
      "Loss: 0.11528851091861725\n",
      "Loss: 0.11477349698543549\n",
      "Loss: 0.11425396800041199\n",
      "Loss: 0.11373498290777206\n",
      "Loss: 0.11322195827960968\n",
      "Loss: 0.11271204054355621\n",
      "Loss: 0.11221329867839813\n",
      "Loss: 0.11171993613243103\n",
      "Loss: 0.1112203449010849\n",
      "Loss: 0.11071948707103729\n",
      "Loss: 0.11022351682186127\n",
      "Loss: 0.10973402857780457\n",
      "Loss: 0.10925041139125824\n",
      "Loss: 0.1087767481803894\n",
      "Loss: 0.10829643905162811\n",
      "Loss: 0.1078176200389862\n",
      "Loss: 0.1073419600725174\n",
      "Loss: 0.10687246918678284\n",
      "Loss: 0.10640736669301987\n",
      "Loss: 0.10594246536493301\n",
      "Loss: 0.10547398030757904\n",
      "Loss: 0.10502015054225922\n",
      "Loss: 0.1045660674571991\n",
      "Loss: 0.10410855710506439\n",
      "Loss: 0.10365425050258636\n",
      "Loss: 0.103223517537117\n",
      "Loss: 0.10276202112436295\n",
      "Loss: 0.10232126712799072\n",
      "Loss: 0.10187998414039612\n",
      "Loss: 0.10144057869911194\n",
      "Loss: 0.10100953280925751\n",
      "Loss: 0.10057574510574341\n",
      "Loss: 0.10014898329973221\n",
      "Loss: 0.09972885251045227\n",
      "Loss: 0.09930192679166794\n",
      "Loss: 0.09888246655464172\n",
      "Loss: 0.09846650063991547\n",
      "Loss: 0.09805403649806976\n",
      "Loss: 0.0976407527923584\n",
      "Loss: 0.09722563624382019\n",
      "Loss: 0.09681123495101929\n",
      "Loss: 0.09639957547187805\n",
      "Loss: 0.0959920734167099\n",
      "Loss: 0.09558312594890594\n",
      "Loss: 0.09517906606197357\n",
      "Loss: 0.0947735458612442\n",
      "Loss: 0.09437023103237152\n",
      "Loss: 0.09397116303443909\n",
      "Loss: 0.09357061982154846\n",
      "Loss: 0.09317896515130997\n",
      "Loss: 0.09278538823127747\n",
      "Loss: 0.09239031374454498\n",
      "Loss: 0.0920032262802124\n",
      "Loss: 0.09161682426929474\n",
      "Loss: 0.09123443812131882\n",
      "Loss: 0.0908561646938324\n",
      "Loss: 0.09048022329807281\n",
      "Loss: 0.09010513126850128\n",
      "Loss: 0.08973496407270432\n",
      "Loss: 0.08936497569084167\n",
      "Loss: 0.08899544179439545\n",
      "Loss: 0.0886378139257431\n",
      "Loss: 0.0882725715637207\n",
      "Loss: 0.08791147917509079\n",
      "Loss: 0.08755035698413849\n",
      "Loss: 0.08720065653324127\n",
      "Loss: 0.08684192597866058\n",
      "Loss: 0.08648955821990967\n",
      "Loss: 0.08614165335893631\n",
      "Loss: 0.08579012006521225\n",
      "Loss: 0.085444375872612\n",
      "Loss: 0.08510016649961472\n",
      "Loss: 0.08475419878959656\n",
      "Loss: 0.08441633731126785\n",
      "Loss: 0.08407437056303024\n",
      "Loss: 0.08373303711414337\n",
      "Loss: 0.0833934098482132\n",
      "Loss: 0.08305493742227554\n",
      "Loss: 0.08271845430135727\n",
      "Loss: 0.08238498866558075\n",
      "Loss: 0.0820523202419281\n",
      "Loss: 0.08172151446342468\n",
      "Loss: 0.08139300346374512\n",
      "Loss: 0.08105869591236115\n",
      "Loss: 0.08072610199451447\n",
      "Loss: 0.08039388060569763\n",
      "Loss: 0.0800618901848793\n",
      "Loss: 0.07973016798496246\n",
      "Loss: 0.0793984979391098\n",
      "Loss: 0.07906874269247055\n",
      "Loss: 0.07874028384685516\n",
      "Loss: 0.078411765396595\n",
      "Loss: 0.07808562368154526\n",
      "Loss: 0.07776100933551788\n",
      "Loss: 0.07743728160858154\n",
      "Loss: 0.0771169364452362\n",
      "Loss: 0.0768016129732132\n",
      "Loss: 0.07648787647485733\n",
      "Loss: 0.07617516815662384\n",
      "Loss: 0.07586435973644257\n",
      "Loss: 0.07555480301380157\n",
      "Loss: 0.07524742186069489\n",
      "Loss: 0.0749429315328598\n",
      "Loss: 0.07464189827442169\n",
      "Loss: 0.07434117794036865\n",
      "Loss: 0.07404067367315292\n",
      "Loss: 0.07374292612075806\n",
      "Loss: 0.07344681024551392\n",
      "Loss: 0.07315081357955933\n",
      "Loss: 0.07285627722740173\n",
      "Loss: 0.07256413251161575\n",
      "Loss: 0.07227525115013123\n",
      "Loss: 0.07198686897754669\n",
      "Loss: 0.07170341163873672\n",
      "Loss: 0.07142110168933868\n",
      "Loss: 0.07114018499851227\n",
      "Loss: 0.07086127996444702\n",
      "Loss: 0.07058592885732651\n",
      "Loss: 0.0703110620379448\n",
      "Loss: 0.07003536820411682\n",
      "Loss: 0.06976334750652313\n",
      "Loss: 0.06949051469564438\n",
      "Loss: 0.06921933591365814\n",
      "Loss: 0.06895030289888382\n",
      "Loss: 0.0686846375465393\n",
      "Loss: 0.06841781735420227\n"
     ]
    },
    {
     "name": "stdout",
     "output_type": "stream",
     "text": [
      "Loss: 0.06815285235643387\n",
      "Loss: 0.06788831204175949\n",
      "Loss: 0.0676252469420433\n",
      "Loss: 0.06736413389444351\n",
      "Loss: 0.06710552424192429\n",
      "Loss: 0.06684766709804535\n",
      "Loss: 0.06659089028835297\n",
      "Loss: 0.06633584201335907\n",
      "Loss: 0.06608198583126068\n",
      "Loss: 0.0658290833234787\n",
      "Loss: 0.06557650119066238\n",
      "Loss: 0.06532296538352966\n",
      "Loss: 0.06507033854722977\n",
      "Loss: 0.06481669843196869\n",
      "Loss: 0.06456384062767029\n",
      "Loss: 0.0643112063407898\n",
      "Loss: 0.06406059861183167\n",
      "Loss: 0.0638105496764183\n",
      "Loss: 0.06356072425842285\n",
      "Loss: 0.06331291794776917\n",
      "Loss: 0.063067227602005\n",
      "Loss: 0.0628233477473259\n",
      "Loss: 0.06258033215999603\n",
      "Loss: 0.06233780086040497\n",
      "Loss: 0.062097176909446716\n",
      "Loss: 0.061857499182224274\n",
      "Loss: 0.0616191029548645\n",
      "Loss: 0.06138184666633606\n",
      "Loss: 0.06114592403173447\n",
      "Loss: 0.06091271713376045\n",
      "Loss: 0.06068135052919388\n",
      "Loss: 0.060457028448581696\n",
      "Loss: 0.060233667492866516\n",
      "Loss: 0.06001211702823639\n",
      "Loss: 0.059791240841150284\n",
      "Loss: 0.05957207828760147\n",
      "Loss: 0.05935428664088249\n",
      "Loss: 0.05913664400577545\n",
      "Loss: 0.05892019718885422\n",
      "Loss: 0.05870547890663147\n",
      "Loss: 0.058490682393312454\n",
      "Loss: 0.05827736854553223\n",
      "Loss: 0.058065127581357956\n",
      "Loss: 0.057854264974594116\n",
      "Loss: 0.057644110172986984\n",
      "Loss: 0.0574357733130455\n",
      "Loss: 0.057228587567806244\n",
      "Loss: 0.05702151358127594\n",
      "Loss: 0.056816332042217255\n",
      "Loss: 0.056612249463796616\n",
      "Loss: 0.05640915036201477\n",
      "Loss: 0.05620739609003067\n",
      "Loss: 0.05600597709417343\n",
      "Loss: 0.055804990231990814\n",
      "Loss: 0.055606044828891754\n",
      "Loss: 0.055406682193279266\n",
      "Loss: 0.055209267884492874\n",
      "Loss: 0.055012404918670654\n",
      "Loss: 0.05481637269258499\n",
      "Loss: 0.05462224781513214\n",
      "Loss: 0.05442880466580391\n",
      "Loss: 0.05423620343208313\n",
      "Loss: 0.05404488742351532\n",
      "Loss: 0.05385531485080719\n",
      "Loss: 0.05366716533899307\n",
      "Loss: 0.05348023399710655\n",
      "Loss: 0.05329303443431854\n",
      "Loss: 0.05310746282339096\n",
      "Loss: 0.0529225692152977\n",
      "Loss: 0.052738383412361145\n",
      "Loss: 0.05255500599741936\n",
      "Loss: 0.052372902631759644\n",
      "Loss: 0.05219186097383499\n",
      "Loss: 0.05201040580868721\n",
      "Loss: 0.051830776035785675\n",
      "Loss: 0.05165185034275055\n",
      "Loss: 0.05147428810596466\n",
      "Loss: 0.05129662901163101\n",
      "Loss: 0.051119472831487656\n",
      "Loss: 0.050943970680236816\n",
      "Loss: 0.05076877772808075\n",
      "Loss: 0.050595350563526154\n",
      "Loss: 0.050421349704265594\n",
      "Loss: 0.05024932697415352\n",
      "Loss: 0.05007743462920189\n",
      "Loss: 0.04990507289767265\n",
      "Loss: 0.04973367974162102\n",
      "Loss: 0.049563825130462646\n",
      "Loss: 0.049395252019166946\n",
      "Loss: 0.04922519996762276\n",
      "Loss: 0.04905747249722481\n",
      "Loss: 0.048890843987464905\n",
      "Loss: 0.04872434213757515\n",
      "Loss: 0.04855860024690628\n",
      "Loss: 0.048394154757261276\n",
      "Loss: 0.0482296459376812\n",
      "Loss: 0.048066817224025726\n",
      "Loss: 0.04790486395359039\n",
      "Loss: 0.04774428531527519\n",
      "Loss: 0.04758487641811371\n",
      "Loss: 0.04742596298456192\n",
      "Loss: 0.04726722836494446\n",
      "Loss: 0.04711048677563667\n",
      "Loss: 0.04695398733019829\n",
      "Loss: 0.046797171235084534\n",
      "Loss: 0.04664268717169762\n",
      "Loss: 0.04648774117231369\n",
      "Loss: 0.04633506387472153\n",
      "Loss: 0.046181563287973404\n",
      "Loss: 0.046028271317481995\n",
      "Loss: 0.04587675631046295\n",
      "Loss: 0.04572506621479988\n",
      "Loss: 0.04557410627603531\n",
      "Loss: 0.04542486369609833\n",
      "Loss: 0.04527534916996956\n",
      "Loss: 0.045126624405384064\n",
      "Loss: 0.04497943073511124\n",
      "Loss: 0.04483255743980408\n",
      "Loss: 0.04468606412410736\n",
      "Loss: 0.04454038664698601\n",
      "Loss: 0.04439570754766464\n",
      "Loss: 0.04425106942653656\n",
      "Loss: 0.04410743713378906\n",
      "Loss: 0.043964140117168427\n",
      "Loss: 0.04382224380970001\n",
      "Loss: 0.0436803475022316\n",
      "Loss: 0.043540552258491516\n",
      "Loss: 0.04340043291449547\n",
      "Loss: 0.0432601273059845\n",
      "Loss: 0.04312199354171753\n",
      "Loss: 0.04298454895615578\n",
      "Loss: 0.04284646362066269\n",
      "Loss: 0.042710065841674805\n",
      "Loss: 0.04257460683584213\n",
      "Loss: 0.042439404875040054\n",
      "Loss: 0.042306117713451385\n",
      "Loss: 0.042174745351076126\n",
      "Loss: 0.042044177651405334\n",
      "Loss: 0.04191483184695244\n",
      "Loss: 0.04178573191165924\n",
      "Loss: 0.0416577011346817\n",
      "Loss: 0.041530560702085495\n",
      "Loss: 0.041403502225875854\n",
      "Loss: 0.04127670079469681\n",
      "Loss: 0.04115111008286476\n",
      "Loss: 0.04102502390742302\n",
      "Loss: 0.04090072214603424\n",
      "Loss: 0.040776558220386505\n",
      "Loss: 0.040652625262737274\n",
      "Loss: 0.040529340505599976\n",
      "Loss: 0.04040664806962013\n",
      "Loss: 0.04028483107686043\n",
      "Loss: 0.0401635468006134\n",
      "Loss: 0.040042586624622345\n",
      "Loss: 0.039923034608364105\n",
      "Loss: 0.03980301320552826\n",
      "Loss: 0.03968317434191704\n",
      "Loss: 0.0395643450319767\n",
      "Loss: 0.039445579051971436\n",
      "Loss: 0.03932778909802437\n",
      "Loss: 0.03921090438961983\n",
      "Loss: 0.0390944667160511\n",
      "Loss: 0.03897811472415924\n",
      "Loss: 0.038863614201545715\n",
      "Loss: 0.03874875605106354\n",
      "Loss: 0.03863372653722763\n",
      "Loss: 0.038521163165569305\n",
      "Loss: 0.0384083166718483\n",
      "Loss: 0.03829576447606087\n",
      "Loss: 0.03818264231085777\n",
      "Loss: 0.03807158023118973\n",
      "Loss: 0.0379621759057045\n",
      "Loss: 0.037852197885513306\n",
      "Loss: 0.03774306923151016\n",
      "Loss: 0.03763437643647194\n",
      "Loss: 0.037525542080402374\n",
      "Loss: 0.03741803392767906\n",
      "Loss: 0.037309978157281876\n",
      "Loss: 0.03720399737358093\n",
      "Loss: 0.03709784895181656\n",
      "Loss: 0.03699237108230591\n",
      "Loss: 0.03688658028841019\n",
      "Loss: 0.036780886352062225\n",
      "Loss: 0.03667691349983215\n",
      "Loss: 0.03657326102256775\n",
      "Loss: 0.036469392478466034\n",
      "Loss: 0.03636584430932999\n",
      "Loss: 0.036263711750507355\n",
      "Loss: 0.03616112470626831\n",
      "Loss: 0.03605967015028\n",
      "Loss: 0.035958364605903625\n",
      "Loss: 0.03585704043507576\n",
      "Loss: 0.035756345838308334\n",
      "Loss: 0.03565629571676254\n",
      "Loss: 0.03555627167224884\n",
      "Loss: 0.035457611083984375\n",
      "Loss: 0.03535853326320648\n",
      "Loss: 0.03526041656732559\n",
      "Loss: 0.03516281023621559\n",
      "Loss: 0.03506473824381828\n",
      "Loss: 0.03496880084276199\n",
      "Loss: 0.034872740507125854\n",
      "Loss: 0.034776411950588226\n",
      "Loss: 0.03468167036771774\n",
      "Loss: 0.03458642214536667\n",
      "Loss: 0.03449275344610214\n",
      "Loss: 0.03439956158399582\n",
      "Loss: 0.03430571034550667\n",
      "Loss: 0.03421285003423691\n",
      "Loss: 0.034119684249162674\n",
      "Loss: 0.03402663767337799\n",
      "Loss: 0.03393450379371643\n",
      "Loss: 0.0338420569896698\n",
      "Loss: 0.033749356865882874\n",
      "Loss: 0.0336579829454422\n",
      "Loss: 0.03356719762086868\n",
      "Loss: 0.033476538956165314\n",
      "Loss: 0.033385369926691055\n",
      "Loss: 0.03329526633024216\n",
      "Loss: 0.033205002546310425\n",
      "Loss: 0.03311562538146973\n",
      "Loss: 0.03302691876888275\n",
      "Loss: 0.032938309013843536\n",
      "Loss: 0.03285006806254387\n",
      "Loss: 0.032762251794338226\n",
      "Loss: 0.03267461806535721\n",
      "Loss: 0.03258753567934036\n",
      "Loss: 0.03250119835138321\n",
      "Loss: 0.032414812594652176\n",
      "Loss: 0.032328926026821136\n",
      "Loss: 0.03224266320466995\n",
      "Loss: 0.03215790539979935\n",
      "Loss: 0.032072462141513824\n",
      "Loss: 0.03198821842670441\n",
      "Loss: 0.03190461918711662\n",
      "Loss: 0.031821224838495255\n",
      "Loss: 0.0317363478243351\n",
      "Loss: 0.03165237978100777\n",
      "Loss: 0.031568653881549835\n",
      "Loss: 0.031486090272665024\n",
      "Loss: 0.03140457719564438\n",
      "Loss: 0.031322233378887177\n",
      "Loss: 0.031239714473485947\n",
      "Loss: 0.031159205362200737\n",
      "Loss: 0.031076107174158096\n",
      "Loss: 0.030995232984423637\n",
      "Loss: 0.030914219096302986\n",
      "Loss: 0.030833255499601364\n",
      "Loss: 0.03075258433818817\n",
      "Loss: 0.030672293156385422\n",
      "Loss: 0.030593471601605415\n",
      "Loss: 0.03051329217851162\n",
      "Loss: 0.03043283149600029\n",
      "Loss: 0.030357103794813156\n",
      "Loss: 0.030276909470558167\n",
      "Loss: 0.030199294909834862\n",
      "Loss: 0.030121594667434692\n",
      "Loss: 0.030043411999940872\n",
      "Loss: 0.029966222122311592\n",
      "Loss: 0.029889408499002457\n",
      "Loss: 0.02981177717447281\n",
      "Loss: 0.029734894633293152\n",
      "Loss: 0.029658669605851173\n",
      "Loss: 0.029582597315311432\n",
      "Loss: 0.029507599771022797\n",
      "Loss: 0.029432140290737152\n",
      "Loss: 0.02935689687728882\n",
      "Loss: 0.02928406372666359\n",
      "Loss: 0.02920842543244362\n",
      "Loss: 0.02913518063724041\n",
      "Loss: 0.029062028974294662\n",
      "Loss: 0.028987813740968704\n",
      "Loss: 0.028913702815771103\n",
      "Loss: 0.028842037543654442\n",
      "Loss: 0.028766993433237076\n",
      "Loss: 0.02869599312543869\n",
      "Loss: 0.028624508529901505\n",
      "Loss: 0.028551727533340454\n",
      "Loss: 0.028478551656007767\n",
      "Loss: 0.028406063094735146\n",
      "Loss: 0.028335820883512497\n",
      "Loss: 0.028263507410883904\n",
      "Loss: 0.028192024677991867\n",
      "Loss: 0.028121836483478546\n",
      "Loss: 0.028051888570189476\n",
      "Loss: 0.027980543673038483\n",
      "Loss: 0.027910495176911354\n",
      "Loss: 0.02784115821123123\n",
      "Loss: 0.02777216210961342\n",
      "Loss: 0.02770194411277771\n",
      "Loss: 0.027633141726255417\n",
      "Loss: 0.027564499527215958\n",
      "Loss: 0.027495352551341057\n",
      "Loss: 0.027426131069660187\n",
      "Loss: 0.02735855057835579\n",
      "Loss: 0.027290457859635353\n",
      "Loss: 0.027223000302910805\n",
      "Loss: 0.027155596762895584\n",
      "Loss: 0.027088001370429993\n",
      "Loss: 0.027020864188671112\n",
      "Loss: 0.026953307911753654\n",
      "Loss: 0.02688734233379364\n",
      "Loss: 0.026819713413715363\n",
      "Loss: 0.026753492653369904\n",
      "Loss: 0.026687249541282654\n",
      "Loss: 0.026621587574481964\n",
      "Loss: 0.02655605785548687\n",
      "Loss: 0.026490122079849243\n",
      "Loss: 0.02642492763698101\n",
      "Loss: 0.026360657066106796\n",
      "Loss: 0.026295730844140053\n",
      "Loss: 0.026230964809656143\n",
      "Loss: 0.026166286319494247\n",
      "Loss: 0.026102066040039062\n",
      "Loss: 0.02603762224316597\n",
      "Loss: 0.025974536314606667\n",
      "Loss: 0.025911344215273857\n",
      "Loss: 0.025847727432847023\n",
      "Loss: 0.02578393928706646\n",
      "Loss: 0.025720851495862007\n",
      "Loss: 0.025658760219812393\n",
      "Loss: 0.02559489943087101\n",
      "Loss: 0.025533415377140045\n",
      "Loss: 0.025471266359090805\n",
      "Loss: 0.025408737361431122\n",
      "Loss: 0.025346003472805023\n",
      "Loss: 0.025284677743911743\n",
      "Loss: 0.025223055854439735\n",
      "Loss: 0.025162044912576675\n"
     ]
    },
    {
     "name": "stdout",
     "output_type": "stream",
     "text": [
      "Loss: 0.025100499391555786\n",
      "Loss: 0.025039441883563995\n",
      "Loss: 0.02497853897511959\n",
      "Loss: 0.02491772174835205\n",
      "Loss: 0.024857264012098312\n",
      "Loss: 0.024797003716230392\n",
      "Loss: 0.024737000465393066\n",
      "Loss: 0.024677973240613937\n",
      "Loss: 0.024617396295070648\n",
      "Loss: 0.024558817967772484\n",
      "Loss: 0.024499692022800446\n",
      "Loss: 0.02444026619195938\n",
      "Loss: 0.024381842464208603\n",
      "Loss: 0.024322576820850372\n",
      "Loss: 0.024264026433229446\n",
      "Loss: 0.024206066504120827\n",
      "Loss: 0.024147585034370422\n",
      "Loss: 0.024089597165584564\n",
      "Loss: 0.024032339453697205\n",
      "Loss: 0.02397526055574417\n",
      "Loss: 0.023918136954307556\n",
      "Loss: 0.023860689252614975\n",
      "Loss: 0.02380369044840336\n",
      "Loss: 0.023746073246002197\n",
      "Loss: 0.023690033704042435\n",
      "Loss: 0.023634381592273712\n",
      "Loss: 0.023577718064188957\n",
      "Loss: 0.0235213004052639\n",
      "Loss: 0.02346544712781906\n",
      "Loss: 0.023410383611917496\n",
      "Loss: 0.02335473522543907\n",
      "Loss: 0.023299437016248703\n",
      "Loss: 0.023243777453899384\n",
      "Loss: 0.02318883128464222\n",
      "Loss: 0.02313428744673729\n",
      "Loss: 0.02307974547147751\n",
      "Loss: 0.02302531525492668\n",
      "Loss: 0.022971302270889282\n",
      "Loss: 0.02291741594672203\n",
      "Loss: 0.02286359667778015\n",
      "Loss: 0.022809525951743126\n",
      "Loss: 0.022756867110729218\n",
      "Loss: 0.022703390568494797\n",
      "Loss: 0.02265045791864395\n",
      "Loss: 0.02259760908782482\n",
      "Loss: 0.02254471555352211\n",
      "Loss: 0.022492092102766037\n",
      "Loss: 0.022439414635300636\n",
      "Loss: 0.022387109696865082\n",
      "Loss: 0.022334787994623184\n",
      "Loss: 0.022282999008893967\n",
      "Loss: 0.02223079651594162\n",
      "Loss: 0.02217875048518181\n",
      "Loss: 0.022126952186226845\n",
      "Loss: 0.02207525074481964\n",
      "Loss: 0.022024421021342278\n",
      "Loss: 0.021973419934511185\n",
      "Loss: 0.021921992301940918\n",
      "Loss: 0.021870484575629234\n",
      "Loss: 0.021820444613695145\n",
      "Loss: 0.021769102662801743\n",
      "Loss: 0.021718867123126984\n",
      "Loss: 0.021668924018740654\n",
      "Loss: 0.02161855250597\n",
      "Loss: 0.02156861498951912\n",
      "Loss: 0.021518882364034653\n",
      "Loss: 0.021469229832291603\n",
      "Loss: 0.02141965553164482\n",
      "Loss: 0.021370207890868187\n",
      "Loss: 0.021320709958672523\n",
      "Loss: 0.02127159759402275\n",
      "Loss: 0.021222621202468872\n",
      "Loss: 0.0211742352694273\n",
      "Loss: 0.021125473082065582\n",
      "Loss: 0.021076932549476624\n",
      "Loss: 0.02102861925959587\n",
      "Loss: 0.020980460569262505\n",
      "Loss: 0.020932277664542198\n",
      "Loss: 0.02088429592549801\n",
      "Loss: 0.02083641104400158\n",
      "Loss: 0.020789284259080887\n",
      "Loss: 0.020741689950227737\n",
      "Loss: 0.020693711936473846\n",
      "Loss: 0.0206469539552927\n",
      "Loss: 0.02059956081211567\n",
      "Loss: 0.02055315300822258\n",
      "Loss: 0.020506305620074272\n",
      "Loss: 0.020459624007344246\n",
      "Loss: 0.020413242280483246\n",
      "Loss: 0.020366618409752846\n",
      "Loss: 0.02032109722495079\n",
      "Loss: 0.020275123417377472\n",
      "Loss: 0.020229104906320572\n",
      "Loss: 0.020183635875582695\n",
      "Loss: 0.020137988030910492\n",
      "Loss: 0.02009221911430359\n",
      "Loss: 0.0200485922396183\n",
      "Loss: 0.02000216394662857\n",
      "Loss: 0.01995794102549553\n",
      "Loss: 0.019913682714104652\n",
      "Loss: 0.019869036972522736\n",
      "Loss: 0.019823864102363586\n",
      "Loss: 0.019778482615947723\n",
      "Loss: 0.01973588764667511\n",
      "Loss: 0.01969125308096409\n",
      "Loss: 0.01964642107486725\n",
      "Loss: 0.01960233598947525\n",
      "Loss: 0.019559558480978012\n",
      "Loss: 0.01951618865132332\n",
      "Loss: 0.01947207748889923\n",
      "Loss: 0.019427824765443802\n",
      "Loss: 0.01938479393720627\n",
      "Loss: 0.019342437386512756\n",
      "Loss: 0.019299525767564774\n",
      "Loss: 0.01925547979772091\n",
      "Loss: 0.019212722778320312\n",
      "Loss: 0.01917082816362381\n",
      "Loss: 0.01912865787744522\n",
      "Loss: 0.019085543230175972\n",
      "Loss: 0.019042789936065674\n",
      "Loss: 0.019001290202140808\n",
      "Loss: 0.018960196524858475\n",
      "Loss: 0.01891746185719967\n",
      "Loss: 0.01887509413063526\n",
      "Loss: 0.01883373223245144\n",
      "Loss: 0.01879310980439186\n",
      "Loss: 0.018751680850982666\n",
      "Loss: 0.018710153177380562\n",
      "Loss: 0.018668528646230698\n",
      "Loss: 0.01862792670726776\n",
      "Loss: 0.0185877475887537\n",
      "Loss: 0.018546801060438156\n",
      "Loss: 0.018505249172449112\n",
      "Loss: 0.018464503809809685\n",
      "Loss: 0.018424995243549347\n",
      "Loss: 0.01838512532413006\n",
      "Loss: 0.018343932926654816\n",
      "Loss: 0.018303826451301575\n",
      "Loss: 0.01826465129852295\n",
      "Loss: 0.018224891275167465\n",
      "Loss: 0.018184844404459\n",
      "Loss: 0.018144669011235237\n",
      "Loss: 0.018106183037161827\n",
      "Loss: 0.018066998571157455\n",
      "Loss: 0.018026866018772125\n",
      "Loss: 0.017987264320254326\n",
      "Loss: 0.01794872246682644\n",
      "Loss: 0.017909858375787735\n",
      "Loss: 0.01787080056965351\n",
      "Loss: 0.017832092940807343\n",
      "Loss: 0.017793890088796616\n",
      "Loss: 0.017755281180143356\n",
      "Loss: 0.01771654188632965\n",
      "Loss: 0.017678089439868927\n",
      "Loss: 0.01764031872153282\n",
      "Loss: 0.017602097243070602\n",
      "Loss: 0.017564214766025543\n",
      "Loss: 0.01752641797065735\n",
      "Loss: 0.017488855868577957\n",
      "Loss: 0.017451629042625427\n",
      "Loss: 0.017413832247257233\n",
      "Loss: 0.017376413568854332\n",
      "Loss: 0.01733938790857792\n",
      "Loss: 0.017302192747592926\n",
      "Loss: 0.01726505532860756\n",
      "Loss: 0.017228038981556892\n",
      "Loss: 0.017191361635923386\n",
      "Loss: 0.017154604196548462\n",
      "Loss: 0.017117764800786972\n",
      "Loss: 0.017081450670957565\n",
      "Loss: 0.01704513467848301\n",
      "Loss: 0.017008734866976738\n",
      "Loss: 0.01697261817753315\n",
      "Loss: 0.016936639323830605\n",
      "Loss: 0.016900736838579178\n",
      "Loss: 0.01686469092965126\n",
      "Loss: 0.01682884991168976\n",
      "Loss: 0.016793396323919296\n",
      "Loss: 0.016757801175117493\n",
      "Loss: 0.016722870990633965\n",
      "Loss: 0.01668766513466835\n",
      "Loss: 0.016652129590511322\n",
      "Loss: 0.01661710813641548\n",
      "Loss: 0.016582349315285683\n",
      "Loss: 0.016547268256545067\n",
      "Loss: 0.016512548550963402\n",
      "Loss: 0.016478002071380615\n",
      "Loss: 0.016443323343992233\n",
      "Loss: 0.01640857197344303\n",
      "Loss: 0.01637452095746994\n",
      "Loss: 0.01634008064866066\n",
      "Loss: 0.016305726021528244\n",
      "Loss: 0.01627214625477791\n",
      "Loss: 0.016238350421190262\n",
      "Loss: 0.016204316169023514\n",
      "Loss: 0.01617007702589035\n",
      "Loss: 0.016136955469846725\n",
      "Loss: 0.01610357128083706\n",
      "Loss: 0.016069378703832626\n",
      "Loss: 0.016035813838243484\n",
      "Loss: 0.01600237749516964\n",
      "Loss: 0.015968818217515945\n",
      "Loss: 0.015934884548187256\n",
      "Loss: 0.015900852158665657\n",
      "Loss: 0.01586766354739666\n",
      "Loss: 0.015834268182516098\n",
      "Loss: 0.01580081321299076\n",
      "Loss: 0.015767140313982964\n",
      "Loss: 0.015733662992715836\n",
      "Loss: 0.015700338408350945\n",
      "Loss: 0.01566707342863083\n",
      "Loss: 0.015633653849363327\n",
      "Loss: 0.015600582584738731\n",
      "Loss: 0.015567319467663765\n",
      "Loss: 0.015534063801169395\n",
      "Loss: 0.015500804409384727\n",
      "Loss: 0.015467735938727856\n",
      "Loss: 0.015434842556715012\n",
      "Loss: 0.015402174554765224\n",
      "Loss: 0.015369324944913387\n",
      "Loss: 0.015336817130446434\n",
      "Loss: 0.015304048545658588\n",
      "Loss: 0.01527130976319313\n",
      "Loss: 0.015238873660564423\n",
      "Loss: 0.015206550247967243\n",
      "Loss: 0.015174110420048237\n",
      "Loss: 0.015142158605158329\n",
      "Loss: 0.015109879896044731\n",
      "Loss: 0.01507772970944643\n",
      "Loss: 0.01504585426300764\n",
      "Loss: 0.015014119446277618\n",
      "Loss: 0.01498236134648323\n",
      "Loss: 0.014950701966881752\n",
      "Loss: 0.014919246546924114\n",
      "Loss: 0.014887888915836811\n",
      "Loss: 0.014856643043458462\n",
      "Loss: 0.014825515449047089\n",
      "Loss: 0.014794489368796349\n",
      "Loss: 0.014763384126126766\n",
      "Loss: 0.014732529409229755\n",
      "Loss: 0.014701918698847294\n",
      "Loss: 0.01467119064182043\n",
      "Loss: 0.014640582725405693\n",
      "Loss: 0.01460999995470047\n",
      "Loss: 0.014579561538994312\n",
      "Loss: 0.01454925537109375\n",
      "Loss: 0.014519253745675087\n",
      "Loss: 0.014489159919321537\n",
      "Loss: 0.014459092170000076\n",
      "Loss: 0.014429135248064995\n",
      "Loss: 0.0143993329256773\n",
      "Loss: 0.014369513839483261\n",
      "Loss: 0.014339816756546497\n",
      "Loss: 0.014310283586382866\n",
      "Loss: 0.014281243085861206\n",
      "Loss: 0.014252003282308578\n",
      "Loss: 0.014223167672753334\n",
      "Loss: 0.01419452391564846\n",
      "Loss: 0.014165518805384636\n",
      "Loss: 0.01413683220744133\n",
      "Loss: 0.014108135364949703\n",
      "Loss: 0.014079621993005276\n",
      "Loss: 0.014051051810383797\n",
      "Loss: 0.01402239315211773\n",
      "Loss: 0.013993951492011547\n",
      "Loss: 0.01396546233445406\n",
      "Loss: 0.013937197625637054\n",
      "Loss: 0.013909382745623589\n",
      "Loss: 0.013881044462323189\n",
      "Loss: 0.013852771371603012\n",
      "Loss: 0.013825141824781895\n",
      "Loss: 0.013797437772154808\n",
      "Loss: 0.013769504614174366\n",
      "Loss: 0.013741690665483475\n",
      "Loss: 0.013714325614273548\n",
      "Loss: 0.01368690188974142\n",
      "Loss: 0.013659374788403511\n",
      "Loss: 0.013632001355290413\n",
      "Loss: 0.013604836538434029\n",
      "Loss: 0.013577581383287907\n",
      "Loss: 0.013550794683396816\n",
      "Loss: 0.013523858971893787\n",
      "Loss: 0.013496634550392628\n",
      "Loss: 0.01346983015537262\n",
      "Loss: 0.013443069532513618\n",
      "Loss: 0.013416195288300514\n",
      "Loss: 0.013389352709054947\n",
      "Loss: 0.013363170437514782\n",
      "Loss: 0.013336338102817535\n",
      "Loss: 0.013309929519891739\n",
      "Loss: 0.013283396139740944\n",
      "Loss: 0.013257084414362907\n",
      "Loss: 0.013230621814727783\n",
      "Loss: 0.013204788789153099\n",
      "Loss: 0.013178655877709389\n",
      "Loss: 0.013152355328202248\n",
      "Loss: 0.013126477599143982\n",
      "Loss: 0.013100553303956985\n",
      "Loss: 0.013074507005512714\n",
      "Loss: 0.013048956170678139\n",
      "Loss: 0.013023214414715767\n",
      "Loss: 0.012997640296816826\n",
      "Loss: 0.012972057797014713\n",
      "Loss: 0.01294668111950159\n",
      "Loss: 0.012921171262860298\n",
      "Loss: 0.012895784340798855\n",
      "Loss: 0.012870308011770248\n",
      "Loss: 0.012845109216868877\n",
      "Loss: 0.012820111587643623\n",
      "Loss: 0.012795079499483109\n",
      "Loss: 0.012770131230354309\n",
      "Loss: 0.01274506188929081\n",
      "Loss: 0.012720187194645405\n",
      "Loss: 0.012695344164967537\n",
      "Loss: 0.012670625001192093\n",
      "Loss: 0.01264573261141777\n",
      "Loss: 0.012621235102415085\n",
      "Loss: 0.012596582993865013\n",
      "Loss: 0.012572292238473892\n",
      "Loss: 0.012547743506729603\n",
      "Loss: 0.012523447163403034\n"
     ]
    },
    {
     "name": "stdout",
     "output_type": "stream",
     "text": [
      "Loss: 0.012499252334237099\n",
      "Loss: 0.012475037015974522\n",
      "Loss: 0.012450920417904854\n",
      "Loss: 0.012426663190126419\n",
      "Loss: 0.012402672320604324\n",
      "Loss: 0.012378811836242676\n",
      "Loss: 0.012354951351881027\n",
      "Loss: 0.01233132928609848\n",
      "Loss: 0.01230728067457676\n",
      "Loss: 0.01228373870253563\n",
      "Loss: 0.012260330840945244\n",
      "Loss: 0.012236750684678555\n",
      "Loss: 0.012213089503347874\n",
      "Loss: 0.012189623899757862\n",
      "Loss: 0.012166082859039307\n",
      "Loss: 0.01214263029396534\n",
      "Loss: 0.012119229882955551\n",
      "Loss: 0.01209624856710434\n",
      "Loss: 0.012073194608092308\n",
      "Loss: 0.012050041928887367\n",
      "Loss: 0.012027064338326454\n",
      "Loss: 0.01200397964566946\n",
      "Loss: 0.011980798095464706\n",
      "Loss: 0.011958003975450993\n",
      "Loss: 0.01193526852875948\n",
      "Loss: 0.011912424117326736\n",
      "Loss: 0.011889707297086716\n",
      "Loss: 0.011867182329297066\n",
      "Loss: 0.011844653636217117\n",
      "Loss: 0.011821920052170753\n",
      "Loss: 0.011799570173025131\n",
      "Loss: 0.01177707314491272\n",
      "Loss: 0.011754733510315418\n",
      "Loss: 0.011732460930943489\n",
      "Loss: 0.01171032339334488\n",
      "Loss: 0.011688176542520523\n",
      "Loss: 0.011665825732052326\n",
      "Loss: 0.011643622070550919\n",
      "Loss: 0.011621939949691296\n",
      "Loss: 0.011599648743867874\n",
      "Loss: 0.011577825993299484\n",
      "Loss: 0.011556180194020271\n",
      "Loss: 0.011534489691257477\n",
      "Loss: 0.01151265762746334\n",
      "Loss: 0.011491185985505581\n",
      "Loss: 0.011469565331935883\n",
      "Loss: 0.011447830125689507\n",
      "Loss: 0.011426160112023354\n",
      "Loss: 0.011404959484934807\n",
      "Loss: 0.011383434757590294\n",
      "Loss: 0.011362049728631973\n",
      "Loss: 0.011340883560478687\n",
      "Loss: 0.011319806799292564\n",
      "Loss: 0.01129860244691372\n",
      "Loss: 0.011277365498244762\n",
      "Loss: 0.011256305500864983\n",
      "Loss: 0.011235293932259083\n",
      "Loss: 0.01121443696320057\n",
      "Loss: 0.011193606071174145\n",
      "Loss: 0.011172939091920853\n",
      "Loss: 0.011152110062539577\n",
      "Loss: 0.011131394654512405\n",
      "Loss: 0.011110879480838776\n",
      "Loss: 0.011090346612036228\n",
      "Loss: 0.011069989763200283\n",
      "Loss: 0.011049671098589897\n",
      "Loss: 0.011029286310076714\n",
      "Loss: 0.011008940637111664\n",
      "Loss: 0.010988770052790642\n",
      "Loss: 0.010968603193759918\n",
      "Loss: 0.010948525741696358\n",
      "Loss: 0.010928471572697163\n",
      "Loss: 0.010908517986536026\n",
      "Loss: 0.010888718068599701\n",
      "Loss: 0.010868806391954422\n",
      "Loss: 0.010849226266145706\n",
      "Loss: 0.010829644277691841\n",
      "Loss: 0.010809984058141708\n",
      "Loss: 0.01079042162746191\n",
      "Loss: 0.010770939290523529\n",
      "Loss: 0.010751655325293541\n",
      "Loss: 0.010732238180935383\n",
      "Loss: 0.010712703689932823\n",
      "Loss: 0.010693434625864029\n",
      "Loss: 0.010674204677343369\n",
      "Loss: 0.010655204765498638\n",
      "Loss: 0.010636089369654655\n",
      "Loss: 0.01061704196035862\n",
      "Loss: 0.010598115622997284\n",
      "Loss: 0.010579125955700874\n",
      "Loss: 0.010560264810919762\n",
      "Loss: 0.010541360825300217\n",
      "Loss: 0.010522538796067238\n",
      "Loss: 0.010503910481929779\n",
      "Loss: 0.010485194623470306\n",
      "Loss: 0.010466497391462326\n",
      "Loss: 0.010448040440678596\n",
      "Loss: 0.010429436340928078\n",
      "Loss: 0.010410916060209274\n",
      "Loss: 0.010392512194812298\n",
      "Loss: 0.010374234057962894\n",
      "Loss: 0.010355925187468529\n",
      "Loss: 0.0103377066552639\n",
      "Loss: 0.010319430381059647\n",
      "Loss: 0.01030145213007927\n",
      "Loss: 0.01028340496122837\n",
      "Loss: 0.01026538573205471\n",
      "Loss: 0.010247350670397282\n",
      "Loss: 0.01022952701896429\n",
      "Loss: 0.010211613960564137\n",
      "Loss: 0.010193529538810253\n",
      "Loss: 0.010175875388085842\n",
      "Loss: 0.010158121585845947\n",
      "Loss: 0.010140576399862766\n",
      "Loss: 0.010122868232429028\n",
      "Loss: 0.010105343535542488\n",
      "Loss: 0.010087888687849045\n",
      "Loss: 0.010070324875414371\n",
      "Loss: 0.010053147561848164\n",
      "Loss: 0.010035749524831772\n",
      "Loss: 0.010018372908234596\n",
      "Loss: 0.010001098737120628\n",
      "Loss: 0.009983978234231472\n",
      "Loss: 0.009966690093278885\n",
      "Loss: 0.009949459694325924\n",
      "Loss: 0.009932453744113445\n",
      "Loss: 0.009915325790643692\n",
      "Loss: 0.009898267686367035\n",
      "Loss: 0.009881396777927876\n",
      "Loss: 0.009864484891295433\n",
      "Loss: 0.009847497567534447\n",
      "Loss: 0.009830843657255173\n",
      "Loss: 0.009814048185944557\n",
      "Loss: 0.009797323495149612\n",
      "Loss: 0.009780503809452057\n",
      "Loss: 0.009763840585947037\n",
      "Loss: 0.009747208096086979\n",
      "Loss: 0.009730610065162182\n",
      "Loss: 0.009714091196656227\n",
      "Loss: 0.009697537869215012\n",
      "Loss: 0.00968114659190178\n",
      "Loss: 0.009664819575846195\n",
      "Loss: 0.00964838732033968\n",
      "Loss: 0.009632118977606297\n",
      "Loss: 0.009615854360163212\n",
      "Loss: 0.00959957018494606\n",
      "Loss: 0.009583484381437302\n",
      "Loss: 0.009567411616444588\n",
      "Loss: 0.009551195427775383\n",
      "Loss: 0.009535090066492558\n",
      "Loss: 0.009519255720078945\n",
      "Loss: 0.009503215551376343\n",
      "Loss: 0.009487256407737732\n",
      "Loss: 0.009471426717936993\n",
      "Loss: 0.00945547316223383\n",
      "Loss: 0.00943988561630249\n",
      "Loss: 0.009424172341823578\n",
      "Loss: 0.009408301673829556\n",
      "Loss: 0.009392512030899525\n",
      "Loss: 0.009377138689160347\n",
      "Loss: 0.009361634962260723\n",
      "Loss: 0.009346062317490578\n",
      "Loss: 0.009330414235591888\n",
      "Loss: 0.009314913302659988\n",
      "Loss: 0.009299665689468384\n",
      "Loss: 0.009284267202019691\n",
      "Loss: 0.009268897585570812\n",
      "Loss: 0.00925382785499096\n",
      "Loss: 0.009238718077540398\n",
      "Loss: 0.009223522618412971\n",
      "Loss: 0.009208272211253643\n",
      "Loss: 0.009193189442157745\n",
      "Loss: 0.009178242646157742\n",
      "Loss: 0.009163095615804195\n",
      "Loss: 0.009148197248578072\n",
      "Loss: 0.00913337990641594\n",
      "Loss: 0.009118463844060898\n",
      "Loss: 0.00910349190235138\n",
      "Loss: 0.009088720194995403\n",
      "Loss: 0.009074022993445396\n",
      "Loss: 0.009059238247573376\n",
      "Loss: 0.009044460952281952\n",
      "Loss: 0.009029884822666645\n",
      "Loss: 0.00901520624756813\n",
      "Loss: 0.009000567719340324\n",
      "Loss: 0.008985978551208973\n",
      "Loss: 0.008971523493528366\n",
      "Loss: 0.008957047946751118\n",
      "Loss: 0.00894255843013525\n",
      "Loss: 0.008928174152970314\n",
      "Loss: 0.008913809433579445\n",
      "Loss: 0.008899454027414322\n",
      "Loss: 0.008885221555829048\n",
      "Loss: 0.008870933204889297\n",
      "Loss: 0.008856672793626785\n",
      "Loss: 0.008842507377266884\n",
      "Loss: 0.008828392252326012\n",
      "Loss: 0.008814217522740364\n",
      "Loss: 0.008800217881798744\n",
      "Loss: 0.008786199614405632\n",
      "Loss: 0.008772062137722969\n",
      "Loss: 0.008758137002587318\n",
      "Loss: 0.008744217455387115\n",
      "Loss: 0.008730231784284115\n",
      "Loss: 0.008716274052858353\n",
      "Loss: 0.008702442981302738\n",
      "Loss: 0.008688601665198803\n",
      "Loss: 0.008674844168126583\n",
      "Loss: 0.008661050349473953\n",
      "Loss: 0.008647320792078972\n",
      "Loss: 0.008633661083877087\n",
      "Loss: 0.008620034903287888\n",
      "Loss: 0.008606372401118279\n",
      "Loss: 0.00859280489385128\n",
      "Loss: 0.008579248562455177\n",
      "Loss: 0.008565627038478851\n",
      "Loss: 0.00855205673724413\n",
      "Loss: 0.008538573980331421\n",
      "Loss: 0.008525146171450615\n",
      "Loss: 0.008511820808053017\n",
      "Loss: 0.008498437702655792\n",
      "Loss: 0.008485114201903343\n",
      "Loss: 0.008471773937344551\n",
      "Loss: 0.008458499796688557\n",
      "Loss: 0.00844522938132286\n",
      "Loss: 0.008432060480117798\n",
      "Loss: 0.008418882265686989\n",
      "Loss: 0.008405708707869053\n",
      "Loss: 0.008392538875341415\n",
      "Loss: 0.008379397913813591\n",
      "Loss: 0.008366265334188938\n",
      "Loss: 0.008353346958756447\n",
      "Loss: 0.008340410888195038\n",
      "Loss: 0.008327418938279152\n",
      "Loss: 0.008314374834299088\n",
      "Loss: 0.008301639929413795\n",
      "Loss: 0.008288834244012833\n",
      "Loss: 0.008275896310806274\n",
      "Loss: 0.00826289039105177\n",
      "Loss: 0.008250106126070023\n",
      "Loss: 0.008237438276410103\n",
      "Loss: 0.008224708959460258\n",
      "Loss: 0.008211974054574966\n",
      "Loss: 0.008199242874979973\n",
      "Loss: 0.00818669144064188\n",
      "Loss: 0.008174070157110691\n",
      "Loss: 0.008161529898643494\n",
      "Loss: 0.008149019442498684\n",
      "Loss: 0.008136531338095665\n",
      "Loss: 0.008124032989144325\n",
      "Loss: 0.008111604489386082\n",
      "Loss: 0.008099168539047241\n",
      "Loss: 0.008086765184998512\n",
      "Loss: 0.008074561133980751\n",
      "Loss: 0.008062280714511871\n",
      "Loss: 0.008050006814301014\n",
      "Loss: 0.008037707768380642\n",
      "Loss: 0.00802537053823471\n",
      "Loss: 0.008013354614377022\n",
      "Loss: 0.00800127349793911\n",
      "Loss: 0.007989052683115005\n",
      "Loss: 0.00797683373093605\n",
      "Loss: 0.007964881137013435\n",
      "Loss: 0.0079529769718647\n",
      "Loss: 0.007941009476780891\n",
      "Loss: 0.007928978651762009\n",
      "Loss: 0.007916882634162903\n",
      "Loss: 0.007904797792434692\n",
      "Loss: 0.00789307989180088\n",
      "Loss: 0.007881302386522293\n",
      "Loss: 0.007869447581470013\n",
      "Loss: 0.007857541553676128\n",
      "Loss: 0.007845547050237656\n",
      "Loss: 0.00783398188650608\n",
      "Loss: 0.007822361774742603\n",
      "Loss: 0.0078106834553182125\n",
      "Loss: 0.007798959966748953\n",
      "Loss: 0.007787130773067474\n",
      "Loss: 0.007775398902595043\n",
      "Loss: 0.007763928268104792\n",
      "Loss: 0.00775234866887331\n",
      "Loss: 0.007740735542029142\n",
      "Loss: 0.007729216478765011\n",
      "Loss: 0.007717733737081289\n",
      "Loss: 0.007706208620220423\n",
      "Loss: 0.007694730535149574\n",
      "Loss: 0.007683342322707176\n",
      "Loss: 0.0076719122007489204\n",
      "Loss: 0.007660625036805868\n",
      "Loss: 0.007649291306734085\n",
      "Loss: 0.00763799250125885\n",
      "Loss: 0.007626731414347887\n",
      "Loss: 0.007615448907017708\n",
      "Loss: 0.00760425953194499\n",
      "Loss: 0.007593116723001003\n",
      "Loss: 0.007581891492009163\n",
      "Loss: 0.00757084833458066\n",
      "Loss: 0.007559753023087978\n",
      "Loss: 0.0075485981069505215\n",
      "Loss: 0.007537534460425377\n",
      "Loss: 0.007526554632931948\n",
      "Loss: 0.007515535689890385\n",
      "Loss: 0.007504468783736229\n",
      "Loss: 0.0074935597367584705\n",
      "Loss: 0.0074825650081038475\n",
      "Loss: 0.007471784017980099\n",
      "Loss: 0.007460880558937788\n",
      "Loss: 0.007450021803379059\n",
      "Loss: 0.00743918027728796\n",
      "Loss: 0.007428382057696581\n",
      "Loss: 0.007417559158056974\n",
      "Loss: 0.007406807970255613\n"
     ]
    },
    {
     "name": "stdout",
     "output_type": "stream",
     "text": [
      "Loss: 0.0073960917070508\n",
      "Loss: 0.007385348901152611\n",
      "Loss: 0.007374635897576809\n",
      "Loss: 0.007364053279161453\n",
      "Loss: 0.007353441324084997\n",
      "Loss: 0.007342883851379156\n",
      "Loss: 0.007332324981689453\n",
      "Loss: 0.007321744225919247\n",
      "Loss: 0.00731115834787488\n",
      "Loss: 0.007300767116248608\n",
      "Loss: 0.00729035260155797\n",
      "Loss: 0.007279840297996998\n",
      "Loss: 0.007269356399774551\n",
      "Loss: 0.007259076461195946\n",
      "Loss: 0.007248826790601015\n",
      "Loss: 0.007238530088216066\n",
      "Loss: 0.007228162605315447\n",
      "Loss: 0.007217790000140667\n",
      "Loss: 0.007207444868981838\n",
      "Loss: 0.007197239901870489\n",
      "Loss: 0.007186973001807928\n",
      "Loss: 0.007176675833761692\n",
      "Loss: 0.007166522089391947\n",
      "Loss: 0.007156347390264273\n",
      "Loss: 0.0071462783962488174\n",
      "Loss: 0.00713615957647562\n",
      "Loss: 0.007125977426767349\n",
      "Loss: 0.007115984335541725\n",
      "Loss: 0.007105931639671326\n",
      "Loss: 0.007095931097865105\n",
      "Loss: 0.007085827179253101\n",
      "Loss: 0.007075867149978876\n",
      "Loss: 0.007065934129059315\n",
      "Loss: 0.0070559801533818245\n",
      "Loss: 0.007045973092317581\n",
      "Loss: 0.007036164402961731\n",
      "Loss: 0.007026322185993195\n",
      "Loss: 0.007016404997557402\n",
      "Loss: 0.007006470113992691\n",
      "Loss: 0.006996671669185162\n",
      "Loss: 0.00698693236336112\n",
      "Loss: 0.0069771455600857735\n",
      "Loss: 0.006967317312955856\n",
      "Loss: 0.006957588251680136\n",
      "Loss: 0.006947888992726803\n",
      "Loss: 0.006938159465789795\n",
      "Loss: 0.006928436458110809\n",
      "Loss: 0.006918827071785927\n",
      "Loss: 0.00690919253975153\n",
      "Loss: 0.006899571977555752\n",
      "Loss: 0.006889987271279097\n",
      "Loss: 0.006880447268486023\n",
      "Loss: 0.006870902143418789\n",
      "Loss: 0.006861359812319279\n",
      "Loss: 0.006851864978671074\n",
      "Loss: 0.006842322647571564\n",
      "Loss: 0.0068329013884067535\n",
      "Loss: 0.006823468953371048\n",
      "Loss: 0.006814034655690193\n",
      "Loss: 0.006804534699767828\n",
      "Loss: 0.006795210763812065\n",
      "Loss: 0.00678588543087244\n",
      "Loss: 0.0067765298299491405\n",
      "Loss: 0.006767117418348789\n",
      "Loss: 0.00675774272531271\n",
      "Loss: 0.006748544983565807\n",
      "Loss: 0.006739332806318998\n",
      "Loss: 0.006730063818395138\n",
      "Loss: 0.006720755249261856\n",
      "Loss: 0.006711442023515701\n",
      "Loss: 0.006702282465994358\n",
      "Loss: 0.006693125236779451\n",
      "Loss: 0.006683927960693836\n",
      "Loss: 0.006674730218946934\n",
      "Loss: 0.0066656204871833324\n",
      "Loss: 0.006656510289758444\n",
      "Loss: 0.0066474974155426025\n",
      "Loss: 0.00663844496011734\n",
      "Loss: 0.006629337090998888\n",
      "Loss: 0.006620245985686779\n",
      "Loss: 0.006611282005906105\n",
      "Loss: 0.006602277047932148\n",
      "Loss: 0.006593287922441959\n",
      "Loss: 0.006584299262613058\n",
      "Loss: 0.006575344130396843\n",
      "Loss: 0.0065664369612932205\n",
      "Loss: 0.006557523272931576\n",
      "Loss: 0.00654859421774745\n",
      "Loss: 0.006539710331708193\n",
      "Loss: 0.00653085857629776\n",
      "Loss: 0.006521996110677719\n",
      "Loss: 0.006513251457363367\n",
      "Loss: 0.006504460237920284\n",
      "Loss: 0.006495604291558266\n",
      "Loss: 0.006486793514341116\n",
      "Loss: 0.0064780935645103455\n",
      "Loss: 0.006469342857599258\n",
      "Loss: 0.006460648961365223\n",
      "Loss: 0.006451956927776337\n",
      "Loss: 0.006443249061703682\n",
      "Loss: 0.006434507202357054\n",
      "Loss: 0.00642587523907423\n",
      "Loss: 0.0064172325655817986\n",
      "Loss: 0.006408593151718378\n",
      "Loss: 0.006400066427886486\n",
      "Loss: 0.006391459610313177\n",
      "Loss: 0.006382843479514122\n",
      "Loss: 0.006374334916472435\n",
      "Loss: 0.006365843582898378\n",
      "Loss: 0.0063572959043085575\n",
      "Loss: 0.006348753813654184\n",
      "Loss: 0.006340286694467068\n",
      "Loss: 0.006331844255328178\n",
      "Loss: 0.0063234129920601845\n",
      "Loss: 0.006315006874501705\n",
      "Loss: 0.006306581664830446\n",
      "Loss: 0.00629819929599762\n",
      "Loss: 0.006289839744567871\n",
      "Loss: 0.0062814499251544476\n",
      "Loss: 0.006273041944950819\n",
      "Loss: 0.006264694035053253\n",
      "Loss: 0.006256403401494026\n",
      "Loss: 0.006248031742870808\n",
      "Loss: 0.0062397196888923645\n",
      "Loss: 0.006231499835848808\n",
      "Loss: 0.006223220378160477\n",
      "Loss: 0.006214910186827183\n",
      "Loss: 0.006206677295267582\n",
      "Loss: 0.006198463495820761\n",
      "Loss: 0.006190233863890171\n",
      "Loss: 0.006182042416185141\n",
      "Loss: 0.006173901259899139\n",
      "Loss: 0.006165720988065004\n",
      "Loss: 0.006157536059617996\n",
      "Loss: 0.006149405147880316\n",
      "Loss: 0.00614131847396493\n",
      "Loss: 0.00613316660746932\n",
      "Loss: 0.006125125102698803\n",
      "Loss: 0.0061170794069767\n",
      "Loss: 0.006109025329351425\n",
      "Loss: 0.006100946106016636\n",
      "Loss: 0.006092952098697424\n",
      "Loss: 0.006084952503442764\n",
      "Loss: 0.006076952908188105\n",
      "Loss: 0.0060690115205943584\n",
      "Loss: 0.0060611022636294365\n",
      "Loss: 0.006053159944713116\n",
      "Loss: 0.006045191548764706\n",
      "Loss: 0.006037338171154261\n",
      "Loss: 0.006029490847140551\n",
      "Loss: 0.006021603941917419\n",
      "Loss: 0.0060136872343719006\n",
      "Loss: 0.006005916744470596\n",
      "Loss: 0.005998109467327595\n",
      "Loss: 0.005990311503410339\n",
      "Loss: 0.005982489325106144\n",
      "Loss: 0.005974682979285717\n",
      "Loss: 0.005966895259916782\n",
      "Loss: 0.005959181115031242\n",
      "Loss: 0.00595144834369421\n",
      "Loss: 0.005943687632679939\n",
      "Loss: 0.005936018656939268\n",
      "Loss: 0.005928355269134045\n",
      "Loss: 0.005920667201280594\n",
      "Loss: 0.005912968888878822\n",
      "Loss: 0.005905282683670521\n",
      "Loss: 0.005897686816751957\n",
      "Loss: 0.005890123546123505\n",
      "Loss: 0.005882509984076023\n",
      "Loss: 0.0058748759329319\n",
      "Loss: 0.005867300555109978\n",
      "Loss: 0.005859772674739361\n",
      "Loss: 0.005852226633578539\n",
      "Loss: 0.005844675935804844\n",
      "Loss: 0.005837122909724712\n",
      "Loss: 0.0058297039940953255\n",
      "Loss: 0.00582226924598217\n",
      "Loss: 0.0058147800154984\n",
      "Loss: 0.0058072772808372974\n",
      "Loss: 0.005799809470772743\n",
      "Loss: 0.005792415235191584\n",
      "Loss: 0.005785023327916861\n",
      "Loss: 0.0057776207104325294\n",
      "Loss: 0.005770181305706501\n",
      "Loss: 0.00576286856085062\n",
      "Loss: 0.005755559541285038\n",
      "Loss: 0.0057482291013002396\n",
      "Loss: 0.005740834400057793\n",
      "Loss: 0.005733526777476072\n",
      "Loss: 0.005726292729377747\n",
      "Loss: 0.0057189809158444405\n",
      "Loss: 0.005711706820875406\n",
      "Loss: 0.005704392213374376\n",
      "Loss: 0.005697194486856461\n",
      "Loss: 0.0056900084018707275\n",
      "Loss: 0.005682780407369137\n",
      "Loss: 0.005675529129803181\n",
      "Loss: 0.005668369121849537\n",
      "Loss: 0.005661211907863617\n",
      "Loss: 0.005654057953506708\n",
      "Loss: 0.005646893288940191\n",
      "Loss: 0.005639701150357723\n",
      "Loss: 0.005632586777210236\n",
      "Loss: 0.005625530611723661\n",
      "Loss: 0.00561844278126955\n",
      "Loss: 0.005611315369606018\n",
      "Loss: 0.005604269914329052\n",
      "Loss: 0.005597255192697048\n",
      "Loss: 0.005590217188000679\n",
      "Loss: 0.005583162885159254\n",
      "Loss: 0.005576132796704769\n",
      "Loss: 0.005569153465330601\n",
      "Loss: 0.005562153644859791\n",
      "Loss: 0.005555182229727507\n",
      "Loss: 0.005548175424337387\n",
      "Loss: 0.005541248247027397\n",
      "Loss: 0.005534344352781773\n",
      "Loss: 0.0055274274200201035\n",
      "Loss: 0.00552050955593586\n",
      "Loss: 0.005513549782335758\n",
      "Loss: 0.005506690125912428\n",
      "Loss: 0.005499847233295441\n",
      "Loss: 0.005492975935339928\n",
      "Loss: 0.00548608647659421\n",
      "Loss: 0.00547930970788002\n",
      "Loss: 0.005472494754940271\n",
      "Loss: 0.005465698428452015\n",
      "Loss: 0.005458919331431389\n",
      "Loss: 0.005452074576169252\n",
      "Loss: 0.0054453168995678425\n",
      "Loss: 0.00543861323967576\n",
      "Loss: 0.005431853234767914\n",
      "Loss: 0.005425066687166691\n",
      "Loss: 0.0054184067994356155\n",
      "Loss: 0.00541173480451107\n",
      "Loss: 0.0054050348699092865\n",
      "Loss: 0.005398317240178585\n",
      "Loss: 0.005391593091189861\n",
      "Loss: 0.00538496021181345\n",
      "Loss: 0.005378326401114464\n",
      "Loss: 0.005371671169996262\n",
      "Loss: 0.005365025717765093\n",
      "Loss: 0.005358471535146236\n",
      "Loss: 0.005351889878511429\n",
      "Loss: 0.005345301702618599\n",
      "Loss: 0.00533870467916131\n",
      "Loss: 0.005332106724381447\n",
      "Loss: 0.005325576290488243\n",
      "Loss: 0.005319046787917614\n",
      "Loss: 0.005312508903443813\n",
      "Loss: 0.005305945873260498\n",
      "Loss: 0.0052994475699961185\n",
      "Loss: 0.005292967893183231\n",
      "Loss: 0.005286511033773422\n",
      "Loss: 0.005280039273202419\n",
      "Loss: 0.005273549817502499\n",
      "Loss: 0.005267081782221794\n",
      "Loss: 0.00526068639010191\n",
      "Loss: 0.00525424350053072\n",
      "Loss: 0.0052478439174592495\n",
      "Loss: 0.005241459235548973\n",
      "Loss: 0.005235075950622559\n",
      "Loss: 0.005228717811405659\n",
      "Loss: 0.005222351755946875\n",
      "Loss: 0.005215988494455814\n",
      "Loss: 0.005209671333432198\n",
      "Loss: 0.0052032871171832085\n",
      "Loss: 0.005197053775191307\n",
      "Loss: 0.005190766416490078\n",
      "Loss: 0.005184466019272804\n",
      "Loss: 0.005178103223443031\n",
      "Loss: 0.005171881057322025\n",
      "Loss: 0.005165626294910908\n",
      "Loss: 0.005159337073564529\n",
      "Loss: 0.005153148900717497\n",
      "Loss: 0.005146949551999569\n",
      "Loss: 0.005140700377523899\n",
      "Loss: 0.005134484730660915\n",
      "Loss: 0.005128317512571812\n",
      "Loss: 0.005122115835547447\n",
      "Loss: 0.005115938372910023\n",
      "Loss: 0.005109780468046665\n",
      "Loss: 0.005103641655296087\n",
      "Loss: 0.005097521934658289\n",
      "Loss: 0.00509139709174633\n",
      "Loss: 0.00508528295904398\n",
      "Loss: 0.005079195369035006\n",
      "Loss: 0.005073096603155136\n",
      "Loss: 0.005067025311291218\n",
      "Loss: 0.005060963798314333\n",
      "Loss: 0.00505490880459547\n",
      "Loss: 0.005048883147537708\n",
      "Loss: 0.005042857490479946\n",
      "Loss: 0.0050368355587124825\n",
      "Loss: 0.005030810367316008\n",
      "Loss: 0.005024800542742014\n",
      "Loss: 0.005018837749958038\n",
      "Loss: 0.005012840963900089\n",
      "Loss: 0.005006871186196804\n",
      "Loss: 0.005000917240977287\n",
      "Loss: 0.004994962830096483\n",
      "Loss: 0.00498904287815094\n",
      "Loss: 0.004983133170753717\n",
      "Loss: 0.004977198783308268\n",
      "Loss: 0.0049713170155882835\n",
      "Loss: 0.004965408705174923\n",
      "Loss: 0.004959557205438614\n",
      "Loss: 0.004953684285283089\n",
      "Loss: 0.0049478113651275635\n",
      "Loss: 0.004941969178617001\n"
     ]
    },
    {
     "name": "stdout",
     "output_type": "stream",
     "text": [
      "Loss: 0.004936135374009609\n",
      "Loss: 0.004930280614644289\n",
      "Loss: 0.004924491047859192\n",
      "Loss: 0.004918679594993591\n",
      "Loss: 0.004912871867418289\n",
      "Loss: 0.004907058551907539\n",
      "Loss: 0.004901296459138393\n",
      "Loss: 0.004895518068224192\n",
      "Loss: 0.004889746196568012\n",
      "Loss: 0.004884019494056702\n",
      "Loss: 0.00487826531752944\n",
      "Loss: 0.00487251952290535\n",
      "Loss: 0.004866825416684151\n",
      "Loss: 0.004861094988882542\n",
      "Loss: 0.0048554143868386745\n",
      "Loss: 0.004849706776440144\n",
      "Loss: 0.004844045266509056\n",
      "Loss: 0.0048383865505456924\n",
      "Loss: 0.004832732491195202\n",
      "Loss: 0.00482707004994154\n",
      "Loss: 0.004821427632123232\n",
      "Loss: 0.004815784282982349\n",
      "Loss: 0.004810166545212269\n",
      "Loss: 0.004804573953151703\n",
      "Loss: 0.004798941779881716\n",
      "Loss: 0.004793361760675907\n",
      "Loss: 0.0047877938486635685\n",
      "Loss: 0.004782212898135185\n",
      "Loss: 0.004776611924171448\n",
      "Loss: 0.004771087318658829\n",
      "Loss: 0.004765565972775221\n",
      "Loss: 0.004760013427585363\n",
      "Loss: 0.004754452034831047\n",
      "Loss: 0.004748938139528036\n",
      "Loss: 0.004743434488773346\n",
      "Loss: 0.004737932235002518\n",
      "Loss: 0.0047324239276349545\n",
      "Loss: 0.004726948216557503\n",
      "Loss: 0.004721504636108875\n",
      "Loss: 0.004716028459370136\n",
      "Loss: 0.004710561595857143\n",
      "Loss: 0.004705123603343964\n",
      "Loss: 0.004699672572314739\n",
      "Loss: 0.0046942634508013725\n",
      "Loss: 0.004688857588917017\n",
      "Loss: 0.0046834335662424564\n",
      "Loss: 0.004678039811551571\n",
      "Loss: 0.004672658629715443\n",
      "Loss: 0.004667271394282579\n",
      "Loss: 0.004661878105252981\n",
      "Loss: 0.004656543955206871\n",
      "Loss: 0.004651214927434921\n",
      "Loss: 0.004645856097340584\n",
      "Loss: 0.004640497732907534\n",
      "Loss: 0.0046351817436516285\n",
      "Loss: 0.004629866220057011\n",
      "Loss: 0.004624556750059128\n",
      "Loss: 0.00461924821138382\n",
      "Loss: 0.00461393129080534\n",
      "Loss: 0.004608648829162121\n",
      "Loss: 0.004603371024131775\n",
      "Loss: 0.004598120227456093\n",
      "Loss: 0.00459285918623209\n",
      "Loss: 0.004587605129927397\n",
      "Loss: 0.004582364112138748\n",
      "Loss: 0.004577134735882282\n",
      "Loss: 0.004571911878883839\n",
      "Loss: 0.00456670206040144\n",
      "Loss: 0.004561523906886578\n",
      "Loss: 0.004556320607662201\n",
      "Loss: 0.004551109857857227\n",
      "Loss: 0.004545955918729305\n",
      "Loss: 0.004540801979601383\n",
      "Loss: 0.004535616375505924\n",
      "Loss: 0.004530439153313637\n",
      "Loss: 0.004525301977992058\n",
      "Loss: 0.004520193673670292\n",
      "Loss: 0.004515068139880896\n",
      "Loss: 0.004509933292865753\n",
      "Loss: 0.004504785872995853\n",
      "Loss: 0.004499716684222221\n",
      "Loss: 0.0044946447014808655\n",
      "Loss: 0.00448955874890089\n",
      "Loss: 0.004484443925321102\n",
      "Loss: 0.0044793421402573586\n",
      "Loss: 0.00447430182248354\n",
      "Loss: 0.004469241946935654\n",
      "Loss: 0.004464189056307077\n",
      "Loss: 0.004459158517420292\n",
      "Loss: 0.004454136360436678\n",
      "Loss: 0.004449116066098213\n",
      "Loss: 0.00444410415366292\n",
      "Loss: 0.0044390968978405\n",
      "Loss: 0.0044340952299535275\n",
      "Loss: 0.004429087974131107\n",
      "Loss: 0.004424134269356728\n",
      "Loss: 0.0044191679917275906\n",
      "Loss: 0.004414187278598547\n",
      "Loss: 0.004409216810017824\n",
      "Loss: 0.004404277540743351\n",
      "Loss: 0.004399328492581844\n",
      "Loss: 0.004394390620291233\n",
      "Loss: 0.004389481619000435\n",
      "Loss: 0.004384564235806465\n",
      "Loss: 0.004379668273031712\n",
      "Loss: 0.0043747504241764545\n",
      "Loss: 0.00436987541615963\n",
      "Loss: 0.004364992491900921\n",
      "Loss: 0.004360084887593985\n",
      "Loss: 0.004355232696980238\n",
      "Loss: 0.0043504005298018456\n",
      "Loss: 0.004345534835010767\n",
      "Loss: 0.004340660758316517\n",
      "Loss: 0.004335818812251091\n",
      "Loss: 0.004330981057137251\n",
      "Loss: 0.004326170776039362\n",
      "Loss: 0.004321355372667313\n",
      "Loss: 0.004316550213843584\n",
      "Loss: 0.004311749711632729\n",
      "Loss: 0.004306943621486425\n",
      "Loss: 0.004302185960114002\n",
      "Loss: 0.004297406412661076\n",
      "Loss: 0.004292629659175873\n",
      "Loss: 0.004287864081561565\n",
      "Loss: 0.004283125977963209\n",
      "Loss: 0.0042783599346876144\n",
      "Loss: 0.004273615777492523\n",
      "Loss: 0.004268912132829428\n",
      "Loss: 0.0042641982436180115\n",
      "Loss: 0.004259469918906689\n",
      "Loss: 0.004254743456840515\n",
      "Loss: 0.00425005191937089\n",
      "Loss: 0.00424538366496563\n",
      "Loss: 0.004240711219608784\n",
      "Loss: 0.004236023407429457\n",
      "Loss: 0.00423131138086319\n",
      "Loss: 0.004226658493280411\n",
      "Loss: 0.004222032614052296\n",
      "Loss: 0.004217371344566345\n",
      "Loss: 0.004212686792016029\n",
      "Loss: 0.004208043217658997\n",
      "Loss: 0.004203440621495247\n",
      "Loss: 0.0041988082230091095\n",
      "Loss: 0.00419419351965189\n",
      "Loss: 0.004189591854810715\n",
      "Loss: 0.004184999968856573\n",
      "Loss: 0.0041803959757089615\n",
      "Loss: 0.004175795707851648\n",
      "Loss: 0.004171217791736126\n",
      "Loss: 0.004166652448475361\n",
      "Loss: 0.004162088502198458\n",
      "Loss: 0.004157532937824726\n",
      "Loss: 0.004152955487370491\n",
      "Loss: 0.004148411098867655\n",
      "Loss: 0.004143908619880676\n",
      "Loss: 0.004139375407248735\n",
      "Loss: 0.004134827293455601\n",
      "Loss: 0.004130327608436346\n",
      "Loss: 0.0041258372366428375\n",
      "Loss: 0.0041213324293494225\n",
      "Loss: 0.004116839729249477\n",
      "Loss: 0.004112349823117256\n",
      "Loss: 0.004107858054339886\n",
      "Loss: 0.004103397950530052\n",
      "Loss: 0.004098929930478334\n",
      "Loss: 0.004094463307410479\n",
      "Loss: 0.004089992493391037\n",
      "Loss: 0.0040855687111616135\n",
      "Loss: 0.004081117920577526\n",
      "Loss: 0.00407666340470314\n",
      "Loss: 0.004072275944054127\n",
      "Loss: 0.004067846108227968\n",
      "Loss: 0.004063424188643694\n",
      "Loss: 0.004059000872075558\n",
      "Loss: 0.0040546078234910965\n",
      "Loss: 0.004050219897180796\n",
      "Loss: 0.004045822657644749\n",
      "Loss: 0.004041445441544056\n",
      "Loss: 0.004037043545395136\n",
      "Loss: 0.004032682627439499\n",
      "Loss: 0.0040283058770000935\n",
      "Loss: 0.004023972433060408\n",
      "Loss: 0.004019618034362793\n",
      "Loss: 0.004015258047729731\n",
      "Loss: 0.004010935313999653\n",
      "Loss: 0.004006591625511646\n",
      "Loss: 0.004002261906862259\n",
      "Loss: 0.003997969441115856\n",
      "Loss: 0.003993652760982513\n",
      "Loss: 0.003989339806139469\n",
      "Loss: 0.003985033370554447\n",
      "Loss: 0.003980748355388641\n",
      "Loss: 0.003976454492658377\n",
      "Loss: 0.003972182981669903\n",
      "Loss: 0.003967911005020142\n",
      "Loss: 0.003963653929531574\n",
      "Loss: 0.0039594098925590515\n",
      "Loss: 0.003955173771828413\n",
      "Loss: 0.003950909711420536\n",
      "Loss: 0.003946649841964245\n",
      "Loss: 0.00394243560731411\n",
      "Loss: 0.0039382074028253555\n",
      "Loss: 0.003933992236852646\n",
      "Loss: 0.003929777070879936\n",
      "Loss: 0.00392557866871357\n",
      "Loss: 0.00392137048766017\n",
      "Loss: 0.003917189314961433\n",
      "Loss: 0.003913018852472305\n",
      "Loss: 0.003908814396709204\n",
      "Loss: 0.003904652548953891\n",
      "Loss: 0.0039004876744002104\n",
      "Loss: 0.003896319540217519\n",
      "Loss: 0.0038921574596315622\n",
      "Loss: 0.0038880063220858574\n",
      "Loss: 0.0038838544860482216\n",
      "Loss: 0.003879732685163617\n",
      "Loss: 0.0038756094872951508\n",
      "Loss: 0.0038714732509106398\n",
      "Loss: 0.0038673479575663805\n",
      "Loss: 0.0038632452487945557\n",
      "Loss: 0.003859142307192087\n",
      "Loss: 0.003855034476146102\n",
      "Loss: 0.003850950626656413\n",
      "Loss: 0.0038468700367957354\n",
      "Loss: 0.0038428022526204586\n",
      "Loss: 0.0038387239910662174\n",
      "Loss: 0.003834629198536277\n",
      "Loss: 0.0038305679336190224\n",
      "Loss: 0.0038265311159193516\n",
      "Loss: 0.003822497557848692\n",
      "Loss: 0.0038184341974556446\n",
      "Loss: 0.003814385272562504\n",
      "Loss: 0.003810370806604624\n",
      "Loss: 0.003806330729275942\n",
      "Loss: 0.003802316728979349\n",
      "Loss: 0.003798315767198801\n",
      "Loss: 0.0037942957133054733\n",
      "Loss: 0.0037902849726378918\n",
      "Loss: 0.003786268178373575\n",
      "Loss: 0.0037822946906089783\n",
      "Loss: 0.003778310725465417\n",
      "Loss: 0.003774332581087947\n",
      "Loss: 0.003770376555621624\n",
      "Loss: 0.003766401670873165\n",
      "Loss: 0.003762430278584361\n",
      "Loss: 0.0037584700621664524\n",
      "Loss: 0.003754523117095232\n",
      "Loss: 0.0037505654618144035\n",
      "Loss: 0.003746650880202651\n",
      "Loss: 0.0037427344359457493\n",
      "Loss: 0.003738786093890667\n",
      "Loss: 0.0037348500918596983\n",
      "Loss: 0.0037309403996914625\n",
      "Loss: 0.0037270481698215008\n",
      "Loss: 0.00372312986291945\n",
      "Loss: 0.0037192346062511206\n",
      "Loss: 0.0037153183948248625\n",
      "Loss: 0.003711435478180647\n",
      "Loss: 0.0037075579166412354\n",
      "Loss: 0.0037036866415292025\n",
      "Loss: 0.0036998006980866194\n",
      "Loss: 0.003695935010910034\n",
      "Loss: 0.003692068625241518\n",
      "Loss: 0.0036882234271615744\n",
      "Loss: 0.0036843824200332165\n",
      "Loss: 0.0036805409472435713\n",
      "Loss: 0.0036766938865184784\n",
      "Loss: 0.003672864753752947\n",
      "Loss: 0.003669045865535736\n",
      "Loss: 0.00366521580144763\n",
      "Loss: 0.0036614069249480963\n",
      "Loss: 0.0036576050333678722\n",
      "Loss: 0.0036537994164973497\n",
      "Loss: 0.0036499877460300922\n",
      "Loss: 0.0036461998242884874\n",
      "Loss: 0.0036424126010388136\n",
      "Loss: 0.0036386256106197834\n",
      "Loss: 0.003634837456047535\n",
      "Loss: 0.003631073050200939\n",
      "Loss: 0.0036273086443543434\n",
      "Loss: 0.0036235456354916096\n",
      "Loss: 0.003619796596467495\n",
      "Loss: 0.0036160415038466454\n",
      "Loss: 0.0036123055033385754\n",
      "Loss: 0.003608559723943472\n",
      "Loss: 0.003604823723435402\n",
      "Loss: 0.003601107746362686\n",
      "Loss: 0.0035973754711449146\n",
      "Loss: 0.003593658097088337\n",
      "Loss: 0.0035899425856769085\n",
      "Loss: 0.0035862361546605825\n",
      "Loss: 0.0035825411323457956\n",
      "Loss: 0.003578836563974619\n",
      "Loss: 0.003575155045837164\n",
      "Loss: 0.0035714658442884684\n",
      "Loss: 0.003567781997844577\n",
      "Loss: 0.003564105834811926\n",
      "Loss: 0.003560437122359872\n",
      "Loss: 0.0035567705053836107\n",
      "Loss: 0.0035531094763427973\n",
      "Loss: 0.0035494668409228325\n",
      "Loss: 0.0035458076745271683\n",
      "Loss: 0.003542170859873295\n",
      "Loss: 0.003538519376888871\n",
      "Loss: 0.0035348916426301003\n",
      "Loss: 0.0035312571562826633\n",
      "Loss: 0.003527633612975478\n"
     ]
    },
    {
     "name": "stdout",
     "output_type": "stream",
     "text": [
      "Loss: 0.0035240198485553265\n",
      "Loss: 0.0035203960724174976\n",
      "Loss: 0.003516796976327896\n",
      "Loss: 0.003513192292302847\n",
      "Loss: 0.0035095964558422565\n",
      "Loss: 0.0035059938672930002\n",
      "Loss: 0.0035024210810661316\n",
      "Loss: 0.003498836886137724\n",
      "Loss: 0.0034952713176608086\n",
      "Loss: 0.0034916980657726526\n",
      "Loss: 0.0034881308674812317\n",
      "Loss: 0.003484552726149559\n",
      "Loss: 0.0034810160286724567\n",
      "Loss: 0.0034774583764374256\n",
      "Loss: 0.0034739153925329447\n",
      "Loss: 0.003470360767096281\n",
      "Loss: 0.0034668194130063057\n",
      "Loss: 0.0034633027389645576\n",
      "Loss: 0.0034597693011164665\n",
      "Loss: 0.003456238191574812\n",
      "Loss: 0.003452735021710396\n",
      "Loss: 0.0034492183476686478\n",
      "Loss: 0.0034457112196832895\n",
      "Loss: 0.0034421945456415415\n",
      "Loss: 0.003438706509768963\n",
      "Loss: 0.003435214515775442\n",
      "Loss: 0.0034317239187657833\n",
      "Loss: 0.003428246360272169\n",
      "Loss: 0.0034247729927301407\n",
      "Loss: 0.0034212868195027113\n",
      "Loss: 0.003417830914258957\n",
      "Loss: 0.0034143743105232716\n",
      "Loss: 0.0034109067637473345\n",
      "Loss: 0.0034074466675519943\n",
      "Loss: 0.0034039895981550217\n",
      "Loss: 0.003400559304282069\n",
      "Loss: 0.003397120162844658\n",
      "Loss: 0.0033936696127057076\n",
      "Loss: 0.0033902544528245926\n",
      "Loss: 0.0033868281170725822\n",
      "Loss: 0.003383395727723837\n",
      "Loss: 0.003379982430487871\n",
      "Loss: 0.0033765845000743866\n",
      "Loss: 0.003373171202838421\n",
      "Loss: 0.0033697690814733505\n",
      "Loss: 0.003366385353729129\n",
      "Loss: 0.0033629965037107468\n",
      "Loss: 0.003359589260071516\n",
      "Loss: 0.0033562195021659136\n",
      "Loss: 0.0033528476487845182\n",
      "Loss: 0.003349466249346733\n",
      "Loss: 0.003346080891788006\n",
      "Loss: 0.0033427367452532053\n",
      "Loss: 0.003339387010782957\n",
      "Loss: 0.0033360265661031008\n",
      "Loss: 0.0033326740376651287\n",
      "Loss: 0.0033293357118964195\n",
      "Loss: 0.00332599226385355\n",
      "Loss: 0.0033226499799638987\n",
      "Loss: 0.0033193135168403387\n",
      "Loss: 0.00331599242053926\n",
      "Loss: 0.0033126790076494217\n",
      "Loss: 0.003309336956590414\n",
      "Loss: 0.003306054510176182\n",
      "Loss: 0.003302744124084711\n",
      "Loss: 0.003299442119896412\n",
      "Loss: 0.003296126611530781\n",
      "Loss: 0.003292844630777836\n",
      "Loss: 0.003289551706984639\n",
      "Loss: 0.0032862508669495583\n",
      "Loss: 0.0032829875126481056\n",
      "Loss: 0.003279714845120907\n",
      "Loss: 0.003276433562859893\n",
      "Loss: 0.0032731578685343266\n",
      "Loss: 0.003269909881055355\n",
      "Loss: 0.003266646759584546\n",
      "Loss: 0.003263379679992795\n",
      "Loss: 0.0032601426355540752\n",
      "Loss: 0.003256891155615449\n",
      "Loss: 0.003253648756071925\n",
      "Loss: 0.0032504135742783546\n",
      "Loss: 0.0032471877057105303\n",
      "Loss: 0.003243956482037902\n",
      "Loss: 0.003240747842937708\n",
      "Loss: 0.003237511496990919\n",
      "Loss: 0.003234303090721369\n",
      "Loss: 0.003231099806725979\n",
      "Loss: 0.0032278778962790966\n",
      "Loss: 0.003224683925509453\n",
      "Loss: 0.003221501363441348\n",
      "Loss: 0.003218298777937889\n",
      "Loss: 0.0032151034101843834\n",
      "Loss: 0.003211923176422715\n",
      "Loss: 0.003208746435120702\n",
      "Loss: 0.0032055750489234924\n",
      "Loss: 0.003202388994395733\n",
      "Loss: 0.0031992215663194656\n",
      "Loss: 0.0031960750930011272\n",
      "Loss: 0.0031929132528603077\n",
      "Loss: 0.0031897679436951876\n",
      "Loss: 0.0031866119243204594\n",
      "Loss: 0.0031834617257118225\n",
      "Loss: 0.0031803338788449764\n",
      "Loss: 0.003177192760631442\n",
      "Loss: 0.003174057463183999\n",
      "Loss: 0.0031709123868495226\n",
      "Loss: 0.0031677954830229282\n",
      "Loss: 0.0031646951101720333\n",
      "Loss: 0.0031615656334906816\n",
      "Loss: 0.003158452920615673\n",
      "Loss: 0.003155345795676112\n",
      "Loss: 0.0031522386707365513\n",
      "Loss: 0.0031491313129663467\n",
      "Loss: 0.0031460407190024853\n",
      "Loss: 0.003142954083159566\n",
      "Loss: 0.003139875130727887\n",
      "Loss: 0.00313678290694952\n",
      "Loss: 0.0031337181571871042\n",
      "Loss: 0.0031306296586990356\n",
      "Loss: 0.003127569332718849\n",
      "Loss: 0.0031244999263435602\n",
      "Loss: 0.0031214472837746143\n",
      "Loss: 0.0031183906830847263\n",
      "Loss: 0.0031153205782175064\n",
      "Loss: 0.003112282371148467\n",
      "Loss: 0.0031092350836843252\n",
      "Loss: 0.0031061843037605286\n",
      "Loss: 0.0031031540129333735\n",
      "Loss: 0.003100127447396517\n",
      "Loss: 0.003097095061093569\n",
      "Loss: 0.003094057086855173\n",
      "Loss: 0.0030910582281649113\n",
      "Loss: 0.0030880426056683064\n",
      "Loss: 0.0030850237235426903\n",
      "Loss: 0.0030819918029010296\n",
      "Loss: 0.0030789992306381464\n",
      "Loss: 0.003076008055359125\n",
      "Loss: 0.0030729928985238075\n",
      "Loss: 0.0030700054485350847\n",
      "Loss: 0.0030670203268527985\n",
      "Loss: 0.0030640445183962584\n",
      "Loss: 0.003061051480472088\n",
      "Loss: 0.0030580770689994097\n",
      "Loss: 0.003055112436413765\n",
      "Loss: 0.00305213313549757\n",
      "Loss: 0.0030491778161376715\n",
      "Loss: 0.003046224359422922\n",
      "Loss: 0.003043263452127576\n",
      "Loss: 0.0030402967240661383\n",
      "Loss: 0.003037339309230447\n",
      "Loss: 0.0030343951657414436\n",
      "Loss: 0.003031451255083084\n",
      "Loss: 0.003028520615771413\n",
      "Loss: 0.003025578334927559\n",
      "Loss: 0.0030226344242691994\n",
      "Loss: 0.0030196846928447485\n",
      "Loss: 0.00301676825620234\n",
      "Loss: 0.0030138506554067135\n",
      "Loss: 0.0030109253711998463\n",
      "Loss: 0.003007998690009117\n",
      "Loss: 0.0030050904024392366\n",
      "Loss: 0.00300217280164361\n",
      "Loss: 0.0029992826748639345\n",
      "Loss: 0.0029963781125843525\n",
      "Loss: 0.0029934607446193695\n",
      "Loss: 0.0029905771370977163\n",
      "Loss: 0.002987694926559925\n",
      "Loss: 0.0029847961850464344\n",
      "Loss: 0.0029819044284522533\n",
      "Loss: 0.002979020122438669\n",
      "Loss: 0.0029761509504169226\n",
      "Loss: 0.002973274327814579\n",
      "Loss: 0.0029703795444220304\n",
      "Loss: 0.0029675313271582127\n",
      "Loss: 0.0029646833427250385\n",
      "Loss: 0.002961814170703292\n",
      "Loss: 0.0029589601326733828\n",
      "Loss: 0.002956089098006487\n",
      "Loss: 0.0029532592743635178\n",
      "Loss: 0.002950418507680297\n",
      "Loss: 0.0029475665651261806\n",
      "Loss: 0.002944750478491187\n",
      "Loss: 0.0029419115744531155\n",
      "Loss: 0.0029390724375844\n",
      "Loss: 0.0029362388886511326\n",
      "Loss: 0.0029333995189517736\n",
      "Loss: 0.0029305811040103436\n",
      "Loss: 0.002927762921899557\n",
      "Loss: 0.002924929838627577\n",
      "Loss: 0.002922119339928031\n",
      "Loss: 0.0029193160589784384\n",
      "Loss: 0.0029165034648030996\n",
      "Loss: 0.0029136775992810726\n",
      "Loss: 0.002910890616476536\n",
      "Loss: 0.0029080931562930346\n",
      "Loss: 0.0029052994213998318\n",
      "Loss: 0.0029024905525147915\n",
      "Loss: 0.002899687737226486\n",
      "Loss: 0.002896910533308983\n",
      "Loss: 0.002894133562222123\n",
      "Loss: 0.0028913524001836777\n",
      "Loss: 0.0028885791543871164\n",
      "Loss: 0.0028858189471066\n",
      "Loss: 0.002883029170334339\n",
      "Loss: 0.0028802785091102123\n",
      "Loss: 0.0028775259852409363\n",
      "Loss: 0.002874767640605569\n",
      "Loss: 0.0028719925321638584\n",
      "Loss: 0.0028692581690847874\n",
      "Loss: 0.0028665298596024513\n",
      "Loss: 0.002863792236894369\n",
      "Loss: 0.0028610413428395987\n",
      "Loss: 0.0028583058156073093\n",
      "Loss: 0.0028555591125041246\n",
      "Loss: 0.002852848032489419\n",
      "Loss: 0.0028501388151198626\n",
      "Loss: 0.002847410272806883\n",
      "Loss: 0.002844676375389099\n",
      "Loss: 0.0028419680893421173\n",
      "Loss: 0.0028392616659402847\n",
      "Loss: 0.002836572704836726\n",
      "Loss: 0.0028338651172816753\n",
      "Loss: 0.002831163350492716\n",
      "Loss: 0.002828459721058607\n",
      "Loss: 0.002825769130140543\n",
      "Loss: 0.0028231011237949133\n",
      "Loss: 0.002820393070578575\n",
      "Loss: 0.002817724132910371\n",
      "Loss: 0.0028150570578873158\n",
      "Loss: 0.0028123981319367886\n",
      "Loss: 0.0028097203467041254\n",
      "Loss: 0.002807031851261854\n",
      "Loss: 0.002804372925311327\n",
      "Loss: 0.002801736816763878\n",
      "Loss: 0.0027990797534585\n",
      "Loss: 0.0027964075561612844\n",
      "Loss: 0.0027937632985413074\n",
      "Loss: 0.0027911225333809853\n",
      "Loss: 0.002788487821817398\n",
      "Loss: 0.002785836812108755\n",
      "Loss: 0.0027831969782710075\n",
      "Loss: 0.002780569950118661\n",
      "Loss: 0.0027779408264905214\n",
      "Loss: 0.002775324508547783\n",
      "Loss: 0.0027727086562663317\n",
      "Loss: 0.002770079765468836\n",
      "Loss: 0.002767462283372879\n",
      "Loss: 0.002764859702438116\n",
      "Loss: 0.0027622475754469633\n",
      "Loss: 0.002759653842076659\n",
      "Loss: 0.002757047535851598\n",
      "Loss: 0.002754463814198971\n",
      "Loss: 0.002751861000433564\n",
      "Loss: 0.0027492691297084093\n",
      "Loss: 0.0027466982137411833\n",
      "Loss: 0.002744112629443407\n",
      "Loss: 0.002741524949669838\n",
      "Loss: 0.0027389449533075094\n",
      "Loss: 0.0027363551780581474\n",
      "Loss: 0.0027337921783328056\n",
      "Loss: 0.0027312305755913258\n",
      "Loss: 0.0027286617550998926\n",
      "Loss: 0.002726105973124504\n",
      "Loss: 0.0027235462330281734\n",
      "Loss: 0.002720997668802738\n",
      "Loss: 0.0027184290811419487\n",
      "Loss: 0.002715886337682605\n",
      "Loss: 0.0027133433613926172\n",
      "Loss: 0.0027108024805784225\n",
      "Loss: 0.0027082504238933325\n",
      "Loss: 0.0027057211846113205\n",
      "Loss: 0.0027031912468373775\n",
      "Loss: 0.002700656186789274\n",
      "Loss: 0.002698130439966917\n",
      "Loss: 0.002695610048249364\n",
      "Loss: 0.002693090122193098\n",
      "Loss: 0.0026905713602900505\n",
      "Loss: 0.002688057254999876\n",
      "Loss: 0.0026855538599193096\n",
      "Loss: 0.002683031838387251\n",
      "Loss: 0.0026805433444678783\n",
      "Loss: 0.002678041812032461\n",
      "Loss: 0.002675544237717986\n",
      "Loss: 0.002673054113984108\n",
      "Loss: 0.002670561894774437\n",
      "Loss: 0.0026680752635002136\n",
      "Loss: 0.002665590960532427\n",
      "Loss: 0.0026631064247339964\n",
      "Loss: 0.002660631202161312\n",
      "Loss: 0.002658155746757984\n",
      "Loss: 0.0026556788943707943\n",
      "Loss: 0.0026532146148383617\n",
      "Loss: 0.0026507580187171698\n",
      "Loss: 0.0026482867542654276\n",
      "Loss: 0.002645835978910327\n",
      "Loss: 0.0026433663442730904\n",
      "Loss: 0.002640924882143736\n",
      "Loss: 0.0026384741067886353\n",
      "Loss: 0.0026360307820141315\n",
      "Loss: 0.002633577911183238\n",
      "Loss: 0.002631134819239378\n",
      "Loss: 0.0026287082582712173\n",
      "Loss: 0.002626268658787012\n",
      "Loss: 0.002623843727633357\n",
      "Loss: 0.0026214229874312878\n",
      "Loss: 0.0026189894415438175\n",
      "Loss: 0.002616578247398138\n",
      "Loss: 0.002614162862300873\n",
      "Loss: 0.0026117288507521152\n",
      "Loss: 0.002609334187582135\n",
      "Loss: 0.00260693347081542\n",
      "Loss: 0.0026045204140245914\n",
      "Loss: 0.002602111082524061\n",
      "Loss: 0.002599701751023531\n",
      "Loss: 0.0025973282754421234\n"
     ]
    },
    {
     "name": "stdout",
     "output_type": "stream",
     "text": [
      "Loss: 0.002594927791506052\n",
      "Loss: 0.0025925408117473125\n",
      "Loss: 0.002590142423287034\n",
      "Loss: 0.0025877587031573057\n",
      "Loss: 0.0025853808037936687\n",
      "Loss: 0.002583014080300927\n",
      "Loss: 0.0025806212797760963\n",
      "Loss: 0.0025782680604606867\n",
      "Loss: 0.002575875259935856\n",
      "Loss: 0.0025735164526849985\n",
      "Loss: 0.0025711555499583483\n",
      "Loss: 0.0025687762536108494\n",
      "Loss: 0.002566422801464796\n",
      "Loss: 0.0025640656240284443\n",
      "Loss: 0.0025617252103984356\n",
      "Loss: 0.002559368032962084\n",
      "Loss: 0.002557035069912672\n",
      "Loss: 0.0025546851102262735\n",
      "Loss: 0.0025523523800075054\n",
      "Loss: 0.0025500026531517506\n",
      "Loss: 0.002547673648223281\n",
      "Loss: 0.002545327879488468\n",
      "Loss: 0.0025430121459066868\n",
      "Loss: 0.00254067569039762\n",
      "Loss: 0.0025383559986948967\n",
      "Loss: 0.00253602908924222\n",
      "Loss: 0.002533725695684552\n",
      "Loss: 0.0025314022786915302\n",
      "Loss: 0.002529101213440299\n",
      "Loss: 0.002526791300624609\n",
      "Loss: 0.002524482784792781\n",
      "Loss: 0.0025221763644367456\n",
      "Loss: 0.002519866218790412\n",
      "Loss: 0.0025175728369504213\n",
      "Loss: 0.00251527177169919\n",
      "Loss: 0.0025129858404397964\n",
      "Loss: 0.0025106980465352535\n",
      "Loss: 0.0025084144435822964\n",
      "Loss: 0.002506137825548649\n",
      "Loss: 0.002503850031644106\n",
      "Loss: 0.00250156968832016\n",
      "Loss: 0.00249929865822196\n",
      "Loss: 0.0024970294907689095\n",
      "Loss: 0.00249474192969501\n",
      "Loss: 0.0024925009347498417\n",
      "Loss: 0.002490233862772584\n",
      "Loss: 0.002487964928150177\n",
      "Loss: 0.0024857106618583202\n",
      "Loss: 0.0024834584910422564\n",
      "Loss: 0.0024812007322907448\n",
      "Loss: 0.002478941110894084\n",
      "Loss: 0.0024766966234892607\n",
      "Loss: 0.0024744609836488962\n",
      "Loss: 0.0024722255766391754\n",
      "Loss: 0.0024699904024600983\n",
      "Loss: 0.002467745915055275\n",
      "Loss: 0.00246550515294075\n",
      "Loss: 0.0024632809218019247\n",
      "Loss: 0.002461045514792204\n",
      "Loss: 0.0024588326923549175\n",
      "Loss: 0.0024565844796597958\n",
      "Loss: 0.002454392146319151\n",
      "Loss: 0.0024521606974303722\n",
      "Loss: 0.00244995323009789\n",
      "Loss: 0.0024477443657815456\n",
      "Loss: 0.0024455313105136156\n",
      "Loss: 0.0024433168582618237\n",
      "Loss: 0.002441124524921179\n",
      "Loss: 0.0024389137979596853\n",
      "Loss: 0.002436717739328742\n",
      "Loss: 0.002434519585222006\n",
      "Loss: 0.0024323328398168087\n",
      "Loss: 0.00243013515137136\n",
      "Loss: 0.002427961677312851\n",
      "Loss: 0.0024257602635771036\n",
      "Loss: 0.002423590514808893\n",
      "Loss: 0.0024214002769440413\n",
      "Loss: 0.0024192193523049355\n",
      "Loss: 0.0024170493707060814\n",
      "Loss: 0.002414872171357274\n",
      "Loss: 0.0024127154611051083\n",
      "Loss: 0.0024105345364660025\n",
      "Loss: 0.0024083612952381372\n",
      "Loss: 0.002406212268397212\n",
      "Loss: 0.0024040462449193\n",
      "Loss: 0.0024018988478928804\n",
      "Loss: 0.0023997309617698193\n",
      "Loss: 0.002397589385509491\n",
      "Loss: 0.0023954343050718307\n",
      "Loss: 0.0023932759650051594\n",
      "Loss: 0.00239114579744637\n",
      "Loss: 0.002389002125710249\n",
      "Loss: 0.00238686241209507\n",
      "Loss: 0.0023847115226089954\n",
      "Loss: 0.0023825904354453087\n",
      "Loss: 0.002380446996539831\n",
      "Loss: 0.00237832753919065\n",
      "Loss: 0.0023761973716318607\n",
      "Loss: 0.002374079776927829\n",
      "Loss: 0.0023719477467238903\n",
      "Loss: 0.0023698266595602036\n",
      "Loss: 0.002367714885622263\n",
      "Loss: 0.002365595893934369\n",
      "Loss: 0.0023634862154722214\n",
      "Loss: 0.0023613744415342808\n",
      "Loss: 0.002359275706112385\n",
      "Loss: 0.0023571697529405355\n",
      "Loss: 0.002355069387704134\n",
      "Loss: 0.0023529743775725365\n",
      "Loss: 0.0023508889134973288\n",
      "Loss: 0.0023487848229706287\n",
      "Loss: 0.0023466823622584343\n",
      "Loss: 0.002344602718949318\n",
      "Loss: 0.0023425135295838118\n",
      "Loss: 0.0023404224775731564\n",
      "Loss: 0.0023383498191833496\n",
      "Loss: 0.002336258767172694\n",
      "Loss: 0.0023341921623796225\n",
      "Loss: 0.0023321122862398624\n",
      "Loss: 0.00233004754409194\n",
      "Loss: 0.002327988389879465\n",
      "Loss: 0.0023258989676833153\n",
      "Loss: 0.0023238472640514374\n",
      "Loss: 0.0023217841517180204\n",
      "Loss: 0.0023197210393846035\n",
      "Loss: 0.0023176618851721287\n",
      "Loss: 0.0023156176321208477\n",
      "Loss: 0.0023135696537792683\n",
      "Loss: 0.0023115198127925396\n",
      "Loss: 0.0023094606585800648\n",
      "Loss: 0.002307427581399679\n",
      "Loss: 0.0023053681943565607\n",
      "Loss: 0.002303333254531026\n",
      "Loss: 0.0023012948222458363\n",
      "Loss: 0.002299250802025199\n",
      "Loss: 0.0022972177248448133\n",
      "Loss: 0.002295190468430519\n",
      "Loss: 0.0022931722924113274\n",
      "Loss: 0.0022911466658115387\n",
      "Loss: 0.0022891138214617968\n",
      "Loss: 0.002287097740918398\n",
      "Loss: 0.0022850739769637585\n",
      "Loss: 0.0022830634843558073\n",
      "Loss: 0.002281045541167259\n",
      "Loss: 0.0022790369112044573\n",
      "Loss: 0.002277022460475564\n",
      "Loss: 0.0022750140633434057\n",
      "Loss: 0.002273016609251499\n",
      "Loss: 0.0022710138000547886\n",
      "Loss: 0.00226901238784194\n",
      "Loss: 0.0022670170292258263\n",
      "Loss: 0.0022650137543678284\n",
      "Loss: 0.0022630200255662203\n",
      "Loss: 0.0022610449232161045\n",
      "Loss: 0.0022590365260839462\n",
      "Loss: 0.002257061656564474\n",
      "Loss: 0.002255071885883808\n",
      "Loss: 0.002253093058243394\n",
      "Loss: 0.0022511088754981756\n",
      "Loss: 0.002249126322567463\n",
      "Loss: 0.002247160766273737\n",
      "Loss: 0.0022451914846897125\n",
      "Loss: 0.0022432110272347927\n",
      "Loss: 0.002241256646811962\n",
      "Loss: 0.0022392815444618464\n",
      "Loss: 0.002237319480627775\n",
      "Loss: 0.0022353562526404858\n",
      "Loss: 0.0022333941888064146\n",
      "Loss: 0.0022314381785690784\n",
      "Loss: 0.0022294875234365463\n",
      "Loss: 0.002227535005658865\n",
      "Loss: 0.002225584350526333\n",
      "Loss: 0.00222363555803895\n",
      "Loss: 0.0022216886281967163\n",
      "Loss: 0.002219751477241516\n",
      "Loss: 0.0022177989594638348\n",
      "Loss: 0.0022158650681376457\n",
      "Loss: 0.002213935134932399\n",
      "Loss: 0.002211982849985361\n",
      "Loss: 0.002210063859820366\n",
      "Loss: 0.0022081248462200165\n",
      "Loss: 0.0022062002681195736\n",
      "Loss: 0.0022042831405997276\n",
      "Loss: 0.0022023662459105253\n",
      "Loss: 0.002200427232310176\n",
      "Loss: 0.0021985177882015705\n",
      "Loss: 0.0021965953055769205\n",
      "Loss: 0.0021946821361780167\n",
      "Loss: 0.002192768966779113\n",
      "Loss: 0.002190855797380209\n",
      "Loss: 0.002188961487263441\n",
      "Loss: 0.0021870501805096865\n",
      "Loss: 0.0021851465571671724\n",
      "Loss: 0.0021832408383488655\n",
      "Loss: 0.0021813444327563047\n",
      "Loss: 0.002179448027163744\n",
      "Loss: 0.0021775574423372746\n",
      "Loss: 0.002175666857510805\n",
      "Loss: 0.0021737744100391865\n",
      "Loss: 0.0021718800999224186\n",
      "Loss: 0.0021699911449104548\n",
      "Loss: 0.0021681117359548807\n",
      "Loss: 0.0021662248764187098\n",
      "Loss: 0.002164338016882539\n",
      "Loss: 0.0021624641958624125\n",
      "Loss: 0.0021605994552373886\n",
      "Loss: 0.0021587128285318613\n",
      "Loss: 0.002156848320737481\n",
      "Loss: 0.0021549726370722055\n",
      "Loss: 0.0021531064994633198\n",
      "Loss: 0.0021512494422495365\n",
      "Loss: 0.0021493867971003056\n",
      "Loss: 0.00214751111343503\n",
      "Loss: 0.002145663369446993\n",
      "Loss: 0.0021438009571284056\n",
      "Loss: 0.002141936682164669\n",
      "Loss: 0.0021400852128863335\n",
      "Loss: 0.0021382321137934923\n",
      "Loss: 0.002136382507160306\n",
      "Loss: 0.002134529408067465\n",
      "Loss: 0.0021326947025954723\n",
      "Loss: 0.0021308455616235733\n",
      "Loss: 0.002129003405570984\n",
      "Loss: 0.002127168932929635\n",
      "Loss: 0.0021253195591270924\n",
      "Loss: 0.0021234829910099506\n",
      "Loss: 0.0021216487511992455\n",
      "Loss: 0.002119816141203046\n",
      "Loss: 0.0021179872564971447\n",
      "Loss: 0.0021161416079849005\n",
      "Loss: 0.0021143220365047455\n",
      "Loss: 0.0021124896593391895\n",
      "Loss: 0.0021106754429638386\n",
      "Loss: 0.0021088598296046257\n",
      "Loss: 0.0021070102229714394\n",
      "Loss: 0.0021052113734185696\n",
      "Loss: 0.002103386214002967\n",
      "Loss: 0.0021015743259340525\n",
      "Loss: 0.002099760575219989\n",
      "Loss: 0.002097942866384983\n",
      "Loss: 0.002096140291541815\n",
      "Loss: 0.002094324678182602\n",
      "Loss: 0.0020925274584442377\n",
      "Loss: 0.0020907248836010695\n",
      "Loss: 0.0020889276638627052\n",
      "Loss: 0.002087126951664686\n",
      "Loss: 0.0020853299647569656\n",
      "Loss: 0.002083523664623499\n",
      "Loss: 0.002081741578876972\n",
      "Loss: 0.0020799501799046993\n",
      "Loss: 0.002078169956803322\n",
      "Loss: 0.0020763841457664967\n",
      "Loss: 0.002074592746794224\n",
      "Loss: 0.0020728050731122494\n",
      "Loss: 0.0020710101816803217\n",
      "Loss: 0.0020692485850304365\n",
      "Loss: 0.0020674685947597027\n",
      "Loss: 0.002065686509013176\n",
      "Loss: 0.0020639251451939344\n",
      "Loss: 0.002062159823253751\n",
      "Loss: 0.002060387283563614\n",
      "Loss: 0.0020586219616234303\n",
      "Loss: 0.0020568566396832466\n",
      "Loss: 0.0020550875924527645\n",
      "Loss: 0.0020533413626253605\n",
      "Loss: 0.0020515741780400276\n",
      "Loss: 0.0020498204976320267\n",
      "Loss: 0.0020480589009821415\n",
      "Loss: 0.0020463105756789446\n",
      "Loss: 0.002044564113020897\n",
      "Loss: 0.0020428006537258625\n",
      "Loss: 0.0020410618744790554\n",
      "Loss: 0.002039315178990364\n",
      "Loss: 0.0020375726744532585\n",
      "Loss: 0.00203583762049675\n",
      "Loss: 0.0020341002382338047\n",
      "Loss: 0.0020323609933257103\n",
      "Loss: 0.002030622214078903\n",
      "Loss: 0.0020288852974772453\n",
      "Loss: 0.002027166774496436\n",
      "Loss: 0.0020254389382898808\n",
      "Loss: 0.002023709239438176\n",
      "Loss: 0.0020219795405864716\n",
      "Loss: 0.0020202631130814552\n",
      "Loss: 0.0020185373723506927\n",
      "Loss: 0.002016813261434436\n",
      "Loss: 0.0020150986965745687\n",
      "Loss: 0.0020133783109486103\n",
      "Loss: 0.0020116674713790417\n",
      "Loss: 0.002009965945035219\n",
      "Loss: 0.0020082490518689156\n",
      "Loss: 0.0020065288990736008\n",
      "Loss: 0.0020048199221491814\n",
      "Loss: 0.002003120258450508\n",
      "Loss: 0.002001415006816387\n",
      "Loss: 0.0019997209310531616\n",
      "Loss: 0.001998019404709339\n",
      "Loss: 0.001996329054236412\n",
      "Loss: 0.001994640566408634\n"
     ]
    },
    {
     "name": "stdout",
     "output_type": "stream",
     "text": [
      "Loss: 0.0019929353147745132\n",
      "Loss: 0.0019912542775273323\n",
      "Loss: 0.0019895602017641068\n",
      "Loss: 0.0019878679886460304\n",
      "Loss: 0.001986175775527954\n",
      "Loss: 0.0019845040515065193\n",
      "Loss: 0.0019828251097351313\n",
      "Loss: 0.001981130801141262\n",
      "Loss: 0.0019794648978859186\n",
      "Loss: 0.0019777840934693813\n",
      "Loss: 0.001976099330931902\n",
      "Loss: 0.0019744313322007656\n",
      "Loss: 0.0019727691542357206\n",
      "Loss: 0.001971099292859435\n",
      "Loss: 0.001969427801668644\n",
      "Loss: 0.0019677672535181046\n",
      "Loss: 0.001966106938198209\n",
      "Loss: 0.001964439172297716\n",
      "Loss: 0.0019627693109214306\n",
      "Loss: 0.001961120404303074\n",
      "Loss: 0.001959456130862236\n",
      "Loss: 0.0019578086212277412\n",
      "Loss: 0.0019561578519642353\n",
      "Loss: 0.0019545031245797873\n",
      "Loss: 0.0019528537523001432\n",
      "Loss: 0.001951206591911614\n",
      "Loss: 0.0019495649030432105\n",
      "Loss: 0.0019479193724691868\n",
      "Loss: 0.0019462795462459326\n",
      "Loss: 0.0019446546211838722\n",
      "Loss: 0.0019429998937994242\n",
      "Loss: 0.0019413658883422613\n",
      "Loss: 0.0019397224532440305\n",
      "Loss: 0.001938104978762567\n",
      "Loss: 0.001936467131599784\n",
      "Loss: 0.0019348422065377235\n",
      "Loss: 0.001933215418830514\n",
      "Loss: 0.0019315795507282019\n",
      "Loss: 0.0019299472915008664\n",
      "Loss: 0.0019283300498500466\n",
      "Loss: 0.0019267220050096512\n",
      "Loss: 0.001925108372233808\n",
      "Loss: 0.0019234835635870695\n",
      "Loss: 0.0019218679517507553\n",
      "Loss: 0.0019202505936846137\n",
      "Loss: 0.0019186388235539198\n",
      "Loss: 0.0019170272862538695\n",
      "Loss: 0.0019154211040586233\n",
      "Loss: 0.0019138224888592958\n",
      "Loss: 0.0019122089724987745\n",
      "Loss: 0.0019106140825897455\n",
      "Loss: 0.0019090136047452688\n",
      "Loss: 0.0019074074225500226\n",
      "Loss: 0.0019058032194152474\n",
      "Loss: 0.0019042064668610692\n",
      "Loss: 0.0019026210065931082\n",
      "Loss: 0.0019010279793292284\n",
      "Loss: 0.0018994406564161181\n",
      "Loss: 0.0018978381995111704\n",
      "Loss: 0.0018962582107633352\n",
      "Loss: 0.0018946800846606493\n",
      "Loss: 0.0018930906662717462\n",
      "Loss: 0.0018915052060037851\n",
      "Loss: 0.0018899161368608475\n",
      "Loss: 0.0018883493030443788\n",
      "Loss: 0.001886765705421567\n",
      "Loss: 0.001885197008959949\n",
      "Loss: 0.0018836208619177341\n",
      "Loss: 0.0018820390105247498\n",
      "Loss: 0.0018804704304784536\n",
      "Loss: 0.0018789016176015139\n",
      "Loss: 0.0018773479387164116\n",
      "Loss: 0.0018757754005491734\n",
      "Loss: 0.0018742199754342437\n",
      "Loss: 0.0018726420821622014\n",
      "Loss: 0.0018710808362811804\n",
      "Loss: 0.001869523199275136\n",
      "Loss: 0.0018679620698094368\n",
      "Loss: 0.0018664065282791853\n",
      "Loss: 0.00186486029997468\n",
      "Loss: 0.0018633103463798761\n",
      "Loss: 0.0018617548048496246\n",
      "Loss: 0.0018601934425532818\n",
      "Loss: 0.0018586621154099703\n",
      "Loss: 0.0018571122782304883\n",
      "Loss: 0.0018555567367002368\n",
      "Loss: 0.001854021567851305\n",
      "Loss: 0.001852488610893488\n",
      "Loss: 0.0018509478541091084\n",
      "Loss: 0.0018493998795747757\n",
      "Loss: 0.0018478704150766134\n",
      "Loss: 0.0018463333835825324\n",
      "Loss: 0.0018448097398504615\n",
      "Loss: 0.0018432672368362546\n",
      "Loss: 0.001841745339334011\n",
      "Loss: 0.0018402067944407463\n",
      "Loss: 0.0018386736046522856\n",
      "Loss: 0.0018371534533798695\n",
      "Loss: 0.0018356371438130736\n",
      "Loss: 0.0018341040704399347\n",
      "Loss: 0.0018325820565223694\n",
      "Loss: 0.0018310751765966415\n",
      "Loss: 0.0018295531626790762\n",
      "Loss: 0.001828025677241385\n",
      "Loss: 0.0018265149556100368\n",
      "Loss: 0.0018249968998134136\n",
      "Loss: 0.0018234805902466178\n",
      "Loss: 0.0018219605553895235\n",
      "Loss: 0.0018204611260443926\n",
      "Loss: 0.0018189504044130445\n",
      "Loss: 0.0018174529541283846\n",
      "Loss: 0.001815938507206738\n",
      "Loss: 0.001814439077861607\n",
      "Loss: 0.001812937669456005\n",
      "Loss: 0.0018114382401108742\n",
      "Loss: 0.0018099332228302956\n",
      "Loss: 0.0018084356561303139\n",
      "Loss: 0.001806936226785183\n",
      "Loss: 0.0018054479733109474\n",
      "Loss: 0.0018039634451270103\n",
      "Loss: 0.0018024621531367302\n",
      "Loss: 0.0018009776249527931\n",
      "Loss: 0.001799476332962513\n",
      "Loss: 0.0017980069387704134\n",
      "Loss: 0.0017965130973607302\n",
      "Loss: 0.00179503601975739\n",
      "Loss: 0.001793551491573453\n",
      "Loss: 0.0017920651007443666\n",
      "Loss: 0.0017905938439071178\n",
      "Loss: 0.001789128058589995\n",
      "Loss: 0.0017876396887004375\n",
      "Loss: 0.0017861665692180395\n",
      "Loss: 0.0017846914706751704\n",
      "Loss: 0.0017832349985837936\n",
      "Loss: 0.001781756174750626\n",
      "Loss: 0.0017802848014980555\n",
      "Loss: 0.0017788191325962543\n",
      "Loss: 0.0017773606814444065\n",
      "Loss: 0.0017758987378329039\n",
      "Loss: 0.0017744346987456083\n",
      "Loss: 0.0017729689134284854\n",
      "Loss: 0.0017715257126837969\n",
      "Loss: 0.001770059927366674\n",
      "Loss: 0.0017686071805655956\n",
      "Loss: 0.0017671601381152868\n",
      "Loss: 0.0017657075077295303\n",
      "Loss: 0.001764254760928452\n",
      "Loss: 0.0017628076020628214\n",
      "Loss: 0.0017613588133826852\n",
      "Loss: 0.0017599097918719053\n",
      "Loss: 0.0017584740417078137\n",
      "Loss: 0.0017570157069712877\n",
      "Loss: 0.0017555761151015759\n",
      "Loss: 0.0017541515408083797\n",
      "Loss: 0.0017526933224871755\n",
      "Loss: 0.0017512706108391285\n",
      "Loss: 0.0017498366069048643\n",
      "Loss: 0.0017483951523900032\n",
      "Loss: 0.0017469667363911867\n",
      "Loss: 0.0017455328488722444\n",
      "Loss: 0.0017441007075831294\n",
      "Loss: 0.0017426854465156794\n",
      "Loss: 0.0017412608722224832\n",
      "Loss: 0.0017398269847035408\n",
      "Loss: 0.0017384004313498735\n",
      "Loss: 0.001736983424052596\n",
      "Loss: 0.001735573634505272\n",
      "Loss: 0.0017341470811516047\n",
      "Loss: 0.0017327300738543272\n",
      "Loss: 0.0017313037533313036\n",
      "Loss: 0.0017298995517194271\n",
      "Loss: 0.0017284974455833435\n",
      "Loss: 0.0017270671669393778\n",
      "Loss: 0.0017256519058719277\n",
      "Loss: 0.0017242571339011192\n",
      "Loss: 0.0017228531651198864\n",
      "Loss: 0.0017214417457580566\n",
      "Loss: 0.0017200377769768238\n",
      "Loss: 0.0017186375334858894\n",
      "Loss: 0.001717235310934484\n",
      "Loss: 0.0017158424016088247\n",
      "Loss: 0.001714438432827592\n",
      "Loss: 0.0017130436608567834\n",
      "Loss: 0.0017116433009505272\n",
      "Loss: 0.0017102430574595928\n",
      "Loss: 0.0017088595777750015\n",
      "Loss: 0.0017074687639251351\n",
      "Loss: 0.0017060721293091774\n",
      "Loss: 0.0017046923749148846\n",
      "Loss: 0.0017033071490004659\n",
      "Loss: 0.0017019142396748066\n",
      "Loss: 0.001700536347925663\n",
      "Loss: 0.001699154730886221\n",
      "Loss: 0.0016977731138467789\n",
      "Loss: 0.0016963877715170383\n",
      "Loss: 0.0016950175631791353\n",
      "Loss: 0.0016936284955590963\n",
      "Loss: 0.0016922674840316176\n",
      "Loss: 0.0016908820252865553\n",
      "Loss: 0.001689515309408307\n",
      "Loss: 0.0016881506890058517\n",
      "Loss: 0.0016867653466761112\n",
      "Loss: 0.0016854156274348497\n",
      "Loss: 0.00168402842245996\n",
      "Loss: 0.001682680449448526\n",
      "Loss: 0.0016813119873404503\n",
      "Loss: 0.0016799491131678224\n",
      "Loss: 0.0016785918269306421\n",
      "Loss: 0.0016772269736975431\n",
      "Loss: 0.0016758567653596401\n",
      "Loss: 0.0016745144966989756\n",
      "Loss: 0.0016731477808207273\n",
      "Loss: 0.0016718129627406597\n",
      "Loss: 0.001670459401793778\n",
      "Loss: 0.0016691021155565977\n",
      "Loss: 0.001667748554609716\n",
      "Loss: 0.0016664005815982819\n",
      "Loss: 0.001665056450292468\n",
      "Loss: 0.0016637085936963558\n",
      "Loss: 0.001662364462390542\n",
      "Loss: 0.0016610296443104744\n",
      "Loss: 0.0016596891218796372\n",
      "Loss: 0.0016583374235779047\n",
      "Loss: 0.0016570007428526878\n",
      "Loss: 0.001655671396292746\n",
      "Loss: 0.0016543345991522074\n",
      "Loss: 0.00165300362277776\n",
      "Loss: 0.001651664962992072\n",
      "Loss: 0.0016503228107467294\n",
      "Loss: 0.0016489935806021094\n",
      "Loss: 0.0016476699383929372\n",
      "Loss: 0.0016463333740830421\n",
      "Loss: 0.0016450209077447653\n",
      "Loss: 0.0016436860896646976\n",
      "Loss: 0.001642358722165227\n",
      "Loss: 0.0016410407843068242\n",
      "Loss: 0.0016397284343838692\n",
      "Loss: 0.0016383973415941\n",
      "Loss: 0.0016370774246752262\n",
      "Loss: 0.0016357593704015017\n",
      "Loss: 0.0016344524919986725\n",
      "Loss: 0.0016331402584910393\n",
      "Loss: 0.0016318147536367178\n",
      "Loss: 0.0016305098542943597\n",
      "Loss: 0.0016291936626657844\n",
      "Loss: 0.0016278887633234262\n",
      "Loss: 0.001626589335501194\n",
      "Loss: 0.0016252826899290085\n",
      "Loss: 0.0016239776741713285\n",
      "Loss: 0.0016226766165345907\n",
      "Loss: 0.00162137346342206\n",
      "Loss: 0.0016200648387894034\n",
      "Loss: 0.0016187618020921946\n",
      "Loss: 0.0016174680786207318\n",
      "Loss: 0.001616165041923523\n",
      "Loss: 0.0016148677095770836\n",
      "Loss: 0.0016135795740410686\n",
      "Loss: 0.0016122858505696058\n",
      "Loss: 0.0016109978314489126\n",
      "Loss: 0.0016097021289169788\n",
      "Loss: 0.0016084103845059872\n",
      "Loss: 0.0016071279533207417\n",
      "Loss: 0.0016058416804298759\n",
      "Loss: 0.00160455540753901\n",
      "Loss: 0.0016032729763537645\n",
      "Loss: 0.001601983094587922\n",
      "Loss: 0.0016007061349228024\n",
      "Loss: 0.0015994255663827062\n",
      "Loss: 0.001598154311068356\n",
      "Loss: 0.001596875605173409\n",
      "Loss: 0.0015955911949276924\n",
      "Loss: 0.0015943162143230438\n",
      "Loss: 0.0015930505469441414\n",
      "Loss: 0.0015917755663394928\n",
      "Loss: 0.0015905098989605904\n",
      "Loss: 0.0015892424853518605\n",
      "Loss: 0.0015879693673923612\n",
      "Loss: 0.0015866962494328618\n",
      "Loss: 0.0015854343073442578\n",
      "Loss: 0.0015841762069612741\n",
      "Loss: 0.0015829105395823717\n",
      "Loss: 0.0015816468512639403\n",
      "Loss: 0.0015803793212398887\n",
      "Loss: 0.0015791305340826511\n",
      "Loss: 0.0015778647502884269\n",
      "Loss: 0.0015766141004860401\n",
      "Loss: 0.0015753521583974361\n",
      "Loss: 0.001574107096530497\n",
      "Loss: 0.0015728527214378119\n",
      "Loss: 0.0015715907793492079\n",
      "Loss: 0.001570355030708015\n",
      "Loss: 0.001569085754454136\n",
      "Loss: 0.0015678538475185633\n",
      "Loss: 0.0015666050603613257\n",
      "Loss: 0.001565352431498468\n",
      "Loss: 0.001564109232276678\n"
     ]
    },
    {
     "name": "stdout",
     "output_type": "stream",
     "text": [
      "Loss: 0.001562862191349268\n",
      "Loss: 0.0015616321470588446\n",
      "Loss: 0.0015603796346113086\n",
      "Loss: 0.0015591420233249664\n",
      "Loss: 0.0015579082537442446\n",
      "Loss: 0.001556668896228075\n",
      "Loss: 0.001555431168526411\n",
      "Loss: 0.0015542084584012628\n",
      "Loss: 0.0015529689844697714\n",
      "Loss: 0.0015517408028244972\n",
      "Loss: 0.0015505013288930058\n",
      "Loss: 0.0015492712846025825\n",
      "Loss: 0.0015480449656024575\n",
      "Loss: 0.0015468166675418615\n",
      "Loss: 0.0015455996617674828\n",
      "Loss: 0.0015443714801222086\n",
      "Loss: 0.001543146907351911\n",
      "Loss: 0.0015419204719364643\n",
      "Loss: 0.0015407034661620855\n",
      "Loss: 0.0015394939109683037\n",
      "Loss: 0.0015382657293230295\n",
      "Loss: 0.0015370412729680538\n",
      "Loss: 0.0015358279924839735\n",
      "Loss: 0.0015346052823588252\n",
      "Loss: 0.0015334069030359387\n",
      "Loss: 0.0015321787213906646\n",
      "Loss: 0.0015309767331928015\n",
      "Loss: 0.0015297634527087212\n",
      "Loss: 0.0015285538975149393\n",
      "Loss: 0.0015273499302566051\n",
      "Loss: 0.0015261422377079725\n",
      "Loss: 0.0015249383868649602\n",
      "Loss: 0.001523732440546155\n",
      "Loss: 0.0015225287061184645\n",
      "Loss: 0.0015213227597996593\n",
      "Loss: 0.0015201263595372438\n",
      "Loss: 0.0015189298428595066\n",
      "Loss: 0.0015177314635366201\n",
      "Loss: 0.0015165350632742047\n",
      "Loss: 0.0015153330750763416\n",
      "Loss: 0.001514142146334052\n",
      "Loss: 0.0015129420207813382\n",
      "Loss: 0.0015117623843252659\n",
      "Loss: 0.0015105640050023794\n",
      "Loss: 0.0015093787806108594\n",
      "Loss: 0.0015081935562193394\n",
      "Loss: 0.0015070063527673483\n",
      "Loss: 0.001505804480984807\n",
      "Loss: 0.0015046248445287347\n",
      "Loss: 0.0015034358948469162\n",
      "Loss: 0.0015022694133222103\n",
      "Loss: 0.0015010879142209888\n",
      "Loss: 0.0014999007107689977\n",
      "Loss: 0.0014987247996032238\n",
      "Loss: 0.0014975507510825992\n",
      "Loss: 0.0014963655266910791\n",
      "Loss: 0.0014951784396544099\n",
      "Loss: 0.0014940043911337852\n",
      "Loss: 0.001492843497544527\n",
      "Loss: 0.0014916713116690516\n",
      "Loss: 0.0014905123971402645\n",
      "Loss: 0.0014893177431076765\n",
      "Loss: 0.0014881603419780731\n",
      "Loss: 0.0014869938604533672\n",
      "Loss: 0.0014858179492875934\n",
      "Loss: 0.001484657172113657\n",
      "Loss: 0.0014834962785243988\n",
      "Loss: 0.0014823372475802898\n",
      "Loss: 0.0014811651781201363\n",
      "Loss: 0.0014800041681155562\n",
      "Loss: 0.0014788374537602067\n",
      "Loss: 0.0014776766765862703\n",
      "Loss: 0.001476538134738803\n",
      "Loss: 0.0014753771247342229\n",
      "Loss: 0.0014742105267941952\n",
      "Loss: 0.0014730533584952354\n",
      "Loss: 0.0014719056198373437\n",
      "Loss: 0.0014707427471876144\n",
      "Loss: 0.0014696137513965368\n",
      "Loss: 0.001468452624976635\n",
      "Loss: 0.001467319787479937\n",
      "Loss: 0.0014661531895399094\n",
      "Loss: 0.0014650148805230856\n",
      "Loss: 0.0014638613210991025\n",
      "Loss: 0.0014627209166064858\n",
      "Loss: 0.0014615750405937433\n",
      "Loss: 0.0014604327734559774\n",
      "Loss: 0.0014592830557376146\n",
      "Loss: 0.0014581575524061918\n",
      "Loss: 0.001457007834687829\n",
      "Loss: 0.0014558769762516022\n",
      "Loss: 0.0014547384344041348\n",
      "Loss: 0.0014536073431372643\n",
      "Loss: 0.0014524782309308648\n",
      "Loss: 0.0014513360802084208\n",
      "Loss: 0.001450203126296401\n",
      "Loss: 0.0014490608591586351\n",
      "Loss: 0.0014479466481134295\n",
      "Loss: 0.0014468231238424778\n",
      "Loss: 0.001445699599571526\n",
      "Loss: 0.0014445593114942312\n",
      "Loss: 0.0014434282202273607\n",
      "Loss: 0.0014423083048313856\n",
      "Loss: 0.0014411886222660542\n",
      "Loss: 0.0014400669606402516\n",
      "Loss: 0.0014389471616595984\n",
      "Loss: 0.0014378197956830263\n",
      "Loss: 0.0014367111725732684\n",
      "Loss: 0.0014355933526530862\n",
      "Loss: 0.0014344772789627314\n",
      "Loss: 0.0014333575963974\n",
      "Loss: 0.0014322339557111263\n",
      "Loss: 0.0014311271952465177\n",
      "Loss: 0.0014300149632617831\n",
      "Loss: 0.001428904477506876\n",
      "Loss: 0.001427793875336647\n",
      "Loss: 0.0014266946818679571\n",
      "Loss: 0.0014255748828873038\n",
      "Loss: 0.0014244738267734647\n",
      "Loss: 0.0014233558904379606\n",
      "Loss: 0.0014222529716789722\n",
      "Loss: 0.0014211536617949605\n",
      "Loss: 0.0014200524892657995\n",
      "Loss: 0.0014189514331519604\n",
      "Loss: 0.0014178447891026735\n",
      "Loss: 0.0014167474582791328\n",
      "Loss: 0.001415638835169375\n",
      "Loss: 0.0014145508175715804\n",
      "Loss: 0.0014134496450424194\n",
      "Loss: 0.0014123597647994757\n",
      "Loss: 0.0014112587086856365\n",
      "Loss: 0.0014101669657975435\n",
      "Loss: 0.001409086282365024\n",
      "Loss: 0.001407977775670588\n",
      "Loss: 0.001406893483363092\n",
      "Loss: 0.0014058053493499756\n",
      "Loss: 0.0014047191943973303\n",
      "Loss: 0.0014036386273801327\n",
      "Loss: 0.0014025468844920397\n",
      "Loss: 0.001401466433890164\n",
      "Loss: 0.0014003858668729663\n",
      "Loss: 0.0013992941239848733\n",
      "Loss: 0.001398207969032228\n",
      "Loss: 0.0013971312437206507\n",
      "Loss: 0.0013960488140583038\n",
      "Loss: 0.0013949812855571508\n",
      "Loss: 0.0013939025811851025\n",
      "Loss: 0.0013928295811638236\n",
      "Loss: 0.0013917488977313042\n",
      "Loss: 0.0013906778767704964\n",
      "Loss: 0.0013895990559831262\n",
      "Loss: 0.001388531643897295\n",
      "Loss: 0.0013874585274606943\n",
      "Loss: 0.0013863873900845647\n",
      "Loss: 0.0013853161362931132\n",
      "Loss: 0.0013842468615621328\n",
      "Loss: 0.0013831774704158306\n",
      "Loss: 0.0013821081956848502\n",
      "Loss: 0.0013810445088893175\n",
      "Loss: 0.0013799788430333138\n",
      "Loss: 0.0013789188815280795\n",
      "Loss: 0.0013778719585388899\n",
      "Loss: 0.0013767951168119907\n",
      "Loss: 0.0013757313136011362\n",
      "Loss: 0.0013746696058660746\n",
      "Loss: 0.0013736096443608403\n",
      "Loss: 0.0013725534081459045\n",
      "Loss: 0.0013714971719309688\n",
      "Loss: 0.0013704446610063314\n",
      "Loss: 0.0013693938963115215\n",
      "Loss: 0.0013683376600965858\n",
      "Loss: 0.0013672870118170977\n",
      "Loss: 0.0013662214623764157\n",
      "Loss: 0.0013651801273226738\n",
      "Loss: 0.0013641202822327614\n",
      "Loss: 0.0013630806934088469\n",
      "Loss: 0.0013620301615446806\n",
      "Loss: 0.0013609868474304676\n",
      "Loss: 0.0013599456287920475\n",
      "Loss: 0.0013588969595730305\n",
      "Loss: 0.0013578556245192885\n",
      "Loss: 0.0013568049762398005\n",
      "Loss: 0.001355769345536828\n",
      "Loss: 0.0013547278940677643\n",
      "Loss: 0.001353684812784195\n",
      "Loss: 0.0013526417315006256\n",
      "Loss: 0.001351611572317779\n",
      "Loss: 0.0013505720999091864\n",
      "Loss: 0.0013495401944965124\n",
      "Loss: 0.001348495134152472\n",
      "Loss: 0.0013474652078002691\n",
      "Loss: 0.0013464312069118023\n",
      "Loss: 0.001345412340015173\n",
      "Loss: 0.0013443692587316036\n",
      "Loss: 0.0013433429412543774\n",
      "Loss: 0.0013423127820715308\n",
      "Loss: 0.0013412826228886843\n",
      "Loss: 0.0013402451295405626\n",
      "Loss: 0.0013392280088737607\n",
      "Loss: 0.0013382036704570055\n",
      "Loss: 0.0013371810782700777\n",
      "Loss: 0.00133615848608315\n",
      "Loss: 0.0013351357774809003\n",
      "Loss: 0.001334109460003674\n",
      "Loss: 0.0013330887304618955\n",
      "Loss: 0.0013320642756298184\n",
      "Loss: 0.0013310490176081657\n",
      "Loss: 0.0013300339924171567\n",
      "Loss: 0.0013290151255205274\n",
      "Loss: 0.0013280205894261599\n",
      "Loss: 0.0013269924093037844\n",
      "Loss: 0.0013259716797620058\n",
      "Loss: 0.0013249639887362719\n",
      "Loss: 0.0013239507097750902\n",
      "Loss: 0.0013229318428784609\n",
      "Loss: 0.0013219222892075777\n",
      "Loss: 0.0013209183234721422\n",
      "Loss: 0.00131991074886173\n",
      "Loss: 0.0013189049204811454\n",
      "Loss: 0.0013179010711610317\n",
      "Loss: 0.0013168915174901485\n",
      "Loss: 0.0013158894143998623\n",
      "Loss: 0.0013148835860192776\n",
      "Loss: 0.0013138684444129467\n",
      "Loss: 0.001312881475314498\n",
      "Loss: 0.0013118924107402563\n",
      "Loss: 0.0013108828570693731\n",
      "Loss: 0.0013098863419145346\n",
      "Loss: 0.0013088843552395701\n",
      "Loss: 0.0013078824849799275\n",
      "Loss: 0.0013068803818896413\n",
      "Loss: 0.0013058858457952738\n",
      "Loss: 0.001304904231801629\n",
      "Loss: 0.0013039022451266646\n",
      "Loss: 0.0013029132969677448\n",
      "Loss: 0.0013019242323935032\n",
      "Loss: 0.001300933538004756\n",
      "Loss: 0.0012999407481402159\n",
      "Loss: 0.001298957271501422\n",
      "Loss: 0.001297959010116756\n",
      "Loss: 0.0012969720410183072\n",
      "Loss: 0.001295996131375432\n",
      "Loss: 0.0012950145173817873\n",
      "Loss: 0.0012940275482833385\n",
      "Loss: 0.0012930347584187984\n",
      "Loss: 0.0012920608278363943\n",
      "Loss: 0.0012910717632621527\n",
      "Loss: 0.00129009410738945\n",
      "Loss: 0.0012891236692667007\n",
      "Loss: 0.001288144150748849\n",
      "Loss: 0.0012871719663962722\n",
      "Loss: 0.001286196056753397\n",
      "Loss: 0.0012852109503000975\n",
      "Loss: 0.0012842330615967512\n",
      "Loss: 0.0012832628563046455\n",
      "Loss: 0.0012822981225326657\n",
      "Loss: 0.0012813110370188951\n",
      "Loss: 0.0012803501449525356\n",
      "Loss: 0.0012793742353096604\n",
      "Loss: 0.0012784077553078532\n",
      "Loss: 0.001277439296245575\n",
      "Loss: 0.0012764653656631708\n",
      "Loss: 0.0012754950439557433\n",
      "Loss: 0.0012745414860546589\n",
      "Loss: 0.001273576868698001\n",
      "Loss: 0.0012726010754704475\n",
      "Loss: 0.0012716418132185936\n",
      "Loss: 0.0012706790585070848\n",
      "Loss: 0.0012697274796664715\n",
      "Loss: 0.0012687534326687455\n",
      "Loss: 0.0012678018538281322\n",
      "Loss: 0.0012668352574110031\n",
      "Loss: 0.0012658892665058374\n",
      "Loss: 0.0012649246491491795\n",
      "Loss: 0.0012639712076634169\n",
      "Loss: 0.001263023354113102\n",
      "Loss: 0.001262066070921719\n",
      "Loss: 0.0012611146084964275\n",
      "Loss: 0.0012601534835994244\n",
      "Loss: 0.0012592094717547297\n",
      "Loss: 0.0012582504423335195\n",
      "Loss: 0.0012573119020089507\n",
      "Loss: 0.0012563603231683373\n",
      "Loss: 0.0012554123532027006\n",
      "Loss: 0.001254451461136341\n",
      "Loss: 0.0012535129208117723\n",
      "Loss: 0.0012525669299066067\n",
      "Loss: 0.001251628389582038\n",
      "Loss: 0.0012506749480962753\n",
      "Loss: 0.0012497382704168558\n",
      "Loss: 0.0012488017091527581\n",
      "Loss: 0.0012478574644774199\n",
      "Loss: 0.001246911589987576\n",
      "Loss: 0.001245978637598455\n",
      "Loss: 0.0012450364883989096\n",
      "Loss: 0.0012440942227840424\n",
      "Loss: 0.0012431538198143244\n",
      "Loss: 0.0012422301806509495\n",
      "Loss: 0.0012412972282618284\n",
      "Loss: 0.0012403512373566628\n",
      "Loss: 0.0012394277146086097\n",
      "Loss: 0.0012384853325784206\n",
      "Loss: 0.0012375637888908386\n",
      "Loss: 0.0012366252485662699\n",
      "Loss: 0.0012356978841125965\n",
      "Loss: 0.0012347687734290957\n",
      "Loss: 0.0012338508386164904\n",
      "Loss: 0.0012329197488725185\n",
      "Loss: 0.0012319849338382483\n",
      "Loss: 0.0012310651363804936\n",
      "Loss: 0.0012301341630518436\n",
      "Loss: 0.0012292161118239164\n",
      "Loss: 0.0012282775714993477\n",
      "Loss: 0.0012273634783923626\n",
      "Loss: 0.001226441701874137\n",
      "Loss: 0.001225520041771233\n",
      "Loss: 0.0012246075784787536\n",
      "Loss: 0.001223687781020999\n",
      "Loss: 0.001222781022079289\n",
      "Loss: 0.0012218499323353171\n",
      "Loss: 0.0012209282722324133\n"
     ]
    },
    {
     "name": "stdout",
     "output_type": "stream",
     "text": [
      "Loss: 0.001220019767060876\n",
      "Loss: 0.0012191091664135456\n",
      "Loss: 0.0012181894853711128\n",
      "Loss: 0.0012172788847237825\n",
      "Loss: 0.0012163701467216015\n",
      "Loss: 0.0012154597789049149\n",
      "Loss: 0.0012145380023866892\n",
      "Loss: 0.0012136275181546807\n",
      "Loss: 0.0012127301888540387\n",
      "Loss: 0.0012118197046220303\n",
      "Loss: 0.0012109072413295507\n",
      "Loss: 0.0012099931482225657\n",
      "Loss: 0.0012091011740267277\n",
      "Loss: 0.0012082001194357872\n",
      "Loss: 0.0012072839308530092\n",
      "Loss: 0.0012063791509717703\n",
      "Loss: 0.0012054780963808298\n",
      "Loss: 0.0012045768089592457\n",
      "Loss: 0.0012036757543683052\n",
      "Loss: 0.0012027727207168937\n",
      "Loss: 0.001201877137646079\n",
      "Loss: 0.0012009779457002878\n",
      "Loss: 0.0012000859715044498\n",
      "Loss: 0.0011991960927844048\n",
      "Loss: 0.0011982967844232917\n",
      "Loss: 0.0011973937507718801\n",
      "Loss: 0.0011964982841163874\n",
      "Loss: 0.0011956008384004235\n",
      "Loss: 0.001194714684970677\n",
      "Loss: 0.0011938153766095638\n",
      "Loss: 0.0011929271277040243\n",
      "Loss: 0.0011920391116291285\n",
      "Loss: 0.0011911510955542326\n",
      "Loss: 0.0011902705300599337\n",
      "Loss: 0.001189367612823844\n",
      "Loss: 0.0011884889099746943\n",
      "Loss: 0.0011876062490046024\n",
      "Loss: 0.0011867200955748558\n",
      "Loss: 0.0011858358047902584\n",
      "Loss: 0.001184944063425064\n",
      "Loss: 0.0011840746738016605\n",
      "Loss: 0.0011831771116703749\n",
      "Loss: 0.0011823039967566729\n",
      "Loss: 0.0011814215686172247\n",
      "Loss: 0.0011805484537035227\n",
      "Loss: 0.0011796678882092237\n",
      "Loss: 0.001178789185360074\n",
      "Loss: 0.0011779030319303274\n",
      "Loss: 0.0011770206037908792\n",
      "Loss: 0.0011761492351070046\n",
      "Loss: 0.0011752762366086245\n",
      "Loss: 0.0011744085932150483\n",
      "Loss: 0.0011735297739505768\n",
      "Loss: 0.0011726530501618981\n",
      "Loss: 0.0011717892484739423\n",
      "Loss: 0.0011709085665643215\n",
      "Loss: 0.001170046627521515\n",
      "Loss: 0.0011691735126078129\n",
      "Loss: 0.0011683172779157758\n",
      "Loss: 0.001167429145425558\n",
      "Loss: 0.0011665616184473038\n",
      "Loss: 0.0011657015420496464\n",
      "Loss: 0.0011648378567770123\n",
      "Loss: 0.0011639834847301245\n",
      "Loss: 0.0011631178203970194\n",
      "Loss: 0.0011622521560639143\n",
      "Loss: 0.0011613939423114061\n",
      "Loss: 0.0011605171021074057\n",
      "Loss: 0.0011596756521612406\n",
      "Loss: 0.0011588119668886065\n",
      "Loss: 0.001157940598204732\n",
      "Loss: 0.00115709169767797\n",
      "Loss: 0.0011562317376956344\n",
      "Loss: 0.001155366189777851\n",
      "Loss: 0.001154517289251089\n",
      "Loss: 0.0011536646634340286\n",
      "Loss: 0.0011528139002621174\n",
      "Loss: 0.0011519482359290123\n",
      "Loss: 0.0011510939802974463\n",
      "Loss: 0.0011502450797706842\n",
      "Loss: 0.0011493924539536238\n",
      "Loss: 0.0011485418071970344\n",
      "Loss: 0.001147681730799377\n",
      "Loss: 0.0011468459852039814\n",
      "Loss: 0.0011460046516731381\n",
      "Loss: 0.0011451445752754807\n",
      "Loss: 0.001144306967034936\n",
      "Loss: 0.0011434524785727262\n",
      "Loss: 0.0011426054406911135\n",
      "Loss: 0.0011417603818699718\n",
      "Loss: 0.0011409171856939793\n",
      "Loss: 0.0011400757357478142\n",
      "Loss: 0.0011392325395718217\n",
      "Loss: 0.0011383912060409784\n",
      "Loss: 0.0011375460308045149\n",
      "Loss: 0.001136701088398695\n",
      "Loss: 0.0011358708143234253\n",
      "Loss: 0.0011350312270224094\n",
      "Loss: 0.001134197460487485\n",
      "Loss: 0.001133357989601791\n",
      "Loss: 0.0011325109517201781\n",
      "Loss: 0.0011316807940602303\n",
      "Loss: 0.001130846911109984\n",
      "Loss: 0.0011300130281597376\n",
      "Loss: 0.0011291828704997897\n",
      "Loss: 0.001128345262259245\n",
      "Loss: 0.0011275075376033783\n",
      "Loss: 0.0011266774963587523\n",
      "Loss: 0.001125850947573781\n",
      "Loss: 0.001125028356909752\n",
      "Loss: 0.0011241926113143563\n",
      "Loss: 0.0011233531404286623\n",
      "Loss: 0.0011225322959944606\n",
      "Loss: 0.0011217077262699604\n",
      "Loss: 0.0011208831565454602\n",
      "Loss: 0.0011200641747564077\n",
      "Loss: 0.0011192302918061614\n",
      "Loss: 0.0011184114264324307\n",
      "Loss: 0.001117590581998229\n",
      "Loss: 0.00111675844527781\n",
      "Loss: 0.0011159507557749748\n",
      "Loss: 0.0011151224607601762\n",
      "Loss: 0.0011143072042614222\n",
      "Loss: 0.0011134771630167961\n",
      "Loss: 0.0011126581812277436\n",
      "Loss: 0.0011118391994386911\n",
      "Loss: 0.0011110277846455574\n",
      "Loss: 0.001110208686441183\n",
      "Loss: 0.001109386095777154\n",
      "Loss: 0.0011085727019235492\n",
      "Loss: 0.0011077594244852662\n",
      "Loss: 0.0011069553438574076\n",
      "Loss: 0.0011061383411288261\n",
      "Loss: 0.0011053269263356924\n",
      "Loss: 0.0011045134160667658\n",
      "Loss: 0.0011036964133381844\n",
      "Loss: 0.001102888723835349\n",
      "Loss: 0.0011020846432074904\n",
      "Loss: 0.001101258210837841\n",
      "Loss: 0.0011004579719156027\n",
      "Loss: 0.001099661341868341\n",
      "Loss: 0.0010988499270752072\n",
      "Loss: 0.0010980421211570501\n",
      "Loss: 0.0010972344316542149\n",
      "Loss: 0.001096430467441678\n",
      "Loss: 0.001095622661523521\n",
      "Loss: 0.0010948298731818795\n",
      "Loss: 0.0010940239299088717\n",
      "Loss: 0.0010932181030511856\n",
      "Loss: 0.0010924141388386488\n",
      "Loss: 0.0010916213504970074\n",
      "Loss: 0.001090811681933701\n",
      "Loss: 0.0010900150518864393\n",
      "Loss: 0.0010892261052504182\n",
      "Loss: 0.0010884350631386042\n",
      "Loss: 0.0010876143351197243\n",
      "Loss: 0.0010868345852941275\n",
      "Loss: 0.0010860380716621876\n",
      "Loss: 0.0010852378327399492\n",
      "Loss: 0.0010844505159184337\n",
      "Loss: 0.0010836502769961953\n",
      "Loss: 0.0010828557424247265\n",
      "Loss: 0.001082062954083085\n",
      "Loss: 0.0010812720283865929\n",
      "Loss: 0.0010804848279803991\n",
      "Loss: 0.0010796956485137343\n",
      "Loss: 0.0010789103107526898\n",
      "Loss: 0.0010781136807054281\n",
      "Loss: 0.001077332184650004\n",
      "Loss: 0.0010765432380139828\n",
      "Loss: 0.0010757523123174906\n",
      "Loss: 0.001074964995495975\n",
      "Loss: 0.001074190833605826\n",
      "Loss: 0.0010733961826190352\n",
      "Loss: 0.0010726109612733126\n",
      "Loss: 0.0010718349367380142\n",
      "Loss: 0.0010710421483963728\n",
      "Loss: 0.0010702642612159252\n",
      "Loss: 0.0010694863740354776\n",
      "Loss: 0.0010687066242098808\n",
      "Loss: 0.0010679175611585379\n",
      "Loss: 0.0010671415366232395\n",
      "Loss: 0.0010663693537935615\n",
      "Loss: 0.0010655821533873677\n",
      "Loss: 0.0010648061288520694\n",
      "Loss: 0.001064039533957839\n",
      "Loss: 0.0010632635094225407\n",
      "Loss: 0.001062485622242093\n",
      "Loss: 0.0010617022635415196\n",
      "Loss: 0.0010609335731714964\n",
      "Loss: 0.0010601615067571402\n",
      "Loss: 0.0010593910701572895\n",
      "Loss: 0.001058622496202588\n",
      "Loss: 0.0010578557848930359\n",
      "Loss: 0.0010570817394182086\n"
     ]
    }
   ],
   "source": [
    "for iter in range(4000):\n",
    "\n",
    "    model.hidden = ((torch.zeros(model.lstm_num_layers, model.batch_size, model.lstm_hidden_size).cuda()),\n",
    "          (torch.zeros(model.lstm_num_layers, model.batch_size, model.lstm_hidden_size).cuda()))\n",
    "    out = model(sample1_,sample2_.detach(),sample3_.detach())\n",
    "    loss = criterion(out, label_sample)\n",
    "    print(f'Loss: {loss}')\n",
    "\n",
    "    optimizer.zero_grad()\n",
    "    loss.backward()\n",
    "\n",
    "    optimizer.step()"
   ]
  },
  {
   "cell_type": "markdown",
   "metadata": {
    "id": "TyzyNWqW4vG4"
   },
   "source": [
    "Train the main model"
   ]
  },
  {
   "cell_type": "code",
   "execution_count": 44,
   "metadata": {
    "id": "R8AyDvMS4y1Q"
   },
   "outputs": [],
   "source": [
    "model = three_line_network(channel_dim_OHLCV=sample1.shape[-1],channel_dim_INDICATORS=sample2.shape[-1],channel_dim_OSCILLATORS=sample3.shape[-1],\n",
    "                           conv1_kernel_num_OHLCV=sample1.shape[-1],conv1_kernel_size_OHLCV=5,conv2_kernel_num_OHLCV=sample1.shape[-1],conv2_kernel_size_OHLCV=3,\n",
    "                           conv1_kernel_num_IND=sample2.shape[-1],conv1_kernel_size_IND=5,conv2_kernel_num_IND=sample2.shape[-1],conv2_kernel_size_IND=3,\n",
    "                           conv1_kernel_num_OSC=sample3.shape[-1],conv1_kernel_size_OSC=5,conv2_kernel_num_OSC=sample3.shape[-1],conv2_kernel_size_OSC=3,\n",
    "                           maxpool_kernel_size=2, max_pool_stride=2, input_size=12, lstm_hidden_size=20, lstm_num_layers=1, batch_size=batch_size, output_size=1)\n",
    "\n",
    "model.cuda()\n",
    "criterion = nn.BCELoss()\n",
    "optimizer = torch.optim.Adam(model.parameters(), lr = lr)"
   ]
  },
  {
   "cell_type": "code",
   "execution_count": 46,
   "metadata": {
    "colab": {
     "base_uri": "https://localhost:8080/"
    },
    "id": "qcIxXn_vDHvb",
    "outputId": "b6456eb6-d854-4502-fbd0-fb330d2e6484"
   },
   "outputs": [
    {
     "data": {
      "text/plain": [
       "6"
      ]
     },
     "execution_count": 46,
     "metadata": {},
     "output_type": "execute_result"
    }
   ],
   "source": [
    "length = 0\n",
    "for data in train_df_pl_AE_dataloader_final:\n",
    "      length = length + len(data)\n",
    "\n",
    "last_batch = length%batch_size\n",
    "last_batch"
   ]
  },
  {
   "cell_type": "code",
   "execution_count": 49,
   "metadata": {
    "colab": {
     "base_uri": "https://localhost:8080/",
     "height": 1000,
     "referenced_widgets": [
      "130a1605a662474eb73b4eb188263cfa",
      "b46f548a0c724cd7b01a5ae9c9ab1445",
      "f75b6e9b8fec4fe99cb8919481a67d91",
      "064b3d658dd242cba985d94faa361b9d",
      "91563bfec35949b3a156a3a7102ad3ba",
      "1239de01fa364dcf8882acbdf2eee329",
      "318e216634ac4338910a4f2033ae3965",
      "3d290594153a4f4a935d92e9d951d204",
      "5cda447777b148e6a9c806d98ec2c644",
      "4dbee31b1d0f4ef4a6d9469b1251f9d7",
      "282374506d1544d4bd530e384fc6d665"
     ]
    },
    "id": "_2_dIhpt5JaJ",
    "outputId": "46f855e6-b4cd-49b9-8a55-97ed7e6ba730",
    "scrolled": true
   },
   "outputs": [
    {
     "name": "stderr",
     "output_type": "stream",
     "text": [
      "  0%|          | 1/600 [00:02<22:03,  2.21s/it]"
     ]
    },
    {
     "name": "stdout",
     "output_type": "stream",
     "text": [
      "Epoch 0 Loss: 0.6901978850364685\n"
     ]
    },
    {
     "name": "stderr",
     "output_type": "stream",
     "text": [
      "\r",
      "  0%|          | 2/600 [00:04<21:15,  2.13s/it]"
     ]
    },
    {
     "name": "stdout",
     "output_type": "stream",
     "text": [
      "Epoch 1 Loss: 0.6902391314506531\n"
     ]
    },
    {
     "name": "stderr",
     "output_type": "stream",
     "text": [
      "\r",
      "  0%|          | 3/600 [00:06<21:17,  2.14s/it]"
     ]
    },
    {
     "name": "stdout",
     "output_type": "stream",
     "text": [
      "Epoch 2 Loss: 0.6906892657279968\n"
     ]
    },
    {
     "name": "stderr",
     "output_type": "stream",
     "text": [
      "\r",
      "  1%|          | 4/600 [00:08<21:26,  2.16s/it]"
     ]
    },
    {
     "name": "stdout",
     "output_type": "stream",
     "text": [
      "Epoch 3 Loss: 0.6910130381584167\n"
     ]
    },
    {
     "name": "stderr",
     "output_type": "stream",
     "text": [
      "\r",
      "  1%|          | 5/600 [00:10<21:08,  2.13s/it]"
     ]
    },
    {
     "name": "stdout",
     "output_type": "stream",
     "text": [
      "Epoch 4 Loss: 0.6902297735214233\n"
     ]
    },
    {
     "name": "stderr",
     "output_type": "stream",
     "text": [
      "\r",
      "  1%|          | 6/600 [00:12<21:00,  2.12s/it]"
     ]
    },
    {
     "name": "stdout",
     "output_type": "stream",
     "text": [
      "Epoch 5 Loss: 0.6892303228378296\n"
     ]
    },
    {
     "name": "stderr",
     "output_type": "stream",
     "text": [
      "\r",
      "  1%|          | 7/600 [00:15<21:26,  2.17s/it]"
     ]
    },
    {
     "name": "stdout",
     "output_type": "stream",
     "text": [
      "Epoch 6 Loss: 0.6872984170913696\n"
     ]
    },
    {
     "name": "stderr",
     "output_type": "stream",
     "text": [
      "\r",
      "  1%|▏         | 8/600 [00:17<21:10,  2.15s/it]"
     ]
    },
    {
     "name": "stdout",
     "output_type": "stream",
     "text": [
      "Epoch 7 Loss: 0.6856749057769775\n"
     ]
    },
    {
     "name": "stderr",
     "output_type": "stream",
     "text": [
      "\r",
      "  2%|▏         | 9/600 [00:19<20:52,  2.12s/it]"
     ]
    },
    {
     "name": "stdout",
     "output_type": "stream",
     "text": [
      "Epoch 8 Loss: 0.6842048168182373\n"
     ]
    },
    {
     "name": "stderr",
     "output_type": "stream",
     "text": [
      "\r",
      "  2%|▏         | 10/600 [00:21<20:51,  2.12s/it]"
     ]
    },
    {
     "name": "stdout",
     "output_type": "stream",
     "text": [
      "Epoch 9 Loss: 0.6828145980834961\n"
     ]
    },
    {
     "name": "stderr",
     "output_type": "stream",
     "text": [
      "\r",
      "  2%|▏         | 11/600 [00:23<20:50,  2.12s/it]"
     ]
    },
    {
     "name": "stdout",
     "output_type": "stream",
     "text": [
      "Epoch 10 Loss: 0.6816273927688599\n"
     ]
    },
    {
     "name": "stderr",
     "output_type": "stream",
     "text": [
      "\r",
      "  2%|▏         | 12/600 [00:25<20:33,  2.10s/it]"
     ]
    },
    {
     "name": "stdout",
     "output_type": "stream",
     "text": [
      "Epoch 11 Loss: 0.6805903911590576\n"
     ]
    },
    {
     "name": "stderr",
     "output_type": "stream",
     "text": [
      "\r",
      "  2%|▏         | 13/600 [00:27<20:33,  2.10s/it]"
     ]
    },
    {
     "name": "stdout",
     "output_type": "stream",
     "text": [
      "Epoch 12 Loss: 0.6789948344230652\n"
     ]
    },
    {
     "name": "stderr",
     "output_type": "stream",
     "text": [
      "\r",
      "  2%|▏         | 14/600 [00:29<20:35,  2.11s/it]"
     ]
    },
    {
     "name": "stdout",
     "output_type": "stream",
     "text": [
      "Epoch 13 Loss: 0.6771954894065857\n"
     ]
    },
    {
     "name": "stderr",
     "output_type": "stream",
     "text": [
      "\r",
      "  2%|▎         | 15/600 [00:31<20:52,  2.14s/it]"
     ]
    },
    {
     "name": "stdout",
     "output_type": "stream",
     "text": [
      "Epoch 14 Loss: 0.6745616793632507\n"
     ]
    },
    {
     "name": "stderr",
     "output_type": "stream",
     "text": [
      "\r",
      "  3%|▎         | 16/600 [00:34<20:43,  2.13s/it]"
     ]
    },
    {
     "name": "stdout",
     "output_type": "stream",
     "text": [
      "Epoch 15 Loss: 0.6719357371330261\n"
     ]
    },
    {
     "name": "stderr",
     "output_type": "stream",
     "text": [
      "\r",
      "  3%|▎         | 17/600 [00:36<20:31,  2.11s/it]"
     ]
    },
    {
     "name": "stdout",
     "output_type": "stream",
     "text": [
      "Epoch 16 Loss: 0.6690759658813477\n"
     ]
    },
    {
     "name": "stderr",
     "output_type": "stream",
     "text": [
      "\r",
      "  3%|▎         | 18/600 [00:38<20:27,  2.11s/it]"
     ]
    },
    {
     "name": "stdout",
     "output_type": "stream",
     "text": [
      "Epoch 17 Loss: 0.6658468842506409\n"
     ]
    },
    {
     "name": "stderr",
     "output_type": "stream",
     "text": [
      "\r",
      "  3%|▎         | 19/600 [00:40<20:19,  2.10s/it]"
     ]
    },
    {
     "name": "stdout",
     "output_type": "stream",
     "text": [
      "Epoch 18 Loss: 0.6627814769744873\n"
     ]
    },
    {
     "name": "stderr",
     "output_type": "stream",
     "text": [
      "\r",
      "  3%|▎         | 20/600 [00:42<20:08,  2.08s/it]"
     ]
    },
    {
     "name": "stdout",
     "output_type": "stream",
     "text": [
      "Epoch 19 Loss: 0.6599016189575195\n"
     ]
    },
    {
     "name": "stderr",
     "output_type": "stream",
     "text": [
      "\r",
      "  4%|▎         | 21/600 [00:44<19:57,  2.07s/it]"
     ]
    },
    {
     "name": "stdout",
     "output_type": "stream",
     "text": [
      "Epoch 20 Loss: 0.6564216613769531\n"
     ]
    },
    {
     "name": "stderr",
     "output_type": "stream",
     "text": [
      "\r",
      "  4%|▎         | 22/600 [00:46<19:58,  2.07s/it]"
     ]
    },
    {
     "name": "stdout",
     "output_type": "stream",
     "text": [
      "Epoch 21 Loss: 0.6524030566215515\n"
     ]
    },
    {
     "name": "stderr",
     "output_type": "stream",
     "text": [
      "\r",
      "  4%|▍         | 23/600 [00:48<20:01,  2.08s/it]"
     ]
    },
    {
     "name": "stdout",
     "output_type": "stream",
     "text": [
      "Epoch 22 Loss: 0.6492850184440613\n"
     ]
    },
    {
     "name": "stderr",
     "output_type": "stream",
     "text": [
      "\r",
      "  4%|▍         | 24/600 [00:50<19:52,  2.07s/it]"
     ]
    },
    {
     "name": "stdout",
     "output_type": "stream",
     "text": [
      "Epoch 23 Loss: 0.6458245515823364\n"
     ]
    },
    {
     "name": "stderr",
     "output_type": "stream",
     "text": [
      "\r",
      "  4%|▍         | 25/600 [00:52<20:08,  2.10s/it]"
     ]
    },
    {
     "name": "stdout",
     "output_type": "stream",
     "text": [
      "Epoch 24 Loss: 0.6427420377731323\n"
     ]
    },
    {
     "name": "stderr",
     "output_type": "stream",
     "text": [
      "\r",
      "  4%|▍         | 26/600 [00:55<20:20,  2.13s/it]"
     ]
    },
    {
     "name": "stdout",
     "output_type": "stream",
     "text": [
      "Epoch 25 Loss: 0.6394909620285034\n"
     ]
    },
    {
     "name": "stderr",
     "output_type": "stream",
     "text": [
      "\r",
      "  4%|▍         | 27/600 [00:57<20:21,  2.13s/it]"
     ]
    },
    {
     "name": "stdout",
     "output_type": "stream",
     "text": [
      "Epoch 26 Loss: 0.6358634829521179\n"
     ]
    },
    {
     "name": "stderr",
     "output_type": "stream",
     "text": [
      "\r",
      "  5%|▍         | 28/600 [00:59<20:11,  2.12s/it]"
     ]
    },
    {
     "name": "stdout",
     "output_type": "stream",
     "text": [
      "Epoch 27 Loss: 0.6327064037322998\n"
     ]
    },
    {
     "name": "stderr",
     "output_type": "stream",
     "text": [
      "\r",
      "  5%|▍         | 29/600 [01:01<19:54,  2.09s/it]"
     ]
    },
    {
     "name": "stdout",
     "output_type": "stream",
     "text": [
      "Epoch 28 Loss: 0.6296583414077759\n"
     ]
    },
    {
     "name": "stderr",
     "output_type": "stream",
     "text": [
      "\r",
      "  5%|▌         | 30/600 [01:03<20:04,  2.11s/it]"
     ]
    },
    {
     "name": "stdout",
     "output_type": "stream",
     "text": [
      "Epoch 29 Loss: 0.6265279650688171\n"
     ]
    },
    {
     "name": "stderr",
     "output_type": "stream",
     "text": [
      "\r",
      "  5%|▌         | 31/600 [01:05<19:51,  2.09s/it]"
     ]
    },
    {
     "name": "stdout",
     "output_type": "stream",
     "text": [
      "Epoch 30 Loss: 0.6233331561088562\n"
     ]
    },
    {
     "name": "stderr",
     "output_type": "stream",
     "text": [
      "\r",
      "  5%|▌         | 32/600 [01:07<19:48,  2.09s/it]"
     ]
    },
    {
     "name": "stdout",
     "output_type": "stream",
     "text": [
      "Epoch 31 Loss: 0.6197760105133057\n"
     ]
    },
    {
     "name": "stderr",
     "output_type": "stream",
     "text": [
      "\r",
      "  6%|▌         | 33/600 [01:09<19:40,  2.08s/it]"
     ]
    },
    {
     "name": "stdout",
     "output_type": "stream",
     "text": [
      "Epoch 32 Loss: 0.6163893938064575\n"
     ]
    },
    {
     "name": "stderr",
     "output_type": "stream",
     "text": [
      "\r",
      "  6%|▌         | 34/600 [01:11<19:32,  2.07s/it]"
     ]
    },
    {
     "name": "stdout",
     "output_type": "stream",
     "text": [
      "Epoch 33 Loss: 0.6129850745201111\n"
     ]
    },
    {
     "name": "stderr",
     "output_type": "stream",
     "text": [
      "\r",
      "  6%|▌         | 35/600 [01:13<19:31,  2.07s/it]"
     ]
    },
    {
     "name": "stdout",
     "output_type": "stream",
     "text": [
      "Epoch 34 Loss: 0.6097655892372131\n"
     ]
    },
    {
     "name": "stderr",
     "output_type": "stream",
     "text": [
      "\r",
      "  6%|▌         | 36/600 [01:15<19:23,  2.06s/it]"
     ]
    },
    {
     "name": "stdout",
     "output_type": "stream",
     "text": [
      "Epoch 35 Loss: 0.6057714223861694\n"
     ]
    },
    {
     "name": "stderr",
     "output_type": "stream",
     "text": [
      "\r",
      "  6%|▌         | 37/600 [01:17<19:32,  2.08s/it]"
     ]
    },
    {
     "name": "stdout",
     "output_type": "stream",
     "text": [
      "Epoch 36 Loss: 0.6018564105033875\n"
     ]
    },
    {
     "name": "stderr",
     "output_type": "stream",
     "text": [
      "\r",
      "  6%|▋         | 38/600 [01:20<19:38,  2.10s/it]"
     ]
    },
    {
     "name": "stdout",
     "output_type": "stream",
     "text": [
      "Epoch 37 Loss: 0.5977760553359985\n"
     ]
    },
    {
     "name": "stderr",
     "output_type": "stream",
     "text": [
      "\r",
      "  6%|▋         | 39/600 [01:22<19:29,  2.08s/it]"
     ]
    },
    {
     "name": "stdout",
     "output_type": "stream",
     "text": [
      "Epoch 38 Loss: 0.5931366682052612\n"
     ]
    },
    {
     "name": "stderr",
     "output_type": "stream",
     "text": [
      "\r",
      "  7%|▋         | 40/600 [01:24<19:21,  2.07s/it]"
     ]
    },
    {
     "name": "stdout",
     "output_type": "stream",
     "text": [
      "Epoch 39 Loss: 0.5875861644744873\n"
     ]
    },
    {
     "name": "stderr",
     "output_type": "stream",
     "text": [
      "\r",
      "  7%|▋         | 41/600 [01:26<19:14,  2.07s/it]"
     ]
    },
    {
     "name": "stdout",
     "output_type": "stream",
     "text": [
      "Epoch 40 Loss: 0.5832608938217163\n"
     ]
    },
    {
     "name": "stderr",
     "output_type": "stream",
     "text": [
      "\r",
      "  7%|▋         | 42/600 [01:28<19:07,  2.06s/it]"
     ]
    },
    {
     "name": "stdout",
     "output_type": "stream",
     "text": [
      "Epoch 41 Loss: 0.579210638999939\n"
     ]
    },
    {
     "name": "stderr",
     "output_type": "stream",
     "text": [
      "\r",
      "  7%|▋         | 43/600 [01:30<19:01,  2.05s/it]"
     ]
    },
    {
     "name": "stdout",
     "output_type": "stream",
     "text": [
      "Epoch 42 Loss: 0.5750758051872253\n"
     ]
    },
    {
     "name": "stderr",
     "output_type": "stream",
     "text": [
      "\r",
      "  7%|▋         | 44/600 [01:32<19:04,  2.06s/it]"
     ]
    },
    {
     "name": "stdout",
     "output_type": "stream",
     "text": [
      "Epoch 43 Loss: 0.5712426900863647\n"
     ]
    },
    {
     "name": "stderr",
     "output_type": "stream",
     "text": [
      "\r",
      "  8%|▊         | 45/600 [01:34<19:17,  2.08s/it]"
     ]
    },
    {
     "name": "stdout",
     "output_type": "stream",
     "text": [
      "Epoch 44 Loss: 0.5671848058700562\n"
     ]
    },
    {
     "name": "stderr",
     "output_type": "stream",
     "text": [
      "\r",
      "  8%|▊         | 46/600 [01:36<19:18,  2.09s/it]"
     ]
    },
    {
     "name": "stdout",
     "output_type": "stream",
     "text": [
      "Epoch 45 Loss: 0.5634081363677979\n"
     ]
    },
    {
     "name": "stderr",
     "output_type": "stream",
     "text": [
      "\r",
      "  8%|▊         | 47/600 [01:38<19:11,  2.08s/it]"
     ]
    },
    {
     "name": "stdout",
     "output_type": "stream",
     "text": [
      "Epoch 46 Loss: 0.5595629215240479\n"
     ]
    },
    {
     "name": "stderr",
     "output_type": "stream",
     "text": [
      "\r",
      "  8%|▊         | 48/600 [01:40<19:03,  2.07s/it]"
     ]
    },
    {
     "name": "stdout",
     "output_type": "stream",
     "text": [
      "Epoch 47 Loss: 0.556003749370575\n"
     ]
    },
    {
     "name": "stderr",
     "output_type": "stream",
     "text": [
      "\r",
      "  8%|▊         | 49/600 [01:42<19:11,  2.09s/it]"
     ]
    },
    {
     "name": "stdout",
     "output_type": "stream",
     "text": [
      "Epoch 48 Loss: 0.5527932643890381\n"
     ]
    },
    {
     "name": "stderr",
     "output_type": "stream",
     "text": [
      "\r",
      "  8%|▊         | 50/600 [01:44<18:59,  2.07s/it]"
     ]
    },
    {
     "name": "stdout",
     "output_type": "stream",
     "text": [
      "Epoch 49 Loss: 0.5495519042015076\n"
     ]
    },
    {
     "name": "stderr",
     "output_type": "stream",
     "text": [
      "\r",
      "  8%|▊         | 51/600 [01:46<18:53,  2.07s/it]"
     ]
    },
    {
     "name": "stdout",
     "output_type": "stream",
     "text": [
      "Epoch 50 Loss: 0.5462771654129028\n"
     ]
    },
    {
     "name": "stderr",
     "output_type": "stream",
     "text": [
      "\r",
      "  9%|▊         | 52/600 [01:48<18:47,  2.06s/it]"
     ]
    },
    {
     "name": "stdout",
     "output_type": "stream",
     "text": [
      "Epoch 51 Loss: 0.5428617596626282\n"
     ]
    },
    {
     "name": "stderr",
     "output_type": "stream",
     "text": [
      "\r",
      "  9%|▉         | 53/600 [01:51<19:05,  2.09s/it]"
     ]
    },
    {
     "name": "stdout",
     "output_type": "stream",
     "text": [
      "Epoch 52 Loss: 0.5389441847801208\n"
     ]
    },
    {
     "name": "stderr",
     "output_type": "stream",
     "text": [
      "\r",
      "  9%|▉         | 54/600 [01:53<18:57,  2.08s/it]"
     ]
    },
    {
     "name": "stdout",
     "output_type": "stream",
     "text": [
      "Epoch 53 Loss: 0.5356501340866089\n"
     ]
    },
    {
     "name": "stderr",
     "output_type": "stream",
     "text": [
      "\r",
      "  9%|▉         | 55/600 [01:55<19:00,  2.09s/it]"
     ]
    },
    {
     "name": "stdout",
     "output_type": "stream",
     "text": [
      "Epoch 54 Loss: 0.532808244228363\n"
     ]
    },
    {
     "name": "stderr",
     "output_type": "stream",
     "text": [
      "\r",
      "  9%|▉         | 56/600 [01:57<19:39,  2.17s/it]"
     ]
    },
    {
     "name": "stdout",
     "output_type": "stream",
     "text": [
      "Epoch 55 Loss: 0.5296947360038757\n"
     ]
    },
    {
     "name": "stderr",
     "output_type": "stream",
     "text": [
      "\r",
      " 10%|▉         | 57/600 [01:59<19:52,  2.20s/it]"
     ]
    },
    {
     "name": "stdout",
     "output_type": "stream",
     "text": [
      "Epoch 56 Loss: 0.5261279344558716\n"
     ]
    },
    {
     "name": "stderr",
     "output_type": "stream",
     "text": [
      "\r",
      " 10%|▉         | 58/600 [02:01<19:32,  2.16s/it]"
     ]
    },
    {
     "name": "stdout",
     "output_type": "stream",
     "text": [
      "Epoch 57 Loss: 0.5228716135025024\n"
     ]
    },
    {
     "name": "stderr",
     "output_type": "stream",
     "text": [
      "\r",
      " 10%|▉         | 59/600 [02:04<19:11,  2.13s/it]"
     ]
    },
    {
     "name": "stdout",
     "output_type": "stream",
     "text": [
      "Epoch 58 Loss: 0.5195841789245605\n"
     ]
    },
    {
     "name": "stderr",
     "output_type": "stream",
     "text": [
      "\r",
      " 10%|█         | 60/600 [02:06<19:03,  2.12s/it]"
     ]
    },
    {
     "name": "stdout",
     "output_type": "stream",
     "text": [
      "Epoch 59 Loss: 0.5162296891212463\n"
     ]
    },
    {
     "name": "stderr",
     "output_type": "stream",
     "text": [
      "\r",
      " 10%|█         | 61/600 [02:08<19:10,  2.14s/it]"
     ]
    },
    {
     "name": "stdout",
     "output_type": "stream",
     "text": [
      "Epoch 60 Loss: 0.5143523812294006\n"
     ]
    },
    {
     "name": "stderr",
     "output_type": "stream",
     "text": [
      "\r",
      " 10%|█         | 62/600 [02:10<18:54,  2.11s/it]"
     ]
    },
    {
     "name": "stdout",
     "output_type": "stream",
     "text": [
      "Epoch 61 Loss: 0.510737419128418\n"
     ]
    },
    {
     "name": "stderr",
     "output_type": "stream",
     "text": [
      "\r",
      " 10%|█         | 63/600 [02:12<18:46,  2.10s/it]"
     ]
    },
    {
     "name": "stdout",
     "output_type": "stream",
     "text": [
      "Epoch 62 Loss: 0.5074997544288635\n"
     ]
    },
    {
     "name": "stderr",
     "output_type": "stream",
     "text": [
      "\r",
      " 11%|█         | 64/600 [02:14<18:36,  2.08s/it]"
     ]
    },
    {
     "name": "stdout",
     "output_type": "stream",
     "text": [
      "Epoch 63 Loss: 0.5046319365501404\n"
     ]
    },
    {
     "name": "stderr",
     "output_type": "stream",
     "text": [
      "\r",
      " 11%|█         | 65/600 [02:16<18:27,  2.07s/it]"
     ]
    },
    {
     "name": "stdout",
     "output_type": "stream",
     "text": [
      "Epoch 64 Loss: 0.50223308801651\n"
     ]
    },
    {
     "name": "stderr",
     "output_type": "stream",
     "text": [
      "\r",
      " 11%|█         | 66/600 [02:18<18:21,  2.06s/it]"
     ]
    },
    {
     "name": "stdout",
     "output_type": "stream",
     "text": [
      "Epoch 65 Loss: 0.4989651143550873\n"
     ]
    },
    {
     "name": "stderr",
     "output_type": "stream",
     "text": [
      "\r",
      " 11%|█         | 67/600 [02:20<18:14,  2.05s/it]"
     ]
    },
    {
     "name": "stdout",
     "output_type": "stream",
     "text": [
      "Epoch 66 Loss: 0.4965018630027771\n"
     ]
    },
    {
     "name": "stderr",
     "output_type": "stream",
     "text": [
      "\r",
      " 11%|█▏        | 68/600 [02:22<18:29,  2.08s/it]"
     ]
    },
    {
     "name": "stdout",
     "output_type": "stream",
     "text": [
      "Epoch 67 Loss: 0.4941307008266449\n"
     ]
    },
    {
     "name": "stderr",
     "output_type": "stream",
     "text": [
      "\r",
      " 12%|█▏        | 69/600 [02:24<18:34,  2.10s/it]"
     ]
    },
    {
     "name": "stdout",
     "output_type": "stream",
     "text": [
      "Epoch 68 Loss: 0.49061712622642517\n"
     ]
    },
    {
     "name": "stderr",
     "output_type": "stream",
     "text": [
      "\r",
      " 12%|█▏        | 70/600 [02:26<18:21,  2.08s/it]"
     ]
    },
    {
     "name": "stdout",
     "output_type": "stream",
     "text": [
      "Epoch 69 Loss: 0.4873829782009125\n"
     ]
    },
    {
     "name": "stderr",
     "output_type": "stream",
     "text": [
      "\r",
      " 12%|█▏        | 71/600 [02:28<18:10,  2.06s/it]"
     ]
    },
    {
     "name": "stdout",
     "output_type": "stream",
     "text": [
      "Epoch 70 Loss: 0.4839271903038025\n"
     ]
    },
    {
     "name": "stderr",
     "output_type": "stream",
     "text": [
      "\r",
      " 12%|█▏        | 72/600 [02:31<18:09,  2.06s/it]"
     ]
    },
    {
     "name": "stdout",
     "output_type": "stream",
     "text": [
      "Epoch 71 Loss: 0.48128634691238403\n"
     ]
    },
    {
     "name": "stderr",
     "output_type": "stream",
     "text": [
      "\r",
      " 12%|█▏        | 73/600 [02:33<18:21,  2.09s/it]"
     ]
    },
    {
     "name": "stdout",
     "output_type": "stream",
     "text": [
      "Epoch 72 Loss: 0.4780796468257904\n"
     ]
    },
    {
     "name": "stderr",
     "output_type": "stream",
     "text": [
      "\r",
      " 12%|█▏        | 74/600 [02:35<18:20,  2.09s/it]"
     ]
    },
    {
     "name": "stdout",
     "output_type": "stream",
     "text": [
      "Epoch 73 Loss: 0.4750685691833496\n"
     ]
    },
    {
     "name": "stderr",
     "output_type": "stream",
     "text": [
      "\r",
      " 12%|█▎        | 75/600 [02:37<18:45,  2.14s/it]"
     ]
    },
    {
     "name": "stdout",
     "output_type": "stream",
     "text": [
      "Epoch 74 Loss: 0.47211503982543945\n"
     ]
    },
    {
     "name": "stderr",
     "output_type": "stream",
     "text": [
      "\r",
      " 13%|█▎        | 76/600 [02:39<19:21,  2.22s/it]"
     ]
    },
    {
     "name": "stdout",
     "output_type": "stream",
     "text": [
      "Epoch 75 Loss: 0.46883779764175415\n"
     ]
    },
    {
     "name": "stderr",
     "output_type": "stream",
     "text": [
      "\r",
      " 13%|█▎        | 77/600 [02:41<18:57,  2.17s/it]"
     ]
    },
    {
     "name": "stdout",
     "output_type": "stream",
     "text": [
      "Epoch 76 Loss: 0.4654870629310608\n"
     ]
    },
    {
     "name": "stderr",
     "output_type": "stream",
     "text": [
      "\r",
      " 13%|█▎        | 78/600 [02:44<18:51,  2.17s/it]"
     ]
    },
    {
     "name": "stdout",
     "output_type": "stream",
     "text": [
      "Epoch 77 Loss: 0.46274757385253906\n"
     ]
    },
    {
     "name": "stderr",
     "output_type": "stream",
     "text": [
      "\r",
      " 13%|█▎        | 79/600 [02:46<19:36,  2.26s/it]"
     ]
    },
    {
     "name": "stdout",
     "output_type": "stream",
     "text": [
      "Epoch 78 Loss: 0.4593736529350281\n"
     ]
    },
    {
     "name": "stderr",
     "output_type": "stream",
     "text": [
      "\r",
      " 13%|█▎        | 80/600 [02:48<19:40,  2.27s/it]"
     ]
    },
    {
     "name": "stdout",
     "output_type": "stream",
     "text": [
      "Epoch 79 Loss: 0.4567422866821289\n"
     ]
    },
    {
     "name": "stderr",
     "output_type": "stream",
     "text": [
      "\r",
      " 14%|█▎        | 81/600 [02:51<19:41,  2.28s/it]"
     ]
    },
    {
     "name": "stdout",
     "output_type": "stream",
     "text": [
      "Epoch 80 Loss: 0.4540211856365204\n"
     ]
    },
    {
     "name": "stderr",
     "output_type": "stream",
     "text": [
      "\r",
      " 14%|█▎        | 82/600 [02:53<19:45,  2.29s/it]"
     ]
    },
    {
     "name": "stdout",
     "output_type": "stream",
     "text": [
      "Epoch 81 Loss: 0.45115840435028076\n"
     ]
    },
    {
     "name": "stderr",
     "output_type": "stream",
     "text": [
      "\r",
      " 14%|█▍        | 83/600 [02:55<19:55,  2.31s/it]"
     ]
    },
    {
     "name": "stdout",
     "output_type": "stream",
     "text": [
      "Epoch 82 Loss: 0.44865450263023376\n"
     ]
    },
    {
     "name": "stderr",
     "output_type": "stream",
     "text": [
      "\r",
      " 14%|█▍        | 84/600 [02:58<19:51,  2.31s/it]"
     ]
    },
    {
     "name": "stdout",
     "output_type": "stream",
     "text": [
      "Epoch 83 Loss: 0.44549617171287537\n"
     ]
    },
    {
     "name": "stderr",
     "output_type": "stream",
     "text": [
      "\r",
      " 14%|█▍        | 85/600 [03:00<19:47,  2.30s/it]"
     ]
    },
    {
     "name": "stdout",
     "output_type": "stream",
     "text": [
      "Epoch 84 Loss: 0.4432382583618164\n"
     ]
    },
    {
     "name": "stderr",
     "output_type": "stream",
     "text": [
      "\r",
      " 14%|█▍        | 86/600 [03:02<20:07,  2.35s/it]"
     ]
    },
    {
     "name": "stdout",
     "output_type": "stream",
     "text": [
      "Epoch 85 Loss: 0.4404410719871521\n"
     ]
    },
    {
     "name": "stderr",
     "output_type": "stream",
     "text": [
      "\r",
      " 14%|█▍        | 87/600 [03:05<20:34,  2.41s/it]"
     ]
    },
    {
     "name": "stdout",
     "output_type": "stream",
     "text": [
      "Epoch 86 Loss: 0.4383092522621155\n"
     ]
    },
    {
     "name": "stderr",
     "output_type": "stream",
     "text": [
      "\r",
      " 15%|█▍        | 88/600 [03:07<19:57,  2.34s/it]"
     ]
    },
    {
     "name": "stdout",
     "output_type": "stream",
     "text": [
      "Epoch 87 Loss: 0.43584585189819336\n"
     ]
    },
    {
     "name": "stderr",
     "output_type": "stream",
     "text": [
      "\r",
      " 15%|█▍        | 89/600 [03:09<19:11,  2.25s/it]"
     ]
    },
    {
     "name": "stdout",
     "output_type": "stream",
     "text": [
      "Epoch 88 Loss: 0.4337373971939087\n"
     ]
    },
    {
     "name": "stderr",
     "output_type": "stream",
     "text": [
      "\r",
      " 15%|█▌        | 90/600 [03:11<18:54,  2.22s/it]"
     ]
    },
    {
     "name": "stdout",
     "output_type": "stream",
     "text": [
      "Epoch 89 Loss: 0.43171554803848267\n"
     ]
    },
    {
     "name": "stderr",
     "output_type": "stream",
     "text": [
      "\r",
      " 15%|█▌        | 91/600 [03:13<18:25,  2.17s/it]"
     ]
    },
    {
     "name": "stdout",
     "output_type": "stream",
     "text": [
      "Epoch 90 Loss: 0.42925581336021423\n"
     ]
    },
    {
     "name": "stderr",
     "output_type": "stream",
     "text": [
      "\r",
      " 15%|█▌        | 92/600 [03:15<18:03,  2.13s/it]"
     ]
    },
    {
     "name": "stdout",
     "output_type": "stream",
     "text": [
      "Epoch 91 Loss: 0.4274033010005951\n"
     ]
    },
    {
     "name": "stderr",
     "output_type": "stream",
     "text": [
      "\r",
      " 16%|█▌        | 93/600 [03:18<17:51,  2.11s/it]"
     ]
    },
    {
     "name": "stdout",
     "output_type": "stream",
     "text": [
      "Epoch 92 Loss: 0.42504167556762695\n"
     ]
    },
    {
     "name": "stderr",
     "output_type": "stream",
     "text": [
      "\r",
      " 16%|█▌        | 94/600 [03:20<17:36,  2.09s/it]"
     ]
    },
    {
     "name": "stdout",
     "output_type": "stream",
     "text": [
      "Epoch 93 Loss: 0.4229813516139984\n"
     ]
    },
    {
     "name": "stderr",
     "output_type": "stream",
     "text": [
      "\r",
      " 16%|█▌        | 95/600 [03:22<17:36,  2.09s/it]"
     ]
    },
    {
     "name": "stdout",
     "output_type": "stream",
     "text": [
      "Epoch 94 Loss: 0.42140448093414307\n"
     ]
    },
    {
     "name": "stderr",
     "output_type": "stream",
     "text": [
      "\r",
      " 16%|█▌        | 96/600 [03:24<17:29,  2.08s/it]"
     ]
    },
    {
     "name": "stdout",
     "output_type": "stream",
     "text": [
      "Epoch 95 Loss: 0.4191778302192688\n"
     ]
    },
    {
     "name": "stderr",
     "output_type": "stream",
     "text": [
      "\r",
      " 16%|█▌        | 97/600 [03:26<17:36,  2.10s/it]"
     ]
    },
    {
     "name": "stdout",
     "output_type": "stream",
     "text": [
      "Epoch 96 Loss: 0.41696059703826904\n"
     ]
    },
    {
     "name": "stderr",
     "output_type": "stream",
     "text": [
      "\r",
      " 16%|█▋        | 98/600 [03:28<18:08,  2.17s/it]"
     ]
    },
    {
     "name": "stdout",
     "output_type": "stream",
     "text": [
      "Epoch 97 Loss: 0.4147719740867615\n"
     ]
    },
    {
     "name": "stderr",
     "output_type": "stream",
     "text": [
      "\r",
      " 16%|█▋        | 99/600 [03:30<17:52,  2.14s/it]"
     ]
    },
    {
     "name": "stdout",
     "output_type": "stream",
     "text": [
      "Epoch 98 Loss: 0.4126194715499878\n"
     ]
    },
    {
     "name": "stderr",
     "output_type": "stream",
     "text": [
      "\r",
      " 17%|█▋        | 100/600 [03:32<17:37,  2.11s/it]"
     ]
    },
    {
     "name": "stdout",
     "output_type": "stream",
     "text": [
      "Epoch 99 Loss: 0.41059398651123047\n"
     ]
    },
    {
     "name": "stderr",
     "output_type": "stream",
     "text": [
      "\r",
      " 17%|█▋        | 101/600 [03:34<17:26,  2.10s/it]"
     ]
    },
    {
     "name": "stdout",
     "output_type": "stream",
     "text": [
      "Epoch 100 Loss: 0.4087371826171875\n"
     ]
    },
    {
     "name": "stderr",
     "output_type": "stream",
     "text": [
      "\r",
      " 17%|█▋        | 102/600 [03:36<17:19,  2.09s/it]"
     ]
    },
    {
     "name": "stdout",
     "output_type": "stream",
     "text": [
      "Epoch 101 Loss: 0.4067556858062744\n"
     ]
    },
    {
     "name": "stderr",
     "output_type": "stream",
     "text": [
      "\r",
      " 17%|█▋        | 103/600 [03:38<17:10,  2.07s/it]"
     ]
    },
    {
     "name": "stdout",
     "output_type": "stream",
     "text": [
      "Epoch 102 Loss: 0.4049750566482544\n"
     ]
    },
    {
     "name": "stderr",
     "output_type": "stream",
     "text": [
      "\r",
      " 17%|█▋        | 104/600 [03:41<17:04,  2.07s/it]"
     ]
    },
    {
     "name": "stdout",
     "output_type": "stream",
     "text": [
      "Epoch 103 Loss: 0.40337806940078735\n"
     ]
    },
    {
     "name": "stderr",
     "output_type": "stream",
     "text": [
      "\r",
      " 18%|█▊        | 105/600 [03:43<17:20,  2.10s/it]"
     ]
    },
    {
     "name": "stdout",
     "output_type": "stream",
     "text": [
      "Epoch 104 Loss: 0.4014948308467865\n"
     ]
    },
    {
     "name": "stderr",
     "output_type": "stream",
     "text": [
      "\r",
      " 18%|█▊        | 106/600 [03:45<17:08,  2.08s/it]"
     ]
    },
    {
     "name": "stdout",
     "output_type": "stream",
     "text": [
      "Epoch 105 Loss: 0.3994138836860657\n"
     ]
    },
    {
     "name": "stderr",
     "output_type": "stream",
     "text": [
      "\r",
      " 18%|█▊        | 107/600 [03:47<17:12,  2.09s/it]"
     ]
    },
    {
     "name": "stdout",
     "output_type": "stream",
     "text": [
      "Epoch 106 Loss: 0.3978828191757202\n"
     ]
    },
    {
     "name": "stderr",
     "output_type": "stream",
     "text": [
      "\r",
      " 18%|█▊        | 108/600 [03:49<17:05,  2.08s/it]"
     ]
    },
    {
     "name": "stdout",
     "output_type": "stream",
     "text": [
      "Epoch 107 Loss: 0.396036833524704\n"
     ]
    },
    {
     "name": "stderr",
     "output_type": "stream",
     "text": [
      "\r",
      " 18%|█▊        | 109/600 [03:51<16:57,  2.07s/it]"
     ]
    },
    {
     "name": "stdout",
     "output_type": "stream",
     "text": [
      "Epoch 108 Loss: 0.39480504393577576\n"
     ]
    },
    {
     "name": "stderr",
     "output_type": "stream",
     "text": [
      "\r",
      " 18%|█▊        | 110/600 [03:53<16:54,  2.07s/it]"
     ]
    },
    {
     "name": "stdout",
     "output_type": "stream",
     "text": [
      "Epoch 109 Loss: 0.39322376251220703\n"
     ]
    },
    {
     "name": "stderr",
     "output_type": "stream",
     "text": [
      "\r",
      " 18%|█▊        | 111/600 [03:55<16:50,  2.07s/it]"
     ]
    },
    {
     "name": "stdout",
     "output_type": "stream",
     "text": [
      "Epoch 110 Loss: 0.3913528323173523\n"
     ]
    },
    {
     "name": "stderr",
     "output_type": "stream",
     "text": [
      "\r",
      " 19%|█▊        | 112/600 [03:57<16:52,  2.07s/it]"
     ]
    },
    {
     "name": "stdout",
     "output_type": "stream",
     "text": [
      "Epoch 111 Loss: 0.3898334503173828\n"
     ]
    },
    {
     "name": "stderr",
     "output_type": "stream",
     "text": [
      "\r",
      " 19%|█▉        | 113/600 [03:59<17:06,  2.11s/it]"
     ]
    },
    {
     "name": "stdout",
     "output_type": "stream",
     "text": [
      "Epoch 112 Loss: 0.387964129447937\n"
     ]
    },
    {
     "name": "stderr",
     "output_type": "stream",
     "text": [
      "\r",
      " 19%|█▉        | 114/600 [04:01<16:56,  2.09s/it]"
     ]
    },
    {
     "name": "stdout",
     "output_type": "stream",
     "text": [
      "Epoch 113 Loss: 0.38694795966148376\n"
     ]
    },
    {
     "name": "stderr",
     "output_type": "stream",
     "text": [
      "\r",
      " 19%|█▉        | 115/600 [04:04<16:59,  2.10s/it]"
     ]
    },
    {
     "name": "stdout",
     "output_type": "stream",
     "text": [
      "Epoch 114 Loss: 0.38592082262039185\n"
     ]
    },
    {
     "name": "stderr",
     "output_type": "stream",
     "text": [
      "\r",
      " 19%|█▉        | 116/600 [04:06<17:09,  2.13s/it]"
     ]
    },
    {
     "name": "stdout",
     "output_type": "stream",
     "text": [
      "Epoch 115 Loss: 0.3844325542449951\n"
     ]
    },
    {
     "name": "stderr",
     "output_type": "stream",
     "text": [
      "\r",
      " 20%|█▉        | 117/600 [04:08<17:05,  2.12s/it]"
     ]
    },
    {
     "name": "stdout",
     "output_type": "stream",
     "text": [
      "Epoch 116 Loss: 0.3830130994319916\n"
     ]
    },
    {
     "name": "stderr",
     "output_type": "stream",
     "text": [
      "\r",
      " 20%|█▉        | 118/600 [04:10<16:55,  2.11s/it]"
     ]
    },
    {
     "name": "stdout",
     "output_type": "stream",
     "text": [
      "Epoch 117 Loss: 0.3813762366771698\n"
     ]
    },
    {
     "name": "stderr",
     "output_type": "stream",
     "text": [
      "\r",
      " 20%|█▉        | 119/600 [04:12<16:54,  2.11s/it]"
     ]
    },
    {
     "name": "stdout",
     "output_type": "stream",
     "text": [
      "Epoch 118 Loss: 0.38039547204971313\n"
     ]
    },
    {
     "name": "stderr",
     "output_type": "stream",
     "text": [
      "\r",
      " 20%|██        | 120/600 [04:14<17:06,  2.14s/it]"
     ]
    },
    {
     "name": "stdout",
     "output_type": "stream",
     "text": [
      "Epoch 119 Loss: 0.3792658746242523\n"
     ]
    },
    {
     "name": "stderr",
     "output_type": "stream",
     "text": [
      "\r",
      " 20%|██        | 121/600 [04:16<16:54,  2.12s/it]"
     ]
    },
    {
     "name": "stdout",
     "output_type": "stream",
     "text": [
      "Epoch 120 Loss: 0.37767189741134644\n"
     ]
    },
    {
     "name": "stderr",
     "output_type": "stream",
     "text": [
      "\r",
      " 20%|██        | 122/600 [04:18<16:43,  2.10s/it]"
     ]
    },
    {
     "name": "stdout",
     "output_type": "stream",
     "text": [
      "Epoch 121 Loss: 0.37603455781936646\n"
     ]
    },
    {
     "name": "stderr",
     "output_type": "stream",
     "text": [
      "\r",
      " 20%|██        | 123/600 [04:20<16:31,  2.08s/it]"
     ]
    },
    {
     "name": "stdout",
     "output_type": "stream",
     "text": [
      "Epoch 122 Loss: 0.374922513961792\n"
     ]
    },
    {
     "name": "stderr",
     "output_type": "stream",
     "text": [
      "\r",
      " 21%|██        | 124/600 [04:22<16:28,  2.08s/it]"
     ]
    },
    {
     "name": "stdout",
     "output_type": "stream",
     "text": [
      "Epoch 123 Loss: 0.3741306662559509\n"
     ]
    },
    {
     "name": "stderr",
     "output_type": "stream",
     "text": [
      "\r",
      " 21%|██        | 125/600 [04:25<16:20,  2.06s/it]"
     ]
    },
    {
     "name": "stdout",
     "output_type": "stream",
     "text": [
      "Epoch 124 Loss: 0.37258243560791016\n"
     ]
    },
    {
     "name": "stderr",
     "output_type": "stream",
     "text": [
      "\r",
      " 21%|██        | 126/600 [04:27<16:16,  2.06s/it]"
     ]
    },
    {
     "name": "stdout",
     "output_type": "stream",
     "text": [
      "Epoch 125 Loss: 0.3724345564842224\n"
     ]
    },
    {
     "name": "stderr",
     "output_type": "stream",
     "text": [
      "\r",
      " 21%|██        | 127/600 [04:29<16:15,  2.06s/it]"
     ]
    },
    {
     "name": "stdout",
     "output_type": "stream",
     "text": [
      "Epoch 126 Loss: 0.3711380958557129\n"
     ]
    },
    {
     "name": "stderr",
     "output_type": "stream",
     "text": [
      "\r",
      " 21%|██▏       | 128/600 [04:31<16:34,  2.11s/it]"
     ]
    },
    {
     "name": "stdout",
     "output_type": "stream",
     "text": [
      "Epoch 127 Loss: 0.36974042654037476\n"
     ]
    },
    {
     "name": "stderr",
     "output_type": "stream",
     "text": [
      "\r",
      " 22%|██▏       | 129/600 [04:33<16:30,  2.10s/it]"
     ]
    },
    {
     "name": "stdout",
     "output_type": "stream",
     "text": [
      "Epoch 128 Loss: 0.3681252598762512\n"
     ]
    },
    {
     "name": "stderr",
     "output_type": "stream",
     "text": [
      "\r",
      " 22%|██▏       | 130/600 [04:35<16:19,  2.08s/it]"
     ]
    },
    {
     "name": "stdout",
     "output_type": "stream",
     "text": [
      "Epoch 129 Loss: 0.3668974041938782\n"
     ]
    },
    {
     "name": "stderr",
     "output_type": "stream",
     "text": [
      "\r",
      " 22%|██▏       | 131/600 [04:37<16:27,  2.11s/it]"
     ]
    },
    {
     "name": "stdout",
     "output_type": "stream",
     "text": [
      "Epoch 130 Loss: 0.3653586804866791\n"
     ]
    },
    {
     "name": "stderr",
     "output_type": "stream",
     "text": [
      "\r",
      " 22%|██▏       | 132/600 [04:39<16:20,  2.10s/it]"
     ]
    },
    {
     "name": "stdout",
     "output_type": "stream",
     "text": [
      "Epoch 131 Loss: 0.364347904920578\n"
     ]
    },
    {
     "name": "stderr",
     "output_type": "stream",
     "text": [
      "\r",
      " 22%|██▏       | 133/600 [04:41<16:12,  2.08s/it]"
     ]
    },
    {
     "name": "stdout",
     "output_type": "stream",
     "text": [
      "Epoch 132 Loss: 0.363651841878891\n"
     ]
    },
    {
     "name": "stderr",
     "output_type": "stream",
     "text": [
      "\r",
      " 22%|██▏       | 134/600 [04:43<16:06,  2.07s/it]"
     ]
    },
    {
     "name": "stdout",
     "output_type": "stream",
     "text": [
      "Epoch 133 Loss: 0.36210235953330994\n"
     ]
    },
    {
     "name": "stderr",
     "output_type": "stream",
     "text": [
      "\r",
      " 22%|██▎       | 135/600 [04:45<16:09,  2.08s/it]"
     ]
    },
    {
     "name": "stdout",
     "output_type": "stream",
     "text": [
      "Epoch 134 Loss: 0.3609834313392639\n"
     ]
    },
    {
     "name": "stderr",
     "output_type": "stream",
     "text": [
      "\r",
      " 23%|██▎       | 136/600 [04:48<16:21,  2.12s/it]"
     ]
    },
    {
     "name": "stdout",
     "output_type": "stream",
     "text": [
      "Epoch 135 Loss: 0.3593004643917084\n"
     ]
    },
    {
     "name": "stderr",
     "output_type": "stream",
     "text": [
      "\r",
      " 23%|██▎       | 137/600 [04:50<16:08,  2.09s/it]"
     ]
    },
    {
     "name": "stdout",
     "output_type": "stream",
     "text": [
      "Epoch 136 Loss: 0.35796910524368286\n"
     ]
    },
    {
     "name": "stderr",
     "output_type": "stream",
     "text": [
      "\r",
      " 23%|██▎       | 138/600 [04:52<16:05,  2.09s/it]"
     ]
    },
    {
     "name": "stdout",
     "output_type": "stream",
     "text": [
      "Epoch 137 Loss: 0.35607731342315674\n"
     ]
    },
    {
     "name": "stderr",
     "output_type": "stream",
     "text": [
      "\r",
      " 23%|██▎       | 139/600 [04:54<16:13,  2.11s/it]"
     ]
    },
    {
     "name": "stdout",
     "output_type": "stream",
     "text": [
      "Epoch 138 Loss: 0.3541799485683441\n"
     ]
    },
    {
     "name": "stderr",
     "output_type": "stream",
     "text": [
      "\r",
      " 23%|██▎       | 140/600 [04:56<16:24,  2.14s/it]"
     ]
    },
    {
     "name": "stdout",
     "output_type": "stream",
     "text": [
      "Epoch 139 Loss: 0.352470338344574\n"
     ]
    },
    {
     "name": "stderr",
     "output_type": "stream",
     "text": [
      "\r",
      " 24%|██▎       | 141/600 [04:58<16:18,  2.13s/it]"
     ]
    },
    {
     "name": "stdout",
     "output_type": "stream",
     "text": [
      "Epoch 140 Loss: 0.35051652789115906\n"
     ]
    },
    {
     "name": "stderr",
     "output_type": "stream",
     "text": [
      "\r",
      " 24%|██▎       | 142/600 [05:00<16:03,  2.10s/it]"
     ]
    },
    {
     "name": "stdout",
     "output_type": "stream",
     "text": [
      "Epoch 141 Loss: 0.34860479831695557\n"
     ]
    },
    {
     "name": "stderr",
     "output_type": "stream",
     "text": [
      "\r",
      " 24%|██▍       | 143/600 [05:03<16:23,  2.15s/it]"
     ]
    },
    {
     "name": "stdout",
     "output_type": "stream",
     "text": [
      "Epoch 142 Loss: 0.34762486815452576\n"
     ]
    },
    {
     "name": "stderr",
     "output_type": "stream",
     "text": [
      "\r",
      " 24%|██▍       | 144/600 [05:05<16:08,  2.12s/it]"
     ]
    },
    {
     "name": "stdout",
     "output_type": "stream",
     "text": [
      "Epoch 143 Loss: 0.3456207513809204\n"
     ]
    },
    {
     "name": "stderr",
     "output_type": "stream",
     "text": [
      "\r",
      " 24%|██▍       | 145/600 [05:07<15:56,  2.10s/it]"
     ]
    },
    {
     "name": "stdout",
     "output_type": "stream",
     "text": [
      "Epoch 144 Loss: 0.3440353572368622\n"
     ]
    },
    {
     "name": "stderr",
     "output_type": "stream",
     "text": [
      "\r",
      " 24%|██▍       | 146/600 [05:09<15:46,  2.09s/it]"
     ]
    },
    {
     "name": "stdout",
     "output_type": "stream",
     "text": [
      "Epoch 145 Loss: 0.34309589862823486\n"
     ]
    },
    {
     "name": "stderr",
     "output_type": "stream",
     "text": [
      "\r",
      " 24%|██▍       | 147/600 [05:11<15:42,  2.08s/it]"
     ]
    },
    {
     "name": "stdout",
     "output_type": "stream",
     "text": [
      "Epoch 146 Loss: 0.3413183093070984\n"
     ]
    },
    {
     "name": "stderr",
     "output_type": "stream",
     "text": [
      "\r",
      " 25%|██▍       | 148/600 [05:13<15:41,  2.08s/it]"
     ]
    },
    {
     "name": "stdout",
     "output_type": "stream",
     "text": [
      "Epoch 147 Loss: 0.33977460861206055\n"
     ]
    },
    {
     "name": "stderr",
     "output_type": "stream",
     "text": [
      "\r",
      " 25%|██▍       | 149/600 [05:15<15:57,  2.12s/it]"
     ]
    },
    {
     "name": "stdout",
     "output_type": "stream",
     "text": [
      "Epoch 148 Loss: 0.33874616026878357\n"
     ]
    },
    {
     "name": "stderr",
     "output_type": "stream",
     "text": [
      "\r",
      " 25%|██▌       | 150/600 [05:17<16:09,  2.16s/it]"
     ]
    },
    {
     "name": "stdout",
     "output_type": "stream",
     "text": [
      "Epoch 149 Loss: 0.33816489577293396\n"
     ]
    },
    {
     "name": "stderr",
     "output_type": "stream",
     "text": [
      "\r",
      " 25%|██▌       | 151/600 [05:19<16:14,  2.17s/it]"
     ]
    },
    {
     "name": "stdout",
     "output_type": "stream",
     "text": [
      "Epoch 150 Loss: 0.3373146951198578\n"
     ]
    },
    {
     "name": "stderr",
     "output_type": "stream",
     "text": [
      "\r",
      " 25%|██▌       | 152/600 [05:22<15:57,  2.14s/it]"
     ]
    },
    {
     "name": "stdout",
     "output_type": "stream",
     "text": [
      "Epoch 151 Loss: 0.3363509178161621\n"
     ]
    },
    {
     "name": "stderr",
     "output_type": "stream",
     "text": [
      "\r",
      " 26%|██▌       | 153/600 [05:24<15:43,  2.11s/it]"
     ]
    },
    {
     "name": "stdout",
     "output_type": "stream",
     "text": [
      "Epoch 152 Loss: 0.3362175226211548\n"
     ]
    },
    {
     "name": "stderr",
     "output_type": "stream",
     "text": [
      "\r",
      " 26%|██▌       | 154/600 [05:26<15:34,  2.09s/it]"
     ]
    },
    {
     "name": "stdout",
     "output_type": "stream",
     "text": [
      "Epoch 153 Loss: 0.3349270522594452\n"
     ]
    },
    {
     "name": "stderr",
     "output_type": "stream",
     "text": [
      "\r",
      " 26%|██▌       | 155/600 [05:28<15:35,  2.10s/it]"
     ]
    },
    {
     "name": "stdout",
     "output_type": "stream",
     "text": [
      "Epoch 154 Loss: 0.3335300385951996\n"
     ]
    },
    {
     "name": "stderr",
     "output_type": "stream",
     "text": [
      "\r",
      " 26%|██▌       | 156/600 [05:30<15:27,  2.09s/it]"
     ]
    },
    {
     "name": "stdout",
     "output_type": "stream",
     "text": [
      "Epoch 155 Loss: 0.3327503800392151\n"
     ]
    },
    {
     "name": "stderr",
     "output_type": "stream",
     "text": [
      "\r",
      " 26%|██▌       | 157/600 [05:32<15:22,  2.08s/it]"
     ]
    },
    {
     "name": "stdout",
     "output_type": "stream",
     "text": [
      "Epoch 156 Loss: 0.3317510783672333\n"
     ]
    },
    {
     "name": "stderr",
     "output_type": "stream",
     "text": [
      "\r",
      " 26%|██▋       | 158/600 [05:34<15:29,  2.10s/it]"
     ]
    },
    {
     "name": "stdout",
     "output_type": "stream",
     "text": [
      "Epoch 157 Loss: 0.3307572603225708\n"
     ]
    },
    {
     "name": "stderr",
     "output_type": "stream",
     "text": [
      "\r",
      " 26%|██▋       | 159/600 [05:36<15:31,  2.11s/it]"
     ]
    },
    {
     "name": "stdout",
     "output_type": "stream",
     "text": [
      "Epoch 158 Loss: 0.32977089285850525\n"
     ]
    },
    {
     "name": "stderr",
     "output_type": "stream",
     "text": [
      "\r",
      " 27%|██▋       | 160/600 [05:38<15:21,  2.10s/it]"
     ]
    },
    {
     "name": "stdout",
     "output_type": "stream",
     "text": [
      "Epoch 159 Loss: 0.329120934009552\n"
     ]
    },
    {
     "name": "stderr",
     "output_type": "stream",
     "text": [
      "\r",
      " 27%|██▋       | 161/600 [05:40<15:12,  2.08s/it]"
     ]
    },
    {
     "name": "stdout",
     "output_type": "stream",
     "text": [
      "Epoch 160 Loss: 0.32831892371177673\n"
     ]
    },
    {
     "name": "stderr",
     "output_type": "stream",
     "text": [
      "\r",
      " 27%|██▋       | 162/600 [05:42<15:08,  2.07s/it]"
     ]
    },
    {
     "name": "stdout",
     "output_type": "stream",
     "text": [
      "Epoch 161 Loss: 0.3282417058944702\n"
     ]
    },
    {
     "name": "stderr",
     "output_type": "stream",
     "text": [
      "\r",
      " 27%|██▋       | 163/600 [05:44<15:07,  2.08s/it]"
     ]
    },
    {
     "name": "stdout",
     "output_type": "stream",
     "text": [
      "Epoch 162 Loss: 0.3274943232536316\n"
     ]
    },
    {
     "name": "stderr",
     "output_type": "stream",
     "text": [
      "\r",
      " 27%|██▋       | 164/600 [05:47<15:08,  2.08s/it]"
     ]
    },
    {
     "name": "stdout",
     "output_type": "stream",
     "text": [
      "Epoch 163 Loss: 0.32670876383781433\n"
     ]
    },
    {
     "name": "stderr",
     "output_type": "stream",
     "text": [
      "\r",
      " 28%|██▊       | 165/600 [05:49<15:21,  2.12s/it]"
     ]
    },
    {
     "name": "stdout",
     "output_type": "stream",
     "text": [
      "Epoch 164 Loss: 0.32614344358444214\n"
     ]
    },
    {
     "name": "stderr",
     "output_type": "stream",
     "text": [
      "\r",
      " 28%|██▊       | 166/600 [05:51<15:51,  2.19s/it]"
     ]
    },
    {
     "name": "stdout",
     "output_type": "stream",
     "text": [
      "Epoch 165 Loss: 0.32541903853416443\n"
     ]
    },
    {
     "name": "stderr",
     "output_type": "stream",
     "text": [
      "\r",
      " 28%|██▊       | 167/600 [05:53<15:57,  2.21s/it]"
     ]
    },
    {
     "name": "stdout",
     "output_type": "stream",
     "text": [
      "Epoch 166 Loss: 0.324521541595459\n"
     ]
    },
    {
     "name": "stderr",
     "output_type": "stream",
     "text": [
      "\r",
      " 28%|██▊       | 168/600 [05:56<15:55,  2.21s/it]"
     ]
    },
    {
     "name": "stdout",
     "output_type": "stream",
     "text": [
      "Epoch 167 Loss: 0.3234883248806\n"
     ]
    },
    {
     "name": "stderr",
     "output_type": "stream",
     "text": [
      "\r",
      " 28%|██▊       | 169/600 [05:58<15:56,  2.22s/it]"
     ]
    },
    {
     "name": "stdout",
     "output_type": "stream",
     "text": [
      "Epoch 168 Loss: 0.32271087169647217\n"
     ]
    },
    {
     "name": "stderr",
     "output_type": "stream",
     "text": [
      "\r",
      " 28%|██▊       | 170/600 [06:00<15:55,  2.22s/it]"
     ]
    },
    {
     "name": "stdout",
     "output_type": "stream",
     "text": [
      "Epoch 169 Loss: 0.3221070170402527\n"
     ]
    },
    {
     "name": "stderr",
     "output_type": "stream",
     "text": [
      "\r",
      " 28%|██▊       | 171/600 [06:02<16:08,  2.26s/it]"
     ]
    },
    {
     "name": "stdout",
     "output_type": "stream",
     "text": [
      "Epoch 170 Loss: 0.32142528891563416\n"
     ]
    },
    {
     "name": "stderr",
     "output_type": "stream",
     "text": [
      "\r",
      " 29%|██▊       | 172/600 [06:05<16:01,  2.25s/it]"
     ]
    },
    {
     "name": "stdout",
     "output_type": "stream",
     "text": [
      "Epoch 171 Loss: 0.3201252818107605\n"
     ]
    },
    {
     "name": "stderr",
     "output_type": "stream",
     "text": [
      "\r",
      " 29%|██▉       | 173/600 [06:07<15:49,  2.22s/it]"
     ]
    },
    {
     "name": "stdout",
     "output_type": "stream",
     "text": [
      "Epoch 172 Loss: 0.3190767168998718\n"
     ]
    },
    {
     "name": "stderr",
     "output_type": "stream",
     "text": [
      "\r",
      " 29%|██▉       | 174/600 [06:09<15:24,  2.17s/it]"
     ]
    },
    {
     "name": "stdout",
     "output_type": "stream",
     "text": [
      "Epoch 173 Loss: 0.3178011178970337\n"
     ]
    },
    {
     "name": "stderr",
     "output_type": "stream",
     "text": [
      "\r",
      " 29%|██▉       | 175/600 [06:11<15:07,  2.14s/it]"
     ]
    },
    {
     "name": "stdout",
     "output_type": "stream",
     "text": [
      "Epoch 174 Loss: 0.3166673183441162\n"
     ]
    },
    {
     "name": "stderr",
     "output_type": "stream",
     "text": [
      "\r",
      " 29%|██▉       | 176/600 [06:13<14:58,  2.12s/it]"
     ]
    },
    {
     "name": "stdout",
     "output_type": "stream",
     "text": [
      "Epoch 175 Loss: 0.31586599349975586\n"
     ]
    },
    {
     "name": "stderr",
     "output_type": "stream",
     "text": [
      "\r",
      " 30%|██▉       | 177/600 [06:15<14:46,  2.10s/it]"
     ]
    },
    {
     "name": "stdout",
     "output_type": "stream",
     "text": [
      "Epoch 176 Loss: 0.3148196339607239\n"
     ]
    },
    {
     "name": "stderr",
     "output_type": "stream",
     "text": [
      "\r",
      " 30%|██▉       | 178/600 [06:17<14:46,  2.10s/it]"
     ]
    },
    {
     "name": "stdout",
     "output_type": "stream",
     "text": [
      "Epoch 177 Loss: 0.31411898136138916\n"
     ]
    },
    {
     "name": "stderr",
     "output_type": "stream",
     "text": [
      "\r",
      " 30%|██▉       | 179/600 [06:19<14:38,  2.09s/it]"
     ]
    },
    {
     "name": "stdout",
     "output_type": "stream",
     "text": [
      "Epoch 178 Loss: 0.31367969512939453\n"
     ]
    },
    {
     "name": "stderr",
     "output_type": "stream",
     "text": [
      "\r",
      " 30%|███       | 180/600 [06:21<14:33,  2.08s/it]"
     ]
    },
    {
     "name": "stdout",
     "output_type": "stream",
     "text": [
      "Epoch 179 Loss: 0.31320318579673767\n"
     ]
    },
    {
     "name": "stderr",
     "output_type": "stream",
     "text": [
      "\r",
      " 30%|███       | 181/600 [06:23<14:41,  2.10s/it]"
     ]
    },
    {
     "name": "stdout",
     "output_type": "stream",
     "text": [
      "Epoch 180 Loss: 0.31289881467819214\n"
     ]
    },
    {
     "name": "stderr",
     "output_type": "stream",
     "text": [
      "\r",
      " 30%|███       | 182/600 [06:25<14:33,  2.09s/it]"
     ]
    },
    {
     "name": "stdout",
     "output_type": "stream",
     "text": [
      "Epoch 181 Loss: 0.31206661462783813\n"
     ]
    },
    {
     "name": "stderr",
     "output_type": "stream",
     "text": [
      "\r",
      " 30%|███       | 183/600 [06:27<14:30,  2.09s/it]"
     ]
    },
    {
     "name": "stdout",
     "output_type": "stream",
     "text": [
      "Epoch 182 Loss: 0.3111392855644226\n"
     ]
    },
    {
     "name": "stderr",
     "output_type": "stream",
     "text": [
      "\r",
      " 31%|███       | 184/600 [06:30<14:22,  2.07s/it]"
     ]
    },
    {
     "name": "stdout",
     "output_type": "stream",
     "text": [
      "Epoch 183 Loss: 0.31057262420654297\n"
     ]
    },
    {
     "name": "stderr",
     "output_type": "stream",
     "text": [
      "\r",
      " 31%|███       | 185/600 [06:32<14:15,  2.06s/it]"
     ]
    },
    {
     "name": "stdout",
     "output_type": "stream",
     "text": [
      "Epoch 184 Loss: 0.3098524212837219\n"
     ]
    },
    {
     "name": "stderr",
     "output_type": "stream",
     "text": [
      "\r",
      " 31%|███       | 186/600 [06:34<14:12,  2.06s/it]"
     ]
    },
    {
     "name": "stdout",
     "output_type": "stream",
     "text": [
      "Epoch 185 Loss: 0.3091331720352173\n"
     ]
    },
    {
     "name": "stderr",
     "output_type": "stream",
     "text": [
      "\r",
      " 31%|███       | 187/600 [06:36<14:09,  2.06s/it]"
     ]
    },
    {
     "name": "stdout",
     "output_type": "stream",
     "text": [
      "Epoch 186 Loss: 0.30858564376831055\n"
     ]
    },
    {
     "name": "stderr",
     "output_type": "stream",
     "text": [
      "\r",
      " 31%|███▏      | 188/600 [06:38<14:14,  2.07s/it]"
     ]
    },
    {
     "name": "stdout",
     "output_type": "stream",
     "text": [
      "Epoch 187 Loss: 0.30780255794525146\n"
     ]
    },
    {
     "name": "stderr",
     "output_type": "stream",
     "text": [
      "\r",
      " 32%|███▏      | 189/600 [06:40<14:15,  2.08s/it]"
     ]
    },
    {
     "name": "stdout",
     "output_type": "stream",
     "text": [
      "Epoch 188 Loss: 0.30716124176979065\n"
     ]
    },
    {
     "name": "stderr",
     "output_type": "stream",
     "text": [
      "\r",
      " 32%|███▏      | 190/600 [06:42<14:12,  2.08s/it]"
     ]
    },
    {
     "name": "stdout",
     "output_type": "stream",
     "text": [
      "Epoch 189 Loss: 0.3062490224838257\n"
     ]
    },
    {
     "name": "stderr",
     "output_type": "stream",
     "text": [
      "\r",
      " 32%|███▏      | 191/600 [06:44<14:06,  2.07s/it]"
     ]
    },
    {
     "name": "stdout",
     "output_type": "stream",
     "text": [
      "Epoch 190 Loss: 0.30545374751091003\n"
     ]
    },
    {
     "name": "stderr",
     "output_type": "stream",
     "text": [
      "\r",
      " 32%|███▏      | 192/600 [06:46<14:05,  2.07s/it]"
     ]
    },
    {
     "name": "stdout",
     "output_type": "stream",
     "text": [
      "Epoch 191 Loss: 0.30560946464538574\n"
     ]
    },
    {
     "name": "stderr",
     "output_type": "stream",
     "text": [
      "\r",
      " 32%|███▏      | 193/600 [06:48<14:01,  2.07s/it]"
     ]
    },
    {
     "name": "stdout",
     "output_type": "stream",
     "text": [
      "Epoch 192 Loss: 0.3051339387893677\n"
     ]
    },
    {
     "name": "stderr",
     "output_type": "stream",
     "text": [
      "\r",
      " 32%|███▏      | 194/600 [06:50<13:54,  2.06s/it]"
     ]
    },
    {
     "name": "stdout",
     "output_type": "stream",
     "text": [
      "Epoch 193 Loss: 0.3041144013404846\n"
     ]
    },
    {
     "name": "stderr",
     "output_type": "stream",
     "text": [
      "\r",
      " 32%|███▎      | 195/600 [06:52<13:54,  2.06s/it]"
     ]
    },
    {
     "name": "stdout",
     "output_type": "stream",
     "text": [
      "Epoch 194 Loss: 0.3033139109611511\n"
     ]
    },
    {
     "name": "stderr",
     "output_type": "stream",
     "text": [
      "\r",
      " 33%|███▎      | 196/600 [06:54<14:05,  2.09s/it]"
     ]
    },
    {
     "name": "stdout",
     "output_type": "stream",
     "text": [
      "Epoch 195 Loss: 0.3024480640888214\n"
     ]
    },
    {
     "name": "stderr",
     "output_type": "stream",
     "text": [
      "\r",
      " 33%|███▎      | 197/600 [06:56<13:57,  2.08s/it]"
     ]
    },
    {
     "name": "stdout",
     "output_type": "stream",
     "text": [
      "Epoch 196 Loss: 0.3016864061355591\n"
     ]
    },
    {
     "name": "stderr",
     "output_type": "stream",
     "text": [
      "\r",
      " 33%|███▎      | 198/600 [06:59<13:54,  2.08s/it]"
     ]
    },
    {
     "name": "stdout",
     "output_type": "stream",
     "text": [
      "Epoch 197 Loss: 0.3003426194190979\n"
     ]
    },
    {
     "name": "stderr",
     "output_type": "stream",
     "text": [
      "\r",
      " 33%|███▎      | 199/600 [07:01<14:09,  2.12s/it]"
     ]
    },
    {
     "name": "stdout",
     "output_type": "stream",
     "text": [
      "Epoch 198 Loss: 0.2994263768196106\n"
     ]
    },
    {
     "name": "stderr",
     "output_type": "stream",
     "text": [
      "\r",
      " 33%|███▎      | 200/600 [07:03<14:19,  2.15s/it]"
     ]
    },
    {
     "name": "stdout",
     "output_type": "stream",
     "text": [
      "Epoch 199 Loss: 0.2983959913253784\n"
     ]
    },
    {
     "name": "stderr",
     "output_type": "stream",
     "text": [
      "\r",
      " 34%|███▎      | 201/600 [07:05<14:18,  2.15s/it]"
     ]
    },
    {
     "name": "stdout",
     "output_type": "stream",
     "text": [
      "Epoch 200 Loss: 0.29754066467285156\n"
     ]
    },
    {
     "name": "stderr",
     "output_type": "stream",
     "text": [
      "\r",
      " 34%|███▎      | 202/600 [07:07<14:06,  2.13s/it]"
     ]
    },
    {
     "name": "stdout",
     "output_type": "stream",
     "text": [
      "Epoch 201 Loss: 0.29682207107543945\n"
     ]
    },
    {
     "name": "stderr",
     "output_type": "stream",
     "text": [
      "\r",
      " 34%|███▍      | 203/600 [07:09<13:57,  2.11s/it]"
     ]
    },
    {
     "name": "stdout",
     "output_type": "stream",
     "text": [
      "Epoch 202 Loss: 0.2958943247795105\n"
     ]
    },
    {
     "name": "stderr",
     "output_type": "stream",
     "text": [
      "\r",
      " 34%|███▍      | 204/600 [07:11<14:07,  2.14s/it]"
     ]
    },
    {
     "name": "stdout",
     "output_type": "stream",
     "text": [
      "Epoch 203 Loss: 0.29466602206230164\n"
     ]
    },
    {
     "name": "stderr",
     "output_type": "stream",
     "text": [
      "\r",
      " 34%|███▍      | 205/600 [07:14<13:54,  2.11s/it]"
     ]
    },
    {
     "name": "stdout",
     "output_type": "stream",
     "text": [
      "Epoch 204 Loss: 0.2932478189468384\n"
     ]
    },
    {
     "name": "stderr",
     "output_type": "stream",
     "text": [
      "\r",
      " 34%|███▍      | 206/600 [07:16<13:44,  2.09s/it]"
     ]
    },
    {
     "name": "stdout",
     "output_type": "stream",
     "text": [
      "Epoch 205 Loss: 0.29207026958465576\n"
     ]
    },
    {
     "name": "stderr",
     "output_type": "stream",
     "text": [
      "\r",
      " 34%|███▍      | 207/600 [07:18<13:39,  2.08s/it]"
     ]
    },
    {
     "name": "stdout",
     "output_type": "stream",
     "text": [
      "Epoch 206 Loss: 0.29138344526290894\n"
     ]
    },
    {
     "name": "stderr",
     "output_type": "stream",
     "text": [
      "\r",
      " 35%|███▍      | 208/600 [07:20<13:32,  2.07s/it]"
     ]
    },
    {
     "name": "stdout",
     "output_type": "stream",
     "text": [
      "Epoch 207 Loss: 0.29052746295928955\n"
     ]
    },
    {
     "name": "stderr",
     "output_type": "stream",
     "text": [
      "\r",
      " 35%|███▍      | 209/600 [07:22<13:28,  2.07s/it]"
     ]
    },
    {
     "name": "stdout",
     "output_type": "stream",
     "text": [
      "Epoch 208 Loss: 0.28910940885543823\n"
     ]
    },
    {
     "name": "stderr",
     "output_type": "stream",
     "text": [
      "\r",
      " 35%|███▌      | 210/600 [07:24<13:23,  2.06s/it]"
     ]
    },
    {
     "name": "stdout",
     "output_type": "stream",
     "text": [
      "Epoch 209 Loss: 0.28790244460105896\n"
     ]
    },
    {
     "name": "stderr",
     "output_type": "stream",
     "text": [
      "\r",
      " 35%|███▌      | 211/600 [07:26<13:37,  2.10s/it]"
     ]
    },
    {
     "name": "stdout",
     "output_type": "stream",
     "text": [
      "Epoch 210 Loss: 0.28709983825683594\n"
     ]
    },
    {
     "name": "stderr",
     "output_type": "stream",
     "text": [
      "\r",
      " 35%|███▌      | 212/600 [07:28<13:34,  2.10s/it]"
     ]
    },
    {
     "name": "stdout",
     "output_type": "stream",
     "text": [
      "Epoch 211 Loss: 0.2861291170120239\n"
     ]
    },
    {
     "name": "stderr",
     "output_type": "stream",
     "text": [
      "\r",
      " 36%|███▌      | 213/600 [07:30<13:25,  2.08s/it]"
     ]
    },
    {
     "name": "stdout",
     "output_type": "stream",
     "text": [
      "Epoch 212 Loss: 0.285450279712677\n"
     ]
    },
    {
     "name": "stderr",
     "output_type": "stream",
     "text": [
      "\r",
      " 36%|███▌      | 214/600 [07:32<13:20,  2.07s/it]"
     ]
    },
    {
     "name": "stdout",
     "output_type": "stream",
     "text": [
      "Epoch 213 Loss: 0.2845059037208557\n"
     ]
    },
    {
     "name": "stderr",
     "output_type": "stream",
     "text": [
      "\r",
      " 36%|███▌      | 215/600 [07:34<13:22,  2.08s/it]"
     ]
    },
    {
     "name": "stdout",
     "output_type": "stream",
     "text": [
      "Epoch 214 Loss: 0.2834246754646301\n"
     ]
    },
    {
     "name": "stderr",
     "output_type": "stream",
     "text": [
      "\r",
      " 36%|███▌      | 216/600 [07:36<13:27,  2.10s/it]"
     ]
    },
    {
     "name": "stdout",
     "output_type": "stream",
     "text": [
      "Epoch 215 Loss: 0.28268957138061523\n"
     ]
    },
    {
     "name": "stderr",
     "output_type": "stream",
     "text": [
      "\r",
      " 36%|███▌      | 217/600 [07:39<13:48,  2.16s/it]"
     ]
    },
    {
     "name": "stdout",
     "output_type": "stream",
     "text": [
      "Epoch 216 Loss: 0.28196394443511963\n"
     ]
    },
    {
     "name": "stderr",
     "output_type": "stream",
     "text": [
      "\r",
      " 36%|███▋      | 218/600 [07:41<13:40,  2.15s/it]"
     ]
    },
    {
     "name": "stdout",
     "output_type": "stream",
     "text": [
      "Epoch 217 Loss: 0.2814769148826599\n"
     ]
    },
    {
     "name": "stderr",
     "output_type": "stream",
     "text": [
      "\r",
      " 36%|███▋      | 219/600 [07:43<13:41,  2.16s/it]"
     ]
    },
    {
     "name": "stdout",
     "output_type": "stream",
     "text": [
      "Epoch 218 Loss: 0.28045323491096497\n"
     ]
    },
    {
     "name": "stderr",
     "output_type": "stream",
     "text": [
      "\r",
      " 37%|███▋      | 220/600 [07:45<13:26,  2.12s/it]"
     ]
    },
    {
     "name": "stdout",
     "output_type": "stream",
     "text": [
      "Epoch 219 Loss: 0.27974531054496765\n"
     ]
    },
    {
     "name": "stderr",
     "output_type": "stream",
     "text": [
      "\r",
      " 37%|███▋      | 221/600 [07:47<13:20,  2.11s/it]"
     ]
    },
    {
     "name": "stdout",
     "output_type": "stream",
     "text": [
      "Epoch 220 Loss: 0.278878390789032\n"
     ]
    },
    {
     "name": "stderr",
     "output_type": "stream",
     "text": [
      "\r",
      " 37%|███▋      | 222/600 [07:49<13:10,  2.09s/it]"
     ]
    },
    {
     "name": "stdout",
     "output_type": "stream",
     "text": [
      "Epoch 221 Loss: 0.27802103757858276\n"
     ]
    },
    {
     "name": "stderr",
     "output_type": "stream",
     "text": [
      "\r",
      " 37%|███▋      | 223/600 [07:51<13:06,  2.09s/it]"
     ]
    },
    {
     "name": "stdout",
     "output_type": "stream",
     "text": [
      "Epoch 222 Loss: 0.27800318598747253\n"
     ]
    },
    {
     "name": "stderr",
     "output_type": "stream",
     "text": [
      "\r",
      " 37%|███▋      | 224/600 [07:53<13:01,  2.08s/it]"
     ]
    },
    {
     "name": "stdout",
     "output_type": "stream",
     "text": [
      "Epoch 223 Loss: 0.2770631015300751\n"
     ]
    },
    {
     "name": "stderr",
     "output_type": "stream",
     "text": [
      "\r",
      " 38%|███▊      | 225/600 [07:55<12:55,  2.07s/it]"
     ]
    },
    {
     "name": "stdout",
     "output_type": "stream",
     "text": [
      "Epoch 224 Loss: 0.27619093656539917\n"
     ]
    },
    {
     "name": "stderr",
     "output_type": "stream",
     "text": [
      "\r",
      " 38%|███▊      | 226/600 [07:57<13:02,  2.09s/it]"
     ]
    },
    {
     "name": "stdout",
     "output_type": "stream",
     "text": [
      "Epoch 225 Loss: 0.275508850812912\n"
     ]
    },
    {
     "name": "stderr",
     "output_type": "stream",
     "text": [
      "\r",
      " 38%|███▊      | 227/600 [08:00<13:03,  2.10s/it]"
     ]
    },
    {
     "name": "stdout",
     "output_type": "stream",
     "text": [
      "Epoch 226 Loss: 0.2745347023010254\n"
     ]
    },
    {
     "name": "stderr",
     "output_type": "stream",
     "text": [
      "\r",
      " 38%|███▊      | 228/600 [08:02<13:04,  2.11s/it]"
     ]
    },
    {
     "name": "stdout",
     "output_type": "stream",
     "text": [
      "Epoch 227 Loss: 0.2735736668109894\n"
     ]
    },
    {
     "name": "stderr",
     "output_type": "stream",
     "text": [
      "\r",
      " 38%|███▊      | 229/600 [08:04<13:07,  2.12s/it]"
     ]
    },
    {
     "name": "stdout",
     "output_type": "stream",
     "text": [
      "Epoch 228 Loss: 0.2725832462310791\n"
     ]
    },
    {
     "name": "stderr",
     "output_type": "stream",
     "text": [
      "\r",
      " 38%|███▊      | 230/600 [08:06<13:16,  2.15s/it]"
     ]
    },
    {
     "name": "stdout",
     "output_type": "stream",
     "text": [
      "Epoch 229 Loss: 0.2722994387149811\n"
     ]
    },
    {
     "name": "stderr",
     "output_type": "stream",
     "text": [
      "\r",
      " 38%|███▊      | 231/600 [08:08<13:33,  2.20s/it]"
     ]
    },
    {
     "name": "stdout",
     "output_type": "stream",
     "text": [
      "Epoch 230 Loss: 0.27248257398605347\n"
     ]
    },
    {
     "name": "stderr",
     "output_type": "stream",
     "text": [
      "\r",
      " 39%|███▊      | 232/600 [08:11<13:18,  2.17s/it]"
     ]
    },
    {
     "name": "stdout",
     "output_type": "stream",
     "text": [
      "Epoch 231 Loss: 0.2716667056083679\n"
     ]
    },
    {
     "name": "stderr",
     "output_type": "stream",
     "text": [
      "\r",
      " 39%|███▉      | 233/600 [08:13<13:12,  2.16s/it]"
     ]
    },
    {
     "name": "stdout",
     "output_type": "stream",
     "text": [
      "Epoch 232 Loss: 0.27136486768722534\n"
     ]
    },
    {
     "name": "stderr",
     "output_type": "stream",
     "text": [
      "\r",
      " 39%|███▉      | 234/600 [08:15<13:16,  2.18s/it]"
     ]
    },
    {
     "name": "stdout",
     "output_type": "stream",
     "text": [
      "Epoch 233 Loss: 0.2709020674228668\n"
     ]
    },
    {
     "name": "stderr",
     "output_type": "stream",
     "text": [
      "\r",
      " 39%|███▉      | 235/600 [08:17<13:10,  2.17s/it]"
     ]
    },
    {
     "name": "stdout",
     "output_type": "stream",
     "text": [
      "Epoch 234 Loss: 0.26983630657196045\n"
     ]
    },
    {
     "name": "stderr",
     "output_type": "stream",
     "text": [
      "\r",
      " 39%|███▉      | 236/600 [08:19<12:57,  2.14s/it]"
     ]
    },
    {
     "name": "stdout",
     "output_type": "stream",
     "text": [
      "Epoch 235 Loss: 0.2693202495574951\n"
     ]
    },
    {
     "name": "stderr",
     "output_type": "stream",
     "text": [
      "\r",
      " 40%|███▉      | 237/600 [08:21<12:51,  2.13s/it]"
     ]
    },
    {
     "name": "stdout",
     "output_type": "stream",
     "text": [
      "Epoch 236 Loss: 0.26827719807624817\n"
     ]
    },
    {
     "name": "stderr",
     "output_type": "stream",
     "text": [
      "\r",
      " 40%|███▉      | 238/600 [08:23<12:48,  2.12s/it]"
     ]
    },
    {
     "name": "stdout",
     "output_type": "stream",
     "text": [
      "Epoch 237 Loss: 0.2678831219673157\n"
     ]
    },
    {
     "name": "stderr",
     "output_type": "stream",
     "text": [
      "\r",
      " 40%|███▉      | 239/600 [08:25<12:46,  2.12s/it]"
     ]
    },
    {
     "name": "stdout",
     "output_type": "stream",
     "text": [
      "Epoch 238 Loss: 0.2673778533935547\n"
     ]
    },
    {
     "name": "stderr",
     "output_type": "stream",
     "text": [
      "\r",
      " 40%|████      | 240/600 [08:28<13:09,  2.19s/it]"
     ]
    },
    {
     "name": "stdout",
     "output_type": "stream",
     "text": [
      "Epoch 239 Loss: 0.2662801146507263\n"
     ]
    },
    {
     "name": "stderr",
     "output_type": "stream",
     "text": [
      "\r",
      " 40%|████      | 241/600 [08:30<13:07,  2.19s/it]"
     ]
    },
    {
     "name": "stdout",
     "output_type": "stream",
     "text": [
      "Epoch 240 Loss: 0.2651054859161377\n"
     ]
    },
    {
     "name": "stderr",
     "output_type": "stream",
     "text": [
      "\r",
      " 40%|████      | 242/600 [08:32<12:59,  2.18s/it]"
     ]
    },
    {
     "name": "stdout",
     "output_type": "stream",
     "text": [
      "Epoch 241 Loss: 0.26407235860824585\n"
     ]
    },
    {
     "name": "stderr",
     "output_type": "stream",
     "text": [
      "\r",
      " 40%|████      | 243/600 [08:34<12:41,  2.13s/it]"
     ]
    },
    {
     "name": "stdout",
     "output_type": "stream",
     "text": [
      "Epoch 242 Loss: 0.26346659660339355\n"
     ]
    },
    {
     "name": "stderr",
     "output_type": "stream",
     "text": [
      "\r",
      " 41%|████      | 244/600 [08:36<12:54,  2.18s/it]"
     ]
    },
    {
     "name": "stdout",
     "output_type": "stream",
     "text": [
      "Epoch 243 Loss: 0.2617483139038086\n"
     ]
    },
    {
     "name": "stderr",
     "output_type": "stream",
     "text": [
      "\r",
      " 41%|████      | 245/600 [08:39<12:55,  2.19s/it]"
     ]
    },
    {
     "name": "stdout",
     "output_type": "stream",
     "text": [
      "Epoch 244 Loss: 0.26100489497184753\n"
     ]
    },
    {
     "name": "stderr",
     "output_type": "stream",
     "text": [
      "\r",
      " 41%|████      | 246/600 [08:41<12:51,  2.18s/it]"
     ]
    },
    {
     "name": "stdout",
     "output_type": "stream",
     "text": [
      "Epoch 245 Loss: 0.26018932461738586\n"
     ]
    },
    {
     "name": "stderr",
     "output_type": "stream",
     "text": [
      "\r",
      " 41%|████      | 247/600 [08:43<12:34,  2.14s/it]"
     ]
    },
    {
     "name": "stdout",
     "output_type": "stream",
     "text": [
      "Epoch 246 Loss: 0.25854992866516113\n"
     ]
    },
    {
     "name": "stderr",
     "output_type": "stream",
     "text": [
      "\r",
      " 41%|████▏     | 248/600 [08:45<12:36,  2.15s/it]"
     ]
    },
    {
     "name": "stdout",
     "output_type": "stream",
     "text": [
      "Epoch 247 Loss: 0.25816261768341064\n"
     ]
    },
    {
     "name": "stderr",
     "output_type": "stream",
     "text": [
      "\r",
      " 42%|████▏     | 249/600 [08:47<12:47,  2.19s/it]"
     ]
    },
    {
     "name": "stdout",
     "output_type": "stream",
     "text": [
      "Epoch 248 Loss: 0.25689762830734253\n"
     ]
    },
    {
     "name": "stderr",
     "output_type": "stream",
     "text": [
      "\r",
      " 42%|████▏     | 250/600 [08:49<12:41,  2.18s/it]"
     ]
    },
    {
     "name": "stdout",
     "output_type": "stream",
     "text": [
      "Epoch 249 Loss: 0.25750768184661865\n"
     ]
    },
    {
     "name": "stderr",
     "output_type": "stream",
     "text": [
      "\r",
      " 42%|████▏     | 251/600 [08:52<12:41,  2.18s/it]"
     ]
    },
    {
     "name": "stdout",
     "output_type": "stream",
     "text": [
      "Epoch 250 Loss: 0.2558187246322632\n"
     ]
    },
    {
     "name": "stderr",
     "output_type": "stream",
     "text": [
      "\r",
      " 42%|████▏     | 252/600 [08:54<12:41,  2.19s/it]"
     ]
    },
    {
     "name": "stdout",
     "output_type": "stream",
     "text": [
      "Epoch 251 Loss: 0.25582459568977356\n"
     ]
    },
    {
     "name": "stderr",
     "output_type": "stream",
     "text": [
      "\r",
      " 42%|████▏     | 253/600 [08:56<12:43,  2.20s/it]"
     ]
    },
    {
     "name": "stdout",
     "output_type": "stream",
     "text": [
      "Epoch 252 Loss: 0.25509876012802124\n"
     ]
    },
    {
     "name": "stderr",
     "output_type": "stream",
     "text": [
      "\r",
      " 42%|████▏     | 254/600 [08:58<12:25,  2.16s/it]"
     ]
    },
    {
     "name": "stdout",
     "output_type": "stream",
     "text": [
      "Epoch 253 Loss: 0.25468000769615173\n"
     ]
    },
    {
     "name": "stderr",
     "output_type": "stream",
     "text": [
      "\r",
      " 42%|████▎     | 255/600 [09:00<12:09,  2.11s/it]"
     ]
    },
    {
     "name": "stdout",
     "output_type": "stream",
     "text": [
      "Epoch 254 Loss: 0.2536163628101349\n"
     ]
    },
    {
     "name": "stderr",
     "output_type": "stream",
     "text": [
      "\r",
      " 43%|████▎     | 256/600 [09:02<12:13,  2.13s/it]"
     ]
    },
    {
     "name": "stdout",
     "output_type": "stream",
     "text": [
      "Epoch 255 Loss: 0.2518318295478821\n"
     ]
    },
    {
     "name": "stderr",
     "output_type": "stream",
     "text": [
      "\r",
      " 43%|████▎     | 257/600 [09:04<11:59,  2.10s/it]"
     ]
    },
    {
     "name": "stdout",
     "output_type": "stream",
     "text": [
      "Epoch 256 Loss: 0.25216448307037354\n"
     ]
    },
    {
     "name": "stderr",
     "output_type": "stream",
     "text": [
      "\r",
      " 43%|████▎     | 258/600 [09:06<11:51,  2.08s/it]"
     ]
    },
    {
     "name": "stdout",
     "output_type": "stream",
     "text": [
      "Epoch 257 Loss: 0.2507176399230957\n"
     ]
    },
    {
     "name": "stderr",
     "output_type": "stream",
     "text": [
      "\r",
      " 43%|████▎     | 259/600 [09:08<11:41,  2.06s/it]"
     ]
    },
    {
     "name": "stdout",
     "output_type": "stream",
     "text": [
      "Epoch 258 Loss: 0.2498478889465332\n"
     ]
    },
    {
     "name": "stderr",
     "output_type": "stream",
     "text": [
      "\r",
      " 43%|████▎     | 260/600 [09:10<11:34,  2.04s/it]"
     ]
    },
    {
     "name": "stdout",
     "output_type": "stream",
     "text": [
      "Epoch 259 Loss: 0.249259352684021\n"
     ]
    },
    {
     "name": "stderr",
     "output_type": "stream",
     "text": [
      "\r",
      " 44%|████▎     | 261/600 [09:12<11:28,  2.03s/it]"
     ]
    },
    {
     "name": "stdout",
     "output_type": "stream",
     "text": [
      "Epoch 260 Loss: 0.24815163016319275\n"
     ]
    },
    {
     "name": "stderr",
     "output_type": "stream",
     "text": [
      "\r",
      " 44%|████▎     | 262/600 [09:14<11:22,  2.02s/it]"
     ]
    },
    {
     "name": "stdout",
     "output_type": "stream",
     "text": [
      "Epoch 261 Loss: 0.24776482582092285\n"
     ]
    },
    {
     "name": "stderr",
     "output_type": "stream",
     "text": [
      "\r",
      " 44%|████▍     | 263/600 [09:16<11:25,  2.03s/it]"
     ]
    },
    {
     "name": "stdout",
     "output_type": "stream",
     "text": [
      "Epoch 262 Loss: 0.24726979434490204\n"
     ]
    },
    {
     "name": "stderr",
     "output_type": "stream",
     "text": [
      "\r",
      " 44%|████▍     | 264/600 [09:19<11:40,  2.09s/it]"
     ]
    },
    {
     "name": "stdout",
     "output_type": "stream",
     "text": [
      "Epoch 263 Loss: 0.24554431438446045\n"
     ]
    },
    {
     "name": "stderr",
     "output_type": "stream",
     "text": [
      "\r",
      " 44%|████▍     | 265/600 [09:21<11:31,  2.06s/it]"
     ]
    },
    {
     "name": "stdout",
     "output_type": "stream",
     "text": [
      "Epoch 264 Loss: 0.24570541083812714\n"
     ]
    },
    {
     "name": "stderr",
     "output_type": "stream",
     "text": [
      "\r",
      " 44%|████▍     | 266/600 [09:23<11:26,  2.05s/it]"
     ]
    },
    {
     "name": "stdout",
     "output_type": "stream",
     "text": [
      "Epoch 265 Loss: 0.2443513721227646\n"
     ]
    },
    {
     "name": "stderr",
     "output_type": "stream",
     "text": [
      "\r",
      " 44%|████▍     | 267/600 [09:25<11:20,  2.04s/it]"
     ]
    },
    {
     "name": "stdout",
     "output_type": "stream",
     "text": [
      "Epoch 266 Loss: 0.24401319026947021\n"
     ]
    },
    {
     "name": "stderr",
     "output_type": "stream",
     "text": [
      "\r",
      " 45%|████▍     | 268/600 [09:27<11:15,  2.03s/it]"
     ]
    },
    {
     "name": "stdout",
     "output_type": "stream",
     "text": [
      "Epoch 267 Loss: 0.24315409362316132\n"
     ]
    },
    {
     "name": "stderr",
     "output_type": "stream",
     "text": [
      "\r",
      " 45%|████▍     | 269/600 [09:29<11:09,  2.02s/it]"
     ]
    },
    {
     "name": "stdout",
     "output_type": "stream",
     "text": [
      "Epoch 268 Loss: 0.2425825297832489\n"
     ]
    },
    {
     "name": "stderr",
     "output_type": "stream",
     "text": [
      "\r",
      " 45%|████▌     | 270/600 [09:31<11:07,  2.02s/it]"
     ]
    },
    {
     "name": "stdout",
     "output_type": "stream",
     "text": [
      "Epoch 269 Loss: 0.2422637641429901\n"
     ]
    },
    {
     "name": "stderr",
     "output_type": "stream",
     "text": [
      "\r",
      " 45%|████▌     | 271/600 [09:33<11:07,  2.03s/it]"
     ]
    },
    {
     "name": "stdout",
     "output_type": "stream",
     "text": [
      "Epoch 270 Loss: 0.2414022535085678\n"
     ]
    },
    {
     "name": "stderr",
     "output_type": "stream",
     "text": [
      "\r",
      " 45%|████▌     | 272/600 [09:35<11:22,  2.08s/it]"
     ]
    },
    {
     "name": "stdout",
     "output_type": "stream",
     "text": [
      "Epoch 271 Loss: 0.24090270698070526\n"
     ]
    },
    {
     "name": "stderr",
     "output_type": "stream",
     "text": [
      "\r",
      " 46%|████▌     | 273/600 [09:37<11:17,  2.07s/it]"
     ]
    },
    {
     "name": "stdout",
     "output_type": "stream",
     "text": [
      "Epoch 272 Loss: 0.24089717864990234\n"
     ]
    },
    {
     "name": "stderr",
     "output_type": "stream",
     "text": [
      "\r",
      " 46%|████▌     | 274/600 [09:39<11:09,  2.05s/it]"
     ]
    },
    {
     "name": "stdout",
     "output_type": "stream",
     "text": [
      "Epoch 273 Loss: 0.2396279275417328\n"
     ]
    },
    {
     "name": "stderr",
     "output_type": "stream",
     "text": [
      "\r",
      " 46%|████▌     | 275/600 [09:41<11:07,  2.06s/it]"
     ]
    },
    {
     "name": "stdout",
     "output_type": "stream",
     "text": [
      "Epoch 274 Loss: 0.2393321990966797\n"
     ]
    },
    {
     "name": "stderr",
     "output_type": "stream",
     "text": [
      "\r",
      " 46%|████▌     | 276/600 [09:43<11:08,  2.06s/it]"
     ]
    },
    {
     "name": "stdout",
     "output_type": "stream",
     "text": [
      "Epoch 275 Loss: 0.23827402293682098\n"
     ]
    },
    {
     "name": "stderr",
     "output_type": "stream",
     "text": [
      "\r",
      " 46%|████▌     | 277/600 [09:45<11:00,  2.04s/it]"
     ]
    },
    {
     "name": "stdout",
     "output_type": "stream",
     "text": [
      "Epoch 276 Loss: 0.2378147542476654\n"
     ]
    },
    {
     "name": "stderr",
     "output_type": "stream",
     "text": [
      "\r",
      " 46%|████▋     | 278/600 [09:47<11:00,  2.05s/it]"
     ]
    },
    {
     "name": "stdout",
     "output_type": "stream",
     "text": [
      "Epoch 277 Loss: 0.23736010491847992\n"
     ]
    },
    {
     "name": "stderr",
     "output_type": "stream",
     "text": [
      "\r",
      " 46%|████▋     | 279/600 [09:49<10:55,  2.04s/it]"
     ]
    },
    {
     "name": "stdout",
     "output_type": "stream",
     "text": [
      "Epoch 278 Loss: 0.2367946356534958\n"
     ]
    },
    {
     "name": "stderr",
     "output_type": "stream",
     "text": [
      "\r",
      " 47%|████▋     | 280/600 [09:51<11:09,  2.09s/it]"
     ]
    },
    {
     "name": "stdout",
     "output_type": "stream",
     "text": [
      "Epoch 279 Loss: 0.23603259027004242\n"
     ]
    },
    {
     "name": "stderr",
     "output_type": "stream",
     "text": [
      "\r",
      " 47%|████▋     | 281/600 [09:54<11:00,  2.07s/it]"
     ]
    },
    {
     "name": "stdout",
     "output_type": "stream",
     "text": [
      "Epoch 280 Loss: 0.23594950139522552\n"
     ]
    },
    {
     "name": "stderr",
     "output_type": "stream",
     "text": [
      "\r",
      " 47%|████▋     | 282/600 [09:56<11:04,  2.09s/it]"
     ]
    },
    {
     "name": "stdout",
     "output_type": "stream",
     "text": [
      "Epoch 281 Loss: 0.23486432433128357\n"
     ]
    },
    {
     "name": "stderr",
     "output_type": "stream",
     "text": [
      "\r",
      " 47%|████▋     | 283/600 [09:58<11:09,  2.11s/it]"
     ]
    },
    {
     "name": "stdout",
     "output_type": "stream",
     "text": [
      "Epoch 282 Loss: 0.23444592952728271\n"
     ]
    },
    {
     "name": "stderr",
     "output_type": "stream",
     "text": [
      "\r",
      " 47%|████▋     | 284/600 [10:00<11:12,  2.13s/it]"
     ]
    },
    {
     "name": "stdout",
     "output_type": "stream",
     "text": [
      "Epoch 283 Loss: 0.23468731343746185\n"
     ]
    },
    {
     "name": "stderr",
     "output_type": "stream",
     "text": [
      "\r",
      " 48%|████▊     | 285/600 [10:02<11:02,  2.10s/it]"
     ]
    },
    {
     "name": "stdout",
     "output_type": "stream",
     "text": [
      "Epoch 284 Loss: 0.23276683688163757\n"
     ]
    },
    {
     "name": "stderr",
     "output_type": "stream",
     "text": [
      "\r",
      " 48%|████▊     | 286/600 [10:04<10:51,  2.07s/it]"
     ]
    },
    {
     "name": "stdout",
     "output_type": "stream",
     "text": [
      "Epoch 285 Loss: 0.2322077751159668\n"
     ]
    },
    {
     "name": "stderr",
     "output_type": "stream",
     "text": [
      "\r",
      " 48%|████▊     | 287/600 [10:06<10:59,  2.11s/it]"
     ]
    },
    {
     "name": "stdout",
     "output_type": "stream",
     "text": [
      "Epoch 286 Loss: 0.23180894553661346\n"
     ]
    },
    {
     "name": "stderr",
     "output_type": "stream",
     "text": [
      "\r",
      " 48%|████▊     | 288/600 [10:08<10:56,  2.10s/it]"
     ]
    },
    {
     "name": "stdout",
     "output_type": "stream",
     "text": [
      "Epoch 287 Loss: 0.23082761466503143\n"
     ]
    },
    {
     "name": "stderr",
     "output_type": "stream",
     "text": [
      "\r",
      " 48%|████▊     | 289/600 [10:10<10:45,  2.08s/it]"
     ]
    },
    {
     "name": "stdout",
     "output_type": "stream",
     "text": [
      "Epoch 288 Loss: 0.229763925075531\n"
     ]
    },
    {
     "name": "stderr",
     "output_type": "stream",
     "text": [
      "\r",
      " 48%|████▊     | 290/600 [10:12<10:41,  2.07s/it]"
     ]
    },
    {
     "name": "stdout",
     "output_type": "stream",
     "text": [
      "Epoch 289 Loss: 0.22977745532989502\n"
     ]
    },
    {
     "name": "stderr",
     "output_type": "stream",
     "text": [
      "\r",
      " 48%|████▊     | 291/600 [10:14<10:39,  2.07s/it]"
     ]
    },
    {
     "name": "stdout",
     "output_type": "stream",
     "text": [
      "Epoch 290 Loss: 0.22913317382335663\n"
     ]
    },
    {
     "name": "stderr",
     "output_type": "stream",
     "text": [
      "\r",
      " 49%|████▊     | 292/600 [10:16<10:36,  2.07s/it]"
     ]
    },
    {
     "name": "stdout",
     "output_type": "stream",
     "text": [
      "Epoch 291 Loss: 0.2289038598537445\n"
     ]
    },
    {
     "name": "stderr",
     "output_type": "stream",
     "text": [
      "\r",
      " 49%|████▉     | 293/600 [10:18<10:28,  2.05s/it]"
     ]
    },
    {
     "name": "stdout",
     "output_type": "stream",
     "text": [
      "Epoch 292 Loss: 0.22842368483543396\n"
     ]
    },
    {
     "name": "stderr",
     "output_type": "stream",
     "text": [
      "\r",
      " 49%|████▉     | 294/600 [10:21<10:22,  2.03s/it]"
     ]
    },
    {
     "name": "stdout",
     "output_type": "stream",
     "text": [
      "Epoch 293 Loss: 0.22770178318023682\n"
     ]
    },
    {
     "name": "stderr",
     "output_type": "stream",
     "text": [
      "\r",
      " 49%|████▉     | 295/600 [10:23<10:34,  2.08s/it]"
     ]
    },
    {
     "name": "stdout",
     "output_type": "stream",
     "text": [
      "Epoch 294 Loss: 0.22670042514801025\n"
     ]
    },
    {
     "name": "stderr",
     "output_type": "stream",
     "text": [
      "\r",
      " 49%|████▉     | 296/600 [10:25<10:27,  2.06s/it]"
     ]
    },
    {
     "name": "stdout",
     "output_type": "stream",
     "text": [
      "Epoch 295 Loss: 0.22667774558067322\n"
     ]
    },
    {
     "name": "stderr",
     "output_type": "stream",
     "text": [
      "\r",
      " 50%|████▉     | 297/600 [10:27<10:21,  2.05s/it]"
     ]
    },
    {
     "name": "stdout",
     "output_type": "stream",
     "text": [
      "Epoch 296 Loss: 0.22604891657829285\n"
     ]
    },
    {
     "name": "stderr",
     "output_type": "stream",
     "text": [
      "\r",
      " 50%|████▉     | 298/600 [10:29<10:14,  2.04s/it]"
     ]
    },
    {
     "name": "stdout",
     "output_type": "stream",
     "text": [
      "Epoch 297 Loss: 0.22573231160640717\n"
     ]
    },
    {
     "name": "stderr",
     "output_type": "stream",
     "text": [
      "\r",
      " 50%|████▉     | 299/600 [10:31<10:13,  2.04s/it]"
     ]
    },
    {
     "name": "stdout",
     "output_type": "stream",
     "text": [
      "Epoch 298 Loss: 0.22456344962120056\n"
     ]
    },
    {
     "name": "stderr",
     "output_type": "stream",
     "text": [
      "\r",
      " 50%|█████     | 300/600 [10:33<10:16,  2.05s/it]"
     ]
    },
    {
     "name": "stdout",
     "output_type": "stream",
     "text": [
      "Epoch 299 Loss: 0.22384141385555267\n"
     ]
    },
    {
     "name": "stderr",
     "output_type": "stream",
     "text": [
      "\r",
      " 50%|█████     | 301/600 [10:35<10:09,  2.04s/it]"
     ]
    },
    {
     "name": "stdout",
     "output_type": "stream",
     "text": [
      "Epoch 300 Loss: 0.22359132766723633\n"
     ]
    },
    {
     "name": "stderr",
     "output_type": "stream",
     "text": [
      "\r",
      " 50%|█████     | 302/600 [10:37<10:07,  2.04s/it]"
     ]
    },
    {
     "name": "stdout",
     "output_type": "stream",
     "text": [
      "Epoch 301 Loss: 0.22235891222953796\n"
     ]
    },
    {
     "name": "stderr",
     "output_type": "stream",
     "text": [
      "\r",
      " 50%|█████     | 303/600 [10:39<10:15,  2.07s/it]"
     ]
    },
    {
     "name": "stdout",
     "output_type": "stream",
     "text": [
      "Epoch 302 Loss: 0.22223401069641113\n"
     ]
    },
    {
     "name": "stderr",
     "output_type": "stream",
     "text": [
      "\r",
      " 51%|█████     | 304/600 [10:41<10:10,  2.06s/it]"
     ]
    },
    {
     "name": "stdout",
     "output_type": "stream",
     "text": [
      "Epoch 303 Loss: 0.22079777717590332\n"
     ]
    },
    {
     "name": "stderr",
     "output_type": "stream",
     "text": [
      "\r",
      " 51%|█████     | 305/600 [10:43<10:05,  2.05s/it]"
     ]
    },
    {
     "name": "stdout",
     "output_type": "stream",
     "text": [
      "Epoch 304 Loss: 0.21964791417121887\n"
     ]
    },
    {
     "name": "stderr",
     "output_type": "stream",
     "text": [
      "\r",
      " 51%|█████     | 306/600 [10:45<09:58,  2.04s/it]"
     ]
    },
    {
     "name": "stdout",
     "output_type": "stream",
     "text": [
      "Epoch 305 Loss: 0.2184993475675583\n"
     ]
    },
    {
     "name": "stderr",
     "output_type": "stream",
     "text": [
      "\r",
      " 51%|█████     | 307/600 [10:47<09:56,  2.03s/it]"
     ]
    },
    {
     "name": "stdout",
     "output_type": "stream",
     "text": [
      "Epoch 306 Loss: 0.21812757849693298\n"
     ]
    },
    {
     "name": "stderr",
     "output_type": "stream",
     "text": [
      "\r",
      " 51%|█████▏    | 308/600 [10:49<09:50,  2.02s/it]"
     ]
    },
    {
     "name": "stdout",
     "output_type": "stream",
     "text": [
      "Epoch 307 Loss: 0.2170318365097046\n"
     ]
    },
    {
     "name": "stderr",
     "output_type": "stream",
     "text": [
      "\r",
      " 52%|█████▏    | 309/600 [10:51<09:48,  2.02s/it]"
     ]
    },
    {
     "name": "stdout",
     "output_type": "stream",
     "text": [
      "Epoch 308 Loss: 0.21583151817321777\n"
     ]
    },
    {
     "name": "stderr",
     "output_type": "stream",
     "text": [
      "\r",
      " 52%|█████▏    | 310/600 [10:53<09:45,  2.02s/it]"
     ]
    },
    {
     "name": "stdout",
     "output_type": "stream",
     "text": [
      "Epoch 309 Loss: 0.21531948447227478\n"
     ]
    },
    {
     "name": "stderr",
     "output_type": "stream",
     "text": [
      "\r",
      " 52%|█████▏    | 311/600 [10:55<09:54,  2.06s/it]"
     ]
    },
    {
     "name": "stdout",
     "output_type": "stream",
     "text": [
      "Epoch 310 Loss: 0.21448950469493866\n"
     ]
    },
    {
     "name": "stderr",
     "output_type": "stream",
     "text": [
      "\r",
      " 52%|█████▏    | 312/600 [10:57<10:00,  2.08s/it]"
     ]
    },
    {
     "name": "stdout",
     "output_type": "stream",
     "text": [
      "Epoch 311 Loss: 0.21380195021629333\n"
     ]
    },
    {
     "name": "stderr",
     "output_type": "stream",
     "text": [
      "\r",
      " 52%|█████▏    | 313/600 [11:00<10:01,  2.10s/it]"
     ]
    },
    {
     "name": "stdout",
     "output_type": "stream",
     "text": [
      "Epoch 312 Loss: 0.21298480033874512\n"
     ]
    },
    {
     "name": "stderr",
     "output_type": "stream",
     "text": [
      "\r",
      " 52%|█████▏    | 314/600 [11:02<10:10,  2.13s/it]"
     ]
    },
    {
     "name": "stdout",
     "output_type": "stream",
     "text": [
      "Epoch 313 Loss: 0.21230444312095642\n"
     ]
    },
    {
     "name": "stderr",
     "output_type": "stream",
     "text": [
      "\r",
      " 52%|█████▎    | 315/600 [11:04<10:12,  2.15s/it]"
     ]
    },
    {
     "name": "stdout",
     "output_type": "stream",
     "text": [
      "Epoch 314 Loss: 0.21133992075920105\n"
     ]
    },
    {
     "name": "stderr",
     "output_type": "stream",
     "text": [
      "\r",
      " 53%|█████▎    | 316/600 [11:06<10:02,  2.12s/it]"
     ]
    },
    {
     "name": "stdout",
     "output_type": "stream",
     "text": [
      "Epoch 315 Loss: 0.21065062284469604\n"
     ]
    },
    {
     "name": "stderr",
     "output_type": "stream",
     "text": [
      "\r",
      " 53%|█████▎    | 317/600 [11:08<09:53,  2.10s/it]"
     ]
    },
    {
     "name": "stdout",
     "output_type": "stream",
     "text": [
      "Epoch 316 Loss: 0.21032296121120453\n"
     ]
    },
    {
     "name": "stderr",
     "output_type": "stream",
     "text": [
      "\r",
      " 53%|█████▎    | 318/600 [11:10<09:52,  2.10s/it]"
     ]
    },
    {
     "name": "stdout",
     "output_type": "stream",
     "text": [
      "Epoch 317 Loss: 0.20959362387657166\n"
     ]
    },
    {
     "name": "stderr",
     "output_type": "stream",
     "text": [
      "\r",
      " 53%|█████▎    | 319/600 [11:12<09:49,  2.10s/it]"
     ]
    },
    {
     "name": "stdout",
     "output_type": "stream",
     "text": [
      "Epoch 318 Loss: 0.20832866430282593\n"
     ]
    },
    {
     "name": "stderr",
     "output_type": "stream",
     "text": [
      "\r",
      " 53%|█████▎    | 320/600 [11:14<09:38,  2.07s/it]"
     ]
    },
    {
     "name": "stdout",
     "output_type": "stream",
     "text": [
      "Epoch 319 Loss: 0.20736479759216309\n"
     ]
    },
    {
     "name": "stderr",
     "output_type": "stream",
     "text": [
      "\r",
      " 54%|█████▎    | 321/600 [11:16<09:35,  2.06s/it]"
     ]
    },
    {
     "name": "stdout",
     "output_type": "stream",
     "text": [
      "Epoch 320 Loss: 0.20654962956905365\n"
     ]
    },
    {
     "name": "stderr",
     "output_type": "stream",
     "text": [
      "\r",
      " 54%|█████▎    | 322/600 [11:18<09:30,  2.05s/it]"
     ]
    },
    {
     "name": "stdout",
     "output_type": "stream",
     "text": [
      "Epoch 321 Loss: 0.20629815757274628\n"
     ]
    },
    {
     "name": "stderr",
     "output_type": "stream",
     "text": [
      "\r",
      " 54%|█████▍    | 323/600 [11:20<09:24,  2.04s/it]"
     ]
    },
    {
     "name": "stdout",
     "output_type": "stream",
     "text": [
      "Epoch 322 Loss: 0.20560631155967712\n"
     ]
    },
    {
     "name": "stderr",
     "output_type": "stream",
     "text": [
      "\r",
      " 54%|█████▍    | 324/600 [11:23<09:33,  2.08s/it]"
     ]
    },
    {
     "name": "stdout",
     "output_type": "stream",
     "text": [
      "Epoch 323 Loss: 0.2046186923980713\n"
     ]
    },
    {
     "name": "stderr",
     "output_type": "stream",
     "text": [
      "\r",
      " 54%|█████▍    | 325/600 [11:25<09:24,  2.05s/it]"
     ]
    },
    {
     "name": "stdout",
     "output_type": "stream",
     "text": [
      "Epoch 324 Loss: 0.2039046287536621\n"
     ]
    },
    {
     "name": "stderr",
     "output_type": "stream",
     "text": [
      "\r",
      " 54%|█████▍    | 326/600 [11:27<09:31,  2.09s/it]"
     ]
    },
    {
     "name": "stdout",
     "output_type": "stream",
     "text": [
      "Epoch 325 Loss: 0.20350965857505798\n"
     ]
    },
    {
     "name": "stderr",
     "output_type": "stream",
     "text": [
      "\r",
      " 55%|█████▍    | 327/600 [11:29<09:23,  2.06s/it]"
     ]
    },
    {
     "name": "stdout",
     "output_type": "stream",
     "text": [
      "Epoch 326 Loss: 0.20359358191490173\n"
     ]
    },
    {
     "name": "stderr",
     "output_type": "stream",
     "text": [
      "\r",
      " 55%|█████▍    | 328/600 [11:31<09:17,  2.05s/it]"
     ]
    },
    {
     "name": "stdout",
     "output_type": "stream",
     "text": [
      "Epoch 327 Loss: 0.20308995246887207\n"
     ]
    },
    {
     "name": "stderr",
     "output_type": "stream",
     "text": [
      "\r",
      " 55%|█████▍    | 329/600 [11:33<09:14,  2.05s/it]"
     ]
    },
    {
     "name": "stdout",
     "output_type": "stream",
     "text": [
      "Epoch 328 Loss: 0.20257030427455902\n"
     ]
    },
    {
     "name": "stderr",
     "output_type": "stream",
     "text": [
      "\r",
      " 55%|█████▌    | 330/600 [11:35<09:11,  2.04s/it]"
     ]
    },
    {
     "name": "stdout",
     "output_type": "stream",
     "text": [
      "Epoch 329 Loss: 0.20214621722698212\n"
     ]
    },
    {
     "name": "stderr",
     "output_type": "stream",
     "text": [
      "\r",
      " 55%|█████▌    | 331/600 [11:37<09:09,  2.04s/it]"
     ]
    },
    {
     "name": "stdout",
     "output_type": "stream",
     "text": [
      "Epoch 330 Loss: 0.20179268717765808\n"
     ]
    },
    {
     "name": "stderr",
     "output_type": "stream",
     "text": [
      "\r",
      " 55%|█████▌    | 332/600 [11:39<09:03,  2.03s/it]"
     ]
    },
    {
     "name": "stdout",
     "output_type": "stream",
     "text": [
      "Epoch 331 Loss: 0.20132532715797424\n"
     ]
    },
    {
     "name": "stderr",
     "output_type": "stream",
     "text": [
      "\r",
      " 56%|█████▌    | 333/600 [11:41<09:00,  2.03s/it]"
     ]
    },
    {
     "name": "stdout",
     "output_type": "stream",
     "text": [
      "Epoch 332 Loss: 0.2010817974805832\n"
     ]
    },
    {
     "name": "stderr",
     "output_type": "stream",
     "text": [
      "\r",
      " 56%|█████▌    | 334/600 [11:43<09:07,  2.06s/it]"
     ]
    },
    {
     "name": "stdout",
     "output_type": "stream",
     "text": [
      "Epoch 333 Loss: 0.20036357641220093\n"
     ]
    },
    {
     "name": "stderr",
     "output_type": "stream",
     "text": [
      "\r",
      " 56%|█████▌    | 335/600 [11:45<09:02,  2.05s/it]"
     ]
    },
    {
     "name": "stdout",
     "output_type": "stream",
     "text": [
      "Epoch 334 Loss: 0.1999853104352951\n"
     ]
    },
    {
     "name": "stderr",
     "output_type": "stream",
     "text": [
      "\r",
      " 56%|█████▌    | 336/600 [11:47<09:04,  2.06s/it]"
     ]
    },
    {
     "name": "stdout",
     "output_type": "stream",
     "text": [
      "Epoch 335 Loss: 0.19872447848320007\n"
     ]
    },
    {
     "name": "stderr",
     "output_type": "stream",
     "text": [
      "\r",
      " 56%|█████▌    | 337/600 [11:49<08:59,  2.05s/it]"
     ]
    },
    {
     "name": "stdout",
     "output_type": "stream",
     "text": [
      "Epoch 336 Loss: 0.19731271266937256\n"
     ]
    },
    {
     "name": "stderr",
     "output_type": "stream",
     "text": [
      "\r",
      " 56%|█████▋    | 338/600 [11:51<08:55,  2.04s/it]"
     ]
    },
    {
     "name": "stdout",
     "output_type": "stream",
     "text": [
      "Epoch 337 Loss: 0.1968691200017929\n"
     ]
    },
    {
     "name": "stderr",
     "output_type": "stream",
     "text": [
      "\r",
      " 56%|█████▋    | 339/600 [11:53<08:51,  2.04s/it]"
     ]
    },
    {
     "name": "stdout",
     "output_type": "stream",
     "text": [
      "Epoch 338 Loss: 0.19635719060897827\n"
     ]
    },
    {
     "name": "stderr",
     "output_type": "stream",
     "text": [
      "\r",
      " 57%|█████▋    | 340/600 [11:55<08:47,  2.03s/it]"
     ]
    },
    {
     "name": "stdout",
     "output_type": "stream",
     "text": [
      "Epoch 339 Loss: 0.19524113833904266\n"
     ]
    },
    {
     "name": "stderr",
     "output_type": "stream",
     "text": [
      "\r",
      " 57%|█████▋    | 341/600 [11:57<08:55,  2.07s/it]"
     ]
    },
    {
     "name": "stdout",
     "output_type": "stream",
     "text": [
      "Epoch 340 Loss: 0.1948169767856598\n"
     ]
    },
    {
     "name": "stderr",
     "output_type": "stream",
     "text": [
      "\r",
      " 57%|█████▋    | 342/600 [11:59<08:57,  2.08s/it]"
     ]
    },
    {
     "name": "stdout",
     "output_type": "stream",
     "text": [
      "Epoch 341 Loss: 0.19425135850906372\n"
     ]
    },
    {
     "name": "stderr",
     "output_type": "stream",
     "text": [
      "\r",
      " 57%|█████▋    | 343/600 [12:02<08:52,  2.07s/it]"
     ]
    },
    {
     "name": "stdout",
     "output_type": "stream",
     "text": [
      "Epoch 342 Loss: 0.19301101565361023\n"
     ]
    },
    {
     "name": "stderr",
     "output_type": "stream",
     "text": [
      "\r",
      " 57%|█████▋    | 344/600 [12:04<09:01,  2.12s/it]"
     ]
    },
    {
     "name": "stdout",
     "output_type": "stream",
     "text": [
      "Epoch 343 Loss: 0.19262033700942993\n"
     ]
    },
    {
     "name": "stderr",
     "output_type": "stream",
     "text": [
      "\r",
      " 57%|█████▊    | 345/600 [12:06<09:32,  2.24s/it]"
     ]
    },
    {
     "name": "stdout",
     "output_type": "stream",
     "text": [
      "Epoch 344 Loss: 0.19121626019477844\n"
     ]
    },
    {
     "name": "stderr",
     "output_type": "stream",
     "text": [
      "\r",
      " 58%|█████▊    | 346/600 [12:09<09:37,  2.27s/it]"
     ]
    },
    {
     "name": "stdout",
     "output_type": "stream",
     "text": [
      "Epoch 345 Loss: 0.19043660163879395\n"
     ]
    },
    {
     "name": "stderr",
     "output_type": "stream",
     "text": [
      "\r",
      " 58%|█████▊    | 347/600 [12:11<09:15,  2.20s/it]"
     ]
    },
    {
     "name": "stdout",
     "output_type": "stream",
     "text": [
      "Epoch 346 Loss: 0.18976686894893646\n"
     ]
    },
    {
     "name": "stderr",
     "output_type": "stream",
     "text": [
      "\r",
      " 58%|█████▊    | 348/600 [12:13<09:06,  2.17s/it]"
     ]
    },
    {
     "name": "stdout",
     "output_type": "stream",
     "text": [
      "Epoch 347 Loss: 0.18941611051559448\n"
     ]
    },
    {
     "name": "stderr",
     "output_type": "stream",
     "text": [
      "\r",
      " 58%|█████▊    | 349/600 [12:15<09:02,  2.16s/it]"
     ]
    },
    {
     "name": "stdout",
     "output_type": "stream",
     "text": [
      "Epoch 348 Loss: 0.18853428959846497\n"
     ]
    },
    {
     "name": "stderr",
     "output_type": "stream",
     "text": [
      "\r",
      " 58%|█████▊    | 350/600 [12:17<08:50,  2.12s/it]"
     ]
    },
    {
     "name": "stdout",
     "output_type": "stream",
     "text": [
      "Epoch 349 Loss: 0.1879580020904541\n"
     ]
    },
    {
     "name": "stderr",
     "output_type": "stream",
     "text": [
      "\r",
      " 58%|█████▊    | 351/600 [12:19<08:39,  2.09s/it]"
     ]
    },
    {
     "name": "stdout",
     "output_type": "stream",
     "text": [
      "Epoch 350 Loss: 0.18755292892456055\n"
     ]
    },
    {
     "name": "stderr",
     "output_type": "stream",
     "text": [
      "\r",
      " 59%|█████▊    | 352/600 [12:21<08:33,  2.07s/it]"
     ]
    },
    {
     "name": "stdout",
     "output_type": "stream",
     "text": [
      "Epoch 351 Loss: 0.18645358085632324\n"
     ]
    },
    {
     "name": "stderr",
     "output_type": "stream",
     "text": [
      "\r",
      " 59%|█████▉    | 353/600 [12:23<08:28,  2.06s/it]"
     ]
    },
    {
     "name": "stdout",
     "output_type": "stream",
     "text": [
      "Epoch 352 Loss: 0.18597102165222168\n"
     ]
    },
    {
     "name": "stderr",
     "output_type": "stream",
     "text": [
      "\r",
      " 59%|█████▉    | 354/600 [12:25<08:32,  2.08s/it]"
     ]
    },
    {
     "name": "stdout",
     "output_type": "stream",
     "text": [
      "Epoch 353 Loss: 0.18512563407421112\n"
     ]
    },
    {
     "name": "stderr",
     "output_type": "stream",
     "text": [
      "\r",
      " 59%|█████▉    | 355/600 [12:27<08:27,  2.07s/it]"
     ]
    },
    {
     "name": "stdout",
     "output_type": "stream",
     "text": [
      "Epoch 354 Loss: 0.1843421310186386\n"
     ]
    },
    {
     "name": "stderr",
     "output_type": "stream",
     "text": [
      "\r",
      " 59%|█████▉    | 356/600 [12:29<08:20,  2.05s/it]"
     ]
    },
    {
     "name": "stdout",
     "output_type": "stream",
     "text": [
      "Epoch 355 Loss: 0.18421244621276855\n"
     ]
    },
    {
     "name": "stderr",
     "output_type": "stream",
     "text": [
      "\r",
      " 60%|█████▉    | 357/600 [12:31<08:26,  2.08s/it]"
     ]
    },
    {
     "name": "stdout",
     "output_type": "stream",
     "text": [
      "Epoch 356 Loss: 0.18353474140167236\n"
     ]
    },
    {
     "name": "stderr",
     "output_type": "stream",
     "text": [
      "\r",
      " 60%|█████▉    | 358/600 [12:34<08:29,  2.11s/it]"
     ]
    },
    {
     "name": "stdout",
     "output_type": "stream",
     "text": [
      "Epoch 357 Loss: 0.1826542317867279\n"
     ]
    },
    {
     "name": "stderr",
     "output_type": "stream",
     "text": [
      "\r",
      " 60%|█████▉    | 359/600 [12:36<08:23,  2.09s/it]"
     ]
    },
    {
     "name": "stdout",
     "output_type": "stream",
     "text": [
      "Epoch 358 Loss: 0.1825549304485321\n"
     ]
    },
    {
     "name": "stderr",
     "output_type": "stream",
     "text": [
      "\r",
      " 60%|██████    | 360/600 [12:38<08:20,  2.08s/it]"
     ]
    },
    {
     "name": "stdout",
     "output_type": "stream",
     "text": [
      "Epoch 359 Loss: 0.18222229182720184\n"
     ]
    },
    {
     "name": "stderr",
     "output_type": "stream",
     "text": [
      "\r",
      " 60%|██████    | 361/600 [12:40<08:11,  2.06s/it]"
     ]
    },
    {
     "name": "stdout",
     "output_type": "stream",
     "text": [
      "Epoch 360 Loss: 0.18126170337200165\n"
     ]
    },
    {
     "name": "stderr",
     "output_type": "stream",
     "text": [
      "\r",
      " 60%|██████    | 362/600 [12:42<08:08,  2.05s/it]"
     ]
    },
    {
     "name": "stdout",
     "output_type": "stream",
     "text": [
      "Epoch 361 Loss: 0.1805085837841034\n"
     ]
    },
    {
     "name": "stderr",
     "output_type": "stream",
     "text": [
      "\r",
      " 60%|██████    | 363/600 [12:44<08:03,  2.04s/it]"
     ]
    },
    {
     "name": "stdout",
     "output_type": "stream",
     "text": [
      "Epoch 362 Loss: 0.1810958832502365\n"
     ]
    },
    {
     "name": "stderr",
     "output_type": "stream",
     "text": [
      "\r",
      " 61%|██████    | 364/600 [12:46<08:03,  2.05s/it]"
     ]
    },
    {
     "name": "stdout",
     "output_type": "stream",
     "text": [
      "Epoch 363 Loss: 0.18083994090557098\n"
     ]
    },
    {
     "name": "stderr",
     "output_type": "stream",
     "text": [
      "\r",
      " 61%|██████    | 365/600 [12:48<08:04,  2.06s/it]"
     ]
    },
    {
     "name": "stdout",
     "output_type": "stream",
     "text": [
      "Epoch 364 Loss: 0.1799391806125641\n"
     ]
    },
    {
     "name": "stderr",
     "output_type": "stream",
     "text": [
      "\r",
      " 61%|██████    | 366/600 [12:50<07:58,  2.04s/it]"
     ]
    },
    {
     "name": "stdout",
     "output_type": "stream",
     "text": [
      "Epoch 365 Loss: 0.17931115627288818\n"
     ]
    },
    {
     "name": "stderr",
     "output_type": "stream",
     "text": [
      "\r",
      " 61%|██████    | 367/600 [12:52<07:59,  2.06s/it]"
     ]
    },
    {
     "name": "stdout",
     "output_type": "stream",
     "text": [
      "Epoch 366 Loss: 0.17866383492946625\n"
     ]
    },
    {
     "name": "stderr",
     "output_type": "stream",
     "text": [
      "\r",
      " 61%|██████▏   | 368/600 [12:54<08:07,  2.10s/it]"
     ]
    },
    {
     "name": "stdout",
     "output_type": "stream",
     "text": [
      "Epoch 367 Loss: 0.17780552804470062\n"
     ]
    },
    {
     "name": "stderr",
     "output_type": "stream",
     "text": [
      "\r",
      " 62%|██████▏   | 369/600 [12:56<08:20,  2.17s/it]"
     ]
    },
    {
     "name": "stdout",
     "output_type": "stream",
     "text": [
      "Epoch 368 Loss: 0.1781768500804901\n"
     ]
    },
    {
     "name": "stderr",
     "output_type": "stream",
     "text": [
      "\r",
      " 62%|██████▏   | 370/600 [12:59<08:15,  2.16s/it]"
     ]
    },
    {
     "name": "stdout",
     "output_type": "stream",
     "text": [
      "Epoch 369 Loss: 0.1768978089094162\n"
     ]
    },
    {
     "name": "stderr",
     "output_type": "stream",
     "text": [
      "\r",
      " 62%|██████▏   | 371/600 [13:01<08:24,  2.20s/it]"
     ]
    },
    {
     "name": "stdout",
     "output_type": "stream",
     "text": [
      "Epoch 370 Loss: 0.17568746209144592\n"
     ]
    },
    {
     "name": "stderr",
     "output_type": "stream",
     "text": [
      "\r",
      " 62%|██████▏   | 372/600 [13:03<08:38,  2.28s/it]"
     ]
    },
    {
     "name": "stdout",
     "output_type": "stream",
     "text": [
      "Epoch 371 Loss: 0.17570394277572632\n"
     ]
    },
    {
     "name": "stderr",
     "output_type": "stream",
     "text": [
      "\r",
      " 62%|██████▏   | 373/600 [13:06<08:39,  2.29s/it]"
     ]
    },
    {
     "name": "stdout",
     "output_type": "stream",
     "text": [
      "Epoch 372 Loss: 0.1749173402786255\n"
     ]
    },
    {
     "name": "stderr",
     "output_type": "stream",
     "text": [
      "\r",
      " 62%|██████▏   | 374/600 [13:08<08:28,  2.25s/it]"
     ]
    },
    {
     "name": "stdout",
     "output_type": "stream",
     "text": [
      "Epoch 373 Loss: 0.1740373820066452\n"
     ]
    },
    {
     "name": "stderr",
     "output_type": "stream",
     "text": [
      "\r",
      " 62%|██████▎   | 375/600 [13:10<08:10,  2.18s/it]"
     ]
    },
    {
     "name": "stdout",
     "output_type": "stream",
     "text": [
      "Epoch 374 Loss: 0.17319270968437195\n"
     ]
    },
    {
     "name": "stderr",
     "output_type": "stream",
     "text": [
      "\r",
      " 63%|██████▎   | 376/600 [13:12<07:59,  2.14s/it]"
     ]
    },
    {
     "name": "stdout",
     "output_type": "stream",
     "text": [
      "Epoch 375 Loss: 0.17242011427879333\n"
     ]
    },
    {
     "name": "stderr",
     "output_type": "stream",
     "text": [
      "\r",
      " 63%|██████▎   | 377/600 [13:14<07:48,  2.10s/it]"
     ]
    },
    {
     "name": "stdout",
     "output_type": "stream",
     "text": [
      "Epoch 376 Loss: 0.1713373064994812\n"
     ]
    },
    {
     "name": "stderr",
     "output_type": "stream",
     "text": [
      "\r",
      " 63%|██████▎   | 378/600 [13:16<07:41,  2.08s/it]"
     ]
    },
    {
     "name": "stdout",
     "output_type": "stream",
     "text": [
      "Epoch 377 Loss: 0.1715547740459442\n"
     ]
    },
    {
     "name": "stderr",
     "output_type": "stream",
     "text": [
      "\r",
      " 63%|██████▎   | 379/600 [13:18<07:43,  2.10s/it]"
     ]
    },
    {
     "name": "stdout",
     "output_type": "stream",
     "text": [
      "Epoch 378 Loss: 0.17044155299663544\n"
     ]
    },
    {
     "name": "stderr",
     "output_type": "stream",
     "text": [
      "\r",
      " 63%|██████▎   | 380/600 [13:20<07:38,  2.08s/it]"
     ]
    },
    {
     "name": "stdout",
     "output_type": "stream",
     "text": [
      "Epoch 379 Loss: 0.1709303855895996\n"
     ]
    },
    {
     "name": "stderr",
     "output_type": "stream",
     "text": [
      "\r",
      " 64%|██████▎   | 381/600 [13:22<07:32,  2.07s/it]"
     ]
    },
    {
     "name": "stdout",
     "output_type": "stream",
     "text": [
      "Epoch 380 Loss: 0.17053888738155365\n"
     ]
    },
    {
     "name": "stderr",
     "output_type": "stream",
     "text": [
      "\r",
      " 64%|██████▎   | 382/600 [13:24<07:26,  2.05s/it]"
     ]
    },
    {
     "name": "stdout",
     "output_type": "stream",
     "text": [
      "Epoch 381 Loss: 0.1696290671825409\n"
     ]
    },
    {
     "name": "stderr",
     "output_type": "stream",
     "text": [
      "\r",
      " 64%|██████▍   | 383/600 [13:26<07:23,  2.04s/it]"
     ]
    },
    {
     "name": "stdout",
     "output_type": "stream",
     "text": [
      "Epoch 382 Loss: 0.16954831779003143\n"
     ]
    },
    {
     "name": "stderr",
     "output_type": "stream",
     "text": [
      "\r",
      " 64%|██████▍   | 384/600 [13:28<07:22,  2.05s/it]"
     ]
    },
    {
     "name": "stdout",
     "output_type": "stream",
     "text": [
      "Epoch 383 Loss: 0.16868290305137634\n"
     ]
    },
    {
     "name": "stderr",
     "output_type": "stream",
     "text": [
      "\r",
      " 64%|██████▍   | 385/600 [13:30<07:18,  2.04s/it]"
     ]
    },
    {
     "name": "stdout",
     "output_type": "stream",
     "text": [
      "Epoch 384 Loss: 0.16875764727592468\n"
     ]
    },
    {
     "name": "stderr",
     "output_type": "stream",
     "text": [
      "\r",
      " 64%|██████▍   | 386/600 [13:32<07:17,  2.05s/it]"
     ]
    },
    {
     "name": "stdout",
     "output_type": "stream",
     "text": [
      "Epoch 385 Loss: 0.16838034987449646\n"
     ]
    },
    {
     "name": "stderr",
     "output_type": "stream",
     "text": [
      "\r",
      " 64%|██████▍   | 387/600 [13:34<07:23,  2.08s/it]"
     ]
    },
    {
     "name": "stdout",
     "output_type": "stream",
     "text": [
      "Epoch 386 Loss: 0.16827134788036346\n"
     ]
    },
    {
     "name": "stderr",
     "output_type": "stream",
     "text": [
      "\r",
      " 65%|██████▍   | 388/600 [13:37<07:20,  2.08s/it]"
     ]
    },
    {
     "name": "stdout",
     "output_type": "stream",
     "text": [
      "Epoch 387 Loss: 0.16738983988761902\n"
     ]
    },
    {
     "name": "stderr",
     "output_type": "stream",
     "text": [
      "\r",
      " 65%|██████▍   | 389/600 [13:39<07:13,  2.06s/it]"
     ]
    },
    {
     "name": "stdout",
     "output_type": "stream",
     "text": [
      "Epoch 388 Loss: 0.1663082242012024\n"
     ]
    },
    {
     "name": "stderr",
     "output_type": "stream",
     "text": [
      "\r",
      " 65%|██████▌   | 390/600 [13:41<07:08,  2.04s/it]"
     ]
    },
    {
     "name": "stdout",
     "output_type": "stream",
     "text": [
      "Epoch 389 Loss: 0.1656128615140915\n"
     ]
    },
    {
     "name": "stderr",
     "output_type": "stream",
     "text": [
      "\r",
      " 65%|██████▌   | 391/600 [13:43<07:06,  2.04s/it]"
     ]
    },
    {
     "name": "stdout",
     "output_type": "stream",
     "text": [
      "Epoch 390 Loss: 0.16463641822338104\n"
     ]
    },
    {
     "name": "stderr",
     "output_type": "stream",
     "text": [
      "\r",
      " 65%|██████▌   | 392/600 [13:45<07:00,  2.02s/it]"
     ]
    },
    {
     "name": "stdout",
     "output_type": "stream",
     "text": [
      "Epoch 391 Loss: 0.16469508409500122\n"
     ]
    },
    {
     "name": "stderr",
     "output_type": "stream",
     "text": [
      "\r",
      " 66%|██████▌   | 393/600 [13:47<06:59,  2.03s/it]"
     ]
    },
    {
     "name": "stdout",
     "output_type": "stream",
     "text": [
      "Epoch 392 Loss: 0.16325366497039795\n"
     ]
    },
    {
     "name": "stderr",
     "output_type": "stream",
     "text": [
      "\r",
      " 66%|██████▌   | 394/600 [13:49<06:56,  2.02s/it]"
     ]
    },
    {
     "name": "stdout",
     "output_type": "stream",
     "text": [
      "Epoch 393 Loss: 0.16271135210990906\n"
     ]
    },
    {
     "name": "stderr",
     "output_type": "stream",
     "text": [
      "\r",
      " 66%|██████▌   | 395/600 [13:51<07:06,  2.08s/it]"
     ]
    },
    {
     "name": "stdout",
     "output_type": "stream",
     "text": [
      "Epoch 394 Loss: 0.16169032454490662\n"
     ]
    },
    {
     "name": "stderr",
     "output_type": "stream",
     "text": [
      "\r",
      " 66%|██████▌   | 396/600 [13:53<07:01,  2.07s/it]"
     ]
    },
    {
     "name": "stdout",
     "output_type": "stream",
     "text": [
      "Epoch 395 Loss: 0.16149365901947021\n"
     ]
    },
    {
     "name": "stderr",
     "output_type": "stream",
     "text": [
      "\r",
      " 66%|██████▌   | 397/600 [13:55<07:06,  2.10s/it]"
     ]
    },
    {
     "name": "stdout",
     "output_type": "stream",
     "text": [
      "Epoch 396 Loss: 0.1600840836763382\n"
     ]
    },
    {
     "name": "stderr",
     "output_type": "stream",
     "text": [
      "\r",
      " 66%|██████▋   | 398/600 [13:57<07:09,  2.13s/it]"
     ]
    },
    {
     "name": "stdout",
     "output_type": "stream",
     "text": [
      "Epoch 397 Loss: 0.15965762734413147\n"
     ]
    },
    {
     "name": "stderr",
     "output_type": "stream",
     "text": [
      "\r",
      " 66%|██████▋   | 399/600 [13:59<07:11,  2.15s/it]"
     ]
    },
    {
     "name": "stdout",
     "output_type": "stream",
     "text": [
      "Epoch 398 Loss: 0.15805523097515106\n"
     ]
    },
    {
     "name": "stderr",
     "output_type": "stream",
     "text": [
      "\r",
      " 67%|██████▋   | 400/600 [14:02<07:07,  2.14s/it]"
     ]
    },
    {
     "name": "stdout",
     "output_type": "stream",
     "text": [
      "Epoch 399 Loss: 0.15745249390602112\n"
     ]
    },
    {
     "name": "stderr",
     "output_type": "stream",
     "text": [
      "\r",
      " 67%|██████▋   | 401/600 [14:04<06:57,  2.10s/it]"
     ]
    },
    {
     "name": "stdout",
     "output_type": "stream",
     "text": [
      "Epoch 400 Loss: 0.1567605435848236\n"
     ]
    },
    {
     "name": "stderr",
     "output_type": "stream",
     "text": [
      "\r",
      " 67%|██████▋   | 402/600 [14:06<06:54,  2.09s/it]"
     ]
    },
    {
     "name": "stdout",
     "output_type": "stream",
     "text": [
      "Epoch 401 Loss: 0.1561107635498047\n"
     ]
    },
    {
     "name": "stderr",
     "output_type": "stream",
     "text": [
      "\r",
      " 67%|██████▋   | 403/600 [14:08<06:54,  2.10s/it]"
     ]
    },
    {
     "name": "stdout",
     "output_type": "stream",
     "text": [
      "Epoch 402 Loss: 0.1555652916431427\n"
     ]
    },
    {
     "name": "stderr",
     "output_type": "stream",
     "text": [
      "\r",
      " 67%|██████▋   | 404/600 [14:10<06:45,  2.07s/it]"
     ]
    },
    {
     "name": "stdout",
     "output_type": "stream",
     "text": [
      "Epoch 403 Loss: 0.1549747735261917\n"
     ]
    },
    {
     "name": "stderr",
     "output_type": "stream",
     "text": [
      "\r",
      " 68%|██████▊   | 405/600 [14:12<06:41,  2.06s/it]"
     ]
    },
    {
     "name": "stdout",
     "output_type": "stream",
     "text": [
      "Epoch 404 Loss: 0.1544790118932724\n"
     ]
    },
    {
     "name": "stderr",
     "output_type": "stream",
     "text": [
      "\r",
      " 68%|██████▊   | 406/600 [14:14<06:35,  2.04s/it]"
     ]
    },
    {
     "name": "stdout",
     "output_type": "stream",
     "text": [
      "Epoch 405 Loss: 0.15349358320236206\n"
     ]
    },
    {
     "name": "stderr",
     "output_type": "stream",
     "text": [
      "\r",
      " 68%|██████▊   | 407/600 [14:16<06:32,  2.03s/it]"
     ]
    },
    {
     "name": "stdout",
     "output_type": "stream",
     "text": [
      "Epoch 406 Loss: 0.15322500467300415\n"
     ]
    },
    {
     "name": "stderr",
     "output_type": "stream",
     "text": [
      "\r",
      " 68%|██████▊   | 408/600 [14:18<06:30,  2.03s/it]"
     ]
    },
    {
     "name": "stdout",
     "output_type": "stream",
     "text": [
      "Epoch 407 Loss: 0.15291747450828552\n"
     ]
    },
    {
     "name": "stderr",
     "output_type": "stream",
     "text": [
      "\r",
      " 68%|██████▊   | 409/600 [14:20<06:27,  2.03s/it]"
     ]
    },
    {
     "name": "stdout",
     "output_type": "stream",
     "text": [
      "Epoch 408 Loss: 0.15120548009872437\n"
     ]
    },
    {
     "name": "stderr",
     "output_type": "stream",
     "text": [
      "\r",
      " 68%|██████▊   | 410/600 [14:22<06:50,  2.16s/it]"
     ]
    },
    {
     "name": "stdout",
     "output_type": "stream",
     "text": [
      "Epoch 409 Loss: 0.15098583698272705\n"
     ]
    },
    {
     "name": "stderr",
     "output_type": "stream",
     "text": [
      "\r",
      " 68%|██████▊   | 411/600 [14:24<06:41,  2.12s/it]"
     ]
    },
    {
     "name": "stdout",
     "output_type": "stream",
     "text": [
      "Epoch 410 Loss: 0.15041115880012512\n"
     ]
    },
    {
     "name": "stderr",
     "output_type": "stream",
     "text": [
      "\r",
      " 69%|██████▊   | 412/600 [14:26<06:33,  2.10s/it]"
     ]
    },
    {
     "name": "stdout",
     "output_type": "stream",
     "text": [
      "Epoch 411 Loss: 0.14966754615306854\n"
     ]
    },
    {
     "name": "stderr",
     "output_type": "stream",
     "text": [
      "\r",
      " 69%|██████▉   | 413/600 [14:28<06:28,  2.08s/it]"
     ]
    },
    {
     "name": "stdout",
     "output_type": "stream",
     "text": [
      "Epoch 412 Loss: 0.14869767427444458\n"
     ]
    },
    {
     "name": "stderr",
     "output_type": "stream",
     "text": [
      "\r",
      " 69%|██████▉   | 414/600 [14:31<06:38,  2.14s/it]"
     ]
    },
    {
     "name": "stdout",
     "output_type": "stream",
     "text": [
      "Epoch 413 Loss: 0.14896844327449799\n"
     ]
    },
    {
     "name": "stderr",
     "output_type": "stream",
     "text": [
      "\r",
      " 69%|██████▉   | 415/600 [14:33<06:46,  2.20s/it]"
     ]
    },
    {
     "name": "stdout",
     "output_type": "stream",
     "text": [
      "Epoch 414 Loss: 0.14836227893829346\n"
     ]
    },
    {
     "name": "stderr",
     "output_type": "stream",
     "text": [
      "\r",
      " 69%|██████▉   | 416/600 [14:35<06:46,  2.21s/it]"
     ]
    },
    {
     "name": "stdout",
     "output_type": "stream",
     "text": [
      "Epoch 415 Loss: 0.1484183818101883\n"
     ]
    },
    {
     "name": "stderr",
     "output_type": "stream",
     "text": [
      "\r",
      " 70%|██████▉   | 417/600 [14:37<06:41,  2.19s/it]"
     ]
    },
    {
     "name": "stdout",
     "output_type": "stream",
     "text": [
      "Epoch 416 Loss: 0.1481311321258545\n"
     ]
    },
    {
     "name": "stderr",
     "output_type": "stream",
     "text": [
      "\r",
      " 70%|██████▉   | 418/600 [14:40<06:39,  2.19s/it]"
     ]
    },
    {
     "name": "stdout",
     "output_type": "stream",
     "text": [
      "Epoch 417 Loss: 0.1473720520734787\n"
     ]
    },
    {
     "name": "stderr",
     "output_type": "stream",
     "text": [
      "\r",
      " 70%|██████▉   | 419/600 [14:42<06:32,  2.17s/it]"
     ]
    },
    {
     "name": "stdout",
     "output_type": "stream",
     "text": [
      "Epoch 418 Loss: 0.1467711478471756\n"
     ]
    },
    {
     "name": "stderr",
     "output_type": "stream",
     "text": [
      "\r",
      " 70%|███████   | 420/600 [14:44<06:26,  2.15s/it]"
     ]
    },
    {
     "name": "stdout",
     "output_type": "stream",
     "text": [
      "Epoch 419 Loss: 0.14668041467666626\n"
     ]
    },
    {
     "name": "stderr",
     "output_type": "stream",
     "text": [
      "\r",
      " 70%|███████   | 421/600 [14:46<06:24,  2.15s/it]"
     ]
    },
    {
     "name": "stdout",
     "output_type": "stream",
     "text": [
      "Epoch 420 Loss: 0.1457670032978058\n"
     ]
    },
    {
     "name": "stderr",
     "output_type": "stream",
     "text": [
      "\r",
      " 70%|███████   | 422/600 [14:48<06:18,  2.12s/it]"
     ]
    },
    {
     "name": "stdout",
     "output_type": "stream",
     "text": [
      "Epoch 421 Loss: 0.14493688941001892\n"
     ]
    },
    {
     "name": "stderr",
     "output_type": "stream",
     "text": [
      "\r",
      " 70%|███████   | 423/600 [14:50<06:09,  2.09s/it]"
     ]
    },
    {
     "name": "stdout",
     "output_type": "stream",
     "text": [
      "Epoch 422 Loss: 0.14448097348213196\n"
     ]
    },
    {
     "name": "stderr",
     "output_type": "stream",
     "text": [
      "\r",
      " 71%|███████   | 424/600 [14:52<06:05,  2.08s/it]"
     ]
    },
    {
     "name": "stdout",
     "output_type": "stream",
     "text": [
      "Epoch 423 Loss: 0.14411620795726776\n"
     ]
    },
    {
     "name": "stderr",
     "output_type": "stream",
     "text": [
      "\r",
      " 71%|███████   | 425/600 [14:54<06:07,  2.10s/it]"
     ]
    },
    {
     "name": "stdout",
     "output_type": "stream",
     "text": [
      "Epoch 424 Loss: 0.1433779001235962\n"
     ]
    },
    {
     "name": "stderr",
     "output_type": "stream",
     "text": [
      "\r",
      " 71%|███████   | 426/600 [14:56<06:03,  2.09s/it]"
     ]
    },
    {
     "name": "stdout",
     "output_type": "stream",
     "text": [
      "Epoch 425 Loss: 0.14344030618667603\n"
     ]
    },
    {
     "name": "stderr",
     "output_type": "stream",
     "text": [
      "\r",
      " 71%|███████   | 427/600 [14:58<05:58,  2.07s/it]"
     ]
    },
    {
     "name": "stdout",
     "output_type": "stream",
     "text": [
      "Epoch 426 Loss: 0.14215350151062012\n"
     ]
    },
    {
     "name": "stderr",
     "output_type": "stream",
     "text": [
      "\r",
      " 71%|███████▏  | 428/600 [15:01<06:03,  2.11s/it]"
     ]
    },
    {
     "name": "stdout",
     "output_type": "stream",
     "text": [
      "Epoch 427 Loss: 0.14151887595653534\n"
     ]
    },
    {
     "name": "stderr",
     "output_type": "stream",
     "text": [
      "\r",
      " 72%|███████▏  | 429/600 [15:03<06:05,  2.14s/it]"
     ]
    },
    {
     "name": "stdout",
     "output_type": "stream",
     "text": [
      "Epoch 428 Loss: 0.14140641689300537\n"
     ]
    },
    {
     "name": "stderr",
     "output_type": "stream",
     "text": [
      "\r",
      " 72%|███████▏  | 430/600 [15:05<06:02,  2.14s/it]"
     ]
    },
    {
     "name": "stdout",
     "output_type": "stream",
     "text": [
      "Epoch 429 Loss: 0.1409076303243637\n"
     ]
    },
    {
     "name": "stderr",
     "output_type": "stream",
     "text": [
      "\r",
      " 72%|███████▏  | 431/600 [15:07<06:05,  2.16s/it]"
     ]
    },
    {
     "name": "stdout",
     "output_type": "stream",
     "text": [
      "Epoch 430 Loss: 0.14038598537445068\n"
     ]
    },
    {
     "name": "stderr",
     "output_type": "stream",
     "text": [
      "\r",
      " 72%|███████▏  | 432/600 [15:09<05:56,  2.12s/it]"
     ]
    },
    {
     "name": "stdout",
     "output_type": "stream",
     "text": [
      "Epoch 431 Loss: 0.13994541764259338\n"
     ]
    },
    {
     "name": "stderr",
     "output_type": "stream",
     "text": [
      "\r",
      " 72%|███████▏  | 433/600 [15:11<06:00,  2.16s/it]"
     ]
    },
    {
     "name": "stdout",
     "output_type": "stream",
     "text": [
      "Epoch 432 Loss: 0.13981249928474426\n"
     ]
    },
    {
     "name": "stderr",
     "output_type": "stream",
     "text": [
      "\r",
      " 72%|███████▏  | 434/600 [15:13<05:54,  2.13s/it]"
     ]
    },
    {
     "name": "stdout",
     "output_type": "stream",
     "text": [
      "Epoch 433 Loss: 0.13876843452453613\n"
     ]
    },
    {
     "name": "stderr",
     "output_type": "stream",
     "text": [
      "\r",
      " 72%|███████▎  | 435/600 [15:15<05:47,  2.10s/it]"
     ]
    },
    {
     "name": "stdout",
     "output_type": "stream",
     "text": [
      "Epoch 434 Loss: 0.1383446455001831\n"
     ]
    },
    {
     "name": "stderr",
     "output_type": "stream",
     "text": [
      "\r",
      " 73%|███████▎  | 436/600 [15:18<05:43,  2.10s/it]"
     ]
    },
    {
     "name": "stdout",
     "output_type": "stream",
     "text": [
      "Epoch 435 Loss: 0.13781580328941345\n"
     ]
    },
    {
     "name": "stderr",
     "output_type": "stream",
     "text": [
      "\r",
      " 73%|███████▎  | 437/600 [15:20<05:37,  2.07s/it]"
     ]
    },
    {
     "name": "stdout",
     "output_type": "stream",
     "text": [
      "Epoch 436 Loss: 0.1376190185546875\n"
     ]
    },
    {
     "name": "stderr",
     "output_type": "stream",
     "text": [
      "\r",
      " 73%|███████▎  | 438/600 [15:22<05:35,  2.07s/it]"
     ]
    },
    {
     "name": "stdout",
     "output_type": "stream",
     "text": [
      "Epoch 437 Loss: 0.1370932161808014\n"
     ]
    },
    {
     "name": "stderr",
     "output_type": "stream",
     "text": [
      "\r",
      " 73%|███████▎  | 439/600 [15:24<05:30,  2.05s/it]"
     ]
    },
    {
     "name": "stdout",
     "output_type": "stream",
     "text": [
      "Epoch 438 Loss: 0.13694189488887787\n"
     ]
    },
    {
     "name": "stderr",
     "output_type": "stream",
     "text": [
      "\r",
      " 73%|███████▎  | 440/600 [15:26<05:30,  2.07s/it]"
     ]
    },
    {
     "name": "stdout",
     "output_type": "stream",
     "text": [
      "Epoch 439 Loss: 0.1359378695487976\n"
     ]
    },
    {
     "name": "stderr",
     "output_type": "stream",
     "text": [
      "\r",
      " 74%|███████▎  | 441/600 [15:28<05:31,  2.09s/it]"
     ]
    },
    {
     "name": "stdout",
     "output_type": "stream",
     "text": [
      "Epoch 440 Loss: 0.13546869158744812\n"
     ]
    },
    {
     "name": "stderr",
     "output_type": "stream",
     "text": [
      "\r",
      " 74%|███████▎  | 442/600 [15:30<05:25,  2.06s/it]"
     ]
    },
    {
     "name": "stdout",
     "output_type": "stream",
     "text": [
      "Epoch 441 Loss: 0.13522852957248688\n"
     ]
    },
    {
     "name": "stderr",
     "output_type": "stream",
     "text": [
      "\r",
      " 74%|███████▍  | 443/600 [15:32<05:23,  2.06s/it]"
     ]
    },
    {
     "name": "stdout",
     "output_type": "stream",
     "text": [
      "Epoch 442 Loss: 0.1344541758298874\n"
     ]
    },
    {
     "name": "stderr",
     "output_type": "stream",
     "text": [
      "\r",
      " 74%|███████▍  | 444/600 [15:34<05:19,  2.05s/it]"
     ]
    },
    {
     "name": "stdout",
     "output_type": "stream",
     "text": [
      "Epoch 443 Loss: 0.13398374617099762\n"
     ]
    },
    {
     "name": "stderr",
     "output_type": "stream",
     "text": [
      "\r",
      " 74%|███████▍  | 445/600 [15:36<05:18,  2.06s/it]"
     ]
    },
    {
     "name": "stdout",
     "output_type": "stream",
     "text": [
      "Epoch 444 Loss: 0.13297443091869354\n"
     ]
    },
    {
     "name": "stderr",
     "output_type": "stream",
     "text": [
      "\r",
      " 74%|███████▍  | 446/600 [15:38<05:16,  2.06s/it]"
     ]
    },
    {
     "name": "stdout",
     "output_type": "stream",
     "text": [
      "Epoch 445 Loss: 0.13232962787151337\n"
     ]
    },
    {
     "name": "stderr",
     "output_type": "stream",
     "text": [
      "\r",
      " 74%|███████▍  | 447/600 [15:40<05:12,  2.04s/it]"
     ]
    },
    {
     "name": "stdout",
     "output_type": "stream",
     "text": [
      "Epoch 446 Loss: 0.13150353729724884\n"
     ]
    },
    {
     "name": "stderr",
     "output_type": "stream",
     "text": [
      "\r",
      " 75%|███████▍  | 448/600 [15:42<05:18,  2.10s/it]"
     ]
    },
    {
     "name": "stdout",
     "output_type": "stream",
     "text": [
      "Epoch 447 Loss: 0.13111737370491028\n"
     ]
    },
    {
     "name": "stderr",
     "output_type": "stream",
     "text": [
      "\r",
      " 75%|███████▍  | 449/600 [15:44<05:12,  2.07s/it]"
     ]
    },
    {
     "name": "stdout",
     "output_type": "stream",
     "text": [
      "Epoch 448 Loss: 0.1303127110004425\n"
     ]
    },
    {
     "name": "stderr",
     "output_type": "stream",
     "text": [
      "\r",
      " 75%|███████▌  | 450/600 [15:46<05:10,  2.07s/it]"
     ]
    },
    {
     "name": "stdout",
     "output_type": "stream",
     "text": [
      "Epoch 449 Loss: 0.12992751598358154\n"
     ]
    },
    {
     "name": "stderr",
     "output_type": "stream",
     "text": [
      "\r",
      " 75%|███████▌  | 451/600 [15:48<05:05,  2.05s/it]"
     ]
    },
    {
     "name": "stdout",
     "output_type": "stream",
     "text": [
      "Epoch 450 Loss: 0.12911519408226013\n"
     ]
    },
    {
     "name": "stderr",
     "output_type": "stream",
     "text": [
      "\r",
      " 75%|███████▌  | 452/600 [15:50<05:01,  2.04s/it]"
     ]
    },
    {
     "name": "stdout",
     "output_type": "stream",
     "text": [
      "Epoch 451 Loss: 0.1277199536561966\n"
     ]
    },
    {
     "name": "stderr",
     "output_type": "stream",
     "text": [
      "\r",
      " 76%|███████▌  | 453/600 [15:52<04:58,  2.03s/it]"
     ]
    },
    {
     "name": "stdout",
     "output_type": "stream",
     "text": [
      "Epoch 452 Loss: 0.1277850866317749\n"
     ]
    },
    {
     "name": "stderr",
     "output_type": "stream",
     "text": [
      "\r",
      " 76%|███████▌  | 454/600 [15:54<04:54,  2.02s/it]"
     ]
    },
    {
     "name": "stdout",
     "output_type": "stream",
     "text": [
      "Epoch 453 Loss: 0.12660616636276245\n"
     ]
    },
    {
     "name": "stderr",
     "output_type": "stream",
     "text": [
      "\r",
      " 76%|███████▌  | 455/600 [15:56<04:53,  2.02s/it]"
     ]
    },
    {
     "name": "stdout",
     "output_type": "stream",
     "text": [
      "Epoch 454 Loss: 0.12640337646007538\n"
     ]
    },
    {
     "name": "stderr",
     "output_type": "stream",
     "text": [
      "\r",
      " 76%|███████▌  | 456/600 [15:59<04:56,  2.06s/it]"
     ]
    },
    {
     "name": "stdout",
     "output_type": "stream",
     "text": [
      "Epoch 455 Loss: 0.1255994588136673\n"
     ]
    },
    {
     "name": "stderr",
     "output_type": "stream",
     "text": [
      "\r",
      " 76%|███████▌  | 457/600 [16:01<04:53,  2.05s/it]"
     ]
    },
    {
     "name": "stdout",
     "output_type": "stream",
     "text": [
      "Epoch 456 Loss: 0.1250734031200409\n"
     ]
    },
    {
     "name": "stderr",
     "output_type": "stream",
     "text": [
      "\r",
      " 76%|███████▋  | 458/600 [16:03<04:54,  2.08s/it]"
     ]
    },
    {
     "name": "stdout",
     "output_type": "stream",
     "text": [
      "Epoch 457 Loss: 0.12473717331886292\n"
     ]
    },
    {
     "name": "stderr",
     "output_type": "stream",
     "text": [
      "\r",
      " 76%|███████▋  | 459/600 [16:05<04:57,  2.11s/it]"
     ]
    },
    {
     "name": "stdout",
     "output_type": "stream",
     "text": [
      "Epoch 458 Loss: 0.12356840074062347\n"
     ]
    },
    {
     "name": "stderr",
     "output_type": "stream",
     "text": [
      "\r",
      " 77%|███████▋  | 460/600 [16:07<05:00,  2.15s/it]"
     ]
    },
    {
     "name": "stdout",
     "output_type": "stream",
     "text": [
      "Epoch 459 Loss: 0.12341185659170151\n"
     ]
    },
    {
     "name": "stderr",
     "output_type": "stream",
     "text": [
      "\r",
      " 77%|███████▋  | 461/600 [16:09<04:54,  2.12s/it]"
     ]
    },
    {
     "name": "stdout",
     "output_type": "stream",
     "text": [
      "Epoch 460 Loss: 0.12236392498016357\n"
     ]
    },
    {
     "name": "stderr",
     "output_type": "stream",
     "text": [
      "\r",
      " 77%|███████▋  | 462/600 [16:11<04:48,  2.09s/it]"
     ]
    },
    {
     "name": "stdout",
     "output_type": "stream",
     "text": [
      "Epoch 461 Loss: 0.12203840911388397\n"
     ]
    },
    {
     "name": "stderr",
     "output_type": "stream",
     "text": [
      "\r",
      " 77%|███████▋  | 463/600 [16:14<04:53,  2.14s/it]"
     ]
    },
    {
     "name": "stdout",
     "output_type": "stream",
     "text": [
      "Epoch 462 Loss: 0.12174472212791443\n"
     ]
    },
    {
     "name": "stderr",
     "output_type": "stream",
     "text": [
      "\r",
      " 77%|███████▋  | 464/600 [16:16<05:11,  2.29s/it]"
     ]
    },
    {
     "name": "stdout",
     "output_type": "stream",
     "text": [
      "Epoch 463 Loss: 0.12044654786586761\n"
     ]
    },
    {
     "name": "stderr",
     "output_type": "stream",
     "text": [
      "\r",
      " 78%|███████▊  | 465/600 [16:18<05:06,  2.27s/it]"
     ]
    },
    {
     "name": "stdout",
     "output_type": "stream",
     "text": [
      "Epoch 464 Loss: 0.11981604993343353\n"
     ]
    },
    {
     "name": "stderr",
     "output_type": "stream",
     "text": [
      "\r",
      " 78%|███████▊  | 466/600 [16:21<04:58,  2.23s/it]"
     ]
    },
    {
     "name": "stdout",
     "output_type": "stream",
     "text": [
      "Epoch 465 Loss: 0.11957108974456787\n"
     ]
    },
    {
     "name": "stderr",
     "output_type": "stream",
     "text": [
      "\r",
      " 78%|███████▊  | 467/600 [16:23<04:52,  2.20s/it]"
     ]
    },
    {
     "name": "stdout",
     "output_type": "stream",
     "text": [
      "Epoch 466 Loss: 0.11935268342494965\n"
     ]
    },
    {
     "name": "stderr",
     "output_type": "stream",
     "text": [
      "\r",
      " 78%|███████▊  | 468/600 [16:25<04:43,  2.15s/it]"
     ]
    },
    {
     "name": "stdout",
     "output_type": "stream",
     "text": [
      "Epoch 467 Loss: 0.11909016221761703\n"
     ]
    },
    {
     "name": "stderr",
     "output_type": "stream",
     "text": [
      "\r",
      " 78%|███████▊  | 469/600 [16:27<04:42,  2.16s/it]"
     ]
    },
    {
     "name": "stdout",
     "output_type": "stream",
     "text": [
      "Epoch 468 Loss: 0.11821594089269638\n"
     ]
    },
    {
     "name": "stderr",
     "output_type": "stream",
     "text": [
      "\r",
      " 78%|███████▊  | 470/600 [16:29<04:35,  2.12s/it]"
     ]
    },
    {
     "name": "stdout",
     "output_type": "stream",
     "text": [
      "Epoch 469 Loss: 0.11712253093719482\n"
     ]
    },
    {
     "name": "stderr",
     "output_type": "stream",
     "text": [
      "\r",
      " 78%|███████▊  | 471/600 [16:31<04:35,  2.14s/it]"
     ]
    },
    {
     "name": "stdout",
     "output_type": "stream",
     "text": [
      "Epoch 470 Loss: 0.11668211221694946\n"
     ]
    },
    {
     "name": "stderr",
     "output_type": "stream",
     "text": [
      "\r",
      " 79%|███████▊  | 472/600 [16:33<04:29,  2.11s/it]"
     ]
    },
    {
     "name": "stdout",
     "output_type": "stream",
     "text": [
      "Epoch 471 Loss: 0.11604399979114532\n"
     ]
    },
    {
     "name": "stderr",
     "output_type": "stream",
     "text": [
      "\r",
      " 79%|███████▉  | 473/600 [16:35<04:23,  2.07s/it]"
     ]
    },
    {
     "name": "stdout",
     "output_type": "stream",
     "text": [
      "Epoch 472 Loss: 0.11498519033193588\n"
     ]
    },
    {
     "name": "stderr",
     "output_type": "stream",
     "text": [
      "\r",
      " 79%|███████▉  | 474/600 [16:37<04:21,  2.08s/it]"
     ]
    },
    {
     "name": "stdout",
     "output_type": "stream",
     "text": [
      "Epoch 473 Loss: 0.11476968973875046\n"
     ]
    },
    {
     "name": "stderr",
     "output_type": "stream",
     "text": [
      "\r",
      " 79%|███████▉  | 475/600 [16:39<04:16,  2.05s/it]"
     ]
    },
    {
     "name": "stdout",
     "output_type": "stream",
     "text": [
      "Epoch 474 Loss: 0.1138891875743866\n"
     ]
    },
    {
     "name": "stderr",
     "output_type": "stream",
     "text": [
      "\r",
      " 79%|███████▉  | 476/600 [16:41<04:13,  2.05s/it]"
     ]
    },
    {
     "name": "stdout",
     "output_type": "stream",
     "text": [
      "Epoch 475 Loss: 0.11386808007955551\n"
     ]
    },
    {
     "name": "stderr",
     "output_type": "stream",
     "text": [
      "\r",
      " 80%|███████▉  | 477/600 [16:43<04:10,  2.04s/it]"
     ]
    },
    {
     "name": "stdout",
     "output_type": "stream",
     "text": [
      "Epoch 476 Loss: 0.11331190913915634\n"
     ]
    },
    {
     "name": "stderr",
     "output_type": "stream",
     "text": [
      "\r",
      " 80%|███████▉  | 478/600 [16:45<04:07,  2.03s/it]"
     ]
    },
    {
     "name": "stdout",
     "output_type": "stream",
     "text": [
      "Epoch 477 Loss: 0.11319570988416672\n"
     ]
    },
    {
     "name": "stderr",
     "output_type": "stream",
     "text": [
      "\r",
      " 80%|███████▉  | 479/600 [16:47<04:10,  2.07s/it]"
     ]
    },
    {
     "name": "stdout",
     "output_type": "stream",
     "text": [
      "Epoch 478 Loss: 0.11229342222213745\n"
     ]
    },
    {
     "name": "stderr",
     "output_type": "stream",
     "text": [
      "\r",
      " 80%|████████  | 480/600 [16:49<04:05,  2.05s/it]"
     ]
    },
    {
     "name": "stdout",
     "output_type": "stream",
     "text": [
      "Epoch 479 Loss: 0.11209085583686829\n"
     ]
    },
    {
     "name": "stderr",
     "output_type": "stream",
     "text": [
      "\r",
      " 80%|████████  | 481/600 [16:52<04:07,  2.08s/it]"
     ]
    },
    {
     "name": "stdout",
     "output_type": "stream",
     "text": [
      "Epoch 480 Loss: 0.11149921268224716\n"
     ]
    },
    {
     "name": "stderr",
     "output_type": "stream",
     "text": [
      "\r",
      " 80%|████████  | 482/600 [16:54<04:08,  2.10s/it]"
     ]
    },
    {
     "name": "stdout",
     "output_type": "stream",
     "text": [
      "Epoch 481 Loss: 0.11064323782920837\n"
     ]
    },
    {
     "name": "stderr",
     "output_type": "stream",
     "text": [
      "\r",
      " 80%|████████  | 483/600 [16:56<04:09,  2.13s/it]"
     ]
    },
    {
     "name": "stdout",
     "output_type": "stream",
     "text": [
      "Epoch 482 Loss: 0.11023014038801193\n"
     ]
    },
    {
     "name": "stderr",
     "output_type": "stream",
     "text": [
      "\r",
      " 81%|████████  | 484/600 [16:58<04:04,  2.10s/it]"
     ]
    },
    {
     "name": "stdout",
     "output_type": "stream",
     "text": [
      "Epoch 483 Loss: 0.10937409847974777\n"
     ]
    },
    {
     "name": "stderr",
     "output_type": "stream",
     "text": [
      "\r",
      " 81%|████████  | 485/600 [17:00<03:58,  2.07s/it]"
     ]
    },
    {
     "name": "stdout",
     "output_type": "stream",
     "text": [
      "Epoch 484 Loss: 0.10857098549604416\n"
     ]
    },
    {
     "name": "stderr",
     "output_type": "stream",
     "text": [
      "\r",
      " 81%|████████  | 486/600 [17:02<03:58,  2.09s/it]"
     ]
    },
    {
     "name": "stdout",
     "output_type": "stream",
     "text": [
      "Epoch 485 Loss: 0.10763394832611084\n"
     ]
    },
    {
     "name": "stderr",
     "output_type": "stream",
     "text": [
      "\r",
      " 81%|████████  | 487/600 [17:04<03:57,  2.10s/it]"
     ]
    },
    {
     "name": "stdout",
     "output_type": "stream",
     "text": [
      "Epoch 486 Loss: 0.10719245672225952\n"
     ]
    },
    {
     "name": "stderr",
     "output_type": "stream",
     "text": [
      "\r",
      " 81%|████████▏ | 488/600 [17:06<03:58,  2.13s/it]"
     ]
    },
    {
     "name": "stdout",
     "output_type": "stream",
     "text": [
      "Epoch 487 Loss: 0.10710754990577698\n"
     ]
    },
    {
     "name": "stderr",
     "output_type": "stream",
     "text": [
      "\r",
      " 82%|████████▏ | 489/600 [17:08<03:53,  2.10s/it]"
     ]
    },
    {
     "name": "stdout",
     "output_type": "stream",
     "text": [
      "Epoch 488 Loss: 0.10646918416023254\n"
     ]
    },
    {
     "name": "stderr",
     "output_type": "stream",
     "text": [
      "\r",
      " 82%|████████▏ | 490/600 [17:11<03:49,  2.09s/it]"
     ]
    },
    {
     "name": "stdout",
     "output_type": "stream",
     "text": [
      "Epoch 489 Loss: 0.10548418760299683\n"
     ]
    },
    {
     "name": "stderr",
     "output_type": "stream",
     "text": [
      "\r",
      " 82%|████████▏ | 491/600 [17:13<03:45,  2.07s/it]"
     ]
    },
    {
     "name": "stdout",
     "output_type": "stream",
     "text": [
      "Epoch 490 Loss: 0.10481858253479004\n"
     ]
    },
    {
     "name": "stderr",
     "output_type": "stream",
     "text": [
      "\r",
      " 82%|████████▏ | 492/600 [17:15<03:40,  2.04s/it]"
     ]
    },
    {
     "name": "stdout",
     "output_type": "stream",
     "text": [
      "Epoch 491 Loss: 0.10454601049423218\n"
     ]
    },
    {
     "name": "stderr",
     "output_type": "stream",
     "text": [
      "\r",
      " 82%|████████▏ | 493/600 [17:17<03:39,  2.05s/it]"
     ]
    },
    {
     "name": "stdout",
     "output_type": "stream",
     "text": [
      "Epoch 492 Loss: 0.10410126298666\n"
     ]
    },
    {
     "name": "stderr",
     "output_type": "stream",
     "text": [
      "\r",
      " 82%|████████▏ | 494/600 [17:19<03:40,  2.08s/it]"
     ]
    },
    {
     "name": "stdout",
     "output_type": "stream",
     "text": [
      "Epoch 493 Loss: 0.10351821035146713\n"
     ]
    },
    {
     "name": "stderr",
     "output_type": "stream",
     "text": [
      "\r",
      " 82%|████████▎ | 495/600 [17:21<03:36,  2.06s/it]"
     ]
    },
    {
     "name": "stdout",
     "output_type": "stream",
     "text": [
      "Epoch 494 Loss: 0.10293575376272202\n"
     ]
    },
    {
     "name": "stderr",
     "output_type": "stream",
     "text": [
      "\r",
      " 83%|████████▎ | 496/600 [17:23<03:33,  2.05s/it]"
     ]
    },
    {
     "name": "stdout",
     "output_type": "stream",
     "text": [
      "Epoch 495 Loss: 0.10293655842542648\n"
     ]
    },
    {
     "name": "stderr",
     "output_type": "stream",
     "text": [
      "\r",
      " 83%|████████▎ | 497/600 [17:25<03:30,  2.04s/it]"
     ]
    },
    {
     "name": "stdout",
     "output_type": "stream",
     "text": [
      "Epoch 496 Loss: 0.10214551538228989\n"
     ]
    },
    {
     "name": "stderr",
     "output_type": "stream",
     "text": [
      "\r",
      " 83%|████████▎ | 498/600 [17:27<03:30,  2.07s/it]"
     ]
    },
    {
     "name": "stdout",
     "output_type": "stream",
     "text": [
      "Epoch 497 Loss: 0.10172661393880844\n"
     ]
    },
    {
     "name": "stderr",
     "output_type": "stream",
     "text": [
      "\r",
      " 83%|████████▎ | 499/600 [17:29<03:26,  2.04s/it]"
     ]
    },
    {
     "name": "stdout",
     "output_type": "stream",
     "text": [
      "Epoch 498 Loss: 0.10096006095409393\n"
     ]
    },
    {
     "name": "stderr",
     "output_type": "stream",
     "text": [
      "\r",
      " 83%|████████▎ | 500/600 [17:31<03:23,  2.04s/it]"
     ]
    },
    {
     "name": "stdout",
     "output_type": "stream",
     "text": [
      "Epoch 499 Loss: 0.10035824775695801\n"
     ]
    },
    {
     "name": "stderr",
     "output_type": "stream",
     "text": [
      "\r",
      " 84%|████████▎ | 501/600 [17:33<03:20,  2.03s/it]"
     ]
    },
    {
     "name": "stdout",
     "output_type": "stream",
     "text": [
      "Epoch 500 Loss: 0.09983019530773163\n"
     ]
    },
    {
     "name": "stderr",
     "output_type": "stream",
     "text": [
      "\r",
      " 84%|████████▎ | 502/600 [17:35<03:22,  2.07s/it]"
     ]
    },
    {
     "name": "stdout",
     "output_type": "stream",
     "text": [
      "Epoch 501 Loss: 0.0992959588766098\n"
     ]
    },
    {
     "name": "stderr",
     "output_type": "stream",
     "text": [
      "\r",
      " 84%|████████▍ | 503/600 [17:37<03:20,  2.06s/it]"
     ]
    },
    {
     "name": "stdout",
     "output_type": "stream",
     "text": [
      "Epoch 502 Loss: 0.09826110303401947\n"
     ]
    },
    {
     "name": "stderr",
     "output_type": "stream",
     "text": [
      "\r",
      " 84%|████████▍ | 504/600 [17:39<03:15,  2.04s/it]"
     ]
    },
    {
     "name": "stdout",
     "output_type": "stream",
     "text": [
      "Epoch 503 Loss: 0.0976053923368454\n"
     ]
    },
    {
     "name": "stderr",
     "output_type": "stream",
     "text": [
      "\r",
      " 84%|████████▍ | 505/600 [17:41<03:14,  2.05s/it]"
     ]
    },
    {
     "name": "stdout",
     "output_type": "stream",
     "text": [
      "Epoch 504 Loss: 0.09718328714370728\n"
     ]
    },
    {
     "name": "stderr",
     "output_type": "stream",
     "text": [
      "\r",
      " 84%|████████▍ | 506/600 [17:43<03:13,  2.05s/it]"
     ]
    },
    {
     "name": "stdout",
     "output_type": "stream",
     "text": [
      "Epoch 505 Loss: 0.09663792699575424\n"
     ]
    },
    {
     "name": "stderr",
     "output_type": "stream",
     "text": [
      "\r",
      " 84%|████████▍ | 507/600 [17:45<03:12,  2.07s/it]"
     ]
    },
    {
     "name": "stdout",
     "output_type": "stream",
     "text": [
      "Epoch 506 Loss: 0.09628850221633911\n"
     ]
    },
    {
     "name": "stderr",
     "output_type": "stream",
     "text": [
      "\r",
      " 85%|████████▍ | 508/600 [17:47<03:10,  2.07s/it]"
     ]
    },
    {
     "name": "stdout",
     "output_type": "stream",
     "text": [
      "Epoch 507 Loss: 0.09576193988323212\n"
     ]
    },
    {
     "name": "stderr",
     "output_type": "stream",
     "text": [
      "\r",
      " 85%|████████▍ | 509/600 [17:50<03:07,  2.06s/it]"
     ]
    },
    {
     "name": "stdout",
     "output_type": "stream",
     "text": [
      "Epoch 508 Loss: 0.09461981058120728\n"
     ]
    },
    {
     "name": "stderr",
     "output_type": "stream",
     "text": [
      "\r",
      " 85%|████████▌ | 510/600 [17:52<03:09,  2.11s/it]"
     ]
    },
    {
     "name": "stdout",
     "output_type": "stream",
     "text": [
      "Epoch 509 Loss: 0.09407822787761688\n"
     ]
    },
    {
     "name": "stderr",
     "output_type": "stream",
     "text": [
      "\r",
      " 85%|████████▌ | 511/600 [17:54<03:09,  2.12s/it]"
     ]
    },
    {
     "name": "stdout",
     "output_type": "stream",
     "text": [
      "Epoch 510 Loss: 0.09389184415340424\n"
     ]
    },
    {
     "name": "stderr",
     "output_type": "stream",
     "text": [
      "\r",
      " 85%|████████▌ | 512/600 [17:56<03:10,  2.17s/it]"
     ]
    },
    {
     "name": "stdout",
     "output_type": "stream",
     "text": [
      "Epoch 511 Loss: 0.09374257922172546\n"
     ]
    },
    {
     "name": "stderr",
     "output_type": "stream",
     "text": [
      "\r",
      " 86%|████████▌ | 513/600 [17:58<03:11,  2.20s/it]"
     ]
    },
    {
     "name": "stdout",
     "output_type": "stream",
     "text": [
      "Epoch 512 Loss: 0.09304338693618774\n"
     ]
    },
    {
     "name": "stderr",
     "output_type": "stream",
     "text": [
      "\r",
      " 86%|████████▌ | 514/600 [18:01<03:10,  2.22s/it]"
     ]
    },
    {
     "name": "stdout",
     "output_type": "stream",
     "text": [
      "Epoch 513 Loss: 0.0928422063589096\n"
     ]
    },
    {
     "name": "stderr",
     "output_type": "stream",
     "text": [
      "\r",
      " 86%|████████▌ | 515/600 [18:03<03:04,  2.17s/it]"
     ]
    },
    {
     "name": "stdout",
     "output_type": "stream",
     "text": [
      "Epoch 514 Loss: 0.09184873104095459\n"
     ]
    },
    {
     "name": "stderr",
     "output_type": "stream",
     "text": [
      "\r",
      " 86%|████████▌ | 516/600 [18:05<02:57,  2.12s/it]"
     ]
    },
    {
     "name": "stdout",
     "output_type": "stream",
     "text": [
      "Epoch 515 Loss: 0.09114323556423187\n"
     ]
    },
    {
     "name": "stderr",
     "output_type": "stream",
     "text": [
      "\r",
      " 86%|████████▌ | 517/600 [18:07<02:58,  2.15s/it]"
     ]
    },
    {
     "name": "stdout",
     "output_type": "stream",
     "text": [
      "Epoch 516 Loss: 0.09033477306365967\n"
     ]
    },
    {
     "name": "stderr",
     "output_type": "stream",
     "text": [
      "\r",
      " 86%|████████▋ | 518/600 [18:09<02:53,  2.12s/it]"
     ]
    },
    {
     "name": "stdout",
     "output_type": "stream",
     "text": [
      "Epoch 517 Loss: 0.08949246257543564\n"
     ]
    },
    {
     "name": "stderr",
     "output_type": "stream",
     "text": [
      "\r",
      " 86%|████████▋ | 519/600 [18:11<02:49,  2.09s/it]"
     ]
    },
    {
     "name": "stdout",
     "output_type": "stream",
     "text": [
      "Epoch 518 Loss: 0.09010696411132812\n"
     ]
    },
    {
     "name": "stderr",
     "output_type": "stream",
     "text": [
      "\r",
      " 87%|████████▋ | 520/600 [18:13<02:45,  2.07s/it]"
     ]
    },
    {
     "name": "stdout",
     "output_type": "stream",
     "text": [
      "Epoch 519 Loss: 0.08913855254650116\n"
     ]
    },
    {
     "name": "stderr",
     "output_type": "stream",
     "text": [
      "\r",
      " 87%|████████▋ | 521/600 [18:15<02:41,  2.05s/it]"
     ]
    },
    {
     "name": "stdout",
     "output_type": "stream",
     "text": [
      "Epoch 520 Loss: 0.08902757614850998\n"
     ]
    },
    {
     "name": "stderr",
     "output_type": "stream",
     "text": [
      "\r",
      " 87%|████████▋ | 522/600 [18:17<02:40,  2.05s/it]"
     ]
    },
    {
     "name": "stdout",
     "output_type": "stream",
     "text": [
      "Epoch 521 Loss: 0.0884326621890068\n"
     ]
    },
    {
     "name": "stderr",
     "output_type": "stream",
     "text": [
      "\r",
      " 87%|████████▋ | 523/600 [18:19<02:36,  2.04s/it]"
     ]
    },
    {
     "name": "stdout",
     "output_type": "stream",
     "text": [
      "Epoch 522 Loss: 0.08854357898235321\n"
     ]
    },
    {
     "name": "stderr",
     "output_type": "stream",
     "text": [
      "\r",
      " 87%|████████▋ | 524/600 [18:21<02:35,  2.04s/it]"
     ]
    },
    {
     "name": "stdout",
     "output_type": "stream",
     "text": [
      "Epoch 523 Loss: 0.08833704888820648\n"
     ]
    },
    {
     "name": "stderr",
     "output_type": "stream",
     "text": [
      "\r",
      " 88%|████████▊ | 525/600 [18:23<02:35,  2.07s/it]"
     ]
    },
    {
     "name": "stdout",
     "output_type": "stream",
     "text": [
      "Epoch 524 Loss: 0.08777457475662231\n"
     ]
    },
    {
     "name": "stderr",
     "output_type": "stream",
     "text": [
      "\r",
      " 88%|████████▊ | 526/600 [18:25<02:31,  2.05s/it]"
     ]
    },
    {
     "name": "stdout",
     "output_type": "stream",
     "text": [
      "Epoch 525 Loss: 0.08740153908729553\n"
     ]
    },
    {
     "name": "stderr",
     "output_type": "stream",
     "text": [
      "\r",
      " 88%|████████▊ | 527/600 [18:27<02:30,  2.06s/it]"
     ]
    },
    {
     "name": "stdout",
     "output_type": "stream",
     "text": [
      "Epoch 526 Loss: 0.08756711333990097\n"
     ]
    },
    {
     "name": "stderr",
     "output_type": "stream",
     "text": [
      "\r",
      " 88%|████████▊ | 528/600 [18:29<02:26,  2.04s/it]"
     ]
    },
    {
     "name": "stdout",
     "output_type": "stream",
     "text": [
      "Epoch 527 Loss: 0.08727221935987473\n"
     ]
    },
    {
     "name": "stderr",
     "output_type": "stream",
     "text": [
      "\r",
      " 88%|████████▊ | 529/600 [18:31<02:25,  2.05s/it]"
     ]
    },
    {
     "name": "stdout",
     "output_type": "stream",
     "text": [
      "Epoch 528 Loss: 0.08692672103643417\n"
     ]
    },
    {
     "name": "stderr",
     "output_type": "stream",
     "text": [
      "\r",
      " 88%|████████▊ | 530/600 [18:34<02:23,  2.06s/it]"
     ]
    },
    {
     "name": "stdout",
     "output_type": "stream",
     "text": [
      "Epoch 529 Loss: 0.08620432019233704\n"
     ]
    },
    {
     "name": "stderr",
     "output_type": "stream",
     "text": [
      "\r",
      " 88%|████████▊ | 531/600 [18:36<02:21,  2.04s/it]"
     ]
    },
    {
     "name": "stdout",
     "output_type": "stream",
     "text": [
      "Epoch 530 Loss: 0.08627830445766449\n"
     ]
    },
    {
     "name": "stderr",
     "output_type": "stream",
     "text": [
      "\r",
      " 89%|████████▊ | 532/600 [18:38<02:20,  2.07s/it]"
     ]
    },
    {
     "name": "stdout",
     "output_type": "stream",
     "text": [
      "Epoch 531 Loss: 0.08577623218297958\n"
     ]
    },
    {
     "name": "stderr",
     "output_type": "stream",
     "text": [
      "\r",
      " 89%|████████▉ | 533/600 [18:40<02:18,  2.07s/it]"
     ]
    },
    {
     "name": "stdout",
     "output_type": "stream",
     "text": [
      "Epoch 532 Loss: 0.08557961881160736\n"
     ]
    },
    {
     "name": "stderr",
     "output_type": "stream",
     "text": [
      "\r",
      " 89%|████████▉ | 534/600 [18:42<02:16,  2.06s/it]"
     ]
    },
    {
     "name": "stdout",
     "output_type": "stream",
     "text": [
      "Epoch 533 Loss: 0.08567541837692261\n"
     ]
    },
    {
     "name": "stderr",
     "output_type": "stream",
     "text": [
      "\r",
      " 89%|████████▉ | 535/600 [18:44<02:19,  2.15s/it]"
     ]
    },
    {
     "name": "stdout",
     "output_type": "stream",
     "text": [
      "Epoch 534 Loss: 0.08544578403234482\n"
     ]
    },
    {
     "name": "stderr",
     "output_type": "stream",
     "text": [
      "\r",
      " 89%|████████▉ | 536/600 [18:46<02:18,  2.16s/it]"
     ]
    },
    {
     "name": "stdout",
     "output_type": "stream",
     "text": [
      "Epoch 535 Loss: 0.08472546190023422\n"
     ]
    },
    {
     "name": "stderr",
     "output_type": "stream",
     "text": [
      "\r",
      " 90%|████████▉ | 537/600 [18:48<02:13,  2.13s/it]"
     ]
    },
    {
     "name": "stdout",
     "output_type": "stream",
     "text": [
      "Epoch 536 Loss: 0.08448087424039841\n"
     ]
    },
    {
     "name": "stderr",
     "output_type": "stream",
     "text": [
      "\r",
      " 90%|████████▉ | 538/600 [18:50<02:09,  2.09s/it]"
     ]
    },
    {
     "name": "stdout",
     "output_type": "stream",
     "text": [
      "Epoch 537 Loss: 0.08410297334194183\n"
     ]
    },
    {
     "name": "stderr",
     "output_type": "stream",
     "text": [
      "\r",
      " 90%|████████▉ | 539/600 [18:53<02:08,  2.11s/it]"
     ]
    },
    {
     "name": "stdout",
     "output_type": "stream",
     "text": [
      "Epoch 538 Loss: 0.08398481458425522\n"
     ]
    },
    {
     "name": "stderr",
     "output_type": "stream",
     "text": [
      "\r",
      " 90%|█████████ | 540/600 [18:55<02:10,  2.17s/it]"
     ]
    },
    {
     "name": "stdout",
     "output_type": "stream",
     "text": [
      "Epoch 539 Loss: 0.08331339061260223\n"
     ]
    },
    {
     "name": "stderr",
     "output_type": "stream",
     "text": [
      "\r",
      " 90%|█████████ | 541/600 [18:57<02:10,  2.21s/it]"
     ]
    },
    {
     "name": "stdout",
     "output_type": "stream",
     "text": [
      "Epoch 540 Loss: 0.08319447934627533\n"
     ]
    },
    {
     "name": "stderr",
     "output_type": "stream",
     "text": [
      "\r",
      " 90%|█████████ | 542/600 [18:59<02:07,  2.20s/it]"
     ]
    },
    {
     "name": "stdout",
     "output_type": "stream",
     "text": [
      "Epoch 541 Loss: 0.08303600549697876\n"
     ]
    },
    {
     "name": "stderr",
     "output_type": "stream",
     "text": [
      "\r",
      " 90%|█████████ | 543/600 [19:02<02:06,  2.23s/it]"
     ]
    },
    {
     "name": "stdout",
     "output_type": "stream",
     "text": [
      "Epoch 542 Loss: 0.082244873046875\n"
     ]
    },
    {
     "name": "stderr",
     "output_type": "stream",
     "text": [
      "\r",
      " 91%|█████████ | 544/600 [19:04<02:04,  2.23s/it]"
     ]
    },
    {
     "name": "stdout",
     "output_type": "stream",
     "text": [
      "Epoch 543 Loss: 0.08241567760705948\n"
     ]
    },
    {
     "name": "stderr",
     "output_type": "stream",
     "text": [
      "\r",
      " 91%|█████████ | 545/600 [19:06<02:02,  2.22s/it]"
     ]
    },
    {
     "name": "stdout",
     "output_type": "stream",
     "text": [
      "Epoch 544 Loss: 0.08160416036844254\n"
     ]
    },
    {
     "name": "stderr",
     "output_type": "stream",
     "text": [
      "\r",
      " 91%|█████████ | 546/600 [19:08<01:58,  2.19s/it]"
     ]
    },
    {
     "name": "stdout",
     "output_type": "stream",
     "text": [
      "Epoch 545 Loss: 0.08196882903575897\n"
     ]
    },
    {
     "name": "stderr",
     "output_type": "stream",
     "text": [
      "\r",
      " 91%|█████████ | 547/600 [19:10<01:55,  2.18s/it]"
     ]
    },
    {
     "name": "stdout",
     "output_type": "stream",
     "text": [
      "Epoch 546 Loss: 0.0814787745475769\n"
     ]
    },
    {
     "name": "stderr",
     "output_type": "stream",
     "text": [
      "\r",
      " 91%|█████████▏| 548/600 [19:12<01:51,  2.14s/it]"
     ]
    },
    {
     "name": "stdout",
     "output_type": "stream",
     "text": [
      "Epoch 547 Loss: 0.08135112375020981\n"
     ]
    },
    {
     "name": "stderr",
     "output_type": "stream",
     "text": [
      "\r",
      " 92%|█████████▏| 549/600 [19:14<01:48,  2.12s/it]"
     ]
    },
    {
     "name": "stdout",
     "output_type": "stream",
     "text": [
      "Epoch 548 Loss: 0.08085938543081284\n"
     ]
    },
    {
     "name": "stderr",
     "output_type": "stream",
     "text": [
      "\r",
      " 92%|█████████▏| 550/600 [19:17<01:46,  2.13s/it]"
     ]
    },
    {
     "name": "stdout",
     "output_type": "stream",
     "text": [
      "Epoch 549 Loss: 0.08041174709796906\n"
     ]
    },
    {
     "name": "stderr",
     "output_type": "stream",
     "text": [
      "\r",
      " 92%|█████████▏| 551/600 [19:19<01:48,  2.21s/it]"
     ]
    },
    {
     "name": "stdout",
     "output_type": "stream",
     "text": [
      "Epoch 550 Loss: 0.0800437480211258\n"
     ]
    },
    {
     "name": "stderr",
     "output_type": "stream",
     "text": [
      "\r",
      " 92%|█████████▏| 552/600 [19:22<01:51,  2.32s/it]"
     ]
    },
    {
     "name": "stdout",
     "output_type": "stream",
     "text": [
      "Epoch 551 Loss: 0.0798182412981987\n"
     ]
    },
    {
     "name": "stderr",
     "output_type": "stream",
     "text": [
      "\r",
      " 92%|█████████▏| 553/600 [19:24<01:51,  2.37s/it]"
     ]
    },
    {
     "name": "stdout",
     "output_type": "stream",
     "text": [
      "Epoch 552 Loss: 0.07960174977779388\n"
     ]
    },
    {
     "name": "stderr",
     "output_type": "stream",
     "text": [
      "\r",
      " 92%|█████████▏| 554/600 [19:26<01:48,  2.36s/it]"
     ]
    },
    {
     "name": "stdout",
     "output_type": "stream",
     "text": [
      "Epoch 553 Loss: 0.07864533364772797\n"
     ]
    },
    {
     "name": "stderr",
     "output_type": "stream",
     "text": [
      "\r",
      " 92%|█████████▎| 555/600 [19:29<01:43,  2.31s/it]"
     ]
    },
    {
     "name": "stdout",
     "output_type": "stream",
     "text": [
      "Epoch 554 Loss: 0.07873772829771042\n"
     ]
    },
    {
     "name": "stderr",
     "output_type": "stream",
     "text": [
      "\r",
      " 93%|█████████▎| 556/600 [19:31<01:38,  2.24s/it]"
     ]
    },
    {
     "name": "stdout",
     "output_type": "stream",
     "text": [
      "Epoch 555 Loss: 0.0784953385591507\n"
     ]
    },
    {
     "name": "stderr",
     "output_type": "stream",
     "text": [
      "\r",
      " 93%|█████████▎| 557/600 [19:33<01:36,  2.23s/it]"
     ]
    },
    {
     "name": "stdout",
     "output_type": "stream",
     "text": [
      "Epoch 556 Loss: 0.07859864085912704\n"
     ]
    },
    {
     "name": "stderr",
     "output_type": "stream",
     "text": [
      "\r",
      " 93%|█████████▎| 558/600 [19:35<01:33,  2.22s/it]"
     ]
    },
    {
     "name": "stdout",
     "output_type": "stream",
     "text": [
      "Epoch 557 Loss: 0.07825454324483871\n"
     ]
    },
    {
     "name": "stderr",
     "output_type": "stream",
     "text": [
      "\r",
      " 93%|█████████▎| 559/600 [19:37<01:31,  2.22s/it]"
     ]
    },
    {
     "name": "stdout",
     "output_type": "stream",
     "text": [
      "Epoch 558 Loss: 0.07831506431102753\n"
     ]
    },
    {
     "name": "stderr",
     "output_type": "stream",
     "text": [
      "\r",
      " 93%|█████████▎| 560/600 [19:40<01:32,  2.31s/it]"
     ]
    },
    {
     "name": "stdout",
     "output_type": "stream",
     "text": [
      "Epoch 559 Loss: 0.07834076881408691\n"
     ]
    },
    {
     "name": "stderr",
     "output_type": "stream",
     "text": [
      "\r",
      " 94%|█████████▎| 561/600 [19:42<01:32,  2.37s/it]"
     ]
    },
    {
     "name": "stdout",
     "output_type": "stream",
     "text": [
      "Epoch 560 Loss: 0.07802077382802963\n"
     ]
    },
    {
     "name": "stderr",
     "output_type": "stream",
     "text": [
      "\r",
      " 94%|█████████▎| 562/600 [19:45<01:28,  2.32s/it]"
     ]
    },
    {
     "name": "stdout",
     "output_type": "stream",
     "text": [
      "Epoch 561 Loss: 0.0779137834906578\n"
     ]
    },
    {
     "name": "stderr",
     "output_type": "stream",
     "text": [
      "\r",
      " 94%|█████████▍| 563/600 [19:47<01:25,  2.30s/it]"
     ]
    },
    {
     "name": "stdout",
     "output_type": "stream",
     "text": [
      "Epoch 562 Loss: 0.07767190784215927\n"
     ]
    },
    {
     "name": "stderr",
     "output_type": "stream",
     "text": [
      "\r",
      " 94%|█████████▍| 564/600 [19:49<01:20,  2.23s/it]"
     ]
    },
    {
     "name": "stdout",
     "output_type": "stream",
     "text": [
      "Epoch 563 Loss: 0.07681478559970856\n"
     ]
    },
    {
     "name": "stderr",
     "output_type": "stream",
     "text": [
      "\r",
      " 94%|█████████▍| 565/600 [19:51<01:16,  2.17s/it]"
     ]
    },
    {
     "name": "stdout",
     "output_type": "stream",
     "text": [
      "Epoch 564 Loss: 0.07663746923208237\n"
     ]
    },
    {
     "name": "stderr",
     "output_type": "stream",
     "text": [
      "\r",
      " 94%|█████████▍| 566/600 [19:53<01:12,  2.14s/it]"
     ]
    },
    {
     "name": "stdout",
     "output_type": "stream",
     "text": [
      "Epoch 565 Loss: 0.0762723982334137\n"
     ]
    },
    {
     "name": "stderr",
     "output_type": "stream",
     "text": [
      "\r",
      " 94%|█████████▍| 567/600 [19:55<01:11,  2.16s/it]"
     ]
    },
    {
     "name": "stdout",
     "output_type": "stream",
     "text": [
      "Epoch 566 Loss: 0.07591409981250763\n"
     ]
    },
    {
     "name": "stderr",
     "output_type": "stream",
     "text": [
      "\r",
      " 95%|█████████▍| 568/600 [19:58<01:13,  2.30s/it]"
     ]
    },
    {
     "name": "stdout",
     "output_type": "stream",
     "text": [
      "Epoch 567 Loss: 0.07529789209365845\n"
     ]
    },
    {
     "name": "stderr",
     "output_type": "stream",
     "text": [
      "\r",
      " 95%|█████████▍| 569/600 [20:00<01:10,  2.26s/it]"
     ]
    },
    {
     "name": "stdout",
     "output_type": "stream",
     "text": [
      "Epoch 568 Loss: 0.07506920397281647\n"
     ]
    },
    {
     "name": "stderr",
     "output_type": "stream",
     "text": [
      "\r",
      " 95%|█████████▌| 570/600 [20:02<01:06,  2.21s/it]"
     ]
    },
    {
     "name": "stdout",
     "output_type": "stream",
     "text": [
      "Epoch 569 Loss: 0.07475555688142776\n"
     ]
    },
    {
     "name": "stderr",
     "output_type": "stream",
     "text": [
      "\r",
      " 95%|█████████▌| 571/600 [20:04<01:04,  2.21s/it]"
     ]
    },
    {
     "name": "stdout",
     "output_type": "stream",
     "text": [
      "Epoch 570 Loss: 0.07485155761241913\n"
     ]
    },
    {
     "name": "stderr",
     "output_type": "stream",
     "text": [
      "\r",
      " 95%|█████████▌| 572/600 [20:07<01:02,  2.22s/it]"
     ]
    },
    {
     "name": "stdout",
     "output_type": "stream",
     "text": [
      "Epoch 571 Loss: 0.07490857690572739\n"
     ]
    },
    {
     "name": "stderr",
     "output_type": "stream",
     "text": [
      "\r",
      " 96%|█████████▌| 573/600 [20:09<01:00,  2.23s/it]"
     ]
    },
    {
     "name": "stdout",
     "output_type": "stream",
     "text": [
      "Epoch 572 Loss: 0.07453037798404694\n"
     ]
    },
    {
     "name": "stderr",
     "output_type": "stream",
     "text": [
      "\r",
      " 96%|█████████▌| 574/600 [20:11<00:57,  2.20s/it]"
     ]
    },
    {
     "name": "stdout",
     "output_type": "stream",
     "text": [
      "Epoch 573 Loss: 0.07475505769252777\n"
     ]
    },
    {
     "name": "stderr",
     "output_type": "stream",
     "text": [
      "\r",
      " 96%|█████████▌| 575/600 [20:13<00:54,  2.19s/it]"
     ]
    },
    {
     "name": "stdout",
     "output_type": "stream",
     "text": [
      "Epoch 574 Loss: 0.07458510249853134\n"
     ]
    },
    {
     "name": "stderr",
     "output_type": "stream",
     "text": [
      "\r",
      " 96%|█████████▌| 576/600 [20:15<00:52,  2.20s/it]"
     ]
    },
    {
     "name": "stdout",
     "output_type": "stream",
     "text": [
      "Epoch 575 Loss: 0.07494737207889557\n"
     ]
    },
    {
     "name": "stderr",
     "output_type": "stream",
     "text": [
      "\r",
      " 96%|█████████▌| 577/600 [20:17<00:50,  2.18s/it]"
     ]
    },
    {
     "name": "stdout",
     "output_type": "stream",
     "text": [
      "Epoch 576 Loss: 0.0749453529715538\n"
     ]
    },
    {
     "name": "stderr",
     "output_type": "stream",
     "text": [
      "\r",
      " 96%|█████████▋| 578/600 [20:19<00:46,  2.13s/it]"
     ]
    },
    {
     "name": "stdout",
     "output_type": "stream",
     "text": [
      "Epoch 577 Loss: 0.0746515542268753\n"
     ]
    },
    {
     "name": "stderr",
     "output_type": "stream",
     "text": [
      "\r",
      " 96%|█████████▋| 579/600 [20:22<00:44,  2.12s/it]"
     ]
    },
    {
     "name": "stdout",
     "output_type": "stream",
     "text": [
      "Epoch 578 Loss: 0.07380949705839157\n"
     ]
    },
    {
     "name": "stderr",
     "output_type": "stream",
     "text": [
      "\r",
      " 97%|█████████▋| 580/600 [20:24<00:42,  2.11s/it]"
     ]
    },
    {
     "name": "stdout",
     "output_type": "stream",
     "text": [
      "Epoch 579 Loss: 0.07436110079288483\n"
     ]
    },
    {
     "name": "stderr",
     "output_type": "stream",
     "text": [
      "\r",
      " 97%|█████████▋| 581/600 [20:26<00:39,  2.09s/it]"
     ]
    },
    {
     "name": "stdout",
     "output_type": "stream",
     "text": [
      "Epoch 580 Loss: 0.07371826469898224\n"
     ]
    },
    {
     "name": "stderr",
     "output_type": "stream",
     "text": [
      "\r",
      " 97%|█████████▋| 582/600 [20:28<00:37,  2.08s/it]"
     ]
    },
    {
     "name": "stdout",
     "output_type": "stream",
     "text": [
      "Epoch 581 Loss: 0.07366523146629333\n"
     ]
    },
    {
     "name": "stderr",
     "output_type": "stream",
     "text": [
      "\r",
      " 97%|█████████▋| 583/600 [20:30<00:35,  2.10s/it]"
     ]
    },
    {
     "name": "stdout",
     "output_type": "stream",
     "text": [
      "Epoch 582 Loss: 0.07339915633201599\n"
     ]
    },
    {
     "name": "stderr",
     "output_type": "stream",
     "text": [
      "\r",
      " 97%|█████████▋| 584/600 [20:32<00:34,  2.13s/it]"
     ]
    },
    {
     "name": "stdout",
     "output_type": "stream",
     "text": [
      "Epoch 583 Loss: 0.07339814305305481\n"
     ]
    },
    {
     "name": "stderr",
     "output_type": "stream",
     "text": [
      "\r",
      " 98%|█████████▊| 585/600 [20:34<00:32,  2.16s/it]"
     ]
    },
    {
     "name": "stdout",
     "output_type": "stream",
     "text": [
      "Epoch 584 Loss: 0.07267051935195923\n"
     ]
    },
    {
     "name": "stderr",
     "output_type": "stream",
     "text": [
      "\r",
      " 98%|█████████▊| 586/600 [20:37<00:30,  2.17s/it]"
     ]
    },
    {
     "name": "stdout",
     "output_type": "stream",
     "text": [
      "Epoch 585 Loss: 0.07273189723491669\n"
     ]
    },
    {
     "name": "stderr",
     "output_type": "stream",
     "text": [
      "\r",
      " 98%|█████████▊| 587/600 [20:39<00:27,  2.14s/it]"
     ]
    },
    {
     "name": "stdout",
     "output_type": "stream",
     "text": [
      "Epoch 586 Loss: 0.0722048208117485\n"
     ]
    },
    {
     "name": "stderr",
     "output_type": "stream",
     "text": [
      "\r",
      " 98%|█████████▊| 588/600 [20:41<00:25,  2.11s/it]"
     ]
    },
    {
     "name": "stdout",
     "output_type": "stream",
     "text": [
      "Epoch 587 Loss: 0.07230521738529205\n"
     ]
    },
    {
     "name": "stderr",
     "output_type": "stream",
     "text": [
      "\r",
      " 98%|█████████▊| 589/600 [20:43<00:23,  2.10s/it]"
     ]
    },
    {
     "name": "stdout",
     "output_type": "stream",
     "text": [
      "Epoch 588 Loss: 0.0719863772392273\n"
     ]
    },
    {
     "name": "stderr",
     "output_type": "stream",
     "text": [
      "\r",
      " 98%|█████████▊| 590/600 [20:45<00:20,  2.08s/it]"
     ]
    },
    {
     "name": "stdout",
     "output_type": "stream",
     "text": [
      "Epoch 589 Loss: 0.07199735939502716\n"
     ]
    },
    {
     "name": "stderr",
     "output_type": "stream",
     "text": [
      "\r",
      " 98%|█████████▊| 591/600 [20:47<00:19,  2.13s/it]"
     ]
    },
    {
     "name": "stdout",
     "output_type": "stream",
     "text": [
      "Epoch 590 Loss: 0.07130642980337143\n"
     ]
    },
    {
     "name": "stderr",
     "output_type": "stream",
     "text": [
      "\r",
      " 99%|█████████▊| 592/600 [20:49<00:16,  2.10s/it]"
     ]
    },
    {
     "name": "stdout",
     "output_type": "stream",
     "text": [
      "Epoch 591 Loss: 0.07132679969072342\n"
     ]
    },
    {
     "name": "stderr",
     "output_type": "stream",
     "text": [
      "\r",
      " 99%|█████████▉| 593/600 [20:51<00:14,  2.09s/it]"
     ]
    },
    {
     "name": "stdout",
     "output_type": "stream",
     "text": [
      "Epoch 592 Loss: 0.07070126384496689\n"
     ]
    },
    {
     "name": "stderr",
     "output_type": "stream",
     "text": [
      "\r",
      " 99%|█████████▉| 594/600 [20:53<00:12,  2.14s/it]"
     ]
    },
    {
     "name": "stdout",
     "output_type": "stream",
     "text": [
      "Epoch 593 Loss: 0.07040892541408539\n"
     ]
    },
    {
     "name": "stderr",
     "output_type": "stream",
     "text": [
      "\r",
      " 99%|█████████▉| 595/600 [20:56<00:10,  2.16s/it]"
     ]
    },
    {
     "name": "stdout",
     "output_type": "stream",
     "text": [
      "Epoch 594 Loss: 0.07038207352161407\n"
     ]
    },
    {
     "name": "stderr",
     "output_type": "stream",
     "text": [
      "\r",
      " 99%|█████████▉| 596/600 [20:58<00:08,  2.18s/it]"
     ]
    },
    {
     "name": "stdout",
     "output_type": "stream",
     "text": [
      "Epoch 595 Loss: 0.07018116116523743\n"
     ]
    },
    {
     "name": "stderr",
     "output_type": "stream",
     "text": [
      "\r",
      "100%|█████████▉| 597/600 [21:00<00:06,  2.13s/it]"
     ]
    },
    {
     "name": "stdout",
     "output_type": "stream",
     "text": [
      "Epoch 596 Loss: 0.0701683983206749\n"
     ]
    },
    {
     "name": "stderr",
     "output_type": "stream",
     "text": [
      "\r",
      "100%|█████████▉| 598/600 [21:02<00:04,  2.14s/it]"
     ]
    },
    {
     "name": "stdout",
     "output_type": "stream",
     "text": [
      "Epoch 597 Loss: 0.06993776559829712\n"
     ]
    },
    {
     "name": "stderr",
     "output_type": "stream",
     "text": [
      "\r",
      "100%|█████████▉| 599/600 [21:04<00:02,  2.13s/it]"
     ]
    },
    {
     "name": "stdout",
     "output_type": "stream",
     "text": [
      "Epoch 598 Loss: 0.07001475989818573\n"
     ]
    },
    {
     "name": "stderr",
     "output_type": "stream",
     "text": [
      "100%|██████████| 600/600 [21:06<00:00,  2.11s/it]"
     ]
    },
    {
     "name": "stdout",
     "output_type": "stream",
     "text": [
      "Epoch 599 Loss: 0.06942625343799591\n"
     ]
    },
    {
     "name": "stderr",
     "output_type": "stream",
     "text": [
      "\n"
     ]
    }
   ],
   "source": [
    "losses = []\n",
    "model.train()\n",
    "\n",
    "for i in tqdm(range(600)):\n",
    "\n",
    "  for n,((seq_ohlcv,y_train),seq_ind,seq_osc) in enumerate(zip(train_df_ohlcv_dataloader_final, train_df_pl_AE_dataloader_final, train_df_npl_AE_dataloader_final)):\n",
    "    \n",
    "    if n==len(train_df_ohlcv_dataloader_final)-1:\n",
    "\n",
    "      batch_size_ = last_batch\n",
    "\n",
    "    else:\n",
    "\n",
    "      batch_size_ = batch_size\n",
    "\n",
    "    model.batch_size = batch_size_\n",
    "\n",
    "    model.hidden = ((torch.zeros(model.lstm_num_layers, model.batch_size, model.lstm_hidden_size).cuda()),\n",
    "                  (torch.zeros(model.lstm_num_layers, model.batch_size, model.lstm_hidden_size).cuda()))\n",
    "    \n",
    "    seq_ohlcv = seq_ohlcv.permute(0,2,1)\n",
    "    seq_ind = seq_ind.permute(0,2,1).detach()\n",
    "    seq_osc = seq_osc.permute(0,2,1).detach()\n",
    "\n",
    "    \n",
    "    y_pred = model(seq_ohlcv,seq_ind,seq_osc)\n",
    "    loss = criterion(y_pred, y_train)\n",
    "    optimizer.zero_grad()\n",
    "    loss.backward()\n",
    "    optimizer.step()\n",
    "\n",
    "  losses.append(loss)\n",
    "  print(f\"Epoch {i} Loss: {loss.item()}\")"
   ]
  },
  {
   "cell_type": "code",
   "execution_count": 71,
   "metadata": {
    "colab": {
     "base_uri": "https://localhost:8080/",
     "height": 265
    },
    "id": "CXlICsEz-_dU",
    "outputId": "11e90c95-57e2-4abe-c01f-aa10f04114f7"
   },
   "outputs": [],
   "source": [
    "#plt.plot(losses)\n",
    "#plt.show()"
   ]
  },
  {
   "cell_type": "markdown",
   "metadata": {
    "id": "PAMYEeRsFxBS"
   },
   "source": [
    "Evaluate the Model"
   ]
  },
  {
   "cell_type": "code",
   "execution_count": 62,
   "metadata": {
    "id": "wHj0XJ0rFN8s"
   },
   "outputs": [],
   "source": [
    "model.eval()\n",
    "\n",
    "\n",
    "with torch.no_grad():\n",
    "\n",
    "    for (seq_ohlcv,y_test),seq_ind,seq_osc in zip(test_df_ohlcv_dataloader_final, test_df_pl_AE_dataloader_final, test_df_npl_AE_dataloader_final):\n",
    "\n",
    "        model.hidden = ((torch.zeros(model.lstm_num_layers, model.batch_size, model.lstm_hidden_size).cuda()),\n",
    "                  (torch.zeros(model.lstm_num_layers, model.batch_size, model.lstm_hidden_size).cuda()))\n",
    "\n",
    "        seq_ohlcv = seq_ohlcv.permute(0,2,1)\n",
    "        seq_ind = seq_ind.permute(0,2,1).detach()\n",
    "        seq_osc = seq_osc.permute(0,2,1).detach()\n",
    "\n",
    "        model.batch_size = len(seq_ohlcv)\n",
    "        model.hidden = ((torch.zeros(model.lstm_num_layers, model.batch_size, model.lstm_hidden_size)).cuda(),\n",
    "                  (torch.zeros(model.lstm_num_layers, model.batch_size, model.lstm_hidden_size)).cuda())\n",
    "        y_pred = model(seq_ohlcv,seq_ind,seq_osc)\n",
    "        loss = criterion(y_pred, y_test)\n"
   ]
  },
  {
   "cell_type": "markdown",
   "metadata": {
    "id": "H5NbHTml3PRy"
   },
   "source": [
    "Trading Strategy"
   ]
  },
  {
   "cell_type": "code",
   "execution_count": 63,
   "metadata": {
    "id": "4rXMYfLecozl"
   },
   "outputs": [],
   "source": [
    "y_test_ = np.array((y_test.cpu()).squeeze())\n",
    "y_pred_ = np.array((y_pred.cpu()).squeeze())\n",
    "close = test_df['close'][window_size:]\n",
    "ret = (close.shift(-1) - close) / close"
   ]
  },
  {
   "cell_type": "code",
   "execution_count": 64,
   "metadata": {
    "id": "49HSTHYiRi2r"
   },
   "outputs": [],
   "source": [
    "def cfm(lower, upper):\n",
    "\n",
    "  global clipped_y_test, clipped_y_pred, bet_sizing, clipped_ret\n",
    "\n",
    "  clipped_y_test = np.array([])\n",
    "  clipped_y_pred = np.array([])\n",
    "  bet_sizing = np.array([])\n",
    "  clipped_ret = np.array([])\n",
    "\n",
    "  for i in range(len(y_pred_)-1):\n",
    "\n",
    "    if y_pred_[i]<=lower:\n",
    "\n",
    "      clipped_y_test = np.append(clipped_y_test, y_test_[i])\n",
    "      clipped_y_pred = np.append(clipped_y_pred, 0)\n",
    "      bet_sizing = np.append(bet_sizing, abs(y_pred_[i]-0.5))\n",
    "      clipped_ret = np.append(clipped_ret, ret[i])\n",
    "\n",
    "    elif y_pred_[i]>=upper:\n",
    "\n",
    "      clipped_y_test = np.append(clipped_y_test, y_test_[i])\n",
    "      clipped_y_pred = np.append(clipped_y_pred, 1)\n",
    "      bet_sizing = np.append(bet_sizing, abs(y_pred_[i]-0.5))\n",
    "      clipped_ret = np.append(clipped_ret, ret[i])\n",
    "\n",
    "  cm = confusion_matrix(clipped_y_pred,clipped_y_test)\n",
    "  make_confusion_matrix(cm, figsize=(10,8), cbar=True)\n"
   ]
  },
  {
   "cell_type": "markdown",
   "metadata": {
    "id": "YCT0-Q5z3hjg"
   },
   "source": [
    "Results"
   ]
  },
  {
   "cell_type": "code",
   "execution_count": 66,
   "metadata": {
    "id": "U3GTnd7KFOBk"
   },
   "outputs": [
    {
     "name": "stdout",
     "output_type": "stream",
     "text": [
      "Profit Saving -> Total PNL : 197.83050898463068%\n",
      "Without Profit Saving -> Total PNL : 617.2965450142303%\n"
     ]
    },
    {
     "data": {
      "image/png": "[encoded data removed]",
      "text/plain": [
       "<Figure size 1000x800 with 2 Axes>"
      ]
     },
     "metadata": {},
     "output_type": "display_data"
    }
   ],
   "source": [
    "cfm(lower=0.5, upper=0.5)\n",
    "\n",
    "\n",
    "#profit saving\n",
    "initial_margin = 100\n",
    "margin = initial_margin\n",
    "for i in range(len(bet_sizing)):\n",
    "\n",
    "  position_size = bet_sizing[i] * initial_margin\n",
    "  return_value = clipped_ret[i]\n",
    "  side = 1 if clipped_y_test[i] == 1.0 else -1\n",
    "\n",
    "  margin += position_size * return_value * side\n",
    "pnl = 100*(margin - initial_margin) / initial_margin\n",
    "print(f\"Profit Saving -> Total PNL : {pnl}%\")\n",
    "\n",
    "\n",
    "#Use total balance for every positions\n",
    "initial_margin = 100\n",
    "margin = initial_margin\n",
    "for i in range(len(bet_sizing)):\n",
    "\n",
    "  position_size = bet_sizing[i] * margin\n",
    "  return_value = clipped_ret[i]\n",
    "  side = 1 if clipped_y_test[i] == 1.0 else -1\n",
    "\n",
    "  margin += position_size * return_value * side\n",
    "pnl = 100*(margin - initial_margin) / initial_margin\n",
    "print(f\"Without Profit Saving -> Total PNL : {pnl}%\")"
   ]
  },
  {
   "cell_type": "code",
   "execution_count": 67,
   "metadata": {
    "id": "Lt1GNszHU8Ih"
   },
   "outputs": [
    {
     "name": "stdout",
     "output_type": "stream",
     "text": [
      "Profit Saving -> Total PNL : 183.98599859719718%\n",
      "Without Profit Saving -> Total PNL : 524.6399281022022%\n"
     ]
    },
    {
     "data": {
      "image/png": "[encoded data removed]",
      "text/plain": [
       "<Figure size 1000x800 with 2 Axes>"
      ]
     },
     "metadata": {},
     "output_type": "display_data"
    }
   ],
   "source": [
    "cfm(lower=0.4, upper=0.6)\n",
    "\n",
    "\n",
    "#profit saving\n",
    "initial_margin = 100\n",
    "margin = initial_margin\n",
    "for i in range(len(bet_sizing)):\n",
    "\n",
    "  position_size = bet_sizing[i] * initial_margin\n",
    "  return_value = clipped_ret[i]\n",
    "  side = 1 if clipped_y_test[i] == 1.0 else -1\n",
    "\n",
    "  margin += position_size * return_value * side\n",
    "pnl = 100*(margin - initial_margin) / initial_margin\n",
    "print(f\"Profit Saving -> Total PNL : {pnl}%\")\n",
    "\n",
    "\n",
    "#Use total balance for every positions\n",
    "initial_margin = 100\n",
    "margin = initial_margin\n",
    "for i in range(len(bet_sizing)):\n",
    "\n",
    "  position_size = bet_sizing[i] * margin\n",
    "  return_value = clipped_ret[i]\n",
    "  side = 1 if clipped_y_test[i] == 1.0 else -1\n",
    "\n",
    "  margin += position_size * return_value * side\n",
    "pnl = 100*(margin - initial_margin) / initial_margin\n",
    "print(f\"Without Profit Saving -> Total PNL : {pnl}%\")"
   ]
  },
  {
   "cell_type": "code",
   "execution_count": 68,
   "metadata": {
    "id": "jiTDPqWCU8oK"
   },
   "outputs": [
    {
     "name": "stdout",
     "output_type": "stream",
     "text": [
      "Profit Saving -> Total PNL : 154.06310114432785%\n",
      "Without Profit Saving -> Total PNL : 363.41249860581075%\n"
     ]
    },
    {
     "data": {
      "image/png": "[encoded data removed]",
      "text/plain": [
       "<Figure size 1000x800 with 2 Axes>"
      ]
     },
     "metadata": {},
     "output_type": "display_data"
    }
   ],
   "source": [
    "cfm(lower=0.33, upper=0.66)\n",
    "\n",
    "#profit saving\n",
    "initial_margin = 100\n",
    "margin = initial_margin\n",
    "for i in range(len(bet_sizing)):\n",
    "\n",
    "  position_size = bet_sizing[i] * initial_margin\n",
    "  return_value = clipped_ret[i]\n",
    "  side = 1 if clipped_y_test[i] == 1.0 else -1\n",
    "\n",
    "  margin += position_size * return_value * side\n",
    "pnl = 100*(margin - initial_margin) / initial_margin\n",
    "print(f\"Profit Saving -> Total PNL : {pnl}%\")\n",
    "\n",
    "\n",
    "#Use total balance for every positions\n",
    "initial_margin = 100\n",
    "margin = initial_margin\n",
    "for i in range(len(bet_sizing)):\n",
    "\n",
    "  position_size = bet_sizing[i] * margin\n",
    "  return_value = clipped_ret[i]\n",
    "  side = 1 if clipped_y_test[i] == 1.0 else -1\n",
    "\n",
    "  margin += position_size * return_value * side\n",
    "pnl = 100*(margin - initial_margin) / initial_margin\n",
    "print(f\"Without Profit Saving -> Total PNL : {pnl}%\")"
   ]
  },
  {
   "cell_type": "code",
   "execution_count": 69,
   "metadata": {
    "id": "T8N41U7lU9C4"
   },
   "outputs": [
    {
     "name": "stdout",
     "output_type": "stream",
     "text": [
      "Profit Saving -> Total PNL : 109.48997802984479%\n",
      "Without Profit Saving -> Total PNL : 197.0948562635277%\n"
     ]
    },
    {
     "data": {
      "image/png": "[encoded data removed]",
      "text/plain": [
       "<Figure size 1000x800 with 2 Axes>"
      ]
     },
     "metadata": {},
     "output_type": "display_data"
    }
   ],
   "source": [
    "cfm(lower=0.25, upper=0.75)\n",
    "\n",
    "#profit saving\n",
    "initial_margin = 100\n",
    "margin = initial_margin\n",
    "for i in range(len(bet_sizing)):\n",
    "\n",
    "  position_size = bet_sizing[i] * initial_margin\n",
    "  return_value = clipped_ret[i]\n",
    "  side = 1 if clipped_y_test[i] == 1.0 else -1\n",
    "\n",
    "  margin += position_size * return_value * side\n",
    "pnl = 100*(margin - initial_margin) / initial_margin\n",
    "print(f\"Profit Saving -> Total PNL : {pnl}%\")\n",
    "\n",
    "\n",
    "#Use total balance for every positions\n",
    "initial_margin = 100\n",
    "margin = initial_margin\n",
    "for i in range(len(bet_sizing)):\n",
    "\n",
    "  position_size = bet_sizing[i] * margin\n",
    "  return_value = clipped_ret[i]\n",
    "  side = 1 if clipped_y_test[i] == 1.0 else -1\n",
    "\n",
    "  margin += position_size * return_value * side\n",
    "pnl = 100*(margin - initial_margin) / initial_margin\n",
    "print(f\"Without Profit Saving -> Total PNL : {pnl}%\")"
   ]
  },
  {
   "cell_type": "code",
   "execution_count": 70,
   "metadata": {
    "id": "l_nSeu86U9Zq"
   },
   "outputs": [
    {
     "name": "stdout",
     "output_type": "stream",
     "text": [
      "Profit Saving -> Total PNL : 86.99462646005395%\n",
      "Without Profit Saving -> Total PNL : 137.4410070873185%\n"
     ]
    },
    {
     "data": {
      "image/png": "[encoded data removed]",
      "text/plain": [
       "<Figure size 1000x800 with 2 Axes>"
      ]
     },
     "metadata": {},
     "output_type": "display_data"
    }
   ],
   "source": [
    "cfm(lower=0.2, upper=0.8)\n",
    "\n",
    "#profit saving\n",
    "initial_margin = 100\n",
    "margin = initial_margin\n",
    "for i in range(len(bet_sizing)):\n",
    "\n",
    "  position_size = bet_sizing[i] * initial_margin\n",
    "  return_value = clipped_ret[i]\n",
    "  side = 1 if clipped_y_test[i] == 1.0 else -1\n",
    "\n",
    "  margin += position_size * return_value * side\n",
    "pnl = 100*(margin - initial_margin) / initial_margin\n",
    "print(f\"Profit Saving -> Total PNL : {pnl}%\")\n",
    "\n",
    "\n",
    "#Use total balance for every positions\n",
    "initial_margin = 100\n",
    "margin = initial_margin\n",
    "for i in range(len(bet_sizing)):\n",
    "\n",
    "  position_size = bet_sizing[i] * margin\n",
    "  return_value = clipped_ret[i]\n",
    "  side = 1 if clipped_y_test[i] == 1.0 else -1\n",
    "\n",
    "  margin += position_size * return_value * side\n",
    "pnl = 100*(margin - initial_margin) / initial_margin\n",
    "print(f\"Without Profit Saving -> Total PNL : {pnl}%\") "
   ]
  }
 ],
 "metadata": {
  "accelerator": "GPU",
  "colab": {
   "collapsed_sections": [
    "EWfrWoFH6Fm-",
    "FfrmBlLe0tu3",
    "XHoAupsH00FV",
    "hahQVnTS4Xf4",
    "a-XtJT6luUAB",
    "7vunFxeAumES",
    "iRHHzyUA4R2T",
    "k2lCX-hjvyiq",
    "EHK36hZMCVB3",
    "zFa_iF5HKvKG",
    "BnMq2oxf6752",
    "XBSuKoM1ZG2c",
    "tuh1flY-FjTR",
    "qdFLVqnskRPF",
    "lrYG2Z9VJKwO",
    "5hNWjRJjlsEk",
    "afxoFzbTmwZ3",
    "pVmMP4G18Uwq",
    "8dfcQetr9ZYI",
    "FqwdC8qtFrfy",
    "TyzyNWqW4vG4",
    "PAMYEeRsFxBS",
    "H5NbHTml3PRy",
    "YCT0-Q5z3hjg"
   ],
   "name": "BTC_Main.ipynb",
   "provenance": []
  },
  "kernelspec": {
   "display_name": "Python 3 (ipykernel)",
   "language": "python",
   "name": "python3"
  },
  "language_info": {
   "codemirror_mode": {
    "name": "ipython",
    "version": 3
   },
   "file_extension": ".py",
   "mimetype": "text/x-python",
   "name": "python",
   "nbconvert_exporter": "python",
   "pygments_lexer": "ipython3",
   "version": "3.10.4"
  },
  "widgets": {
   "application/vnd.jupyter.widget-state+json": {
    "064b3d658dd242cba985d94faa361b9d": {
     "model_module": "@jupyter-widgets/controls",
     "model_module_version": "1.5.0",
     "model_name": "FloatProgressModel",
     "state": {
      "_dom_classes": [],
      "_model_module": "@jupyter-widgets/controls",
      "_model_module_version": "1.5.0",
      "_model_name": "FloatProgressModel",
      "_view_count": null,
      "_view_module": "@jupyter-widgets/controls",
      "_view_module_version": "1.5.0",
      "_view_name": "ProgressView",
      "bar_style": "success",
      "description": "",
      "description_tooltip": null,
      "layout": "IPY_MODEL_5cda447777b148e6a9c806d98ec2c644",
      "max": 600,
      "min": 0,
      "orientation": "horizontal",
      "style": "IPY_MODEL_3d290594153a4f4a935d92e9d951d204",
      "value": 600
     }
    },
    "1239de01fa364dcf8882acbdf2eee329": {
     "model_module": "@jupyter-widgets/controls",
     "model_module_version": "1.5.0",
     "model_name": "DescriptionStyleModel",
     "state": {
      "_model_module": "@jupyter-widgets/controls",
      "_model_module_version": "1.5.0",
      "_model_name": "DescriptionStyleModel",
      "_view_count": null,
      "_view_module": "@jupyter-widgets/base",
      "_view_module_version": "1.2.0",
      "_view_name": "StyleView",
      "description_width": ""
     }
    },
    "130a1605a662474eb73b4eb188263cfa": {
     "model_module": "@jupyter-widgets/controls",
     "model_module_version": "1.5.0",
     "model_name": "HBoxModel",
     "state": {
      "_dom_classes": [],
      "_model_module": "@jupyter-widgets/controls",
      "_model_module_version": "1.5.0",
      "_model_name": "HBoxModel",
      "_view_count": null,
      "_view_module": "@jupyter-widgets/controls",
      "_view_module_version": "1.5.0",
      "_view_name": "HBoxView",
      "box_style": "",
      "children": [
       "IPY_MODEL_f75b6e9b8fec4fe99cb8919481a67d91",
       "IPY_MODEL_064b3d658dd242cba985d94faa361b9d",
       "IPY_MODEL_91563bfec35949b3a156a3a7102ad3ba"
      ],
      "layout": "IPY_MODEL_b46f548a0c724cd7b01a5ae9c9ab1445"
     }
    },
    "282374506d1544d4bd530e384fc6d665": {
     "model_module": "@jupyter-widgets/base",
     "model_module_version": "1.2.0",
     "model_name": "LayoutModel",
     "state": {
      "_model_module": "@jupyter-widgets/base",
      "_model_module_version": "1.2.0",
      "_model_name": "LayoutModel",
      "_view_count": null,
      "_view_module": "@jupyter-widgets/base",
      "_view_module_version": "1.2.0",
      "_view_name": "LayoutView",
      "align_content": null,
      "align_items": null,
      "align_self": null,
      "border": null,
      "bottom": null,
      "display": null,
      "flex": null,
      "flex_flow": null,
      "grid_area": null,
      "grid_auto_columns": null,
      "grid_auto_flow": null,
      "grid_auto_rows": null,
      "grid_column": null,
      "grid_gap": null,
      "grid_row": null,
      "grid_template_areas": null,
      "grid_template_columns": null,
      "grid_template_rows": null,
      "height": null,
      "justify_content": null,
      "justify_items": null,
      "left": null,
      "margin": null,
      "max_height": null,
      "max_width": null,
      "min_height": null,
      "min_width": null,
      "object_fit": null,
      "object_position": null,
      "order": null,
      "overflow": null,
      "overflow_x": null,
      "overflow_y": null,
      "padding": null,
      "right": null,
      "top": null,
      "visibility": null,
      "width": null
     }
    },
    "318e216634ac4338910a4f2033ae3965": {
     "model_module": "@jupyter-widgets/base",
     "model_module_version": "1.2.0",
     "model_name": "LayoutModel",
     "state": {
      "_model_module": "@jupyter-widgets/base",
      "_model_module_version": "1.2.0",
      "_model_name": "LayoutModel",
      "_view_count": null,
      "_view_module": "@jupyter-widgets/base",
      "_view_module_version": "1.2.0",
      "_view_name": "LayoutView",
      "align_content": null,
      "align_items": null,
      "align_self": null,
      "border": null,
      "bottom": null,
      "display": null,
      "flex": null,
      "flex_flow": null,
      "grid_area": null,
      "grid_auto_columns": null,
      "grid_auto_flow": null,
      "grid_auto_rows": null,
      "grid_column": null,
      "grid_gap": null,
      "grid_row": null,
      "grid_template_areas": null,
      "grid_template_columns": null,
      "grid_template_rows": null,
      "height": null,
      "justify_content": null,
      "justify_items": null,
      "left": null,
      "margin": null,
      "max_height": null,
      "max_width": null,
      "min_height": null,
      "min_width": null,
      "object_fit": null,
      "object_position": null,
      "order": null,
      "overflow": null,
      "overflow_x": null,
      "overflow_y": null,
      "padding": null,
      "right": null,
      "top": null,
      "visibility": null,
      "width": null
     }
    },
    "3d290594153a4f4a935d92e9d951d204": {
     "model_module": "@jupyter-widgets/controls",
     "model_module_version": "1.5.0",
     "model_name": "ProgressStyleModel",
     "state": {
      "_model_module": "@jupyter-widgets/controls",
      "_model_module_version": "1.5.0",
      "_model_name": "ProgressStyleModel",
      "_view_count": null,
      "_view_module": "@jupyter-widgets/base",
      "_view_module_version": "1.2.0",
      "_view_name": "StyleView",
      "bar_color": null,
      "description_width": ""
     }
    },
    "4dbee31b1d0f4ef4a6d9469b1251f9d7": {
     "model_module": "@jupyter-widgets/controls",
     "model_module_version": "1.5.0",
     "model_name": "DescriptionStyleModel",
     "state": {
      "_model_module": "@jupyter-widgets/controls",
      "_model_module_version": "1.5.0",
      "_model_name": "DescriptionStyleModel",
      "_view_count": null,
      "_view_module": "@jupyter-widgets/base",
      "_view_module_version": "1.2.0",
      "_view_name": "StyleView",
      "description_width": ""
     }
    },
    "5cda447777b148e6a9c806d98ec2c644": {
     "model_module": "@jupyter-widgets/base",
     "model_module_version": "1.2.0",
     "model_name": "LayoutModel",
     "state": {
      "_model_module": "@jupyter-widgets/base",
      "_model_module_version": "1.2.0",
      "_model_name": "LayoutModel",
      "_view_count": null,
      "_view_module": "@jupyter-widgets/base",
      "_view_module_version": "1.2.0",
      "_view_name": "LayoutView",
      "align_content": null,
      "align_items": null,
      "align_self": null,
      "border": null,
      "bottom": null,
      "display": null,
      "flex": null,
      "flex_flow": null,
      "grid_area": null,
      "grid_auto_columns": null,
      "grid_auto_flow": null,
      "grid_auto_rows": null,
      "grid_column": null,
      "grid_gap": null,
      "grid_row": null,
      "grid_template_areas": null,
      "grid_template_columns": null,
      "grid_template_rows": null,
      "height": null,
      "justify_content": null,
      "justify_items": null,
      "left": null,
      "margin": null,
      "max_height": null,
      "max_width": null,
      "min_height": null,
      "min_width": null,
      "object_fit": null,
      "object_position": null,
      "order": null,
      "overflow": null,
      "overflow_x": null,
      "overflow_y": null,
      "padding": null,
      "right": null,
      "top": null,
      "visibility": null,
      "width": null
     }
    },
    "91563bfec35949b3a156a3a7102ad3ba": {
     "model_module": "@jupyter-widgets/controls",
     "model_module_version": "1.5.0",
     "model_name": "HTMLModel",
     "state": {
      "_dom_classes": [],
      "_model_module": "@jupyter-widgets/controls",
      "_model_module_version": "1.5.0",
      "_model_name": "HTMLModel",
      "_view_count": null,
      "_view_module": "@jupyter-widgets/controls",
      "_view_module_version": "1.5.0",
      "_view_name": "HTMLView",
      "description": "",
      "description_tooltip": null,
      "layout": "IPY_MODEL_282374506d1544d4bd530e384fc6d665",
      "placeholder": "​",
      "style": "IPY_MODEL_4dbee31b1d0f4ef4a6d9469b1251f9d7",
      "value": " 600/600 [21:59&lt;00:00,  2.25s/it]"
     }
    },
    "b46f548a0c724cd7b01a5ae9c9ab1445": {
     "model_module": "@jupyter-widgets/base",
     "model_module_version": "1.2.0",
     "model_name": "LayoutModel",
     "state": {
      "_model_module": "@jupyter-widgets/base",
      "_model_module_version": "1.2.0",
      "_model_name": "LayoutModel",
      "_view_count": null,
      "_view_module": "@jupyter-widgets/base",
      "_view_module_version": "1.2.0",
      "_view_name": "LayoutView",
      "align_content": null,
      "align_items": null,
      "align_self": null,
      "border": null,
      "bottom": null,
      "display": null,
      "flex": null,
      "flex_flow": null,
      "grid_area": null,
      "grid_auto_columns": null,
      "grid_auto_flow": null,
      "grid_auto_rows": null,
      "grid_column": null,
      "grid_gap": null,
      "grid_row": null,
      "grid_template_areas": null,
      "grid_template_columns": null,
      "grid_template_rows": null,
      "height": null,
      "justify_content": null,
      "justify_items": null,
      "left": null,
      "margin": null,
      "max_height": null,
      "max_width": null,
      "min_height": null,
      "min_width": null,
      "object_fit": null,
      "object_position": null,
      "order": null,
      "overflow": null,
      "overflow_x": null,
      "overflow_y": null,
      "padding": null,
      "right": null,
      "top": null,
      "visibility": null,
      "width": null
     }
    },
    "f75b6e9b8fec4fe99cb8919481a67d91": {
     "model_module": "@jupyter-widgets/controls",
     "model_module_version": "1.5.0",
     "model_name": "HTMLModel",
     "state": {
      "_dom_classes": [],
      "_model_module": "@jupyter-widgets/controls",
      "_model_module_version": "1.5.0",
      "_model_name": "HTMLModel",
      "_view_count": null,
      "_view_module": "@jupyter-widgets/controls",
      "_view_module_version": "1.5.0",
      "_view_name": "HTMLView",
      "description": "",
      "description_tooltip": null,
      "layout": "IPY_MODEL_318e216634ac4338910a4f2033ae3965",
      "placeholder": "​",
      "style": "IPY_MODEL_1239de01fa364dcf8882acbdf2eee329",
      "value": "100%"
     }
    }
   }
  }
 },
 "nbformat": 4,
 "nbformat_minor": 1
}
